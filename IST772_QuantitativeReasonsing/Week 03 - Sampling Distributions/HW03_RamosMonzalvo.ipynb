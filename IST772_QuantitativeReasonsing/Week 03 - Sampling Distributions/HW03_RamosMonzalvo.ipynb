{
 "cells": [
  {
   "cell_type": "markdown",
   "id": "82619a26-6de6-4829-bb70-4ee01a4d4fc5",
   "metadata": {},
   "source": [
    "# Exercise 2"
   ]
  },
  {
   "cell_type": "code",
   "execution_count": 52,
   "id": "8d5de259-a51f-4774-8a37-954b9bb28e18",
   "metadata": {},
   "outputs": [
    {
     "data": {
      "text/html": [
       "\n",
       "<table width=\"100%\" summary=\"page for ChickWeight {datasets}\"><tr><td>ChickWeight {datasets}</td><td style=\"text-align: right;\">R Documentation</td></tr></table>\n",
       "\n",
       "<h2>Weight versus age of chicks on different diets</h2>\n",
       "\n",
       "<h3>Description</h3>\n",
       "\n",
       "<p>The <code>ChickWeight</code> data frame has 578 rows and 4 columns from an\n",
       "experiment on the effect of diet on early growth of chicks.\n",
       "</p>\n",
       "\n",
       "\n",
       "<h3>Usage</h3>\n",
       "\n",
       "<pre>ChickWeight</pre>\n",
       "\n",
       "\n",
       "<h3>Format</h3>\n",
       "\n",
       "<p>An object of class\n",
       "<code>c(\"nfnGroupedData\", \"nfGroupedData\", \"groupedData\", \"data.frame\")</code>\n",
       "containing the following columns:\n",
       "</p>\n",
       "\n",
       "<dl>\n",
       "<dt>weight</dt><dd>\n",
       "<p>a numeric vector giving the body weight of the chick (gm).\n",
       "</p>\n",
       "</dd>\n",
       "<dt>Time</dt><dd>\n",
       "<p>a numeric vector giving the number of days since birth when\n",
       "the measurement was made.\n",
       "</p>\n",
       "</dd>\n",
       "<dt>Chick</dt><dd>\n",
       "<p>an ordered factor with levels\n",
       "<code>18</code> &lt; ... &lt; <code>48</code>\n",
       "giving a unique identifier for the chick.  The ordering of\n",
       "the levels groups chicks on the same diet together and\n",
       "orders them according to their final weight (lightest to\n",
       "heaviest) within diet.\n",
       "</p>\n",
       "</dd>\n",
       "<dt>Diet</dt><dd>\n",
       "<p>a factor with levels 1, ..., 4 indicating which\n",
       "experimental diet the chick received.\n",
       "</p>\n",
       "</dd>\n",
       "</dl>\n",
       "\n",
       "\n",
       "\n",
       "<h3>Details</h3>\n",
       "\n",
       "<p>The body weights of the chicks were measured at birth and every\n",
       "second day thereafter until day 20.  They were also measured on day\n",
       "21.  There were four groups on chicks on different protein diets.\n",
       "</p>\n",
       "<p>This dataset was originally part of package <code>nlme</code>, and that has\n",
       "methods (including for <code>[</code>, <code>as.data.frame</code>, <code>plot</code> and\n",
       "<code>print</code>) for its grouped-data classes.\n",
       "</p>\n",
       "\n",
       "\n",
       "<h3>Source</h3>\n",
       "\n",
       "<p>Crowder, M. and Hand, D. (1990), <em>Analysis of Repeated Measures</em>,\n",
       "Chapman and Hall (example 5.3)\n",
       "</p>\n",
       "<p>Hand, D. and Crowder, M. (1996), <em>Practical Longitudinal Data\n",
       "Analysis</em>, Chapman and Hall (table A.2)\n",
       "</p>\n",
       "<p>Pinheiro, J. C. and Bates, D. M. (2000) <em>Mixed-effects Models in\n",
       "S and S-PLUS</em>, Springer.\n",
       "</p>\n",
       "\n",
       "\n",
       "<h3>See Also</h3>\n",
       "\n",
       "<p><code>SSlogis</code> for models fitted to this dataset.\n",
       "</p>\n",
       "\n",
       "\n",
       "<h3>Examples</h3>\n",
       "\n",
       "<pre>\n",
       "require(graphics)\n",
       "coplot(weight ~ Time | Chick, data = ChickWeight,\n",
       "       type = \"b\", show.given = FALSE)\n",
       "</pre>\n",
       "\n",
       "<hr /><div style=\"text-align: center;\">[Package <em>datasets</em> version 4.0.3 ]</div>"
      ],
      "text/latex": [
       "\\inputencoding{utf8}\n",
       "\\HeaderA{ChickWeight}{Weight versus age of chicks on different diets}{ChickWeight}\n",
       "\\keyword{datasets}{ChickWeight}\n",
       "%\n",
       "\\begin{Description}\\relax\n",
       "The \\code{ChickWeight} data frame has 578 rows and 4 columns from an\n",
       "experiment on the effect of diet on early growth of chicks.\n",
       "\\end{Description}\n",
       "%\n",
       "\\begin{Usage}\n",
       "\\begin{verbatim}\n",
       "ChickWeight\n",
       "\\end{verbatim}\n",
       "\\end{Usage}\n",
       "%\n",
       "\\begin{Format}\n",
       "An object of class\n",
       "\\code{c(\"nfnGroupedData\", \"nfGroupedData\", \"groupedData\", \"data.frame\")}\n",
       "containing the following columns:\n",
       "\\begin{description}\n",
       "\n",
       "\\item[weight] \n",
       "a numeric vector giving the body weight of the chick (gm).\n",
       "\n",
       "\\item[Time] \n",
       "a numeric vector giving the number of days since birth when\n",
       "the measurement was made.\n",
       "\n",
       "\\item[Chick] \n",
       "an ordered factor with levels\n",
       "\\code{18} < \\dots < \\code{48}\n",
       "giving a unique identifier for the chick.  The ordering of\n",
       "the levels groups chicks on the same diet together and\n",
       "orders them according to their final weight (lightest to\n",
       "heaviest) within diet.\n",
       "\n",
       "\\item[Diet] \n",
       "a factor with levels 1, \\dots, 4 indicating which\n",
       "experimental diet the chick received.\n",
       "\n",
       "\n",
       "\\end{description}\n",
       "\n",
       "\\end{Format}\n",
       "%\n",
       "\\begin{Details}\\relax\n",
       "The body weights of the chicks were measured at birth and every\n",
       "second day thereafter until day 20.  They were also measured on day\n",
       "21.  There were four groups on chicks on different protein diets.\n",
       "\n",
       "This dataset was originally part of package \\code{nlme}, and that has\n",
       "methods (including for \\code{[}, \\code{as.data.frame}, \\code{plot} and\n",
       "\\code{print}) for its grouped-data classes.\n",
       "\\end{Details}\n",
       "%\n",
       "\\begin{Source}\\relax\n",
       "Crowder, M. and Hand, D. (1990), \\emph{Analysis of Repeated Measures},\n",
       "Chapman and Hall (example 5.3)\n",
       "\n",
       "Hand, D. and Crowder, M. (1996), \\emph{Practical Longitudinal Data\n",
       "Analysis}, Chapman and Hall (table A.2)\n",
       "\n",
       "Pinheiro, J. C. and Bates, D. M. (2000) \\emph{Mixed-effects Models in\n",
       "S and S-PLUS}, Springer.\n",
       "\\end{Source}\n",
       "%\n",
       "\\begin{SeeAlso}\\relax\n",
       "\\code{\\LinkA{SSlogis}{SSlogis}} for models fitted to this dataset.\n",
       "\\end{SeeAlso}\n",
       "%\n",
       "\\begin{Examples}\n",
       "\\begin{ExampleCode}\n",
       "\n",
       "require(graphics)\n",
       "coplot(weight ~ Time | Chick, data = ChickWeight,\n",
       "       type = \"b\", show.given = FALSE)\n",
       "\\end{ExampleCode}\n",
       "\\end{Examples}"
      ],
      "text/plain": [
       "ChickWeight              package:datasets              R Documentation\n",
       "\n",
       "_\bW_\be_\bi_\bg_\bh_\bt _\bv_\be_\br_\bs_\bu_\bs _\ba_\bg_\be _\bo_\bf _\bc_\bh_\bi_\bc_\bk_\bs _\bo_\bn _\bd_\bi_\bf_\bf_\be_\br_\be_\bn_\bt _\bd_\bi_\be_\bt_\bs\n",
       "\n",
       "_\bD_\be_\bs_\bc_\br_\bi_\bp_\bt_\bi_\bo_\bn:\n",
       "\n",
       "     The ‘ChickWeight’ data frame has 578 rows and 4 columns from an\n",
       "     experiment on the effect of diet on early growth of chicks.\n",
       "\n",
       "_\bU_\bs_\ba_\bg_\be:\n",
       "\n",
       "     ChickWeight\n",
       "     \n",
       "_\bF_\bo_\br_\bm_\ba_\bt:\n",
       "\n",
       "     An object of class ‘c(\"nfnGroupedData\", \"nfGroupedData\",\n",
       "     \"groupedData\", \"data.frame\")’ containing the following columns:\n",
       "\n",
       "     weight a numeric vector giving the body weight of the chick (gm).\n",
       "\n",
       "     Time a numeric vector giving the number of days since birth when\n",
       "          the measurement was made.\n",
       "\n",
       "     Chick an ordered factor with levels ‘18’ < ... < ‘48’ giving a\n",
       "          unique identifier for the chick.  The ordering of the levels\n",
       "          groups chicks on the same diet together and orders them\n",
       "          according to their final weight (lightest to heaviest) within\n",
       "          diet.\n",
       "\n",
       "     Diet a factor with levels 1, ..., 4 indicating which experimental\n",
       "          diet the chick received.\n",
       "\n",
       "_\bD_\be_\bt_\ba_\bi_\bl_\bs:\n",
       "\n",
       "     The body weights of the chicks were measured at birth and every\n",
       "     second day thereafter until day 20.  They were also measured on\n",
       "     day 21.  There were four groups on chicks on different protein\n",
       "     diets.\n",
       "\n",
       "     This dataset was originally part of package ‘nlme’, and that has\n",
       "     methods (including for ‘[’, ‘as.data.frame’, ‘plot’ and ‘print’)\n",
       "     for its grouped-data classes.\n",
       "\n",
       "_\bS_\bo_\bu_\br_\bc_\be:\n",
       "\n",
       "     Crowder, M. and Hand, D. (1990), _Analysis of Repeated Measures_,\n",
       "     Chapman and Hall (example 5.3)\n",
       "\n",
       "     Hand, D. and Crowder, M. (1996), _Practical Longitudinal Data\n",
       "     Analysis_, Chapman and Hall (table A.2)\n",
       "\n",
       "     Pinheiro, J. C. and Bates, D. M. (2000) _Mixed-effects Models in S\n",
       "     and S-PLUS_, Springer.\n",
       "\n",
       "_\bS_\be_\be _\bA_\bl_\bs_\bo:\n",
       "\n",
       "     ‘SSlogis’ for models fitted to this dataset.\n",
       "\n",
       "_\bE_\bx_\ba_\bm_\bp_\bl_\be_\bs:\n",
       "\n",
       "     require(graphics)\n",
       "     coplot(weight ~ Time | Chick, data = ChickWeight,\n",
       "            type = \"b\", show.given = FALSE)\n",
       "     "
      ]
     },
     "metadata": {},
     "output_type": "display_data"
    }
   ],
   "source": [
    "?ChickWeight"
   ]
  },
  {
   "cell_type": "code",
   "execution_count": 53,
   "id": "924e2238-cbde-40fa-ba28-0c15fe211d71",
   "metadata": {},
   "outputs": [
    {
     "name": "stdout",
     "output_type": "stream",
     "text": [
      "Classes ‘nfnGroupedData’, ‘nfGroupedData’, ‘groupedData’ and 'data.frame':\t578 obs. of  4 variables:\n",
      " $ weight: num  42 51 59 64 76 93 106 125 149 171 ...\n",
      " $ Time  : num  0 2 4 6 8 10 12 14 16 18 ...\n",
      " $ Chick : Ord.factor w/ 50 levels \"18\"<\"16\"<\"15\"<..: 15 15 15 15 15 15 15 15 15 15 ...\n",
      " $ Diet  : Factor w/ 4 levels \"1\",\"2\",\"3\",\"4\": 1 1 1 1 1 1 1 1 1 1 ...\n",
      " - attr(*, \"formula\")=Class 'formula'  language weight ~ Time | Chick\n",
      "  .. ..- attr(*, \".Environment\")=<environment: R_EmptyEnv> \n",
      " - attr(*, \"outer\")=Class 'formula'  language ~Diet\n",
      "  .. ..- attr(*, \".Environment\")=<environment: R_EmptyEnv> \n",
      " - attr(*, \"labels\")=List of 2\n",
      "  ..$ x: chr \"Time\"\n",
      "  ..$ y: chr \"Body weight\"\n",
      " - attr(*, \"units\")=List of 2\n",
      "  ..$ x: chr \"(days)\"\n",
      "  ..$ y: chr \"(gm)\"\n"
     ]
    }
   ],
   "source": [
    "str(ChickWeight)"
   ]
  },
  {
   "cell_type": "code",
   "execution_count": 8,
   "id": "97f993e6-057e-455b-b174-fbb477d63807",
   "metadata": {},
   "outputs": [
    {
     "data": {
      "text/plain": [
       "     weight           Time           Chick     Diet   \n",
       " Min.   : 35.0   Min.   : 0.00   13     : 12   1:220  \n",
       " 1st Qu.: 63.0   1st Qu.: 4.00   9      : 12   2:120  \n",
       " Median :103.0   Median :10.00   20     : 12   3:120  \n",
       " Mean   :121.8   Mean   :10.72   10     : 12   4:118  \n",
       " 3rd Qu.:163.8   3rd Qu.:16.00   17     : 12          \n",
       " Max.   :373.0   Max.   :21.00   19     : 12          \n",
       "                                 (Other):506          "
      ]
     },
     "metadata": {},
     "output_type": "display_data"
    }
   ],
   "source": [
    "summary(ChickWeight)"
   ]
  },
  {
   "cell_type": "markdown",
   "id": "3fe9f29f-04ff-4ca5-a599-f5c3a6232dde",
   "metadata": {},
   "source": [
    "The four variables / columns are weight, Time, Chick and Diet."
   ]
  },
  {
   "cell_type": "code",
   "execution_count": 9,
   "id": "b5283980-2388-48ec-bd3b-864d4cfac095",
   "metadata": {},
   "outputs": [
    {
     "data": {
      "text/html": [
       "<style>\n",
       ".list-inline {list-style: none; margin:0; padding: 0}\n",
       ".list-inline>li {display: inline-block}\n",
       ".list-inline>li:not(:last-child)::after {content: \"\\00b7\"; padding: 0 .5ex}\n",
       "</style>\n",
       "<ol class=list-inline><li>578</li><li>4</li></ol>\n"
      ],
      "text/latex": [
       "\\begin{enumerate*}\n",
       "\\item 578\n",
       "\\item 4\n",
       "\\end{enumerate*}\n"
      ],
      "text/markdown": [
       "1. 578\n",
       "2. 4\n",
       "\n",
       "\n"
      ],
      "text/plain": [
       "[1] 578   4"
      ]
     },
     "metadata": {},
     "output_type": "display_data"
    }
   ],
   "source": [
    "dim(ChickWeight)"
   ]
  },
  {
   "cell_type": "markdown",
   "id": "cef3b995-90ad-4fce-9ffa-b7f5d236fcf0",
   "metadata": {},
   "source": [
    "The first number in the dim(ChickWeight) command referes to the number of rows in the ChickWeight dataframe. This means that there is a total of 578 records done in the experiment. There are 578 unique rows where each row has a unique combinations of a chick with a specific diet at one time interval. "
   ]
  },
  {
   "cell_type": "markdown",
   "id": "b171e1ce-ce83-4581-926c-b484a91df542",
   "metadata": {},
   "source": [
    "# Exercise 3"
   ]
  },
  {
   "cell_type": "code",
   "execution_count": 17,
   "id": "298c9a9a-f131-4180-b918-3eaf2568c846",
   "metadata": {},
   "outputs": [
    {
     "data": {
      "text/plain": [
       "   Min. 1st Qu.  Median    Mean 3rd Qu.    Max. \n",
       "   35.0    63.0   103.0   121.8   163.8   373.0 "
      ]
     },
     "metadata": {},
     "output_type": "display_data"
    }
   ],
   "source": [
    "summary(ChickWeight$weight)"
   ]
  },
  {
   "cell_type": "markdown",
   "id": "da4eaf21-df0b-48c4-8579-1153bce55be6",
   "metadata": {},
   "source": [
    "The summary command gives us the high level statistics of the weight column in the ChickWeight dataframe."
   ]
  },
  {
   "cell_type": "code",
   "execution_count": 18,
   "id": "0577a8c7-65c0-440d-ad52-1c94e2b429ae",
   "metadata": {},
   "outputs": [
    {
     "data": {
      "text/html": [
       "<style>\n",
       ".list-inline {list-style: none; margin:0; padding: 0}\n",
       ".list-inline>li {display: inline-block}\n",
       ".list-inline>li:not(:last-child)::after {content: \"\\00b7\"; padding: 0 .5ex}\n",
       "</style>\n",
       "<ol class=list-inline><li>42</li><li>51</li><li>59</li><li>64</li><li>76</li><li>93</li></ol>\n"
      ],
      "text/latex": [
       "\\begin{enumerate*}\n",
       "\\item 42\n",
       "\\item 51\n",
       "\\item 59\n",
       "\\item 64\n",
       "\\item 76\n",
       "\\item 93\n",
       "\\end{enumerate*}\n"
      ],
      "text/markdown": [
       "1. 42\n",
       "2. 51\n",
       "3. 59\n",
       "4. 64\n",
       "5. 76\n",
       "6. 93\n",
       "\n",
       "\n"
      ],
      "text/plain": [
       "[1] 42 51 59 64 76 93"
      ]
     },
     "metadata": {},
     "output_type": "display_data"
    }
   ],
   "source": [
    "head(ChickWeight$weight)"
   ]
  },
  {
   "cell_type": "markdown",
   "id": "1bdb1df0-f52f-4e73-ae4d-2909669c2d1a",
   "metadata": {},
   "source": [
    "The head command gives us the first 5 values of the weight column in the ChickWeight dataframe."
   ]
  },
  {
   "cell_type": "code",
   "execution_count": 19,
   "id": "eabd1bf6-5138-4ccd-bf39-a1a25dd46aec",
   "metadata": {},
   "outputs": [
    {
     "data": {
      "text/html": [
       "121.818339100346"
      ],
      "text/latex": [
       "121.818339100346"
      ],
      "text/markdown": [
       "121.818339100346"
      ],
      "text/plain": [
       "[1] 121.8183"
      ]
     },
     "metadata": {},
     "output_type": "display_data"
    }
   ],
   "source": [
    "mean(ChickWeight$weight)"
   ]
  },
  {
   "cell_type": "markdown",
   "id": "659ce09e-b496-4b6e-bfdc-74abe4145077",
   "metadata": {},
   "source": [
    "The mean command gives us the high average of the weight column in the ChickWeight dataframe."
   ]
  },
  {
   "cell_type": "code",
   "execution_count": 20,
   "id": "fe8b37e6-82c9-4671-b5f0-b807cfbc21ed",
   "metadata": {},
   "outputs": [],
   "source": [
    "myChkWts <- ChickWeight$weight"
   ]
  },
  {
   "cell_type": "markdown",
   "id": "e7456814-21d6-45a0-b9bb-c4e2bb91b49a",
   "metadata": {},
   "source": [
    "The command above saves the weight column from the ChickWeight into a variable called myChkWts"
   ]
  },
  {
   "cell_type": "code",
   "execution_count": 22,
   "id": "db3f898d-aca3-45fb-a2da-f5c31a043927",
   "metadata": {},
   "outputs": [
    {
     "data": {
      "text/html": [
       "<strong>50%:</strong> 103"
      ],
      "text/latex": [
       "\\textbf{50\\textbackslash{}\\%:} 103"
      ],
      "text/markdown": [
       "**50%:** 103"
      ],
      "text/plain": [
       "50% \n",
       "103 "
      ]
     },
     "metadata": {},
     "output_type": "display_data"
    }
   ],
   "source": [
    "quantile(myChkWts, 0.50)"
   ]
  },
  {
   "cell_type": "markdown",
   "id": "0c4fd4cd-555f-4561-a507-e7c763941337",
   "metadata": {},
   "source": [
    "The quantile command above returns the 50% quantile (the median) of the myChkWts variable. I.e., it returns the median weight of the chicks dataframe."
   ]
  },
  {
   "cell_type": "markdown",
   "id": "871eaa01-c3fa-4a1b-84dc-a8fa736909e1",
   "metadata": {},
   "source": [
    "# Exercise 4"
   ]
  },
  {
   "cell_type": "code",
   "execution_count": 23,
   "id": "1b6d1fc9-6e0b-447a-bd0f-d20129699da9",
   "metadata": {},
   "outputs": [],
   "source": [
    "myChkWts <- ChickWeight$weight"
   ]
  },
  {
   "cell_type": "code",
   "execution_count": 35,
   "id": "3b00d4d8-7a63-4319-9898-dac2861289ad",
   "metadata": {},
   "outputs": [
    {
     "data": {
      "text/html": [
       "<strong>2.5%:</strong> 41"
      ],
      "text/latex": [
       "\\textbf{2.5\\textbackslash{}\\%:} 41"
      ],
      "text/markdown": [
       "**2.5%:** 41"
      ],
      "text/plain": [
       "2.5% \n",
       "  41 "
      ]
     },
     "metadata": {},
     "output_type": "display_data"
    },
    {
     "data": {
      "text/html": [
       "<strong>97.5%:</strong> 294.575"
      ],
      "text/latex": [
       "\\textbf{97.5\\textbackslash{}\\%:} 294.575"
      ],
      "text/markdown": [
       "**97.5%:** 294.575"
      ],
      "text/plain": [
       "  97.5% \n",
       "294.575 "
      ]
     },
     "metadata": {},
     "output_type": "display_data"
    }
   ],
   "source": [
    "quantile(myChkWts, .025)\n",
    "quantile(myChkWts, .975)"
   ]
  },
  {
   "cell_type": "code",
   "execution_count": 34,
   "id": "944a823c-f278-4870-92a9-ba548abf1113",
   "metadata": {},
   "outputs": [
    {
     "data": {
      "text/plain": [
       "   Min. 1st Qu.  Median    Mean 3rd Qu.    Max. \n",
       "   35.0    63.0   103.0   121.8   163.8   373.0 "
      ]
     },
     "metadata": {},
     "output_type": "display_data"
    }
   ],
   "source": [
    "summary(myChkWts)"
   ]
  },
  {
   "cell_type": "code",
   "execution_count": 31,
   "id": "3fe7ed79-8b14-4ae6-8e1b-a19401608f12",
   "metadata": {},
   "outputs": [
    {
     "data": {
      "image/png": "[encoded data removed]",
      "text/plain": [
       "Plot with title “Histogram of myChkWts”"
      ]
     },
     "metadata": {
      "image/png": {
       "height": 420,
       "width": 420
      }
     },
     "output_type": "display_data"
    }
   ],
   "source": [
    "hist(myChkWts)\n",
    "abline(v=quantile(myChkWts, .975), col=\"red\")\n",
    "abline(v=quantile(myChkWts, .025), col=\"red\")\n",
    "abline(v=mean(myChkWts), col=\"green\")\n",
    "abline(v=quantile(myChkWts, .5), col=\"red\")"
   ]
  },
  {
   "cell_type": "markdown",
   "id": "274ef784-4bf3-4363-8974-ad9d9044b0ca",
   "metadata": {},
   "source": [
    "The variable myChWts looks like a poisson distribution as most of the weights fall into the 50-100 bucket, and it has a much longer tail on the right side of the median. The median is 103 which means 50% of the weights lie before 103. The mean is 121.8 which means on average the weight of a chick is about 121.8. The 2.5% quantile is 41 and the 97.5% quatile is 294.575 which means that 95% of the data lies between these two points."
   ]
  },
  {
   "cell_type": "markdown",
   "id": "dd6fa97f-0b12-4e1b-9405-95cc95836d88",
   "metadata": {},
   "source": [
    "# Exercise 5"
   ]
  },
  {
   "cell_type": "code",
   "execution_count": 48,
   "id": "4d5ea145-f244-41af-9011-a6340031905d",
   "metadata": {},
   "outputs": [],
   "source": [
    "chkWtsSamMeanDist <- replicate(n=1000, mean(sample(myChkWts, size=11, replace=TRUE)))"
   ]
  },
  {
   "cell_type": "code",
   "execution_count": 49,
   "id": "c80a3696-c0b9-4ccf-ace6-f79d7cb4b00d",
   "metadata": {},
   "outputs": [
    {
     "data": {
      "image/png": "[encoded data removed]",
      "text/plain": [
       "Plot with title “Histogram of chkWtsSamMeanDist”"
      ]
     },
     "metadata": {
      "image/png": {
       "height": 420,
       "width": 420
      }
     },
     "output_type": "display_data"
    }
   ],
   "source": [
    "hist(chkWtsSamMeanDist)\n",
    "abline(v=quantile(chkWtsSamMeanDist, .975), col=\"red\")\n",
    "abline(v=quantile(chkWtsSamMeanDist, .025), col=\"red\")"
   ]
  },
  {
   "cell_type": "markdown",
   "id": "d0657bb8-5f50-48e2-aa52-3a2420bc424c",
   "metadata": {},
   "source": [
    "# Exercise 6"
   ]
  },
  {
   "cell_type": "markdown",
   "id": "ff57559f-c9e9-41b3-85ca-06249779c146",
   "metadata": {},
   "source": [
    "The main difference between a distribution of raw data and the distribution of a sampling of means is that the distribution of raw data will not always be a normal distribution while the sampling of means will always be a normal distribution as the number of means increases. The sampling of means returns a description of how the mean of the raw data is distributed."
   ]
  },
  {
   "cell_type": "markdown",
   "id": "293a46e5-a304-4c81-9aad-46216a3bcd96",
   "metadata": {},
   "source": [
    "The 2.5% and the 97.5% quantiles are very different from each other as the sampling of means centers around the raw input mean while the raw data quantiles center around the median of the data."
   ]
  },
  {
   "cell_type": "markdown",
   "id": "e02d7d3a-673c-453c-9780-2bfdf29957dd",
   "metadata": {},
   "source": [
    "# Exercise 7"
   ]
  },
  {
   "cell_type": "code",
   "execution_count": 46,
   "id": "629111f4-9947-4714-899d-9af7018b953b",
   "metadata": {},
   "outputs": [],
   "source": [
    "chkWtsSamMeanDist_n100 <- replicate(n=1000, mean(sample(myChkWts, size=100, replace=TRUE)))"
   ]
  },
  {
   "cell_type": "code",
   "execution_count": 51,
   "id": "94d97bd6-eb08-41ab-b3a3-7fba9ea62a23",
   "metadata": {},
   "outputs": [
    {
     "data": {
      "text/html": [
       "122.225272727273"
      ],
      "text/latex": [
       "122.225272727273"
      ],
      "text/markdown": [
       "122.225272727273"
      ],
      "text/plain": [
       "[1] 122.2253"
      ]
     },
     "metadata": {},
     "output_type": "display_data"
    }
   ],
   "source": [
    "mean(chkWtsSamMeanDist)"
   ]
  },
  {
   "cell_type": "code",
   "execution_count": 50,
   "id": "1878c93c-7192-4cc3-9ca9-014683970f0b",
   "metadata": {},
   "outputs": [
    {
     "data": {
      "text/html": [
       "121.30223"
      ],
      "text/latex": [
       "121.30223"
      ],
      "text/markdown": [
       "121.30223"
      ],
      "text/plain": [
       "[1] 121.3022"
      ]
     },
     "metadata": {},
     "output_type": "display_data"
    }
   ],
   "source": [
    "mean(chkWtsSamMeanDist_n100)"
   ]
  },
  {
   "cell_type": "code",
   "execution_count": 47,
   "id": "2d22b109-51c7-4db7-a0f3-39a54ea76da7",
   "metadata": {
    "tags": []
   },
   "outputs": [
    {
     "data": {
      "image/png": "[encoded data removed]",
      "text/plain": [
       "Plot with title “Histogram of chkWtsSamMeanDist_n100”"
      ]
     },
     "metadata": {
      "image/png": {
       "height": 420,
       "width": 420
      }
     },
     "output_type": "display_data"
    }
   ],
   "source": [
    "hist(chkWtsSamMeanDist_n100)\n",
    "abline(v=quantile(chkWtsSamMeanDist_n100, .975), col=\"red\")\n",
    "abline(v=quantile(chkWtsSamMeanDist_n100, .025), col=\"red\")"
   ]
  },
  {
   "cell_type": "markdown",
   "id": "8f10af6c-7a53-4b56-9750-c5267059c767",
   "metadata": {},
   "source": [
    "Even though both of the distributions have a center close to 120, the sampling distribution with n=100 has a higher confidence since the sample size is bigger. This means that the 2.5% and 97.5% quantiles will be more tightly bound."
   ]
  }
 ],
 "metadata": {
  "jupytext": {
   "formats": "ipynb,Rmd"
  },
  "kernelspec": {
   "display_name": "R",
   "language": "R",
   "name": "ir"
  },
  "language_info": {
   "codemirror_mode": "r",
   "file_extension": ".r",
   "mimetype": "text/x-r-source",
   "name": "R",
   "pygments_lexer": "r",
   "version": "4.0.3"
  }
 },
 "nbformat": 4,
 "nbformat_minor": 5
}
