{
 "cells": [
  {
   "cell_type": "markdown",
   "id": "a9490137-9b79-457c-b4aa-4a8d5a49df01",
   "metadata": {},
   "source": [
    "The homework for week five is exercises 6 through 10 on pages 86 and 87."
   ]
  },
  {
   "cell_type": "markdown",
   "id": "da496602-689f-4cc7-9a8a-32cff8398115",
   "metadata": {},
   "source": [
    "# Exercise 6"
   ]
  },
  {
   "cell_type": "markdown",
   "id": "ec241c9f-3d23-4bfb-9f36-f9e203c03746",
   "metadata": {},
   "source": [
    "6. The PlantGrowth data set contains three different groups, with each representing various plant food diets (you may need to type data(PlantGrowth) to activate it). The group labeled “ctrl” is the control group, while “trt1” and “trt2” are different types of experimental treatment. As a reminder, this subsetting statement accesses the weight data for the control group:\n",
    "PlantGrowth$weight[PlantGrowth$group==”ctrl”]\n",
    "and this subsetting statement accesses the weight data for treatment group 1:\n",
    "PlantGrowth$weight[PlantGrowth$group==”trt1”]\n",
    "Run a t‐test to compare the means of the control group (“ctrl”) and treatment group 1 (“trt1”) in the PlantGrowth data. Report the observed value of t, the degrees of freedom, and the p‐value associated with the observed value. Assuming an alpha threshold of .05, decide whether you should reject the null hypothesis or fail to reject the null hypothesis. In addition, report the upper and lower bound of the confidence interval."
   ]
  },
  {
   "cell_type": "code",
   "execution_count": 2,
   "id": "24c38ba6-d038-4599-a3ca-5456508569dc",
   "metadata": {},
   "outputs": [],
   "source": [
    "df <- PlantGrowth"
   ]
  },
  {
   "cell_type": "code",
   "execution_count": 5,
   "id": "2c4aba55-d5ca-469c-a13b-a7291e3df5f5",
   "metadata": {},
   "outputs": [
    {
     "name": "stdout",
     "output_type": "stream",
     "text": [
      "'data.frame':\t30 obs. of  2 variables:\n",
      " $ weight: num  4.17 5.58 5.18 6.11 4.5 4.61 5.17 4.53 5.33 5.14 ...\n",
      " $ group : Factor w/ 3 levels \"ctrl\",\"trt1\",..: 1 1 1 1 1 1 1 1 1 1 ...\n"
     ]
    }
   ],
   "source": [
    "str(df)"
   ]
  },
  {
   "cell_type": "code",
   "execution_count": 3,
   "id": "94803125-ca8d-4744-8c31-558ff4e8b38b",
   "metadata": {},
   "outputs": [
    {
     "data": {
      "text/html": [
       "<table class=\"dataframe\">\n",
       "<caption>A data.frame: 6 × 2</caption>\n",
       "<thead>\n",
       "\t<tr><th></th><th scope=col>weight</th><th scope=col>group</th></tr>\n",
       "\t<tr><th></th><th scope=col>&lt;dbl&gt;</th><th scope=col>&lt;fct&gt;</th></tr>\n",
       "</thead>\n",
       "<tbody>\n",
       "\t<tr><th scope=row>1</th><td>4.17</td><td>ctrl</td></tr>\n",
       "\t<tr><th scope=row>2</th><td>5.58</td><td>ctrl</td></tr>\n",
       "\t<tr><th scope=row>3</th><td>5.18</td><td>ctrl</td></tr>\n",
       "\t<tr><th scope=row>4</th><td>6.11</td><td>ctrl</td></tr>\n",
       "\t<tr><th scope=row>5</th><td>4.50</td><td>ctrl</td></tr>\n",
       "\t<tr><th scope=row>6</th><td>4.61</td><td>ctrl</td></tr>\n",
       "</tbody>\n",
       "</table>\n"
      ],
      "text/latex": [
       "A data.frame: 6 × 2\n",
       "\\begin{tabular}{r|ll}\n",
       "  & weight & group\\\\\n",
       "  & <dbl> & <fct>\\\\\n",
       "\\hline\n",
       "\t1 & 4.17 & ctrl\\\\\n",
       "\t2 & 5.58 & ctrl\\\\\n",
       "\t3 & 5.18 & ctrl\\\\\n",
       "\t4 & 6.11 & ctrl\\\\\n",
       "\t5 & 4.50 & ctrl\\\\\n",
       "\t6 & 4.61 & ctrl\\\\\n",
       "\\end{tabular}\n"
      ],
      "text/markdown": [
       "\n",
       "A data.frame: 6 × 2\n",
       "\n",
       "| <!--/--> | weight &lt;dbl&gt; | group &lt;fct&gt; |\n",
       "|---|---|---|\n",
       "| 1 | 4.17 | ctrl |\n",
       "| 2 | 5.58 | ctrl |\n",
       "| 3 | 5.18 | ctrl |\n",
       "| 4 | 6.11 | ctrl |\n",
       "| 5 | 4.50 | ctrl |\n",
       "| 6 | 4.61 | ctrl |\n",
       "\n"
      ],
      "text/plain": [
       "  weight group\n",
       "1 4.17   ctrl \n",
       "2 5.58   ctrl \n",
       "3 5.18   ctrl \n",
       "4 6.11   ctrl \n",
       "5 4.50   ctrl \n",
       "6 4.61   ctrl "
      ]
     },
     "metadata": {},
     "output_type": "display_data"
    }
   ],
   "source": [
    "head(df)"
   ]
  },
  {
   "cell_type": "code",
   "execution_count": 6,
   "id": "24610ddf-6bf5-4c70-afab-5d1f8f492785",
   "metadata": {},
   "outputs": [
    {
     "data": {
      "text/plain": [
       "\n",
       "\tWelch Two Sample t-test\n",
       "\n",
       "data:  df$weight[df$group == \"ctrl\"] and df$weight[df$group == \"trt1\"]\n",
       "t = 1.1913, df = 16.524, p-value = 0.2504\n",
       "alternative hypothesis: true difference in means is not equal to 0\n",
       "95 percent confidence interval:\n",
       " -0.2875162  1.0295162\n",
       "sample estimates:\n",
       "mean of x mean of y \n",
       "    5.032     4.661 \n"
      ]
     },
     "metadata": {},
     "output_type": "display_data"
    }
   ],
   "source": [
    "t.test(df$weight[ df$group == 'ctrl' ], df$weight[ df$group == 'trt1'])"
   ]
  },
  {
   "cell_type": "markdown",
   "id": "c09f1f58-5c17-4f10-8514-69105b069427",
   "metadata": {},
   "source": [
    "The t value is 1.1913. The degree of freedom is 16.524. The p-value is 0.2504. Since the alpha value is .05, then we would fail to reject the null hypothesis because alpha is smaller than the p-value."
   ]
  },
  {
   "cell_type": "markdown",
   "id": "08e0ce4e-a231-4077-ade4-a793395d6cea",
   "metadata": {},
   "source": [
    "The confidence interval is (-.2875, 1.0295) where -.2875 is the lower bound and 1.0295 is the upper bound."
   ]
  },
  {
   "cell_type": "markdown",
   "id": "2d11fcf9-f9ae-4096-bb4a-2ccede1f2a29",
   "metadata": {},
   "source": [
    "# Exercise 7"
   ]
  },
  {
   "cell_type": "markdown",
   "id": "64c5ee4d-f39c-46a1-9522-456daa6f5563",
   "metadata": {},
   "source": [
    "7. Install and library() the BEST package. Note that you may need to install a program called JAGS onto your computer before you try to install the BEST package inside of R. Use BESTmcmc() to compare the PlantGrowth control group (“ctrl”) to treatment group 1 (“trt1”). Plot the result and document the boundary values that BESTmcmc() calculated for the HDI. Write a brief definition of the meaning of the HDI and interpret the results from this comparison."
   ]
  },
  {
   "cell_type": "code",
   "execution_count": 8,
   "id": "566409f9-114b-40c0-af59-ee962e07a432",
   "metadata": {
    "lines_to_next_cell": 2
   },
   "outputs": [
    {
     "name": "stderr",
     "output_type": "stream",
     "text": [
      "also installing the dependency ‘rjags’\n",
      "\n",
      "\n",
      "Warning message in install.packages(\"BEST\"):\n",
      "“installation of package ‘rjags’ had non-zero exit status”\n",
      "Warning message in install.packages(\"BEST\"):\n",
      "“installation of package ‘BEST’ had non-zero exit status”\n",
      "Updating HTML index of packages in '.Library'\n",
      "\n",
      "Making 'packages.html' ...\n",
      " done\n",
      "\n"
     ]
    }
   ],
   "source": [
    "#install.packages('BEST')\n",
    "library('BEST')"
   ]
  },
  {
   "cell_type": "code",
   "execution_count": null,
   "id": "ddc3264e",
   "metadata": {
    "lines_to_next_cell": 0
   },
   "outputs": [],
   "source": [
    "plantBest <- BESTmcmc(df$weight[ df$group == 'ctrl' ], df$weight[ df$group == 'trt1'])\n",
    "plot(plantBest)"
   ]
  },
  {
   "cell_type": "markdown",
   "id": "5ac5170e",
   "metadata": {},
   "source": [
    "The Highest Density Interval (HDI) lets us know which values in the distribution are the most likely, i.e., which values show up the most in the distribution."
   ]
  },
  {
   "cell_type": "markdown",
   "id": "3db2d2d1-1098-4697-accc-b86adf90ed04",
   "metadata": {},
   "source": [
    "The lower and upper limits from the HDI are -0.365 and 1.13 repectively. This gives us a similar result as the t-test where we do not reject the null. This means that we do not have enough information to conclude that the means in both distributions are different from each other."
   ]
  },
  {
   "cell_type": "markdown",
   "id": "0138089a-91a2-47f7-803e-3e97c42655a2",
   "metadata": {},
   "source": [
    "# Exercise 8"
   ]
  },
  {
   "cell_type": "markdown",
   "id": "f7b4c4f5-6f84-467f-8362-76a8abda9705",
   "metadata": {},
   "source": [
    "8. Compare and contrast the results of Exercise 6 and Exercise 7. You have three types of evidence: the results of the null hypothesis test, the confidence interval, and the HDI from the BESTmcmc() procedure. Each one adds something, in turn, to the understanding of the difference between groups. Explain what information each test provides about the comparison of the control group (“ctrl”) and the treatment group 1 (“trt1”)."
   ]
  },
  {
   "cell_type": "markdown",
   "id": "25926da4-dd0a-4e76-a43f-915c7aadc7f3",
   "metadata": {},
   "source": [
    "The t-test and the HDI gave us similar results where we cannot conclude any differene between the means from the two groups in the Plant Growth dataset. On the other hand, the most likely values are different from each other. In the HDI, the mean is .388 while in the CDI it is .371. Therefore, they are centered around different numbers. Another difference is the range of the intervals. The HDI is wider than the CDI which means it is less certain about the most likely value."
   ]
  },
  {
   "cell_type": "markdown",
   "id": "57d87cc4-8dc5-45a8-a31f-f411545ef374",
   "metadata": {},
   "source": [
    "# Exercise 9"
   ]
  },
  {
   "cell_type": "markdown",
   "id": "93d08ed1-3af8-4d55-86f4-7b1ccd20df25",
   "metadata": {},
   "source": [
    "9. Using the same PlantGrowth data set, compare the “ctrl” group to the “trt2” group. Use all of the methods described earlier (t‐test, confidence interval, and Bayesian method) and explain all of the results."
   ]
  },
  {
   "cell_type": "code",
   "execution_count": 17,
   "id": "1768bd50-1a81-426a-a47a-afd93566ce8f",
   "metadata": {},
   "outputs": [
    {
     "data": {
      "text/plain": [
       "\n",
       "\tWelch Two Sample t-test\n",
       "\n",
       "data:  df$weight[df$group == \"ctrl\"] and df$weight[df$group == \"trt2\"]\n",
       "t = -2.134, df = 16.786, p-value = 0.0479\n",
       "alternative hypothesis: true difference in means is not equal to 0\n",
       "95 percent confidence interval:\n",
       " -0.98287213 -0.00512787\n",
       "sample estimates:\n",
       "mean of x mean of y \n",
       "    5.032     5.526 \n"
      ]
     },
     "metadata": {},
     "output_type": "display_data"
    }
   ],
   "source": [
    "t.test(df$weight[ df$group == 'ctrl' ], df$weight[ df$group == 'trt2'])"
   ]
  },
  {
   "cell_type": "code",
   "execution_count": 11,
   "id": "994035fe-fc34-4761-9554-73fd76a21551",
   "metadata": {},
   "outputs": [
    {
     "ename": "ERROR",
     "evalue": "Error in BESTmcmc(df$weight[df$group == \"ctrl\"], df$weight[df$group == : could not find function \"BESTmcmc\"\n",
     "output_type": "error",
     "traceback": [
      "Error in BESTmcmc(df$weight[df$group == \"ctrl\"], df$weight[df$group == : could not find function \"BESTmcmc\"\nTraceback:\n"
     ]
    }
   ],
   "source": [
    "plantBest <- BESTmcmc(df$weight[ df$group == 'ctrl' ], df$weight[ df$group == 'trt2'])\n",
    "plot(plantBest)"
   ]
  },
  {
   "cell_type": "markdown",
   "id": "88a61a3c-d200-4734-96e4-44de8bb77917",
   "metadata": {},
   "source": [
    "Comparing the control group against the trt2 group gives very different results in the HDI and the CDI. The HDI's interval contains 0 while the CDI does not. This means that the CDI rejects the null hypothesis while the HDI does not. The t-test also rejects the null hypothesis. The HDI while shifted to the left has a mean of -.485 which means it is leaning to the trt2 having a higher mean, but it is still not confident enough to say there is a difference between the two."
   ]
  },
  {
   "cell_type": "markdown",
   "id": "8e48819b",
   "metadata": {},
   "source": [
    "# Exercise 10"
   ]
  },
  {
   "cell_type": "markdown",
   "id": "81b24a83-bb58-43b0-ae3a-35d0df124e25",
   "metadata": {},
   "source": [
    "10. Consider this t‐test, which compares two groups of n = 100,000 observations each:\n",
    "t.test(rnorm(100000,mean=17.1,sd=3.8),rnorm(100000,mean=17.2,sd=3.8))"
   ]
  },
  {
   "cell_type": "markdown",
   "id": "46e02d5b-9181-4f97-a6f0-7ec1c06a546e",
   "metadata": {},
   "source": [
    "For each of the groups, the rnorm() command was used to generate a random normal distribution of observations similar to those for the automatic transmission group in the mtcars database (compare the programmed standard deviation for the random normal data to the actual mtcars data). The only difference between the two groups is that in the first rnorm() call, the mean is set to 17.1 mpg and in the second it is set to 17.2 mpg. I think you would agree that this is a negligible difference, if we are discuss‐ ing fuel economy. Run this line of code and comment on the results of the t‐test. What are the implications in terms of using the NHST on very large data sets?"
   ]
  },
  {
   "cell_type": "code",
   "execution_count": 12,
   "id": "bdc6bfdb-4910-49aa-8eee-875b7e73b7c7",
   "metadata": {},
   "outputs": [
    {
     "data": {
      "text/plain": [
       "\n",
       "\tWelch Two Sample t-test\n",
       "\n",
       "data:  rnorm(1e+05, mean = 17.1, sd = 3.8) and rnorm(1e+05, mean = 17.2, sd = 3.8)\n",
       "t = -6.8011, df = 2e+05, p-value = 1.041e-11\n",
       "alternative hypothesis: true difference in means is not equal to 0\n",
       "95 percent confidence interval:\n",
       " -0.14917636 -0.08243044\n",
       "sample estimates:\n",
       "mean of x mean of y \n",
       "  17.0775   17.1933 \n"
      ]
     },
     "metadata": {},
     "output_type": "display_data"
    }
   ],
   "source": [
    "t.test(rnorm(100000,mean=17.1,sd=3.8),rnorm(100000,mean=17.2,sd=3.8))"
   ]
  },
  {
   "cell_type": "markdown",
   "id": "b159813d-c67f-40f9-8d5b-9a65f6836ef3",
   "metadata": {},
   "source": [
    "The t-test is extremely confident that the two distributions have a different mean. This is partly because having a huge dataset will almost always result in a difference in the mean since the confidence increases as you add more datapoints."
   ]
  },
  {
   "cell_type": "code",
   "execution_count": null,
   "id": "4b92bdf3-e974-4ceb-8875-f57976a6e837",
   "metadata": {},
   "outputs": [],
   "source": []
  }
 ],
 "metadata": {
  "jupytext": {
   "formats": "ipynb,Rmd"
  },
  "kernelspec": {
   "display_name": "R",
   "language": "R",
   "name": "ir"
  },
  "language_info": {
   "codemirror_mode": "r",
   "file_extension": ".r",
   "mimetype": "text/x-r-source",
   "name": "R",
   "pygments_lexer": "r",
   "version": "4.0.3"
  }
 },
 "nbformat": 4,
 "nbformat_minor": 5
}
