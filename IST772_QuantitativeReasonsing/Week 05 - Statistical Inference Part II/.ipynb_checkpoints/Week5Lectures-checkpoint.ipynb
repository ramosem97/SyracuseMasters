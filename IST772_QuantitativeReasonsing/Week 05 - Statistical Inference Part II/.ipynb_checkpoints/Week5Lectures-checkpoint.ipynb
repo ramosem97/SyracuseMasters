{
 "cells": [
  {
   "cell_type": "markdown",
   "id": "63d9310c-4424-4e58-83a6-4b6018d86d66",
   "metadata": {},
   "source": [
    "# Week 5 Intro"
   ]
  },
  {
   "cell_type": "markdown",
   "id": "86c7841f-ae5d-462d-bf76-932eaba593fb",
   "metadata": {},
   "source": [
    "Let's preview a process that we're going to learn more about later this week. The process is called Markov chain Monte Carlo. And you know from the reading that this is a statistical search process that can provide valuable information for decision making.\n",
    "\n",
    "So what I've done here is I've gone to a website that was created by Paul Lewis, who's a biologist at University of Connecticut-- my Alma mater. And Paul Lewis's team has actually made this website, as well as an app for the iPhone and iPad. You might want to try downloading the app, it's a little bit of fun to play with.\n",
    "\n",
    "So you got to use your imagination here because this is pretty much a bare bones simulation. But think of these two rings like a topographic map of a hill, or maybe a mesa would be a better idea, because this top part is considered to be flat. This is the top of the hill. This is the highest altitude area. And then around here, this is the slope that leads up to the top of the hill.\n",
    "\n",
    "So this is an upward area where it's all upslope that's leading to the top of the hill. And then outside there is the plains, that's where it's all flat. Now it's the job of the robot-- you didn't know there was a robot in this, but there's a robot-- it's the job of a robot to start somewhere out on the plains here and then take steps at random.\n",
    "\n",
    "And the goal of those steps is for the robot to move to higher ground and stay there. And so every time the robot takes a step, that step is evaluated statistically to see if it's an improvement. In other words, has it gone to a higher altitude? So after each step, the robot evaluates where it stands with respect to its previous position. And if it's a good step, if it leads to a higher altitude, it's kept.\n",
    "\n",
    "Steps that are leading downhill are not favored, but they can be occasionally taken. And the reason for that is that we're searching for a global maximum, not a local maximum. And if you've ever been hiking, you know that sometimes you need to go downhill a little bit to get to the top of the mountain. So I've done my settings here. There's a few things that you can tweak. We can talk about those in a little while.\n",
    "\n",
    "And the robot is going to start probably somewhere around here. And we're going to get an illustration of each of 1,000 steps. Now I know you're waiting in anticipation for something to actually happen. I'm going to run it now, and all of the steps will be displayed all at once because the process works very quickly.\n",
    "\n",
    "All right. So you can see what's happened here. I actually clicked it twice. Let me clear it and do it again. There's the robot's starting point, that blue dot. I'm going to click Run, once this time. And there we go. So what's happened is the robot started out in the plains and it wandered around awhile in the plains until it came to the foothills.\n",
    "\n",
    "And then it started to make progress around the foothills. There was, occasionally, an excursion back out into the plains, because there is a bit of randomness to this process. But eventually, the robot found the top, the mesa, the peak of the hill, which is this big, flat space. And you can just tell by the density of all of these blue marks here that the robot spent a lot of time wandering around on the top of this hill.\n",
    "\n",
    "Now let me change some of the parameters here so that you can see one other thing of interest. Down here at the bottom, you see 1,000 metropolis steps taken and that's because I wanted there to be a nice, dense area of blue in the middle of the hill at the top there. But I'm going to do something now, I'm going to reduce the number of steps to 100. And I'm also going to show fails instead of hiding them.\n",
    "\n",
    "And now I will clear to get a fresh start. Now here goes the robot on 100 steps trying to find the peak of the hill. But this time, we'll also see the mistakes that the robot makes. In other words, the steps that it backs out of. So we get the same result in miniature this time. The robot spends a little bit of time out in the plains, but quickly finds the foothills, and then eventually spends a lot of time walking around on top of the hill.\n",
    "\n",
    "Now at various points in its trajectory, it took small steps or large steps in the wrong direction and these were rejected. So you can see one here, which was a really big step out of the foothills and onto the plains. And that definitely led downhill. I'm sorry-- that came out of the peak right down onto the plains.\n",
    "\n",
    "And that was definitely rejected because it was completely in the wrong direction. So a little bit of a bare bones thing, but it illustrates a really important statistical process known as Markov chain Monte Carlo. And that's the process that's used within the Bayesian statistics that we'll be using this week and for the rest of the semester."
   ]
  },
  {
   "cell_type": "markdown",
   "id": "041d7167-7b15-4986-975d-9e825a4f82c9",
   "metadata": {},
   "source": [
    "# 5.2: Confidence Intervals in Context"
   ]
  },
  {
   "cell_type": "markdown",
   "id": "b113f7bc-044f-432c-b139-1f9d8e5e0a33",
   "metadata": {},
   "source": [
    "** Cannot prove anything using a sample or statistical inference."
   ]
  },
  {
   "cell_type": "markdown",
   "id": "bd97304c-281b-4e35-af5f-315562f46753",
   "metadata": {},
   "source": [
    "# 5.3: Bayesian Thinking about Data"
   ]
  },
  {
   "cell_type": "code",
   "execution_count": 30,
   "id": "6f36479f-a996-4e57-9211-2f11b005cb65",
   "metadata": {},
   "outputs": [
    {
     "data": {
      "text/html": [
       "<table class=\"dataframe\">\n",
       "<caption>A data.frame: 2 × 2</caption>\n",
       "<thead>\n",
       "\t<tr><th></th><th scope=col>down</th><th scope=col>up</th></tr>\n",
       "\t<tr><th></th><th scope=col>&lt;dbl&gt;</th><th scope=col>&lt;dbl&gt;</th></tr>\n",
       "</thead>\n",
       "<tbody>\n",
       "\t<tr><th scope=row>Jelly</th><td>2</td><td>1</td></tr>\n",
       "\t<tr><th scope=row>Butter</th><td>3</td><td>4</td></tr>\n",
       "</tbody>\n",
       "</table>\n"
      ],
      "text/latex": [
       "A data.frame: 2 × 2\n",
       "\\begin{tabular}{r|ll}\n",
       "  & down & up\\\\\n",
       "  & <dbl> & <dbl>\\\\\n",
       "\\hline\n",
       "\tJelly & 2 & 1\\\\\n",
       "\tButter & 3 & 4\\\\\n",
       "\\end{tabular}\n"
      ],
      "text/markdown": [
       "\n",
       "A data.frame: 2 × 2\n",
       "\n",
       "| <!--/--> | down &lt;dbl&gt; | up &lt;dbl&gt; |\n",
       "|---|---|---|\n",
       "| Jelly | 2 | 1 |\n",
       "| Butter | 3 | 4 |\n",
       "\n"
      ],
      "text/plain": [
       "       down up\n",
       "Jelly  2    1 \n",
       "Butter 3    4 "
      ]
     },
     "metadata": {},
     "output_type": "display_data"
    }
   ],
   "source": [
    "type <- c('Jelly','Butter')\n",
    "down <- c(2,3)\n",
    "up <- c(1,4)\n",
    "pbj <- data.frame(down, up)\n",
    "rownames(pbj) <- type\n",
    "pbj"
   ]
  },
  {
   "cell_type": "code",
   "execution_count": 31,
   "id": "f32ae429-6568-4a8b-9d44-a71125a56b3a",
   "metadata": {},
   "outputs": [
    {
     "data": {
      "text/html": [
       "<table class=\"dataframe\">\n",
       "<caption>A data.frame: 3 × 3</caption>\n",
       "<thead>\n",
       "\t<tr><th></th><th scope=col>down</th><th scope=col>up</th><th scope=col>Marginal</th></tr>\n",
       "\t<tr><th></th><th scope=col>&lt;dbl&gt;</th><th scope=col>&lt;dbl&gt;</th><th scope=col>&lt;dbl&gt;</th></tr>\n",
       "</thead>\n",
       "<tbody>\n",
       "\t<tr><th scope=row>Jelly</th><td>0.2</td><td>0.1</td><td>0.3</td></tr>\n",
       "\t<tr><th scope=row>Butter</th><td>0.3</td><td>0.4</td><td>0.7</td></tr>\n",
       "\t<tr><th scope=row>Marginal</th><td>0.5</td><td>0.5</td><td>1.0</td></tr>\n",
       "</tbody>\n",
       "</table>\n"
      ],
      "text/latex": [
       "A data.frame: 3 × 3\n",
       "\\begin{tabular}{r|lll}\n",
       "  & down & up & Marginal\\\\\n",
       "  & <dbl> & <dbl> & <dbl>\\\\\n",
       "\\hline\n",
       "\tJelly & 0.2 & 0.1 & 0.3\\\\\n",
       "\tButter & 0.3 & 0.4 & 0.7\\\\\n",
       "\tMarginal & 0.5 & 0.5 & 1.0\\\\\n",
       "\\end{tabular}\n"
      ],
      "text/markdown": [
       "\n",
       "A data.frame: 3 × 3\n",
       "\n",
       "| <!--/--> | down &lt;dbl&gt; | up &lt;dbl&gt; | Marginal &lt;dbl&gt; |\n",
       "|---|---|---|---|\n",
       "| Jelly | 0.2 | 0.1 | 0.3 |\n",
       "| Butter | 0.3 | 0.4 | 0.7 |\n",
       "| Marginal | 0.5 | 0.5 | 1.0 |\n",
       "\n"
      ],
      "text/plain": [
       "         down up  Marginal\n",
       "Jelly    0.2  0.1 0.3     \n",
       "Butter   0.3  0.4 0.7     \n",
       "Marginal 0.5  0.5 1.0     "
      ]
     },
     "metadata": {},
     "output_type": "display_data"
    }
   ],
   "source": [
    "type <- c('Jelly','Butter', 'Marginal')\n",
    "down <- c(.2,.3, .5)\n",
    "up <- c(.1,.4, .5)\n",
    "Marginal <- c(.3,.7, 1)\n",
    "pbj_cont <- data.frame(down, up, Marginal)\n",
    "rownames(pbj_cont) <- type\n",
    "pbj_cont"
   ]
  },
  {
   "cell_type": "markdown",
   "id": "57a385d4-0588-4c7f-842b-4f8176083f6a",
   "metadata": {},
   "source": [
    "# 5.4: Opening Up Bayes' Theorem"
   ]
  },
  {
   "cell_type": "markdown",
   "id": "420edfdc-3e87-4d3d-9b5f-e845da5e9466",
   "metadata": {},
   "source": [
    "<b> Bayes' Theorem: </b> p(jelly|down) = p(down|jelly) * p(jelly) / p(down) = .04"
   ]
  },
  {
   "cell_type": "markdown",
   "id": "64d2a489-d176-45cb-8902-50aeb08fec4a",
   "metadata": {},
   "source": [
    "# 5.5: Bayesian Thinking Applied to mtcars"
   ]
  },
  {
   "cell_type": "markdown",
   "id": "e77a925d-6cd9-4ce8-97f6-eda5fc1bb202",
   "metadata": {},
   "source": [
    "The “official” Bayes theorem: <br><br>\n",
    "𝑝𝐻𝐷 =&𝐷𝐻&(() &(*)<br><br>\n",
    "We’re seeking p(H|D), the probability of the hypothesis being “true” given data we have observed; we need three ingredients in order to figure this out:<br><br>\n",
    "­ The probability of observing these data when the hypothesis is “true,” p(D|H), which Bayesian folks call the likelihood<br><br>\n",
    "­ The prior probability, p(H), in other words our baseline belief about the “truth” of the hypothesis<br><br>\n",
    "­ The probability of observing these data under any and all conditions, p(D), or\n",
    "in Bayes-speak, the evidence"
   ]
  },
  {
   "cell_type": "code",
   "execution_count": 32,
   "id": "2f093743-5dc3-43c9-ac0a-b16de1d9e6bd",
   "metadata": {},
   "outputs": [
    {
     "data": {
      "text/html": [
       "<table class=\"dataframe\">\n",
       "<caption>A data.frame: 6 × 11</caption>\n",
       "<thead>\n",
       "\t<tr><th></th><th scope=col>mpg</th><th scope=col>cyl</th><th scope=col>disp</th><th scope=col>hp</th><th scope=col>drat</th><th scope=col>wt</th><th scope=col>qsec</th><th scope=col>vs</th><th scope=col>am</th><th scope=col>gear</th><th scope=col>carb</th></tr>\n",
       "\t<tr><th></th><th scope=col>&lt;dbl&gt;</th><th scope=col>&lt;dbl&gt;</th><th scope=col>&lt;dbl&gt;</th><th scope=col>&lt;dbl&gt;</th><th scope=col>&lt;dbl&gt;</th><th scope=col>&lt;dbl&gt;</th><th scope=col>&lt;dbl&gt;</th><th scope=col>&lt;dbl&gt;</th><th scope=col>&lt;dbl&gt;</th><th scope=col>&lt;dbl&gt;</th><th scope=col>&lt;dbl&gt;</th></tr>\n",
       "</thead>\n",
       "<tbody>\n",
       "\t<tr><th scope=row>Mazda RX4</th><td>21.0</td><td>6</td><td>160</td><td>110</td><td>3.90</td><td>2.620</td><td>16.46</td><td>0</td><td>1</td><td>4</td><td>4</td></tr>\n",
       "\t<tr><th scope=row>Mazda RX4 Wag</th><td>21.0</td><td>6</td><td>160</td><td>110</td><td>3.90</td><td>2.875</td><td>17.02</td><td>0</td><td>1</td><td>4</td><td>4</td></tr>\n",
       "\t<tr><th scope=row>Datsun 710</th><td>22.8</td><td>4</td><td>108</td><td> 93</td><td>3.85</td><td>2.320</td><td>18.61</td><td>1</td><td>1</td><td>4</td><td>1</td></tr>\n",
       "\t<tr><th scope=row>Hornet 4 Drive</th><td>21.4</td><td>6</td><td>258</td><td>110</td><td>3.08</td><td>3.215</td><td>19.44</td><td>1</td><td>0</td><td>3</td><td>1</td></tr>\n",
       "\t<tr><th scope=row>Hornet Sportabout</th><td>18.7</td><td>8</td><td>360</td><td>175</td><td>3.15</td><td>3.440</td><td>17.02</td><td>0</td><td>0</td><td>3</td><td>2</td></tr>\n",
       "\t<tr><th scope=row>Valiant</th><td>18.1</td><td>6</td><td>225</td><td>105</td><td>2.76</td><td>3.460</td><td>20.22</td><td>1</td><td>0</td><td>3</td><td>1</td></tr>\n",
       "</tbody>\n",
       "</table>\n"
      ],
      "text/latex": [
       "A data.frame: 6 × 11\n",
       "\\begin{tabular}{r|lllllllllll}\n",
       "  & mpg & cyl & disp & hp & drat & wt & qsec & vs & am & gear & carb\\\\\n",
       "  & <dbl> & <dbl> & <dbl> & <dbl> & <dbl> & <dbl> & <dbl> & <dbl> & <dbl> & <dbl> & <dbl>\\\\\n",
       "\\hline\n",
       "\tMazda RX4 & 21.0 & 6 & 160 & 110 & 3.90 & 2.620 & 16.46 & 0 & 1 & 4 & 4\\\\\n",
       "\tMazda RX4 Wag & 21.0 & 6 & 160 & 110 & 3.90 & 2.875 & 17.02 & 0 & 1 & 4 & 4\\\\\n",
       "\tDatsun 710 & 22.8 & 4 & 108 &  93 & 3.85 & 2.320 & 18.61 & 1 & 1 & 4 & 1\\\\\n",
       "\tHornet 4 Drive & 21.4 & 6 & 258 & 110 & 3.08 & 3.215 & 19.44 & 1 & 0 & 3 & 1\\\\\n",
       "\tHornet Sportabout & 18.7 & 8 & 360 & 175 & 3.15 & 3.440 & 17.02 & 0 & 0 & 3 & 2\\\\\n",
       "\tValiant & 18.1 & 6 & 225 & 105 & 2.76 & 3.460 & 20.22 & 1 & 0 & 3 & 1\\\\\n",
       "\\end{tabular}\n"
      ],
      "text/markdown": [
       "\n",
       "A data.frame: 6 × 11\n",
       "\n",
       "| <!--/--> | mpg &lt;dbl&gt; | cyl &lt;dbl&gt; | disp &lt;dbl&gt; | hp &lt;dbl&gt; | drat &lt;dbl&gt; | wt &lt;dbl&gt; | qsec &lt;dbl&gt; | vs &lt;dbl&gt; | am &lt;dbl&gt; | gear &lt;dbl&gt; | carb &lt;dbl&gt; |\n",
       "|---|---|---|---|---|---|---|---|---|---|---|---|\n",
       "| Mazda RX4 | 21.0 | 6 | 160 | 110 | 3.90 | 2.620 | 16.46 | 0 | 1 | 4 | 4 |\n",
       "| Mazda RX4 Wag | 21.0 | 6 | 160 | 110 | 3.90 | 2.875 | 17.02 | 0 | 1 | 4 | 4 |\n",
       "| Datsun 710 | 22.8 | 4 | 108 |  93 | 3.85 | 2.320 | 18.61 | 1 | 1 | 4 | 1 |\n",
       "| Hornet 4 Drive | 21.4 | 6 | 258 | 110 | 3.08 | 3.215 | 19.44 | 1 | 0 | 3 | 1 |\n",
       "| Hornet Sportabout | 18.7 | 8 | 360 | 175 | 3.15 | 3.440 | 17.02 | 0 | 0 | 3 | 2 |\n",
       "| Valiant | 18.1 | 6 | 225 | 105 | 2.76 | 3.460 | 20.22 | 1 | 0 | 3 | 1 |\n",
       "\n"
      ],
      "text/plain": [
       "                  mpg  cyl disp hp  drat wt    qsec  vs am gear carb\n",
       "Mazda RX4         21.0 6   160  110 3.90 2.620 16.46 0  1  4    4   \n",
       "Mazda RX4 Wag     21.0 6   160  110 3.90 2.875 17.02 0  1  4    4   \n",
       "Datsun 710        22.8 4   108   93 3.85 2.320 18.61 1  1  4    1   \n",
       "Hornet 4 Drive    21.4 6   258  110 3.08 3.215 19.44 1  0  3    1   \n",
       "Hornet Sportabout 18.7 8   360  175 3.15 3.440 17.02 0  0  3    2   \n",
       "Valiant           18.1 6   225  105 2.76 3.460 20.22 1  0  3    1   "
      ]
     },
     "metadata": {},
     "output_type": "display_data"
    }
   ],
   "source": [
    "head(mtcars)"
   ]
  },
  {
   "cell_type": "code",
   "execution_count": 33,
   "id": "3d8a4699-376a-4c75-8a9f-a87450319287",
   "metadata": {},
   "outputs": [
    {
     "name": "stdout",
     "output_type": "stream",
     "text": [
      "'data.frame':\t32 obs. of  11 variables:\n",
      " $ mpg : num  21 21 22.8 21.4 18.7 18.1 14.3 24.4 22.8 19.2 ...\n",
      " $ cyl : num  6 6 4 6 8 6 8 4 4 6 ...\n",
      " $ disp: num  160 160 108 258 360 ...\n",
      " $ hp  : num  110 110 93 110 175 105 245 62 95 123 ...\n",
      " $ drat: num  3.9 3.9 3.85 3.08 3.15 2.76 3.21 3.69 3.92 3.92 ...\n",
      " $ wt  : num  2.62 2.88 2.32 3.21 3.44 ...\n",
      " $ qsec: num  16.5 17 18.6 19.4 17 ...\n",
      " $ vs  : num  0 0 1 1 0 1 0 1 1 1 ...\n",
      " $ am  : num  1 1 1 0 0 0 0 0 0 0 ...\n",
      " $ gear: num  4 4 4 3 3 3 3 4 4 4 ...\n",
      " $ carb: num  4 4 1 1 2 1 4 2 2 4 ...\n"
     ]
    }
   ],
   "source": [
    "str(mtcars)"
   ]
  },
  {
   "cell_type": "code",
   "execution_count": 34,
   "id": "c0e975d9-db61-497f-bf64-07049bd97efb",
   "metadata": {},
   "outputs": [
    {
     "data": {
      "image/png": "[encoded data removed]",
      "text/plain": [
       "plot without title"
      ]
     },
     "metadata": {
      "image/png": {
       "height": 420,
       "width": 420
      }
     },
     "output_type": "display_data"
    }
   ],
   "source": [
    "boxplot(mpg ~ am, data=mtcars) # Boxplot of mpg, group by am"
   ]
  },
  {
   "cell_type": "markdown",
   "id": "a57118b7-0a2b-43dc-b914-95085ae2e336",
   "metadata": {},
   "source": [
    "# 5.7: Posterior Distribution of Mean Differences"
   ]
  },
  {
   "cell_type": "markdown",
   "id": "d31933fa-24d1-459f-9bea-dab4cb147603",
   "metadata": {},
   "source": [
    "<b>Highest Density Interval</b><br><br>\n",
    "The Bayesian analysis shows that the “Highest Density Interval” or HDI ranges from -11.6 up to -2.84 (miles per gallon).<br>\n",
    "This HDI has an intuitive interpretation: There is a 95% probability that the\n",
    "population mean difference between the two groups falls within this range. The histogram on the previous slide shows that the most likely value is -7.22.<br>\n",
    "These are statements about the posterior distribution of possible values of the mean difference.\n",
    "<br><br><br>\n",
    "<b>Confidence Interval</b><br><br>\n",
    "From the analysis we conducted in Chapter 4, the 95 percent confidence interval ranged from -11.3 up to -3.2 (miles per gallon).<br>\n",
    "Statisticians say that if we could replicate our whole study 100 times, on average in 95 of those replications the calculated confidence interval would contain the actual population mean difference.<br>\n",
    "This is a statement about the long run possibilities, not about the accuracy of this particular confidence interval."
   ]
  },
  {
   "cell_type": "markdown",
   "id": "31301be5-613a-4407-9199-8243363c6f42",
   "metadata": {},
   "source": [
    "# 5.8: The Null Hypothesis Test"
   ]
  },
  {
   "cell_type": "code",
   "execution_count": 35,
   "id": "3a861d5b-5871-486a-af8f-bf02e13d5c91",
   "metadata": {},
   "outputs": [
    {
     "data": {
      "text/plain": [
       "\n",
       "\tWelch Two Sample t-test\n",
       "\n",
       "data:  mtcars$mpg[mtcars$am == 0] and mtcars$mpg[mtcars$am == 1]\n",
       "t = -3.7671, df = 18.332, p-value = 0.001374\n",
       "alternative hypothesis: true difference in means is not equal to 0\n",
       "95 percent confidence interval:\n",
       " -11.280194  -3.209684\n",
       "sample estimates:\n",
       "mean of x mean of y \n",
       " 17.14737  24.39231 \n"
      ]
     },
     "metadata": {},
     "output_type": "display_data"
    }
   ],
   "source": [
    "t.test(mtcars$mpg[ mtcars$am == 0 ], mtcars$mpg[ mtcars$am == 1])"
   ]
  },
  {
   "cell_type": "code",
   "execution_count": 36,
   "id": "36c68a0c-e913-4ec8-ae79-7ae191eb2230",
   "metadata": {},
   "outputs": [],
   "source": [
    "meanDiffs <- replicate(10000, \n",
    "                      mean(sample(mtcars$mpg[mtcars$am == 0], size=19, replace=TRUE)) \n",
    "                     - mean(sample(mtcars$mpg[mtcars$am == 1], size=13, replace=TRUE)))"
   ]
  },
  {
   "cell_type": "code",
   "execution_count": 37,
   "id": "f24e5c9b-6101-4ef8-8b2d-46225b85a5d2",
   "metadata": {},
   "outputs": [
    {
     "data": {
      "image/png": "[encoded data removed]",
      "text/plain": [
       "Plot with title “Histogram of meanDiffs”"
      ]
     },
     "metadata": {
      "image/png": {
       "height": 420,
       "width": 420
      }
     },
     "output_type": "display_data"
    }
   ],
   "source": [
    "hist(meanDiffs)"
   ]
  },
  {
   "cell_type": "markdown",
   "id": "f70838fe-832f-44cd-bdef-69a9b671d48a",
   "metadata": {},
   "source": [
    "# Fun with The rjags package"
   ]
  },
  {
   "cell_type": "code",
   "execution_count": 44,
   "id": "4620fd9f-4f57-4be8-a9c0-a108b8e59ef7",
   "metadata": {},
   "outputs": [
    {
     "name": "stderr",
     "output_type": "stream",
     "text": [
      "also installing the dependency ‘rjags’\n",
      "\n",
      "\n",
      "Warning message in install.packages(\"BEST\"):\n",
      "“installation of package ‘rjags’ had non-zero exit status”\n",
      "Warning message in install.packages(\"BEST\"):\n",
      "“installation of package ‘BEST’ had non-zero exit status”\n",
      "Updating HTML index of packages in '.Library'\n",
      "\n",
      "Making 'packages.html' ...\n",
      " done\n",
      "\n"
     ]
    },
    {
     "ename": "ERROR",
     "evalue": "Error in library(\"BEST\"): there is no package called ‘BEST’\n",
     "output_type": "error",
     "traceback": [
      "Error in library(\"BEST\"): there is no package called ‘BEST’\nTraceback:\n",
      "1. library(\"BEST\")"
     ]
    }
   ],
   "source": [
    "install.packages(\"BEST\")\n",
    "library(\"BEST\")\n",
    "carsBest <- BESTmcmc(mtcars$mpg[mtcars$am==0],\n",
    "mtcars$mpg[mtcars$am==1]) \n",
    "plot(carsBest)"
   ]
  },
  {
   "cell_type": "code",
   "execution_count": null,
   "id": "a5b295b0-dacf-48ee-b402-c424533be8aa",
   "metadata": {},
   "outputs": [],
   "source": []
  },
  {
   "cell_type": "markdown",
   "id": "14fa08bd-d3d5-4a19-9eee-5259dcce1db2",
   "metadata": {},
   "source": [
    "# "
   ]
  }
 ],
 "metadata": {
  "jupytext": {
   "formats": "ipynb,Rmd"
  },
  "kernelspec": {
   "display_name": "R",
   "language": "R",
   "name": "ir"
  },
  "language_info": {
   "codemirror_mode": "r",
   "file_extension": ".r",
   "mimetype": "text/x-r-source",
   "name": "R",
   "pygments_lexer": "r",
   "version": "4.0.3"
  }
 },
 "nbformat": 4,
 "nbformat_minor": 5
}
