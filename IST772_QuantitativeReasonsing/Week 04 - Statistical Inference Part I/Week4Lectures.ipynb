{
 "cells": [
  {
   "cell_type": "markdown",
   "id": "63d9310c-4424-4e58-83a6-4b6018d86d66",
   "metadata": {},
   "source": [
    "# Week 4 Intro"
   ]
  },
  {
   "cell_type": "markdown",
   "id": "86c7841f-ae5d-462d-bf76-932eaba593fb",
   "metadata": {},
   "source": [
    "Inference is an inductive reasoning process that begins with some information about specific cases and leads to some conclusion that is more general. Statistical inference takes this same kind of logical thinking a step further by dealing systematically with situations where we have uncertain or incomplete information. Unlike deductive reasoning, conclusions that we draw inductively from samples of data are never fixed or firm. We model uncertainty as carefully as we can, but we can never be 100% sure of anything when we are using statistical inference. \n",
    "\n",
    "We have spent the last four weeks preparing to use the tools of statistical inference. Our considerations of probability two weeks ago gave us the tools to consider sampling distributions last week. Sampling distributions provide the method we need for building models of uncertainty. This week, we formalize our capability to use sampling distributions by creating confidence intervals. A confidence interval is a band of uncertainty around a statistical point estimate (e.g., a mean). Similar to the concepts from last week, a confidence interval is a statement about probabilities over the long run and not a about the specific data sample we have at hand. Any particular confidence interval we calculate may or may not contain the true population value: we will never know for sure."
   ]
  },
  {
   "cell_type": "markdown",
   "id": "c0aeda6b-ea57-4e3c-b47b-898bff0eb760",
   "metadata": {},
   "source": [
    "# 4.2: Contrasting Deduction and Induction"
   ]
  },
  {
   "cell_type": "markdown",
   "id": "1d75f473-d153-433b-b6c7-cf20021c7660",
   "metadata": {},
   "source": [
    "Thinking is so important. I want to talk about two ways of doing it. They are deduction and induction. Some people refer to deductive thinking as top-down thinking. We start with some general principle and we work our way down to address specific cases.\n",
    "\n",
    "So for example, we start with the principle that items that are shelved in the grocery store near the cash register are bought on impulse. And then we add to that the principle that impulse buys are generally for items that are costing less than 5 dollars. We can conclude then from those two principles that if we shelve some snack items costing less than 5 dollars near the register, then we'll get a lot of impulse buys of those snack items.\n",
    "\n",
    "Now, you might wonder who came up with the general principle that items that were shelved at the cash register result in impulse buys. The answer in all likelihood is that someone did it inductively. Induction is bottom-up thinking, reasoning from a set of examples that are observed to some higher principle. So it's likely that some person that worked in a store noticed that, as people came up to the cash register, they just grabbed that candy off there and threw it onto their cart, even though they had not planned on buying that.\n",
    "\n",
    "Now, it's possible, of course, that some people do plan on popping right over to the cash register, and they've got a list of the candy that they're going to get. And that would be the exception that goes with the inductive rule. And that shows you that induction is largely a probabilistic type of reasoning.\n",
    "\n",
    "So, though, induction comes from the idea that the workers in the store induced this probabilistic rule by noticing what seemed true in most cases. And most of statistical inference is based on this idea of induction, of observing something that's a pattern, that may not be a perfect pattern, but it's enough of a pattern that we can draw some conclusions from it.\n",
    "\n",
    "So this leads us to a very important rule that I want you to internalize and always keep in mind. And never make this mistake when you're writing about data. You cannot prove anything from samples of data or by using statistical inference. You cannot prove anything. It's so important to think about this idea. It's intimately tied up with the scientific method. It doesn't mean that there is no truth, but it does mean that we have to weigh our evidence carefully in order to know how sure we are about something and to realize that we can never be absolutely sure about something when we're working with statistical data.\n",
    "\n",
    "Inferential statistics gives us the opportunity to be precise and systematic about certainty and uncertainty. But there will always be uncertainty when we're working with data. So in the rest of the course and beyond, make sure that when you phrase your results, when you're talking about an analysis that you have done, that you'd never say that you've proved something from the statistical analysis results that you're presenting."
   ]
  },
  {
   "cell_type": "markdown",
   "id": "9709ac88-7e18-456b-a609-5ac23c3c9788",
   "metadata": {},
   "source": [
    "# 4.3: Comparing Means of Two Independent Samples"
   ]
  },
  {
   "cell_type": "code",
   "execution_count": 11,
   "id": "3baea594-a61c-43af-9ae9-def498e87e98",
   "metadata": {},
   "outputs": [
    {
     "data": {
      "text/html": [
       "<table class=\"dataframe\">\n",
       "<caption>A matrix: 6 × 4 of type chr</caption>\n",
       "<thead>\n",
       "\t<tr><th scope=col>Package</th><th scope=col>LibPath</th><th scope=col>Item</th><th scope=col>Title</th></tr>\n",
       "</thead>\n",
       "<tbody>\n",
       "\t<tr><td>datasets</td><td>/Users/emilioramos/opt/anaconda3/envs/ist772/lib/R/library</td><td>AirPassengers         </td><td>Monthly Airline Passenger Numbers 1949-1960   </td></tr>\n",
       "\t<tr><td>datasets</td><td>/Users/emilioramos/opt/anaconda3/envs/ist772/lib/R/library</td><td>BJsales               </td><td>Sales Data with Leading Indicator             </td></tr>\n",
       "\t<tr><td>datasets</td><td>/Users/emilioramos/opt/anaconda3/envs/ist772/lib/R/library</td><td>BJsales.lead (BJsales)</td><td>Sales Data with Leading Indicator             </td></tr>\n",
       "\t<tr><td>datasets</td><td>/Users/emilioramos/opt/anaconda3/envs/ist772/lib/R/library</td><td>BOD                   </td><td>Biochemical Oxygen Demand                     </td></tr>\n",
       "\t<tr><td>datasets</td><td>/Users/emilioramos/opt/anaconda3/envs/ist772/lib/R/library</td><td>CO2                   </td><td>Carbon Dioxide Uptake in Grass Plants         </td></tr>\n",
       "\t<tr><td>datasets</td><td>/Users/emilioramos/opt/anaconda3/envs/ist772/lib/R/library</td><td>ChickWeight           </td><td>Weight versus age of chicks on different diets</td></tr>\n",
       "</tbody>\n",
       "</table>\n"
      ],
      "text/latex": [
       "A matrix: 6 × 4 of type chr\n",
       "\\begin{tabular}{llll}\n",
       " Package & LibPath & Item & Title\\\\\n",
       "\\hline\n",
       "\t datasets & /Users/emilioramos/opt/anaconda3/envs/ist772/lib/R/library & AirPassengers          & Monthly Airline Passenger Numbers 1949-1960   \\\\\n",
       "\t datasets & /Users/emilioramos/opt/anaconda3/envs/ist772/lib/R/library & BJsales                & Sales Data with Leading Indicator             \\\\\n",
       "\t datasets & /Users/emilioramos/opt/anaconda3/envs/ist772/lib/R/library & BJsales.lead (BJsales) & Sales Data with Leading Indicator             \\\\\n",
       "\t datasets & /Users/emilioramos/opt/anaconda3/envs/ist772/lib/R/library & BOD                    & Biochemical Oxygen Demand                     \\\\\n",
       "\t datasets & /Users/emilioramos/opt/anaconda3/envs/ist772/lib/R/library & CO2                    & Carbon Dioxide Uptake in Grass Plants         \\\\\n",
       "\t datasets & /Users/emilioramos/opt/anaconda3/envs/ist772/lib/R/library & ChickWeight            & Weight versus age of chicks on different diets\\\\\n",
       "\\end{tabular}\n"
      ],
      "text/markdown": [
       "\n",
       "A matrix: 6 × 4 of type chr\n",
       "\n",
       "| Package | LibPath | Item | Title |\n",
       "|---|---|---|---|\n",
       "| datasets | /Users/emilioramos/opt/anaconda3/envs/ist772/lib/R/library | AirPassengers          | Monthly Airline Passenger Numbers 1949-1960    |\n",
       "| datasets | /Users/emilioramos/opt/anaconda3/envs/ist772/lib/R/library | BJsales                | Sales Data with Leading Indicator              |\n",
       "| datasets | /Users/emilioramos/opt/anaconda3/envs/ist772/lib/R/library | BJsales.lead (BJsales) | Sales Data with Leading Indicator              |\n",
       "| datasets | /Users/emilioramos/opt/anaconda3/envs/ist772/lib/R/library | BOD                    | Biochemical Oxygen Demand                      |\n",
       "| datasets | /Users/emilioramos/opt/anaconda3/envs/ist772/lib/R/library | CO2                    | Carbon Dioxide Uptake in Grass Plants          |\n",
       "| datasets | /Users/emilioramos/opt/anaconda3/envs/ist772/lib/R/library | ChickWeight            | Weight versus age of chicks on different diets |\n",
       "\n"
      ],
      "text/plain": [
       "     Package  LibPath                                                   \n",
       "[1,] datasets /Users/emilioramos/opt/anaconda3/envs/ist772/lib/R/library\n",
       "[2,] datasets /Users/emilioramos/opt/anaconda3/envs/ist772/lib/R/library\n",
       "[3,] datasets /Users/emilioramos/opt/anaconda3/envs/ist772/lib/R/library\n",
       "[4,] datasets /Users/emilioramos/opt/anaconda3/envs/ist772/lib/R/library\n",
       "[5,] datasets /Users/emilioramos/opt/anaconda3/envs/ist772/lib/R/library\n",
       "[6,] datasets /Users/emilioramos/opt/anaconda3/envs/ist772/lib/R/library\n",
       "     Item                   Title                                         \n",
       "[1,] AirPassengers          Monthly Airline Passenger Numbers 1949-1960   \n",
       "[2,] BJsales                Sales Data with Leading Indicator             \n",
       "[3,] BJsales.lead (BJsales) Sales Data with Leading Indicator             \n",
       "[4,] BOD                    Biochemical Oxygen Demand                     \n",
       "[5,] CO2                    Carbon Dioxide Uptake in Grass Plants         \n",
       "[6,] ChickWeight            Weight versus age of chicks on different diets"
      ]
     },
     "metadata": {},
     "output_type": "display_data"
    }
   ],
   "source": [
    "head(data()$results)"
   ]
  },
  {
   "cell_type": "code",
   "execution_count": 12,
   "id": "b3b65410-1936-428c-9d67-e3f620214b1e",
   "metadata": {},
   "outputs": [
    {
     "name": "stdout",
     "output_type": "stream",
     "text": [
      " Time-Series [1:468] from 1959 to 1998: 315 316 316 318 318 ...\n"
     ]
    }
   ],
   "source": [
    "str(co2)"
   ]
  },
  {
   "cell_type": "code",
   "execution_count": 13,
   "id": "6e28d574-23e4-4e17-9baf-db46f34df6de",
   "metadata": {},
   "outputs": [
    {
     "data": {
      "text/html": [
       "\n",
       "<table width=\"100%\" summary=\"page for co2 {datasets}\"><tr><td>co2 {datasets}</td><td style=\"text-align: right;\">R Documentation</td></tr></table>\n",
       "\n",
       "<h2>Mauna Loa Atmospheric CO2 Concentration</h2>\n",
       "\n",
       "<h3>Description</h3>\n",
       "\n",
       "<p>Atmospheric concentrations of CO<i>2</i> are expressed in parts per\n",
       "million (ppm) and reported in the preliminary 1997 SIO manometric mole\n",
       "fraction scale.\n",
       "</p>\n",
       "\n",
       "\n",
       "<h3>Usage</h3>\n",
       "\n",
       "<pre>co2</pre>\n",
       "\n",
       "\n",
       "<h3>Format</h3>\n",
       "\n",
       "<p>A time series of 468 observations; monthly from 1959 to 1997.\n",
       "</p>\n",
       "\n",
       "\n",
       "<h3>Details</h3>\n",
       "\n",
       "<p>The values for February, March and April of 1964 were missing and have\n",
       "been obtained by interpolating linearly between the values for January\n",
       "and May of 1964.\n",
       "</p>\n",
       "\n",
       "\n",
       "<h3>Source</h3>\n",
       "\n",
       "<p>Keeling, C. D. and  Whorf, T. P.,\n",
       "Scripps Institution of Oceanography (SIO),\n",
       "University of California,\n",
       "La Jolla, California USA 92093-0220.\n",
       "</p>\n",
       "<p><a href=\"ftp://cdiac.esd.ornl.gov/pub/maunaloa-co2/maunaloa.co2\">ftp://cdiac.esd.ornl.gov/pub/maunaloa-co2/maunaloa.co2</a>.\n",
       "</p>\n",
       "\n",
       "\n",
       "<h3>References</h3>\n",
       "\n",
       "<p>Cleveland, W. S. (1993)\n",
       "<em>Visualizing Data</em>.\n",
       "New Jersey: Summit Press.\n",
       "</p>\n",
       "\n",
       "\n",
       "<h3>Examples</h3>\n",
       "\n",
       "<pre>\n",
       "require(graphics)\n",
       "plot(co2, ylab = expression(\"Atmospheric concentration of CO\"[2]),\n",
       "     las = 1)\n",
       "title(main = \"co2 data set\")\n",
       "</pre>\n",
       "\n",
       "<hr /><div style=\"text-align: center;\">[Package <em>datasets</em> version 4.0.3 ]</div>"
      ],
      "text/latex": [
       "\\inputencoding{utf8}\n",
       "\\HeaderA{co2}{Mauna Loa Atmospheric CO2 Concentration}{co2}\n",
       "\\keyword{datasets}{co2}\n",
       "%\n",
       "\\begin{Description}\\relax\n",
       "Atmospheric concentrations of CO\\eqn{_2}{} are expressed in parts per\n",
       "million (ppm) and reported in the preliminary 1997 SIO manometric mole\n",
       "fraction scale.\n",
       "\\end{Description}\n",
       "%\n",
       "\\begin{Usage}\n",
       "\\begin{verbatim}\n",
       "co2\n",
       "\\end{verbatim}\n",
       "\\end{Usage}\n",
       "%\n",
       "\\begin{Format}\n",
       "A time series of 468 observations; monthly from 1959 to 1997.\n",
       "\\end{Format}\n",
       "%\n",
       "\\begin{Details}\\relax\n",
       "The values for February, March and April of 1964 were missing and have\n",
       "been obtained by interpolating linearly between the values for January\n",
       "and May of 1964.\n",
       "\\end{Details}\n",
       "%\n",
       "\\begin{Source}\\relax\n",
       "Keeling, C. D. and  Whorf, T. P.,\n",
       "Scripps Institution of Oceanography (SIO),\n",
       "University of California,\n",
       "La Jolla, California USA 92093-0220.\n",
       "\n",
       "\\url{ftp://cdiac.esd.ornl.gov/pub/maunaloa-co2/maunaloa.co2}.\n",
       "\\end{Source}\n",
       "%\n",
       "\\begin{References}\\relax\n",
       "Cleveland, W. S. (1993)\n",
       "\\emph{Visualizing Data}.\n",
       "New Jersey: Summit Press.\n",
       "\\end{References}\n",
       "%\n",
       "\\begin{Examples}\n",
       "\\begin{ExampleCode}\n",
       "require(graphics)\n",
       "plot(co2, ylab = expression(\"Atmospheric concentration of CO\"[2]),\n",
       "     las = 1)\n",
       "title(main = \"co2 data set\")\n",
       "\\end{ExampleCode}\n",
       "\\end{Examples}"
      ],
      "text/plain": [
       "co2                  package:datasets                  R Documentation\n",
       "\n",
       "_\bM_\ba_\bu_\bn_\ba _\bL_\bo_\ba _\bA_\bt_\bm_\bo_\bs_\bp_\bh_\be_\br_\bi_\bc _\bC_\bO_\b2 _\bC_\bo_\bn_\bc_\be_\bn_\bt_\br_\ba_\bt_\bi_\bo_\bn\n",
       "\n",
       "_\bD_\be_\bs_\bc_\br_\bi_\bp_\bt_\bi_\bo_\bn:\n",
       "\n",
       "     Atmospheric concentrations of CO2 are expressed in parts per\n",
       "     million (ppm) and reported in the preliminary 1997 SIO manometric\n",
       "     mole fraction scale.\n",
       "\n",
       "_\bU_\bs_\ba_\bg_\be:\n",
       "\n",
       "     co2\n",
       "     \n",
       "_\bF_\bo_\br_\bm_\ba_\bt:\n",
       "\n",
       "     A time series of 468 observations; monthly from 1959 to 1997.\n",
       "\n",
       "_\bD_\be_\bt_\ba_\bi_\bl_\bs:\n",
       "\n",
       "     The values for February, March and April of 1964 were missing and\n",
       "     have been obtained by interpolating linearly between the values\n",
       "     for January and May of 1964.\n",
       "\n",
       "_\bS_\bo_\bu_\br_\bc_\be:\n",
       "\n",
       "     Keeling, C. D. and Whorf, T. P., Scripps Institution of\n",
       "     Oceanography (SIO), University of California, La Jolla, California\n",
       "     USA 92093-0220.\n",
       "\n",
       "     <URL: ftp://cdiac.esd.ornl.gov/pub/maunaloa-co2/maunaloa.co2>.\n",
       "\n",
       "_\bR_\be_\bf_\be_\br_\be_\bn_\bc_\be_\bs:\n",
       "\n",
       "     Cleveland, W. S. (1993) _Visualizing Data_.  New Jersey: Summit\n",
       "     Press.\n",
       "\n",
       "_\bE_\bx_\ba_\bm_\bp_\bl_\be_\bs:\n",
       "\n",
       "     require(graphics)\n",
       "     plot(co2, ylab = expression(\"Atmospheric concentration of CO\"[2]),\n",
       "          las = 1)\n",
       "     title(main = \"co2 data set\")\n",
       "     "
      ]
     },
     "metadata": {},
     "output_type": "display_data"
    }
   ],
   "source": [
    "?co2"
   ]
  },
  {
   "cell_type": "code",
   "execution_count": 17,
   "id": "41176ae6-b3dc-4da9-a597-c46d09c47638",
   "metadata": {},
   "outputs": [
    {
     "name": "stderr",
     "output_type": "stream",
     "text": [
      "also installing the dependencies ‘tmvnsim’, ‘mnormt’\n",
      "\n",
      "\n",
      "Updating HTML index of packages in '.Library'\n",
      "\n",
      "Making 'packages.html' ...\n",
      " done\n",
      "\n"
     ]
    }
   ],
   "source": [
    "# install.packages('psych')"
   ]
  },
  {
   "cell_type": "code",
   "execution_count": 21,
   "id": "42d755dc-da88-46de-b65e-ac89c522e5d0",
   "metadata": {},
   "outputs": [
    {
     "data": {
      "text/html": [
       "<table class=\"dataframe\">\n",
       "<caption>A matrix: 6 × 4 of type chr</caption>\n",
       "<thead>\n",
       "\t<tr><th scope=col>Package</th><th scope=col>LibPath</th><th scope=col>Item</th><th scope=col>Title</th></tr>\n",
       "</thead>\n",
       "<tbody>\n",
       "\t<tr><td>psych</td><td>/Users/emilioramos/opt/anaconda3/envs/ist772/lib/R/library</td><td>Bechtoldt    </td><td>Seven data sets showing a bifactor solution.                                      </td></tr>\n",
       "\t<tr><td>psych</td><td>/Users/emilioramos/opt/anaconda3/envs/ist772/lib/R/library</td><td>Bechtoldt.1  </td><td>Seven data sets showing a bifactor solution.                                      </td></tr>\n",
       "\t<tr><td>psych</td><td>/Users/emilioramos/opt/anaconda3/envs/ist772/lib/R/library</td><td>Bechtoldt.2  </td><td>Seven data sets showing a bifactor solution.                                      </td></tr>\n",
       "\t<tr><td>psych</td><td>/Users/emilioramos/opt/anaconda3/envs/ist772/lib/R/library</td><td>Chen (Schmid)</td><td>12 variables created by Schmid and Leiman to show the Schmid-Leiman Transformation</td></tr>\n",
       "\t<tr><td>psych</td><td>/Users/emilioramos/opt/anaconda3/envs/ist772/lib/R/library</td><td>Damian       </td><td>Project Talent data set from Marion Spengler and Rodica Damian                    </td></tr>\n",
       "\t<tr><td>psych</td><td>/Users/emilioramos/opt/anaconda3/envs/ist772/lib/R/library</td><td>Dwyer        </td><td>8 cognitive variables used by Dwyer for an example.                               </td></tr>\n",
       "</tbody>\n",
       "</table>\n"
      ],
      "text/latex": [
       "A matrix: 6 × 4 of type chr\n",
       "\\begin{tabular}{llll}\n",
       " Package & LibPath & Item & Title\\\\\n",
       "\\hline\n",
       "\t psych & /Users/emilioramos/opt/anaconda3/envs/ist772/lib/R/library & Bechtoldt     & Seven data sets showing a bifactor solution.                                      \\\\\n",
       "\t psych & /Users/emilioramos/opt/anaconda3/envs/ist772/lib/R/library & Bechtoldt.1   & Seven data sets showing a bifactor solution.                                      \\\\\n",
       "\t psych & /Users/emilioramos/opt/anaconda3/envs/ist772/lib/R/library & Bechtoldt.2   & Seven data sets showing a bifactor solution.                                      \\\\\n",
       "\t psych & /Users/emilioramos/opt/anaconda3/envs/ist772/lib/R/library & Chen (Schmid) & 12 variables created by Schmid and Leiman to show the Schmid-Leiman Transformation\\\\\n",
       "\t psych & /Users/emilioramos/opt/anaconda3/envs/ist772/lib/R/library & Damian        & Project Talent data set from Marion Spengler and Rodica Damian                    \\\\\n",
       "\t psych & /Users/emilioramos/opt/anaconda3/envs/ist772/lib/R/library & Dwyer         & 8 cognitive variables used by Dwyer for an example.                               \\\\\n",
       "\\end{tabular}\n"
      ],
      "text/markdown": [
       "\n",
       "A matrix: 6 × 4 of type chr\n",
       "\n",
       "| Package | LibPath | Item | Title |\n",
       "|---|---|---|---|\n",
       "| psych | /Users/emilioramos/opt/anaconda3/envs/ist772/lib/R/library | Bechtoldt     | Seven data sets showing a bifactor solution.                                       |\n",
       "| psych | /Users/emilioramos/opt/anaconda3/envs/ist772/lib/R/library | Bechtoldt.1   | Seven data sets showing a bifactor solution.                                       |\n",
       "| psych | /Users/emilioramos/opt/anaconda3/envs/ist772/lib/R/library | Bechtoldt.2   | Seven data sets showing a bifactor solution.                                       |\n",
       "| psych | /Users/emilioramos/opt/anaconda3/envs/ist772/lib/R/library | Chen (Schmid) | 12 variables created by Schmid and Leiman to show the Schmid-Leiman Transformation |\n",
       "| psych | /Users/emilioramos/opt/anaconda3/envs/ist772/lib/R/library | Damian        | Project Talent data set from Marion Spengler and Rodica Damian                     |\n",
       "| psych | /Users/emilioramos/opt/anaconda3/envs/ist772/lib/R/library | Dwyer         | 8 cognitive variables used by Dwyer for an example.                                |\n",
       "\n"
      ],
      "text/plain": [
       "     Package LibPath                                                   \n",
       "[1,] psych   /Users/emilioramos/opt/anaconda3/envs/ist772/lib/R/library\n",
       "[2,] psych   /Users/emilioramos/opt/anaconda3/envs/ist772/lib/R/library\n",
       "[3,] psych   /Users/emilioramos/opt/anaconda3/envs/ist772/lib/R/library\n",
       "[4,] psych   /Users/emilioramos/opt/anaconda3/envs/ist772/lib/R/library\n",
       "[5,] psych   /Users/emilioramos/opt/anaconda3/envs/ist772/lib/R/library\n",
       "[6,] psych   /Users/emilioramos/opt/anaconda3/envs/ist772/lib/R/library\n",
       "     Item         \n",
       "[1,] Bechtoldt    \n",
       "[2,] Bechtoldt.1  \n",
       "[3,] Bechtoldt.2  \n",
       "[4,] Chen (Schmid)\n",
       "[5,] Damian       \n",
       "[6,] Dwyer        \n",
       "     Title                                                                             \n",
       "[1,] Seven data sets showing a bifactor solution.                                      \n",
       "[2,] Seven data sets showing a bifactor solution.                                      \n",
       "[3,] Seven data sets showing a bifactor solution.                                      \n",
       "[4,] 12 variables created by Schmid and Leiman to show the Schmid-Leiman Transformation\n",
       "[5,] Project Talent data set from Marion Spengler and Rodica Damian                    \n",
       "[6,] 8 cognitive variables used by Dwyer for an example.                               "
      ]
     },
     "metadata": {},
     "output_type": "display_data"
    }
   ],
   "source": [
    "library(psych)\n",
    "head(data(package='psych')$results)"
   ]
  },
  {
   "cell_type": "code",
   "execution_count": 25,
   "id": "9ccba36c-828e-4f99-8797-7ce59860db62",
   "metadata": {},
   "outputs": [
    {
     "name": "stdout",
     "output_type": "stream",
     "text": [
      " num [1:8, 1:8] 1 0.58 -0.28 0.01 0.36 0.38 0.61 0.15 0.58 1 ...\n",
      " - attr(*, \"dimnames\")=List of 2\n",
      "  ..$ : chr [1:8] \"V1\" \"V2\" \"V3\" \"V4\" ...\n",
      "  ..$ : chr [1:8] \"V1\" \"V2\" \"V3\" \"V4\" ...\n"
     ]
    },
    {
     "data": {
      "text/html": [
       "<table class=\"dataframe\">\n",
       "<caption>A matrix: 6 × 8 of type dbl</caption>\n",
       "<thead>\n",
       "\t<tr><th></th><th scope=col>V1</th><th scope=col>V2</th><th scope=col>V3</th><th scope=col>V4</th><th scope=col>V5</th><th scope=col>V6</th><th scope=col>V7</th><th scope=col>V8</th></tr>\n",
       "</thead>\n",
       "<tbody>\n",
       "\t<tr><th scope=row>V1</th><td> 1.00</td><td> 0.58</td><td>-0.28</td><td> 0.01</td><td>0.36</td><td> 0.38</td><td> 0.61</td><td> 0.15</td></tr>\n",
       "\t<tr><th scope=row>V2</th><td> 0.58</td><td> 1.00</td><td>-0.28</td><td> 0.10</td><td>0.52</td><td> 0.44</td><td> 0.78</td><td> 0.10</td></tr>\n",
       "\t<tr><th scope=row>V3</th><td>-0.28</td><td>-0.28</td><td> 1.00</td><td> 0.56</td><td>0.14</td><td>-0.56</td><td>-0.42</td><td>-0.70</td></tr>\n",
       "\t<tr><th scope=row>V4</th><td> 0.01</td><td> 0.10</td><td> 0.56</td><td> 1.00</td><td>0.40</td><td>-0.34</td><td>-0.03</td><td>-0.65</td></tr>\n",
       "\t<tr><th scope=row>V5</th><td> 0.36</td><td> 0.52</td><td> 0.14</td><td> 0.40</td><td>1.00</td><td> 0.08</td><td> 0.46</td><td>-0.30</td></tr>\n",
       "\t<tr><th scope=row>V6</th><td> 0.38</td><td> 0.44</td><td>-0.56</td><td>-0.34</td><td>0.08</td><td> 1.00</td><td> 0.54</td><td> 0.50</td></tr>\n",
       "</tbody>\n",
       "</table>\n"
      ],
      "text/latex": [
       "A matrix: 6 × 8 of type dbl\n",
       "\\begin{tabular}{r|llllllll}\n",
       "  & V1 & V2 & V3 & V4 & V5 & V6 & V7 & V8\\\\\n",
       "\\hline\n",
       "\tV1 &  1.00 &  0.58 & -0.28 &  0.01 & 0.36 &  0.38 &  0.61 &  0.15\\\\\n",
       "\tV2 &  0.58 &  1.00 & -0.28 &  0.10 & 0.52 &  0.44 &  0.78 &  0.10\\\\\n",
       "\tV3 & -0.28 & -0.28 &  1.00 &  0.56 & 0.14 & -0.56 & -0.42 & -0.70\\\\\n",
       "\tV4 &  0.01 &  0.10 &  0.56 &  1.00 & 0.40 & -0.34 & -0.03 & -0.65\\\\\n",
       "\tV5 &  0.36 &  0.52 &  0.14 &  0.40 & 1.00 &  0.08 &  0.46 & -0.30\\\\\n",
       "\tV6 &  0.38 &  0.44 & -0.56 & -0.34 & 0.08 &  1.00 &  0.54 &  0.50\\\\\n",
       "\\end{tabular}\n"
      ],
      "text/markdown": [
       "\n",
       "A matrix: 6 × 8 of type dbl\n",
       "\n",
       "| <!--/--> | V1 | V2 | V3 | V4 | V5 | V6 | V7 | V8 |\n",
       "|---|---|---|---|---|---|---|---|---|\n",
       "| V1 |  1.00 |  0.58 | -0.28 |  0.01 | 0.36 |  0.38 |  0.61 |  0.15 |\n",
       "| V2 |  0.58 |  1.00 | -0.28 |  0.10 | 0.52 |  0.44 |  0.78 |  0.10 |\n",
       "| V3 | -0.28 | -0.28 |  1.00 |  0.56 | 0.14 | -0.56 | -0.42 | -0.70 |\n",
       "| V4 |  0.01 |  0.10 |  0.56 |  1.00 | 0.40 | -0.34 | -0.03 | -0.65 |\n",
       "| V5 |  0.36 |  0.52 |  0.14 |  0.40 | 1.00 |  0.08 |  0.46 | -0.30 |\n",
       "| V6 |  0.38 |  0.44 | -0.56 | -0.34 | 0.08 |  1.00 |  0.54 |  0.50 |\n",
       "\n"
      ],
      "text/plain": [
       "   V1    V2    V3    V4    V5   V6    V7    V8   \n",
       "V1  1.00  0.58 -0.28  0.01 0.36  0.38  0.61  0.15\n",
       "V2  0.58  1.00 -0.28  0.10 0.52  0.44  0.78  0.10\n",
       "V3 -0.28 -0.28  1.00  0.56 0.14 -0.56 -0.42 -0.70\n",
       "V4  0.01  0.10  0.56  1.00 0.40 -0.34 -0.03 -0.65\n",
       "V5  0.36  0.52  0.14  0.40 1.00  0.08  0.46 -0.30\n",
       "V6  0.38  0.44 -0.56 -0.34 0.08  1.00  0.54  0.50"
      ]
     },
     "metadata": {},
     "output_type": "display_data"
    },
    {
     "data": {
      "text/html": [
       "\n",
       "<table width=\"100%\" summary=\"page for Dwyer {psych}\"><tr><td>Dwyer {psych}</td><td style=\"text-align: right;\">R Documentation</td></tr></table>\n",
       "\n",
       "<h2>8 cognitive variables used by Dwyer for an example.\n",
       "</h2>\n",
       "\n",
       "<h3>Description</h3>\n",
       "\n",
       "<p>Dwyer (1937) introduced a technique for factor extension and used 8 cognitive variables from Thurstone.  This is the example data set used in his paper.\n",
       "</p>\n",
       "\n",
       "\n",
       "<h3>Usage</h3>\n",
       "\n",
       "<pre>data(Dwyer)</pre>\n",
       "\n",
       "\n",
       "<h3>Format</h3>\n",
       "\n",
       "<p>The format is:\n",
       "num [1:8, 1:8] 1 0.58 -0.28 0.01 0.36 0.38 0.61 0.15 0.58 1 ...\n",
       "- attr(*, &quot;dimnames&quot;)=List of 2\n",
       "..$ : chr [1:8] &quot;V1&quot; &quot;V2&quot; &quot;V3&quot; &quot;V4&quot; ...\n",
       "..$ : chr [1:8] &quot;V1&quot; &quot;V2&quot; &quot;V3&quot; &quot;V4&quot; ...\n",
       "</p>\n",
       "\n",
       "\n",
       "<h3>Source</h3>\n",
       "\n",
       "<p>Data matrix retyped from the original publication. \n",
       "</p>\n",
       "\n",
       "\n",
       "<h3>References</h3>\n",
       "\n",
       "<p>Dwyer, Paul S. (1937), The determination of the factor loadings of a given test from the known factor loadings of other tests. Psychometrika, 3, 173-178\n",
       "</p>\n",
       "\n",
       "\n",
       "<h3>Examples</h3>\n",
       "\n",
       "<pre>\n",
       "data(Dwyer)\n",
       "Ro &lt;- Dwyer[1:7,1:7]\n",
       "Roe &lt;- Dwyer[1:7,8]\n",
       "fo &lt;- fa(Ro,2,rotate=\"none\")\n",
       "fa.extension(Roe,fo)\n",
       "</pre>\n",
       "\n",
       "<hr /><div style=\"text-align: center;\">[Package <em>psych</em> version 2.1.3 ]</div>"
      ],
      "text/latex": [
       "\\inputencoding{utf8}\n",
       "\\HeaderA{Dwyer}{8 cognitive variables used by Dwyer for an example.}{Dwyer}\n",
       "\\keyword{datasets}{Dwyer}\n",
       "%\n",
       "\\begin{Description}\\relax\n",
       "Dwyer (1937) introduced a technique for factor extension and used 8 cognitive variables from Thurstone.  This is the example data set used in his paper.\n",
       "\\end{Description}\n",
       "%\n",
       "\\begin{Usage}\n",
       "\\begin{verbatim}\n",
       "data(Dwyer)\n",
       "\\end{verbatim}\n",
       "\\end{Usage}\n",
       "%\n",
       "\\begin{Format}\n",
       "The format is:\n",
       "num [1:8, 1:8] 1 0.58 -0.28 0.01 0.36 0.38 0.61 0.15 0.58 1 ...\n",
       "- attr(*, \"dimnames\")=List of 2\n",
       "..\\$ : chr [1:8] \"V1\" \"V2\" \"V3\" \"V4\" ...\n",
       "..\\$ : chr [1:8] \"V1\" \"V2\" \"V3\" \"V4\" ...\n",
       "\\end{Format}\n",
       "%\n",
       "\\begin{Source}\\relax\n",
       "Data matrix retyped from the original publication. \n",
       "\\end{Source}\n",
       "%\n",
       "\\begin{References}\\relax\n",
       "Dwyer, Paul S. (1937), The determination of the factor loadings of a given test from the known factor loadings of other tests. Psychometrika, 3, 173-178\n",
       "\n",
       "\\end{References}\n",
       "%\n",
       "\\begin{Examples}\n",
       "\\begin{ExampleCode}\n",
       "data(Dwyer)\n",
       "Ro <- Dwyer[1:7,1:7]\n",
       "Roe <- Dwyer[1:7,8]\n",
       "fo <- fa(Ro,2,rotate=\"none\")\n",
       "fa.extension(Roe,fo)\n",
       "\\end{ExampleCode}\n",
       "\\end{Examples}"
      ],
      "text/plain": [
       "Dwyer                  package:psych                   R Documentation\n",
       "\n",
       "_\b8 _\bc_\bo_\bg_\bn_\bi_\bt_\bi_\bv_\be _\bv_\ba_\br_\bi_\ba_\bb_\bl_\be_\bs _\bu_\bs_\be_\bd _\bb_\by _\bD_\bw_\by_\be_\br _\bf_\bo_\br _\ba_\bn _\be_\bx_\ba_\bm_\bp_\bl_\be.\n",
       "\n",
       "_\bD_\be_\bs_\bc_\br_\bi_\bp_\bt_\bi_\bo_\bn:\n",
       "\n",
       "     Dwyer (1937) introduced a technique for factor extension and used\n",
       "     8 cognitive variables from Thurstone.  This is the example data\n",
       "     set used in his paper.\n",
       "\n",
       "_\bU_\bs_\ba_\bg_\be:\n",
       "\n",
       "     data(Dwyer)\n",
       "     \n",
       "_\bF_\bo_\br_\bm_\ba_\bt:\n",
       "\n",
       "     The format is: num [1:8, 1:8] 1 0.58 -0.28 0.01 0.36 0.38 0.61\n",
       "     0.15 0.58 1 ...  - attr(*, \"dimnames\")=List of 2 ..$ : chr [1:8]\n",
       "     \"V1\" \"V2\" \"V3\" \"V4\" ...  ..$ : chr [1:8] \"V1\" \"V2\" \"V3\" \"V4\" ...\n",
       "\n",
       "_\bS_\bo_\bu_\br_\bc_\be:\n",
       "\n",
       "     Data matrix retyped from the original publication.\n",
       "\n",
       "_\bR_\be_\bf_\be_\br_\be_\bn_\bc_\be_\bs:\n",
       "\n",
       "     Dwyer, Paul S. (1937), The determination of the factor loadings of\n",
       "     a given test from the known factor loadings of other tests.\n",
       "     Psychometrika, 3, 173-178\n",
       "\n",
       "_\bE_\bx_\ba_\bm_\bp_\bl_\be_\bs:\n",
       "\n",
       "     data(Dwyer)\n",
       "     Ro <- Dwyer[1:7,1:7]\n",
       "     Roe <- Dwyer[1:7,8]\n",
       "     fo <- fa(Ro,2,rotate=\"none\")\n",
       "     fa.extension(Roe,fo)\n",
       "     "
      ]
     },
     "metadata": {},
     "output_type": "display_data"
    }
   ],
   "source": [
    "data(Dwyer)\n",
    "str(Dwyer)\n",
    "?Dwyer\n",
    "head(Dwyer)"
   ]
  },
  {
   "cell_type": "markdown",
   "id": "e6e99f2e-9c23-443b-b471-f903711e2f2f",
   "metadata": {},
   "source": [
    "## MTCars Dataset"
   ]
  },
  {
   "cell_type": "code",
   "execution_count": 26,
   "id": "cbed197e-c621-4693-bec8-d672156e76d4",
   "metadata": {},
   "outputs": [
    {
     "name": "stdout",
     "output_type": "stream",
     "text": [
      "'data.frame':\t32 obs. of  11 variables:\n",
      " $ mpg : num  21 21 22.8 21.4 18.7 18.1 14.3 24.4 22.8 19.2 ...\n",
      " $ cyl : num  6 6 4 6 8 6 8 4 4 6 ...\n",
      " $ disp: num  160 160 108 258 360 ...\n",
      " $ hp  : num  110 110 93 110 175 105 245 62 95 123 ...\n",
      " $ drat: num  3.9 3.9 3.85 3.08 3.15 2.76 3.21 3.69 3.92 3.92 ...\n",
      " $ wt  : num  2.62 2.88 2.32 3.21 3.44 ...\n",
      " $ qsec: num  16.5 17 18.6 19.4 17 ...\n",
      " $ vs  : num  0 0 1 1 0 1 0 1 1 1 ...\n",
      " $ am  : num  1 1 1 0 0 0 0 0 0 0 ...\n",
      " $ gear: num  4 4 4 3 3 3 3 4 4 4 ...\n",
      " $ carb: num  4 4 1 1 2 1 4 2 2 4 ...\n"
     ]
    }
   ],
   "source": [
    "str(mtcars)"
   ]
  },
  {
   "cell_type": "code",
   "execution_count": 31,
   "id": "655f6e2b-3e85-41d4-a857-6a73f408729e",
   "metadata": {},
   "outputs": [
    {
     "name": "stdout",
     "output_type": "stream",
     "text": [
      "'data.frame':\t32 obs. of  11 variables:\n",
      " $ mpg : num  21 21 22.8 21.4 18.7 18.1 14.3 24.4 22.8 19.2 ...\n",
      " $ cyl : num  6 6 4 6 8 6 8 4 4 6 ...\n",
      " $ disp: num  160 160 108 258 360 ...\n",
      " $ hp  : num  110 110 93 110 175 105 245 62 95 123 ...\n",
      " $ drat: num  3.9 3.9 3.85 3.08 3.15 2.76 3.21 3.69 3.92 3.92 ...\n",
      " $ wt  : num  2.62 2.88 2.32 3.21 3.44 ...\n",
      " $ qsec: num  16.5 17 18.6 19.4 17 ...\n",
      " $ vs  : num  0 0 1 1 0 1 0 1 1 1 ...\n",
      " $ am  : num  1 1 1 0 0 0 0 0 0 0 ...\n",
      " $ gear: num  4 4 4 3 3 3 3 4 4 4 ...\n",
      " $ carb: num  4 4 1 1 2 1 4 2 2 4 ...\n"
     ]
    },
    {
     "data": {
      "text/plain": [
       "      mpg             cyl             disp             hp       \n",
       " Min.   :10.40   Min.   :4.000   Min.   : 71.1   Min.   : 52.0  \n",
       " 1st Qu.:15.43   1st Qu.:4.000   1st Qu.:120.8   1st Qu.: 96.5  \n",
       " Median :19.20   Median :6.000   Median :196.3   Median :123.0  \n",
       " Mean   :20.09   Mean   :6.188   Mean   :230.7   Mean   :146.7  \n",
       " 3rd Qu.:22.80   3rd Qu.:8.000   3rd Qu.:326.0   3rd Qu.:180.0  \n",
       " Max.   :33.90   Max.   :8.000   Max.   :472.0   Max.   :335.0  \n",
       "      drat             wt             qsec             vs        \n",
       " Min.   :2.760   Min.   :1.513   Min.   :14.50   Min.   :0.0000  \n",
       " 1st Qu.:3.080   1st Qu.:2.581   1st Qu.:16.89   1st Qu.:0.0000  \n",
       " Median :3.695   Median :3.325   Median :17.71   Median :0.0000  \n",
       " Mean   :3.597   Mean   :3.217   Mean   :17.85   Mean   :0.4375  \n",
       " 3rd Qu.:3.920   3rd Qu.:3.610   3rd Qu.:18.90   3rd Qu.:1.0000  \n",
       " Max.   :4.930   Max.   :5.424   Max.   :22.90   Max.   :1.0000  \n",
       "       am              gear            carb      \n",
       " Min.   :0.0000   Min.   :3.000   Min.   :1.000  \n",
       " 1st Qu.:0.0000   1st Qu.:3.000   1st Qu.:2.000  \n",
       " Median :0.0000   Median :4.000   Median :2.000  \n",
       " Mean   :0.4062   Mean   :3.688   Mean   :2.812  \n",
       " 3rd Qu.:1.0000   3rd Qu.:4.000   3rd Qu.:4.000  \n",
       " Max.   :1.0000   Max.   :5.000   Max.   :8.000  "
      ]
     },
     "metadata": {},
     "output_type": "display_data"
    },
    {
     "data": {
      "text/html": [
       "<table class=\"dataframe\">\n",
       "<caption>A psych: 11 × 13</caption>\n",
       "<thead>\n",
       "\t<tr><th></th><th scope=col>vars</th><th scope=col>n</th><th scope=col>mean</th><th scope=col>sd</th><th scope=col>median</th><th scope=col>trimmed</th><th scope=col>mad</th><th scope=col>min</th><th scope=col>max</th><th scope=col>range</th><th scope=col>skew</th><th scope=col>kurtosis</th><th scope=col>se</th></tr>\n",
       "\t<tr><th></th><th scope=col>&lt;int&gt;</th><th scope=col>&lt;dbl&gt;</th><th scope=col>&lt;dbl&gt;</th><th scope=col>&lt;dbl&gt;</th><th scope=col>&lt;dbl&gt;</th><th scope=col>&lt;dbl&gt;</th><th scope=col>&lt;dbl&gt;</th><th scope=col>&lt;dbl&gt;</th><th scope=col>&lt;dbl&gt;</th><th scope=col>&lt;dbl&gt;</th><th scope=col>&lt;dbl&gt;</th><th scope=col>&lt;dbl&gt;</th><th scope=col>&lt;dbl&gt;</th></tr>\n",
       "</thead>\n",
       "<tbody>\n",
       "\t<tr><th scope=row>mpg</th><td> 1</td><td>32</td><td> 20.090625</td><td>  6.0269481</td><td> 19.200</td><td> 19.6961538</td><td>  5.4114900</td><td>10.400</td><td> 33.900</td><td> 23.500</td><td> 0.6106550</td><td>-0.37276603</td><td> 1.06542396</td></tr>\n",
       "\t<tr><th scope=row>cyl</th><td> 2</td><td>32</td><td>  6.187500</td><td>  1.7859216</td><td>  6.000</td><td>  6.2307692</td><td>  2.9652000</td><td> 4.000</td><td>  8.000</td><td>  4.000</td><td>-0.1746119</td><td>-1.76211977</td><td> 0.31570933</td></tr>\n",
       "\t<tr><th scope=row>disp</th><td> 3</td><td>32</td><td>230.721875</td><td>123.9386938</td><td>196.300</td><td>222.5230769</td><td>140.4763500</td><td>71.100</td><td>472.000</td><td>400.900</td><td> 0.3816570</td><td>-1.20721195</td><td>21.90947271</td></tr>\n",
       "\t<tr><th scope=row>hp</th><td> 4</td><td>32</td><td>146.687500</td><td> 68.5628685</td><td>123.000</td><td>141.1923077</td><td> 77.0952000</td><td>52.000</td><td>335.000</td><td>283.000</td><td> 0.7260237</td><td>-0.13555112</td><td>12.12031731</td></tr>\n",
       "\t<tr><th scope=row>drat</th><td> 5</td><td>32</td><td>  3.596563</td><td>  0.5346787</td><td>  3.695</td><td>  3.5792308</td><td>  0.7042350</td><td> 2.760</td><td>  4.930</td><td>  2.170</td><td> 0.2659039</td><td>-0.71470062</td><td> 0.09451874</td></tr>\n",
       "\t<tr><th scope=row>wt</th><td> 6</td><td>32</td><td>  3.217250</td><td>  0.9784574</td><td>  3.325</td><td>  3.1526923</td><td>  0.7672455</td><td> 1.513</td><td>  5.424</td><td>  3.911</td><td> 0.4231465</td><td>-0.02271075</td><td> 0.17296847</td></tr>\n",
       "\t<tr><th scope=row>qsec</th><td> 7</td><td>32</td><td> 17.848750</td><td>  1.7869432</td><td> 17.710</td><td> 17.8276923</td><td>  1.4158830</td><td>14.500</td><td> 22.900</td><td>  8.400</td><td> 0.3690453</td><td> 0.33511422</td><td> 0.31588992</td></tr>\n",
       "\t<tr><th scope=row>vs</th><td> 8</td><td>32</td><td>  0.437500</td><td>  0.5040161</td><td>  0.000</td><td>  0.4230769</td><td>  0.0000000</td><td> 0.000</td><td>  1.000</td><td>  1.000</td><td> 0.2402577</td><td>-2.00193762</td><td> 0.08909831</td></tr>\n",
       "\t<tr><th scope=row>am</th><td> 9</td><td>32</td><td>  0.406250</td><td>  0.4989909</td><td>  0.000</td><td>  0.3846154</td><td>  0.0000000</td><td> 0.000</td><td>  1.000</td><td>  1.000</td><td> 0.3640159</td><td>-1.92474143</td><td> 0.08820997</td></tr>\n",
       "\t<tr><th scope=row>gear</th><td>10</td><td>32</td><td>  3.687500</td><td>  0.7378041</td><td>  4.000</td><td>  3.6153846</td><td>  1.4826000</td><td> 3.000</td><td>  5.000</td><td>  2.000</td><td> 0.5288545</td><td>-1.06975068</td><td> 0.13042656</td></tr>\n",
       "\t<tr><th scope=row>carb</th><td>11</td><td>32</td><td>  2.812500</td><td>  1.6152000</td><td>  2.000</td><td>  2.6538462</td><td>  1.4826000</td><td> 1.000</td><td>  8.000</td><td>  7.000</td><td> 1.0508738</td><td> 1.25704307</td><td> 0.28552971</td></tr>\n",
       "</tbody>\n",
       "</table>\n"
      ],
      "text/latex": [
       "A psych: 11 × 13\n",
       "\\begin{tabular}{r|lllllllllllll}\n",
       "  & vars & n & mean & sd & median & trimmed & mad & min & max & range & skew & kurtosis & se\\\\\n",
       "  & <int> & <dbl> & <dbl> & <dbl> & <dbl> & <dbl> & <dbl> & <dbl> & <dbl> & <dbl> & <dbl> & <dbl> & <dbl>\\\\\n",
       "\\hline\n",
       "\tmpg &  1 & 32 &  20.090625 &   6.0269481 &  19.200 &  19.6961538 &   5.4114900 & 10.400 &  33.900 &  23.500 &  0.6106550 & -0.37276603 &  1.06542396\\\\\n",
       "\tcyl &  2 & 32 &   6.187500 &   1.7859216 &   6.000 &   6.2307692 &   2.9652000 &  4.000 &   8.000 &   4.000 & -0.1746119 & -1.76211977 &  0.31570933\\\\\n",
       "\tdisp &  3 & 32 & 230.721875 & 123.9386938 & 196.300 & 222.5230769 & 140.4763500 & 71.100 & 472.000 & 400.900 &  0.3816570 & -1.20721195 & 21.90947271\\\\\n",
       "\thp &  4 & 32 & 146.687500 &  68.5628685 & 123.000 & 141.1923077 &  77.0952000 & 52.000 & 335.000 & 283.000 &  0.7260237 & -0.13555112 & 12.12031731\\\\\n",
       "\tdrat &  5 & 32 &   3.596563 &   0.5346787 &   3.695 &   3.5792308 &   0.7042350 &  2.760 &   4.930 &   2.170 &  0.2659039 & -0.71470062 &  0.09451874\\\\\n",
       "\twt &  6 & 32 &   3.217250 &   0.9784574 &   3.325 &   3.1526923 &   0.7672455 &  1.513 &   5.424 &   3.911 &  0.4231465 & -0.02271075 &  0.17296847\\\\\n",
       "\tqsec &  7 & 32 &  17.848750 &   1.7869432 &  17.710 &  17.8276923 &   1.4158830 & 14.500 &  22.900 &   8.400 &  0.3690453 &  0.33511422 &  0.31588992\\\\\n",
       "\tvs &  8 & 32 &   0.437500 &   0.5040161 &   0.000 &   0.4230769 &   0.0000000 &  0.000 &   1.000 &   1.000 &  0.2402577 & -2.00193762 &  0.08909831\\\\\n",
       "\tam &  9 & 32 &   0.406250 &   0.4989909 &   0.000 &   0.3846154 &   0.0000000 &  0.000 &   1.000 &   1.000 &  0.3640159 & -1.92474143 &  0.08820997\\\\\n",
       "\tgear & 10 & 32 &   3.687500 &   0.7378041 &   4.000 &   3.6153846 &   1.4826000 &  3.000 &   5.000 &   2.000 &  0.5288545 & -1.06975068 &  0.13042656\\\\\n",
       "\tcarb & 11 & 32 &   2.812500 &   1.6152000 &   2.000 &   2.6538462 &   1.4826000 &  1.000 &   8.000 &   7.000 &  1.0508738 &  1.25704307 &  0.28552971\\\\\n",
       "\\end{tabular}\n"
      ],
      "text/markdown": [
       "\n",
       "A psych: 11 × 13\n",
       "\n",
       "| <!--/--> | vars &lt;int&gt; | n &lt;dbl&gt; | mean &lt;dbl&gt; | sd &lt;dbl&gt; | median &lt;dbl&gt; | trimmed &lt;dbl&gt; | mad &lt;dbl&gt; | min &lt;dbl&gt; | max &lt;dbl&gt; | range &lt;dbl&gt; | skew &lt;dbl&gt; | kurtosis &lt;dbl&gt; | se &lt;dbl&gt; |\n",
       "|---|---|---|---|---|---|---|---|---|---|---|---|---|---|\n",
       "| mpg |  1 | 32 |  20.090625 |   6.0269481 |  19.200 |  19.6961538 |   5.4114900 | 10.400 |  33.900 |  23.500 |  0.6106550 | -0.37276603 |  1.06542396 |\n",
       "| cyl |  2 | 32 |   6.187500 |   1.7859216 |   6.000 |   6.2307692 |   2.9652000 |  4.000 |   8.000 |   4.000 | -0.1746119 | -1.76211977 |  0.31570933 |\n",
       "| disp |  3 | 32 | 230.721875 | 123.9386938 | 196.300 | 222.5230769 | 140.4763500 | 71.100 | 472.000 | 400.900 |  0.3816570 | -1.20721195 | 21.90947271 |\n",
       "| hp |  4 | 32 | 146.687500 |  68.5628685 | 123.000 | 141.1923077 |  77.0952000 | 52.000 | 335.000 | 283.000 |  0.7260237 | -0.13555112 | 12.12031731 |\n",
       "| drat |  5 | 32 |   3.596563 |   0.5346787 |   3.695 |   3.5792308 |   0.7042350 |  2.760 |   4.930 |   2.170 |  0.2659039 | -0.71470062 |  0.09451874 |\n",
       "| wt |  6 | 32 |   3.217250 |   0.9784574 |   3.325 |   3.1526923 |   0.7672455 |  1.513 |   5.424 |   3.911 |  0.4231465 | -0.02271075 |  0.17296847 |\n",
       "| qsec |  7 | 32 |  17.848750 |   1.7869432 |  17.710 |  17.8276923 |   1.4158830 | 14.500 |  22.900 |   8.400 |  0.3690453 |  0.33511422 |  0.31588992 |\n",
       "| vs |  8 | 32 |   0.437500 |   0.5040161 |   0.000 |   0.4230769 |   0.0000000 |  0.000 |   1.000 |   1.000 |  0.2402577 | -2.00193762 |  0.08909831 |\n",
       "| am |  9 | 32 |   0.406250 |   0.4989909 |   0.000 |   0.3846154 |   0.0000000 |  0.000 |   1.000 |   1.000 |  0.3640159 | -1.92474143 |  0.08820997 |\n",
       "| gear | 10 | 32 |   3.687500 |   0.7378041 |   4.000 |   3.6153846 |   1.4826000 |  3.000 |   5.000 |   2.000 |  0.5288545 | -1.06975068 |  0.13042656 |\n",
       "| carb | 11 | 32 |   2.812500 |   1.6152000 |   2.000 |   2.6538462 |   1.4826000 |  1.000 |   8.000 |   7.000 |  1.0508738 |  1.25704307 |  0.28552971 |\n",
       "\n"
      ],
      "text/plain": [
       "     vars n  mean       sd          median  trimmed     mad         min   \n",
       "mpg   1   32  20.090625   6.0269481  19.200  19.6961538   5.4114900 10.400\n",
       "cyl   2   32   6.187500   1.7859216   6.000   6.2307692   2.9652000  4.000\n",
       "disp  3   32 230.721875 123.9386938 196.300 222.5230769 140.4763500 71.100\n",
       "hp    4   32 146.687500  68.5628685 123.000 141.1923077  77.0952000 52.000\n",
       "drat  5   32   3.596563   0.5346787   3.695   3.5792308   0.7042350  2.760\n",
       "wt    6   32   3.217250   0.9784574   3.325   3.1526923   0.7672455  1.513\n",
       "qsec  7   32  17.848750   1.7869432  17.710  17.8276923   1.4158830 14.500\n",
       "vs    8   32   0.437500   0.5040161   0.000   0.4230769   0.0000000  0.000\n",
       "am    9   32   0.406250   0.4989909   0.000   0.3846154   0.0000000  0.000\n",
       "gear 10   32   3.687500   0.7378041   4.000   3.6153846   1.4826000  3.000\n",
       "carb 11   32   2.812500   1.6152000   2.000   2.6538462   1.4826000  1.000\n",
       "     max     range   skew       kurtosis    se         \n",
       "mpg   33.900  23.500  0.6106550 -0.37276603  1.06542396\n",
       "cyl    8.000   4.000 -0.1746119 -1.76211977  0.31570933\n",
       "disp 472.000 400.900  0.3816570 -1.20721195 21.90947271\n",
       "hp   335.000 283.000  0.7260237 -0.13555112 12.12031731\n",
       "drat   4.930   2.170  0.2659039 -0.71470062  0.09451874\n",
       "wt     5.424   3.911  0.4231465 -0.02271075  0.17296847\n",
       "qsec  22.900   8.400  0.3690453  0.33511422  0.31588992\n",
       "vs     1.000   1.000  0.2402577 -2.00193762  0.08909831\n",
       "am     1.000   1.000  0.3640159 -1.92474143  0.08820997\n",
       "gear   5.000   2.000  0.5288545 -1.06975068  0.13042656\n",
       "carb   8.000   7.000  1.0508738  1.25704307  0.28552971"
      ]
     },
     "metadata": {},
     "output_type": "display_data"
    },
    {
     "data": {
      "text/html": [
       "\n",
       "<table width=\"100%\" summary=\"page for mtcars {datasets}\"><tr><td>mtcars {datasets}</td><td style=\"text-align: right;\">R Documentation</td></tr></table>\n",
       "\n",
       "<h2>Motor Trend Car Road Tests</h2>\n",
       "\n",
       "<h3>Description</h3>\n",
       "\n",
       "<p>The data was extracted from the 1974 <em>Motor Trend</em> US magazine,\n",
       "and comprises fuel consumption and 10 aspects of\n",
       "automobile design and performance for 32 automobiles (1973&ndash;74\n",
       "models).\n",
       "</p>\n",
       "\n",
       "\n",
       "<h3>Usage</h3>\n",
       "\n",
       "<pre>mtcars</pre>\n",
       "\n",
       "\n",
       "<h3>Format</h3>\n",
       "\n",
       "<p>A data frame with 32 observations on 11 (numeric) variables.\n",
       "</p>\n",
       "\n",
       "<table summary=\"Rd table\">\n",
       "<tr>\n",
       " <td style=\"text-align: right;\">\n",
       "    [, 1] </td><td style=\"text-align: left;\"> mpg  </td><td style=\"text-align: left;\"> Miles/(US) gallon </td>\n",
       "</tr>\n",
       "<tr>\n",
       " <td style=\"text-align: right;\">\n",
       "    [, 2] </td><td style=\"text-align: left;\"> cyl  </td><td style=\"text-align: left;\"> Number of cylinders </td>\n",
       "</tr>\n",
       "<tr>\n",
       " <td style=\"text-align: right;\">\n",
       "    [, 3] </td><td style=\"text-align: left;\"> disp </td><td style=\"text-align: left;\"> Displacement (cu.in.) </td>\n",
       "</tr>\n",
       "<tr>\n",
       " <td style=\"text-align: right;\">\n",
       "    [, 4] </td><td style=\"text-align: left;\"> hp   </td><td style=\"text-align: left;\"> Gross horsepower </td>\n",
       "</tr>\n",
       "<tr>\n",
       " <td style=\"text-align: right;\">\n",
       "    [, 5] </td><td style=\"text-align: left;\"> drat </td><td style=\"text-align: left;\"> Rear axle ratio </td>\n",
       "</tr>\n",
       "<tr>\n",
       " <td style=\"text-align: right;\">\n",
       "    [, 6] </td><td style=\"text-align: left;\"> wt   </td><td style=\"text-align: left;\"> Weight (1000 lbs) </td>\n",
       "</tr>\n",
       "<tr>\n",
       " <td style=\"text-align: right;\">\n",
       "    [, 7] </td><td style=\"text-align: left;\"> qsec </td><td style=\"text-align: left;\"> 1/4 mile time </td>\n",
       "</tr>\n",
       "<tr>\n",
       " <td style=\"text-align: right;\">\n",
       "    [, 8] </td><td style=\"text-align: left;\"> vs   </td><td style=\"text-align: left;\"> Engine (0 = V-shaped, 1 = straight) </td>\n",
       "</tr>\n",
       "<tr>\n",
       " <td style=\"text-align: right;\">\n",
       "    [, 9] </td><td style=\"text-align: left;\"> am   </td><td style=\"text-align: left;\"> Transmission (0 = automatic, 1 = manual) </td>\n",
       "</tr>\n",
       "<tr>\n",
       " <td style=\"text-align: right;\">\n",
       "    [,10] </td><td style=\"text-align: left;\"> gear </td><td style=\"text-align: left;\"> Number of forward gears </td>\n",
       "</tr>\n",
       "<tr>\n",
       " <td style=\"text-align: right;\">\n",
       "    [,11] </td><td style=\"text-align: left;\"> carb </td><td style=\"text-align: left;\"> Number of carburetors\n",
       "  </td>\n",
       "</tr>\n",
       "\n",
       "</table>\n",
       "\n",
       "\n",
       "\n",
       "<h3>Note</h3>\n",
       "\n",
       "<p>Henderson and Velleman (1981) comment in a footnote to Table 1:\n",
       "&lsquo;Hocking [original transcriber]'s noncrucial coding of the\n",
       "Mazda's rotary engine as a straight six-cylinder engine and the\n",
       "Porsche's flat engine as a V engine, as well as the inclusion of the\n",
       "diesel Mercedes 240D, have been retained to enable direct comparisons\n",
       "to be made with previous analyses.&rsquo;\n",
       "</p>\n",
       "\n",
       "\n",
       "<h3>Source</h3>\n",
       "\n",
       "<p>Henderson and Velleman (1981),\n",
       "Building multiple regression models interactively.\n",
       "<em>Biometrics</em>, <b>37</b>, 391&ndash;411.\n",
       "</p>\n",
       "\n",
       "\n",
       "<h3>Examples</h3>\n",
       "\n",
       "<pre>\n",
       "require(graphics)\n",
       "pairs(mtcars, main = \"mtcars data\", gap = 1/4)\n",
       "coplot(mpg ~ disp | as.factor(cyl), data = mtcars,\n",
       "       panel = panel.smooth, rows = 1)\n",
       "## possibly more meaningful, e.g., for summary() or bivariate plots:\n",
       "mtcars2 &lt;- within(mtcars, {\n",
       "   vs &lt;- factor(vs, labels = c(\"V\", \"S\"))\n",
       "   am &lt;- factor(am, labels = c(\"automatic\", \"manual\"))\n",
       "   cyl  &lt;- ordered(cyl)\n",
       "   gear &lt;- ordered(gear)\n",
       "   carb &lt;- ordered(carb)\n",
       "})\n",
       "summary(mtcars2)\n",
       "</pre>\n",
       "\n",
       "<hr /><div style=\"text-align: center;\">[Package <em>datasets</em> version 4.0.3 ]</div>"
      ],
      "text/latex": [
       "\\inputencoding{utf8}\n",
       "\\HeaderA{mtcars}{Motor Trend Car Road Tests}{mtcars}\n",
       "\\keyword{datasets}{mtcars}\n",
       "%\n",
       "\\begin{Description}\\relax\n",
       "The data was extracted from the 1974 \\emph{Motor Trend} US magazine,\n",
       "and comprises fuel consumption and 10 aspects of\n",
       "automobile design and performance for 32 automobiles (1973--74\n",
       "models).\n",
       "\\end{Description}\n",
       "%\n",
       "\\begin{Usage}\n",
       "\\begin{verbatim}\n",
       "mtcars\n",
       "\\end{verbatim}\n",
       "\\end{Usage}\n",
       "%\n",
       "\\begin{Format}\n",
       "A data frame with 32 observations on 11 (numeric) variables.\n",
       "\n",
       "\\Tabular{rll}{\n",
       "[, 1] & mpg  & Miles/(US) gallon \\\\{}\n",
       "[, 2] & cyl  & Number of cylinders \\\\{}\n",
       "[, 3] & disp & Displacement (cu.in.) \\\\{}\n",
       "[, 4] & hp   & Gross horsepower \\\\{}\n",
       "[, 5] & drat & Rear axle ratio \\\\{}\n",
       "[, 6] & wt   & Weight (1000 lbs) \\\\{}\n",
       "[, 7] & qsec & 1/4 mile time \\\\{}\n",
       "[, 8] & vs   & Engine (0 = V-shaped, 1 = straight) \\\\{}\n",
       "[, 9] & am   & Transmission (0 = automatic, 1 = manual) \\\\{}\n",
       "[,10] & gear & Number of forward gears \\\\{}\n",
       "[,11] & carb & Number of carburetors\n",
       "}\n",
       "\\end{Format}\n",
       "%\n",
       "\\begin{Note}\\relax\n",
       "Henderson and Velleman (1981) comment in a footnote to Table 1:\n",
       "`Hocking [original transcriber]'s noncrucial coding of the\n",
       "Mazda's rotary engine as a straight six-cylinder engine and the\n",
       "Porsche's flat engine as a V engine, as well as the inclusion of the\n",
       "diesel Mercedes 240D, have been retained to enable direct comparisons\n",
       "to be made with previous analyses.'\n",
       "\\end{Note}\n",
       "%\n",
       "\\begin{Source}\\relax\n",
       "Henderson and Velleman (1981),\n",
       "Building multiple regression models interactively.\n",
       "\\emph{Biometrics}, \\bold{37}, 391--411.\n",
       "\\end{Source}\n",
       "%\n",
       "\\begin{Examples}\n",
       "\\begin{ExampleCode}\n",
       "require(graphics)\n",
       "pairs(mtcars, main = \"mtcars data\", gap = 1/4)\n",
       "coplot(mpg ~ disp | as.factor(cyl), data = mtcars,\n",
       "       panel = panel.smooth, rows = 1)\n",
       "## possibly more meaningful, e.g., for summary() or bivariate plots:\n",
       "mtcars2 <- within(mtcars, {\n",
       "   vs <- factor(vs, labels = c(\"V\", \"S\"))\n",
       "   am <- factor(am, labels = c(\"automatic\", \"manual\"))\n",
       "   cyl  <- ordered(cyl)\n",
       "   gear <- ordered(gear)\n",
       "   carb <- ordered(carb)\n",
       "})\n",
       "summary(mtcars2)\n",
       "\\end{ExampleCode}\n",
       "\\end{Examples}"
      ],
      "text/plain": [
       "mtcars                package:datasets                 R Documentation\n",
       "\n",
       "_\bM_\bo_\bt_\bo_\br _\bT_\br_\be_\bn_\bd _\bC_\ba_\br _\bR_\bo_\ba_\bd _\bT_\be_\bs_\bt_\bs\n",
       "\n",
       "_\bD_\be_\bs_\bc_\br_\bi_\bp_\bt_\bi_\bo_\bn:\n",
       "\n",
       "     The data was extracted from the 1974 _Motor Trend_ US magazine,\n",
       "     and comprises fuel consumption and 10 aspects of automobile design\n",
       "     and performance for 32 automobiles (1973-74 models).\n",
       "\n",
       "_\bU_\bs_\ba_\bg_\be:\n",
       "\n",
       "     mtcars\n",
       "     \n",
       "_\bF_\bo_\br_\bm_\ba_\bt:\n",
       "\n",
       "     A data frame with 32 observations on 11 (numeric) variables.\n",
       "\n",
       "       [, 1]  mpg   Miles/(US) gallon                        \n",
       "       [, 2]  cyl   Number of cylinders                      \n",
       "       [, 3]  disp  Displacement (cu.in.)                    \n",
       "       [, 4]  hp    Gross horsepower                         \n",
       "       [, 5]  drat  Rear axle ratio                          \n",
       "       [, 6]  wt    Weight (1000 lbs)                        \n",
       "       [, 7]  qsec  1/4 mile time                            \n",
       "       [, 8]  vs    Engine (0 = V-shaped, 1 = straight)      \n",
       "       [, 9]  am    Transmission (0 = automatic, 1 = manual) \n",
       "       [,10]  gear  Number of forward gears                  \n",
       "       [,11]  carb  Number of carburetors                    \n",
       "      \n",
       "_\bN_\bo_\bt_\be:\n",
       "\n",
       "     Henderson and Velleman (1981) comment in a footnote to Table 1:\n",
       "     ‘Hocking [original transcriber]'s noncrucial coding of the Mazda's\n",
       "     rotary engine as a straight six-cylinder engine and the Porsche's\n",
       "     flat engine as a V engine, as well as the inclusion of the diesel\n",
       "     Mercedes 240D, have been retained to enable direct comparisons to\n",
       "     be made with previous analyses.’\n",
       "\n",
       "_\bS_\bo_\bu_\br_\bc_\be:\n",
       "\n",
       "     Henderson and Velleman (1981), Building multiple regression models\n",
       "     interactively.  _Biometrics_, *37*, 391-411.\n",
       "\n",
       "_\bE_\bx_\ba_\bm_\bp_\bl_\be_\bs:\n",
       "\n",
       "     require(graphics)\n",
       "     pairs(mtcars, main = \"mtcars data\", gap = 1/4)\n",
       "     coplot(mpg ~ disp | as.factor(cyl), data = mtcars,\n",
       "            panel = panel.smooth, rows = 1)\n",
       "     ## possibly more meaningful, e.g., for summary() or bivariate plots:\n",
       "     mtcars2 <- within(mtcars, {\n",
       "        vs <- factor(vs, labels = c(\"V\", \"S\"))\n",
       "        am <- factor(am, labels = c(\"automatic\", \"manual\"))\n",
       "        cyl  <- ordered(cyl)\n",
       "        gear <- ordered(gear)\n",
       "        carb <- ordered(carb)\n",
       "     })\n",
       "     summary(mtcars2)\n",
       "     "
      ]
     },
     "metadata": {},
     "output_type": "display_data"
    }
   ],
   "source": [
    "?mtcars\n",
    "str(mtcars)\n",
    "summary(mtcars)\n",
    "describe(mtcars)"
   ]
  },
  {
   "cell_type": "code",
   "execution_count": 35,
   "id": "6188a5cb-fe38-41de-8b44-4c6c7f38a292",
   "metadata": {},
   "outputs": [
    {
     "data": {
      "text/html": [
       "17.1473684210526"
      ],
      "text/latex": [
       "17.1473684210526"
      ],
      "text/markdown": [
       "17.1473684210526"
      ],
      "text/plain": [
       "[1] 17.14737"
      ]
     },
     "metadata": {},
     "output_type": "display_data"
    },
    {
     "data": {
      "text/html": [
       "3.83396638556131"
      ],
      "text/latex": [
       "3.83396638556131"
      ],
      "text/markdown": [
       "3.83396638556131"
      ],
      "text/plain": [
       "[1] 3.833966"
      ]
     },
     "metadata": {},
     "output_type": "display_data"
    }
   ],
   "source": [
    "mean(mtcars$mpg[mtcars$am==0]) # Automatic Transmissions\n",
    "sd(mtcars$mpg[mtcars$am==0])"
   ]
  },
  {
   "cell_type": "code",
   "execution_count": 36,
   "id": "7a65f813-4183-49c0-99c1-25f1ac607727",
   "metadata": {},
   "outputs": [
    {
     "data": {
      "text/html": [
       "24.3923076923077"
      ],
      "text/latex": [
       "24.3923076923077"
      ],
      "text/markdown": [
       "24.3923076923077"
      ],
      "text/plain": [
       "[1] 24.39231"
      ]
     },
     "metadata": {},
     "output_type": "display_data"
    },
    {
     "data": {
      "text/html": [
       "6.16650380935334"
      ],
      "text/latex": [
       "6.16650380935334"
      ],
      "text/markdown": [
       "6.16650380935334"
      ],
      "text/plain": [
       "[1] 6.166504"
      ]
     },
     "metadata": {},
     "output_type": "display_data"
    }
   ],
   "source": [
    "mean(mtcars$mpg[mtcars$am==1]) # Manual Transmissions\n",
    "sd(mtcars$mpg[mtcars$am==1])"
   ]
  },
  {
   "cell_type": "code",
   "execution_count": 37,
   "id": "3d5f15b7-d461-40ec-8591-efb1ed55184e",
   "metadata": {},
   "outputs": [
    {
     "data": {
      "image/png": "[encoded data removed]",
      "text/plain": [
       "plot without title"
      ]
     },
     "metadata": {
      "image/png": {
       "height": 420,
       "width": 420
      }
     },
     "output_type": "display_data"
    }
   ],
   "source": [
    "boxplot(mpg ~ am, data=mtcars) # Boxplot of mpg, group by am"
   ]
  },
  {
   "cell_type": "markdown",
   "id": "903da5e3-31a7-44d5-8b67-7c84f3ca6771",
   "metadata": {},
   "source": [
    "# 4.4: A Simulation of Uncertainty: Repetitive Sampling to Simulate Distribution of Mean Differences"
   ]
  },
  {
   "cell_type": "code",
   "execution_count": 38,
   "id": "5ca7fc11-cd10-4366-89d6-aa6ce2f31613",
   "metadata": {},
   "outputs": [
    {
     "data": {
      "text/html": [
       "<style>\n",
       ".list-inline {list-style: none; margin:0; padding: 0}\n",
       ".list-inline>li {display: inline-block}\n",
       ".list-inline>li:not(:last-child)::after {content: \"\\00b7\"; padding: 0 .5ex}\n",
       "</style>\n",
       "<ol class=list-inline><li>19.2</li><li>19.2</li><li>21.5</li><li>10.4</li><li>15.5</li><li>21.4</li><li>19.2</li><li>22.8</li><li>18.7</li><li>15.2</li><li>19.2</li><li>14.3</li><li>15.2</li><li>10.4</li><li>14.3</li><li>15.5</li><li>16.4</li><li>14.3</li><li>21.5</li></ol>\n"
      ],
      "text/latex": [
       "\\begin{enumerate*}\n",
       "\\item 19.2\n",
       "\\item 19.2\n",
       "\\item 21.5\n",
       "\\item 10.4\n",
       "\\item 15.5\n",
       "\\item 21.4\n",
       "\\item 19.2\n",
       "\\item 22.8\n",
       "\\item 18.7\n",
       "\\item 15.2\n",
       "\\item 19.2\n",
       "\\item 14.3\n",
       "\\item 15.2\n",
       "\\item 10.4\n",
       "\\item 14.3\n",
       "\\item 15.5\n",
       "\\item 16.4\n",
       "\\item 14.3\n",
       "\\item 21.5\n",
       "\\end{enumerate*}\n"
      ],
      "text/markdown": [
       "1. 19.2\n",
       "2. 19.2\n",
       "3. 21.5\n",
       "4. 10.4\n",
       "5. 15.5\n",
       "6. 21.4\n",
       "7. 19.2\n",
       "8. 22.8\n",
       "9. 18.7\n",
       "10. 15.2\n",
       "11. 19.2\n",
       "12. 14.3\n",
       "13. 15.2\n",
       "14. 10.4\n",
       "15. 14.3\n",
       "16. 15.5\n",
       "17. 16.4\n",
       "18. 14.3\n",
       "19. 21.5\n",
       "\n",
       "\n"
      ],
      "text/plain": [
       " [1] 19.2 19.2 21.5 10.4 15.5 21.4 19.2 22.8 18.7 15.2 19.2 14.3 15.2 10.4 14.3\n",
       "[16] 15.5 16.4 14.3 21.5"
      ]
     },
     "metadata": {},
     "output_type": "display_data"
    }
   ],
   "source": [
    "sample(mtcars$mpg[mtcars$am == 0], size=19, replace=TRUE)"
   ]
  },
  {
   "cell_type": "code",
   "execution_count": 39,
   "id": "de791d11-4b20-404a-a28b-0d9f789487ea",
   "metadata": {},
   "outputs": [
    {
     "data": {
      "text/html": [
       "<style>\n",
       ".list-inline {list-style: none; margin:0; padding: 0}\n",
       ".list-inline>li {display: inline-block}\n",
       ".list-inline>li:not(:last-child)::after {content: \"\\00b7\"; padding: 0 .5ex}\n",
       "</style>\n",
       "<ol class=list-inline><li>21</li><li>21</li><li>33.9</li><li>15</li><li>21</li><li>21</li><li>26</li><li>21</li><li>32.4</li><li>15</li><li>27.3</li><li>32.4</li><li>30.4</li></ol>\n"
      ],
      "text/latex": [
       "\\begin{enumerate*}\n",
       "\\item 21\n",
       "\\item 21\n",
       "\\item 33.9\n",
       "\\item 15\n",
       "\\item 21\n",
       "\\item 21\n",
       "\\item 26\n",
       "\\item 21\n",
       "\\item 32.4\n",
       "\\item 15\n",
       "\\item 27.3\n",
       "\\item 32.4\n",
       "\\item 30.4\n",
       "\\end{enumerate*}\n"
      ],
      "text/markdown": [
       "1. 21\n",
       "2. 21\n",
       "3. 33.9\n",
       "4. 15\n",
       "5. 21\n",
       "6. 21\n",
       "7. 26\n",
       "8. 21\n",
       "9. 32.4\n",
       "10. 15\n",
       "11. 27.3\n",
       "12. 32.4\n",
       "13. 30.4\n",
       "\n",
       "\n"
      ],
      "text/plain": [
       " [1] 21.0 21.0 33.9 15.0 21.0 21.0 26.0 21.0 32.4 15.0 27.3 32.4 30.4"
      ]
     },
     "metadata": {},
     "output_type": "display_data"
    }
   ],
   "source": [
    "sample(mtcars$mpg[mtcars$am == 1], size=13, replace=TRUE)"
   ]
  },
  {
   "cell_type": "code",
   "execution_count": 40,
   "id": "309f057a-828c-4459-bbb4-127dcc51887c",
   "metadata": {},
   "outputs": [],
   "source": [
    "meanDiffs <- replicate(100, \n",
    "                      mean(sample(mtcars$mpg[mtcars$am == 0], size=19, replace=TRUE)) \n",
    "                     - mean(sample(mtcars$mpg[mtcars$am == 1], size=13, replace=TRUE)))"
   ]
  },
  {
   "cell_type": "code",
   "execution_count": 42,
   "id": "d7a9efb8-964e-4ca1-a5ee-7e6aee3278be",
   "metadata": {},
   "outputs": [
    {
     "data": {
      "text/html": [
       "17.1473684210526"
      ],
      "text/latex": [
       "17.1473684210526"
      ],
      "text/markdown": [
       "17.1473684210526"
      ],
      "text/plain": [
       "[1] 17.14737"
      ]
     },
     "metadata": {},
     "output_type": "display_data"
    },
    {
     "data": {
      "text/html": [
       "24.3923076923077"
      ],
      "text/latex": [
       "24.3923076923077"
      ],
      "text/markdown": [
       "24.3923076923077"
      ],
      "text/plain": [
       "[1] 24.39231"
      ]
     },
     "metadata": {},
     "output_type": "display_data"
    }
   ],
   "source": [
    "mean(mtcars$mpg[mtcars$am == 0])\n",
    "mean(mtcars$mpg[mtcars$am == 1])"
   ]
  },
  {
   "cell_type": "code",
   "execution_count": 41,
   "id": "75d01864-a164-4000-889f-059c3a81614d",
   "metadata": {},
   "outputs": [
    {
     "data": {
      "image/png": "[encoded data removed]",
      "text/plain": [
       "Plot with title “Histogram of meanDiffs”"
      ]
     },
     "metadata": {
      "image/png": {
       "height": 420,
       "width": 420
      }
     },
     "output_type": "display_data"
    }
   ],
   "source": [
    "hist(meanDiffs)"
   ]
  },
  {
   "cell_type": "code",
   "execution_count": 57,
   "id": "194b9436-6743-41cd-90ab-1bc306e5c98c",
   "metadata": {},
   "outputs": [
    {
     "data": {
      "text/html": [
       "19"
      ],
      "text/latex": [
       "19"
      ],
      "text/markdown": [
       "19"
      ],
      "text/plain": [
       "[1] 19"
      ]
     },
     "metadata": {},
     "output_type": "display_data"
    }
   ],
   "source": [
    "length(mtcars$mpg[ mtcars$am == 0 ])"
   ]
  },
  {
   "cell_type": "code",
   "execution_count": 56,
   "id": "17d99f6e-ee2a-4c97-bd03-1c2b32bed64b",
   "metadata": {},
   "outputs": [
    {
     "data": {
      "text/html": [
       "32"
      ],
      "text/latex": [
       "32"
      ],
      "text/markdown": [
       "32"
      ],
      "text/plain": [
       "[1] 32"
      ]
     },
     "metadata": {},
     "output_type": "display_data"
    }
   ],
   "source": [
    "nrow(mtcars)"
   ]
  },
  {
   "cell_type": "code",
   "execution_count": 44,
   "id": "5c8450db-44f9-4a40-887d-22dce5cce7cc",
   "metadata": {},
   "outputs": [
    {
     "data": {
      "text/html": [
       "16.8578947368421"
      ],
      "text/latex": [
       "16.8578947368421"
      ],
      "text/markdown": [
       "16.8578947368421"
      ],
      "text/plain": [
       "[1] 16.85789"
      ]
     },
     "metadata": {},
     "output_type": "display_data"
    }
   ],
   "source": [
    "mean( sample(mtcars$mpg[ mtcars$am == 0 ],size=19,replace=TRUE))"
   ]
  },
  {
   "cell_type": "markdown",
   "id": "bab84e90-8e22-4f8e-99c3-ce8793cc8b74",
   "metadata": {},
   "source": [
    "# 4.5: Our First Inferential Test"
   ]
  },
  {
   "cell_type": "code",
   "execution_count": 58,
   "id": "e179c3d1-13c6-4f59-b13a-30ec6ae1bd4f",
   "metadata": {},
   "outputs": [
    {
     "data": {
      "text/plain": [
       "\n",
       "\tWelch Two Sample t-test\n",
       "\n",
       "data:  mtcars$mpg[mtcars$am == 0] and mtcars$mpg[mtcars$am == 1]\n",
       "t = -3.7671, df = 18.332, p-value = 0.001374\n",
       "alternative hypothesis: true difference in means is not equal to 0\n",
       "95 percent confidence interval:\n",
       " -11.280194  -3.209684\n",
       "sample estimates:\n",
       "mean of x mean of y \n",
       " 17.14737  24.39231 \n"
      ]
     },
     "metadata": {},
     "output_type": "display_data"
    }
   ],
   "source": [
    "t.test(mtcars$mpg[ mtcars$am == 0 ], mtcars$mpg[ mtcars$am == 1])"
   ]
  },
  {
   "cell_type": "markdown",
   "id": "ea2dbc64-4ce9-4d20-a0c4-24bc06b53865",
   "metadata": {},
   "source": [
    "# 4.6: What is a Confidence Interval?"
   ]
  },
  {
   "cell_type": "code",
   "execution_count": 68,
   "id": "cc794137-ee31-4dbb-baa5-845a019f850a",
   "metadata": {},
   "outputs": [
    {
     "data": {
      "image/png": "[encoded data removed]",
      "text/plain": [
       "plot without title"
      ]
     },
     "metadata": {
      "image/png": {
       "height": 420,
       "width": 420
      }
     },
     "output_type": "display_data"
    }
   ],
   "source": [
    "plot(seq(-4, 4, .01), dnorm(seq(-4, 4, .01)))\n",
    "abline(v=qnorm(.975))\n",
    "abline(v=qnorm(.025))"
   ]
  },
  {
   "cell_type": "code",
   "execution_count": 69,
   "id": "afb073fb-60ba-4d65-896d-472912bee7ff",
   "metadata": {},
   "outputs": [
    {
     "data": {
      "image/png": "[encoded data removed]",
      "text/plain": [
       "plot without title"
      ]
     },
     "metadata": {
      "image/png": {
       "height": 420,
       "width": 420
      }
     },
     "output_type": "display_data"
    }
   ],
   "source": [
    "plot(seq(-4, 4, .01), dt(seq(-4, 4, .01), df=30))\n",
    "abline(v=qt(.975, df=30))\n",
    "abline(v=qt(.025, df=30))"
   ]
  },
  {
   "cell_type": "markdown",
   "id": "72daba84-3172-4f0c-a686-d8c31f44e19a",
   "metadata": {},
   "source": [
    "# 4.8: Run Your Own CI"
   ]
  },
  {
   "cell_type": "code",
   "execution_count": 74,
   "id": "3e980bc2-effd-4e7e-b378-daa703f9a3a5",
   "metadata": {},
   "outputs": [
    {
     "data": {
      "text/plain": [
       "\n",
       "\tWelch Two Sample t-test\n",
       "\n",
       "data:  mtcars$mpg[mtcars$vs == 0] and mtcars$mpg[mtcars$vs == 1]\n",
       "t = -4.6671, df = 22.716, p-value = 0.0001098\n",
       "alternative hypothesis: true difference in means is not equal to 0\n",
       "95 percent confidence interval:\n",
       " -11.462508  -4.418445\n",
       "sample estimates:\n",
       "mean of x mean of y \n",
       " 16.61667  24.55714 \n"
      ]
     },
     "metadata": {},
     "output_type": "display_data"
    }
   ],
   "source": [
    "#VS = 0: v-shaped, VS = 1: straight\n",
    "t.test(mtcars$mpg[mtcars$vs==0],mtcars$mpg[mtcars$vs==1])"
   ]
  },
  {
   "cell_type": "markdown",
   "id": "7c072df2-2485-49b6-9b4a-0ea73f0c1409",
   "metadata": {},
   "source": [
    "The mean mpg of V-Shaped Engines is ~16.62 while the mean of Straight Engines is ~24.56. We are 95% confident that the true mean of the difference MPG between V-Shaped and Straight Engines lies between -11.5 and -4.42. This means that if we replicate the experiment 100 times, the mean of the experiment will lie between -11.5 and -4.42. This also means that we are 95% confident that the difference in means is not equal to 0."
   ]
  },
  {
   "cell_type": "markdown",
   "id": "14fa08bd-d3d5-4a19-9eee-5259dcce1db2",
   "metadata": {},
   "source": [
    "# "
   ]
  }
 ],
 "metadata": {
  "jupytext": {
   "formats": "ipynb,Rmd"
  },
  "kernelspec": {
   "display_name": "R",
   "language": "R",
   "name": "ir"
  },
  "language_info": {
   "codemirror_mode": "r",
   "file_extension": ".r",
   "mimetype": "text/x-r-source",
   "name": "R",
   "pygments_lexer": "r",
   "version": "4.0.3"
  }
 },
 "nbformat": 4,
 "nbformat_minor": 5
}
