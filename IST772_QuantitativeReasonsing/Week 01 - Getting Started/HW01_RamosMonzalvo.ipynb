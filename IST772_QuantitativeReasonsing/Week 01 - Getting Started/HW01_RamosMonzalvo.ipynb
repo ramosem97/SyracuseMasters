{
 "cells": [
  {
   "cell_type": "markdown",
   "id": "ddaba611",
   "metadata": {},
   "source": [
    "# Excercise 1"
   ]
  },
  {
   "cell_type": "markdown",
   "id": "f13d0c02",
   "metadata": {},
   "source": [
    "mean: the sum of the items divided by the number of items. <br>\n",
    "median: the middle item in a sorted list of items <br>\n",
    "mode: the item with the most frequency <br>\n",
    "variance: the average sum of the difference from the mean squared. <br>\n",
    "standard deviation: the square root of the variance. <br>\n",
    "histogram: a graph where bars represent the frequency of an item. <br>\n",
    "Normal Distribution: a distribution that forms a bell shape where the center has the most frequency and the tails on both sides are less frequent. <br>\n",
    "Poisson Distribution: a distribution where one item is more frequent than the rest of the possible outcomes. It defers from a Normal Distribution as it does not always look symmetric."
   ]
  },
  {
   "cell_type": "markdown",
   "id": "2d0cbf06",
   "metadata": {},
   "source": [
    "# Excercise 3"
   ]
  },
  {
   "cell_type": "code",
   "execution_count": 1,
   "id": "a3e86582",
   "metadata": {},
   "outputs": [],
   "source": [
    "r_datasets = data()"
   ]
  },
  {
   "cell_type": "code",
   "execution_count": 2,
   "id": "19e8b9c4",
   "metadata": {},
   "outputs": [
    {
     "data": {
      "text/html": [
       "<h3>Data sets</h3>\n",
       "<table>\n",
       "<thead><tr><th scope=col>Package</th><th scope=col>Item</th><th scope=col>Title</th></tr></thead>\n",
       "<tbody>\n",
       "\t<tr><td>datasets                                                       </td><td>AirPassengers                                                  </td><td>Monthly Airline Passenger Numbers 1949-1960                    </td></tr>\n",
       "\t<tr><td>datasets                                                       </td><td>BJsales                                                        </td><td>Sales Data with Leading Indicator                              </td></tr>\n",
       "\t<tr><td>datasets                                                       </td><td>BJsales.lead (BJsales)                                         </td><td>Sales Data with Leading Indicator                              </td></tr>\n",
       "\t<tr><td>datasets                                                       </td><td>BOD                                                            </td><td>Biochemical Oxygen Demand                                      </td></tr>\n",
       "\t<tr><td>datasets                                                       </td><td>CO2                                                            </td><td>Carbon Dioxide Uptake in Grass Plants                          </td></tr>\n",
       "\t<tr><td>datasets                                                       </td><td>ChickWeight                                                    </td><td>Weight versus age of chicks on different diets                 </td></tr>\n",
       "\t<tr><td>datasets                                                       </td><td>DNase                                                          </td><td>Elisa assay of DNase                                           </td></tr>\n",
       "\t<tr><td>datasets                                                       </td><td>EuStockMarkets                                                 </td><td>Daily Closing Prices of Major European Stock Indices, 1991-1998</td></tr>\n",
       "\t<tr><td>datasets                                                       </td><td>Formaldehyde                                                   </td><td>Determination of Formaldehyde                                  </td></tr>\n",
       "\t<tr><td>datasets                                                       </td><td>HairEyeColor                                                   </td><td>Hair and Eye Color of Statistics Students                      </td></tr>\n",
       "\t<tr><td>datasets                                                       </td><td>Harman23.cor                                                   </td><td>Harman Example 2.3                                             </td></tr>\n",
       "\t<tr><td>datasets                                                       </td><td>Harman74.cor                                                   </td><td>Harman Example 7.4                                             </td></tr>\n",
       "\t<tr><td>datasets                                                       </td><td>Indometh                                                       </td><td>Pharmacokinetics of Indomethacin                               </td></tr>\n",
       "\t<tr><td>datasets                                                       </td><td>InsectSprays                                                   </td><td>Effectiveness of Insect Sprays                                 </td></tr>\n",
       "\t<tr><td>datasets                                                                                                   </td><td><span style=white-space:pre-wrap>JohnsonJohnson        </span>                                             </td><td><span style=white-space:pre-wrap>Quarterly Earnings per Johnson &amp; Johnson Share                 </span></td></tr>\n",
       "\t<tr><td>datasets                                                       </td><td>LakeHuron                                                      </td><td>Level of Lake Huron 1875-1972                                  </td></tr>\n",
       "\t<tr><td>datasets                                                       </td><td>LifeCycleSavings                                               </td><td>Intercountry Life-Cycle Savings Data                           </td></tr>\n",
       "\t<tr><td>datasets                                                       </td><td>Loblolly                                                       </td><td>Growth of Loblolly pine trees                                  </td></tr>\n",
       "\t<tr><td>datasets                                                       </td><td>Nile                                                           </td><td>Flow of the River Nile                                         </td></tr>\n",
       "\t<tr><td>datasets                                                       </td><td>Orange                                                         </td><td>Growth of Orange Trees                                         </td></tr>\n",
       "\t<tr><td>datasets                                                       </td><td>OrchardSprays                                                  </td><td>Potency of Orchard Sprays                                      </td></tr>\n",
       "\t<tr><td>datasets                                                       </td><td>PlantGrowth                                                    </td><td>Results from an Experiment on Plant Growth                     </td></tr>\n",
       "\t<tr><td>datasets                                                       </td><td>Puromycin                                                      </td><td>Reaction Velocity of an Enzymatic Reaction                     </td></tr>\n",
       "\t<tr><td>datasets                                                       </td><td>Seatbelts                                                      </td><td>Road Casualties in Great Britain 1969-84                       </td></tr>\n",
       "\t<tr><td>datasets                                                       </td><td>Theoph                                                         </td><td>Pharmacokinetics of Theophylline                               </td></tr>\n",
       "\t<tr><td>datasets                                                       </td><td>Titanic                                                        </td><td>Survival of passengers on the Titanic                          </td></tr>\n",
       "\t<tr><td>datasets                                                       </td><td>ToothGrowth                                                    </td><td>The Effect of Vitamin C on Tooth Growth in Guinea Pigs         </td></tr>\n",
       "\t<tr><td>datasets                                                       </td><td>UCBAdmissions                                                  </td><td>Student Admissions at UC Berkeley                              </td></tr>\n",
       "\t<tr><td>datasets                                                       </td><td>UKDriverDeaths                                                 </td><td>Road Casualties in Great Britain 1969-84                       </td></tr>\n",
       "\t<tr><td>datasets                                                       </td><td>UKgas                                                          </td><td>UK Quarterly Gas Consumption                                   </td></tr>\n",
       "\t<tr><td>datasets                                                       </td><td>USAccDeaths                                                    </td><td>Accidental Deaths in the US 1973-1978                          </td></tr>\n",
       "\t<tr><td>datasets                                                       </td><td>USArrests                                                      </td><td>Violent Crime Rates by US State                                </td></tr>\n",
       "\t<tr><td>datasets                                                       </td><td>USJudgeRatings                                                 </td><td>Lawyers' Ratings of State Judges in the US Superior Court      </td></tr>\n",
       "\t<tr><td>datasets                                                       </td><td>USPersonalExpenditure                                          </td><td>Personal Expenditure Data                                      </td></tr>\n",
       "\t<tr><td>datasets                                                       </td><td>UScitiesD                                                      </td><td>Distances Between European Cities and Between US Cities        </td></tr>\n",
       "\t<tr><td>datasets                                                       </td><td>VADeaths                                                       </td><td>Death Rates in Virginia (1940)                                 </td></tr>\n",
       "\t<tr><td>datasets                                                       </td><td>WWWusage                                                       </td><td>Internet Usage per Minute                                      </td></tr>\n",
       "\t<tr><td>datasets                                                       </td><td>WorldPhones                                                    </td><td>The World's Telephones                                         </td></tr>\n",
       "\t<tr><td>datasets                                                       </td><td>ability.cov                                                    </td><td>Ability and Intelligence Tests                                 </td></tr>\n",
       "\t<tr><td>datasets                                                       </td><td>airmiles                                                       </td><td>Passenger Miles on Commercial US Airlines, 1937-1960           </td></tr>\n",
       "\t<tr><td>datasets                                                       </td><td>airquality                                                     </td><td>New York Air Quality Measurements                              </td></tr>\n",
       "\t<tr><td>datasets                                                       </td><td>anscombe                                                       </td><td>Anscombe's Quartet of 'Identical' Simple Linear Regressions    </td></tr>\n",
       "\t<tr><td>datasets                                                       </td><td>attenu                                                         </td><td>The Joyner-Boore Attenuation Data                              </td></tr>\n",
       "\t<tr><td>datasets                                                       </td><td>attitude                                                       </td><td>The Chatterjee-Price Attitude Data                             </td></tr>\n",
       "\t<tr><td>datasets                                                       </td><td>austres                                                        </td><td>Quarterly Time Series of the Number of Australian Residents    </td></tr>\n",
       "\t<tr><td>datasets                                                       </td><td>beaver1 (beavers)                                              </td><td>Body Temperature Series of Two Beavers                         </td></tr>\n",
       "\t<tr><td>datasets                                                       </td><td>beaver2 (beavers)                                              </td><td>Body Temperature Series of Two Beavers                         </td></tr>\n",
       "\t<tr><td>datasets                                                       </td><td>cars                                                           </td><td>Speed and Stopping Distances of Cars                           </td></tr>\n",
       "\t<tr><td>datasets                                                       </td><td>chickwts                                                       </td><td>Chicken Weights by Feed Type                                   </td></tr>\n",
       "\t<tr><td>datasets                                                       </td><td>co2                                                            </td><td>Mauna Loa Atmospheric CO2 Concentration                        </td></tr>\n",
       "\t<tr><td>datasets                                                       </td><td>crimtab                                                        </td><td>Student's 3000 Criminals Data                                  </td></tr>\n",
       "\t<tr><td>datasets                                                       </td><td>discoveries                                                    </td><td>Yearly Numbers of Important Discoveries                        </td></tr>\n",
       "\t<tr><td>datasets                                                       </td><td>esoph                                                          </td><td>Smoking, Alcohol and (O)esophageal Cancer                      </td></tr>\n",
       "\t<tr><td>datasets                                                       </td><td>euro                                                           </td><td>Conversion Rates of Euro Currencies                            </td></tr>\n",
       "\t<tr><td>datasets                                                       </td><td>euro.cross (euro)                                              </td><td>Conversion Rates of Euro Currencies                            </td></tr>\n",
       "\t<tr><td>datasets                                                       </td><td>eurodist                                                       </td><td>Distances Between European Cities and Between US Cities        </td></tr>\n",
       "\t<tr><td>datasets                                                       </td><td>faithful                                                       </td><td>Old Faithful Geyser Data                                       </td></tr>\n",
       "\t<tr><td>datasets                                                       </td><td>fdeaths (UKLungDeaths)                                         </td><td>Monthly Deaths from Lung Diseases in the UK                    </td></tr>\n",
       "\t<tr><td>datasets                                                       </td><td>freeny                                                         </td><td>Freeny's Revenue Data                                          </td></tr>\n",
       "\t<tr><td>datasets                                                       </td><td>freeny.x (freeny)                                              </td><td>Freeny's Revenue Data                                          </td></tr>\n",
       "\t<tr><td>datasets                                                       </td><td>freeny.y (freeny)                                              </td><td>Freeny's Revenue Data                                          </td></tr>\n",
       "\t<tr><td>datasets                                                       </td><td>infert                                                         </td><td>Infertility after Spontaneous and Induced Abortion             </td></tr>\n",
       "\t<tr><td>datasets                                                       </td><td>iris                                                           </td><td>Edgar Anderson's Iris Data                                     </td></tr>\n",
       "\t<tr><td>datasets                                                       </td><td>iris3                                                          </td><td>Edgar Anderson's Iris Data                                     </td></tr>\n",
       "\t<tr><td>datasets                                                       </td><td>islands                                                        </td><td>Areas of the World's Major Landmasses                          </td></tr>\n",
       "\t<tr><td>datasets                                                       </td><td>ldeaths (UKLungDeaths)                                         </td><td>Monthly Deaths from Lung Diseases in the UK                    </td></tr>\n",
       "\t<tr><td>datasets                                                       </td><td>lh                                                             </td><td>Luteinizing Hormone in Blood Samples                           </td></tr>\n",
       "\t<tr><td>datasets                                                       </td><td>longley                                                        </td><td>Longley's Economic Regression Data                             </td></tr>\n",
       "\t<tr><td>datasets                                                       </td><td>lynx                                                           </td><td>Annual Canadian Lynx trappings 1821-1934                       </td></tr>\n",
       "\t<tr><td>datasets                                                       </td><td>mdeaths (UKLungDeaths)                                         </td><td>Monthly Deaths from Lung Diseases in the UK                    </td></tr>\n",
       "\t<tr><td>datasets                                                       </td><td>morley                                                         </td><td>Michelson Speed of Light Data                                  </td></tr>\n",
       "\t<tr><td>datasets                                                       </td><td>mtcars                                                         </td><td>Motor Trend Car Road Tests                                     </td></tr>\n",
       "\t<tr><td>datasets                                                       </td><td>nhtemp                                                         </td><td>Average Yearly Temperatures in New Haven                       </td></tr>\n",
       "\t<tr><td>datasets                                                       </td><td>nottem                                                         </td><td>Average Monthly Temperatures at Nottingham, 1920-1939          </td></tr>\n",
       "\t<tr><td>datasets                                                       </td><td>npk                                                            </td><td>Classical N, P, K Factorial Experiment                         </td></tr>\n",
       "\t<tr><td>datasets                                                       </td><td>occupationalStatus                                             </td><td>Occupational Status of Fathers and their Sons                  </td></tr>\n",
       "\t<tr><td>datasets                                                       </td><td>precip                                                         </td><td>Annual Precipitation in US Cities                              </td></tr>\n",
       "\t<tr><td>datasets                                                       </td><td>presidents                                                     </td><td>Quarterly Approval Ratings of US Presidents                    </td></tr>\n",
       "\t<tr><td>datasets                                                       </td><td>pressure                                                       </td><td>Vapor Pressure of Mercury as a Function of Temperature         </td></tr>\n",
       "\t<tr><td>datasets                                                       </td><td>quakes                                                         </td><td>Locations of Earthquakes off Fiji                              </td></tr>\n",
       "\t<tr><td>datasets                                                       </td><td>randu                                                          </td><td>Random Numbers from Congruential Generator RANDU               </td></tr>\n",
       "\t<tr><td>datasets                                                       </td><td>rivers                                                         </td><td>Lengths of Major North American Rivers                         </td></tr>\n",
       "\t<tr><td>datasets                                                       </td><td>rock                                                           </td><td>Measurements on Petroleum Rock Samples                         </td></tr>\n",
       "\t<tr><td>datasets                                                       </td><td>sleep                                                          </td><td>Student's Sleep Data                                           </td></tr>\n",
       "\t<tr><td>datasets                                                       </td><td>stack.loss (stackloss)                                         </td><td>Brownlee's Stack Loss Plant Data                               </td></tr>\n",
       "\t<tr><td>datasets                                                       </td><td>stack.x (stackloss)                                            </td><td>Brownlee's Stack Loss Plant Data                               </td></tr>\n",
       "\t<tr><td>datasets                                                       </td><td>stackloss                                                      </td><td>Brownlee's Stack Loss Plant Data                               </td></tr>\n",
       "\t<tr><td>datasets                                                       </td><td>state.abb (state)                                              </td><td>US State Facts and Figures                                     </td></tr>\n",
       "\t<tr><td>datasets                                                       </td><td>state.area (state)                                             </td><td>US State Facts and Figures                                     </td></tr>\n",
       "\t<tr><td>datasets                                                       </td><td>state.center (state)                                           </td><td>US State Facts and Figures                                     </td></tr>\n",
       "\t<tr><td>datasets                                                       </td><td>state.division (state)                                         </td><td>US State Facts and Figures                                     </td></tr>\n",
       "\t<tr><td>datasets                                                       </td><td>state.name (state)                                             </td><td>US State Facts and Figures                                     </td></tr>\n",
       "\t<tr><td>datasets                                                       </td><td>state.region (state)                                           </td><td>US State Facts and Figures                                     </td></tr>\n",
       "\t<tr><td>datasets                                                       </td><td>state.x77 (state)                                              </td><td>US State Facts and Figures                                     </td></tr>\n",
       "\t<tr><td>datasets                                                       </td><td>sunspot.month                                                  </td><td>Monthly Sunspot Data, from 1749 to \"Present\"                   </td></tr>\n",
       "\t<tr><td>datasets                                                       </td><td>sunspot.year                                                   </td><td>Yearly Sunspot Data, 1700-1988                                 </td></tr>\n",
       "\t<tr><td>datasets                                                       </td><td>sunspots                                                       </td><td>Monthly Sunspot Numbers, 1749-1983                             </td></tr>\n",
       "\t<tr><td>datasets                                                       </td><td>swiss                                                          </td><td>Swiss Fertility and Socioeconomic Indicators (1888) Data       </td></tr>\n",
       "\t<tr><td>datasets                                                       </td><td>treering                                                       </td><td>Yearly Treering Data, -6000-1979                               </td></tr>\n",
       "\t<tr><td>datasets                                                       </td><td>trees                                                          </td><td>Diameter, Height and Volume for Black Cherry Trees             </td></tr>\n",
       "\t<tr><td>datasets                                                       </td><td>uspop                                                          </td><td>Populations Recorded by the US Census                          </td></tr>\n",
       "\t<tr><td>datasets                                                       </td><td>volcano                                                        </td><td>Topographic Information on Auckland's Maunga Whau Volcano      </td></tr>\n",
       "\t<tr><td>datasets                                                       </td><td>warpbreaks                                                     </td><td>The Number of Breaks in Yarn during Weaving                    </td></tr>\n",
       "\t<tr><td>datasets                                                       </td><td>women                                                          </td><td>Average Heights and Weights for American Women                 </td></tr>\n",
       "</tbody>\n",
       "</table>\n",
       "\n",
       "<p>Use ‘data(package = .packages(all.available = TRUE))’\n",
       "to list the data sets in all *available* packages.</p>"
      ],
      "text/plain": [
       "Data sets in package ‘datasets’:\n",
       "\n",
       "AirPassengers           Monthly Airline Passenger Numbers 1949-1960\n",
       "BJsales                 Sales Data with Leading Indicator\n",
       "BJsales.lead (BJsales)\n",
       "                        Sales Data with Leading Indicator\n",
       "BOD                     Biochemical Oxygen Demand\n",
       "CO2                     Carbon Dioxide Uptake in Grass Plants\n",
       "ChickWeight             Weight versus age of chicks on different diets\n",
       "DNase                   Elisa assay of DNase\n",
       "EuStockMarkets          Daily Closing Prices of Major European Stock\n",
       "                        Indices, 1991-1998\n",
       "Formaldehyde            Determination of Formaldehyde\n",
       "HairEyeColor            Hair and Eye Color of Statistics Students\n",
       "Harman23.cor            Harman Example 2.3\n",
       "Harman74.cor            Harman Example 7.4\n",
       "Indometh                Pharmacokinetics of Indomethacin\n",
       "InsectSprays            Effectiveness of Insect Sprays\n",
       "JohnsonJohnson          Quarterly Earnings per Johnson & Johnson Share\n",
       "LakeHuron               Level of Lake Huron 1875-1972\n",
       "LifeCycleSavings        Intercountry Life-Cycle Savings Data\n",
       "Loblolly                Growth of Loblolly pine trees\n",
       "Nile                    Flow of the River Nile\n",
       "Orange                  Growth of Orange Trees\n",
       "OrchardSprays           Potency of Orchard Sprays\n",
       "PlantGrowth             Results from an Experiment on Plant Growth\n",
       "Puromycin               Reaction Velocity of an Enzymatic Reaction\n",
       "Seatbelts               Road Casualties in Great Britain 1969-84\n",
       "Theoph                  Pharmacokinetics of Theophylline\n",
       "Titanic                 Survival of passengers on the Titanic\n",
       "ToothGrowth             The Effect of Vitamin C on Tooth Growth in\n",
       "                        Guinea Pigs\n",
       "UCBAdmissions           Student Admissions at UC Berkeley\n",
       "UKDriverDeaths          Road Casualties in Great Britain 1969-84\n",
       "UKgas                   UK Quarterly Gas Consumption\n",
       "USAccDeaths             Accidental Deaths in the US 1973-1978\n",
       "USArrests               Violent Crime Rates by US State\n",
       "USJudgeRatings          Lawyers' Ratings of State Judges in the US\n",
       "                        Superior Court\n",
       "USPersonalExpenditure   Personal Expenditure Data\n",
       "UScitiesD               Distances Between European Cities and Between\n",
       "                        US Cities\n",
       "VADeaths                Death Rates in Virginia (1940)\n",
       "WWWusage                Internet Usage per Minute\n",
       "WorldPhones             The World's Telephones\n",
       "ability.cov             Ability and Intelligence Tests\n",
       "airmiles                Passenger Miles on Commercial US Airlines,\n",
       "                        1937-1960\n",
       "airquality              New York Air Quality Measurements\n",
       "anscombe                Anscombe's Quartet of 'Identical' Simple Linear\n",
       "                        Regressions\n",
       "attenu                  The Joyner-Boore Attenuation Data\n",
       "attitude                The Chatterjee-Price Attitude Data\n",
       "austres                 Quarterly Time Series of the Number of\n",
       "                        Australian Residents\n",
       "beaver1 (beavers)       Body Temperature Series of Two Beavers\n",
       "beaver2 (beavers)       Body Temperature Series of Two Beavers\n",
       "cars                    Speed and Stopping Distances of Cars\n",
       "chickwts                Chicken Weights by Feed Type\n",
       "co2                     Mauna Loa Atmospheric CO2 Concentration\n",
       "crimtab                 Student's 3000 Criminals Data\n",
       "discoveries             Yearly Numbers of Important Discoveries\n",
       "esoph                   Smoking, Alcohol and (O)esophageal Cancer\n",
       "euro                    Conversion Rates of Euro Currencies\n",
       "euro.cross (euro)       Conversion Rates of Euro Currencies\n",
       "eurodist                Distances Between European Cities and Between\n",
       "                        US Cities\n",
       "faithful                Old Faithful Geyser Data\n",
       "fdeaths (UKLungDeaths)\n",
       "                        Monthly Deaths from Lung Diseases in the UK\n",
       "freeny                  Freeny's Revenue Data\n",
       "freeny.x (freeny)       Freeny's Revenue Data\n",
       "freeny.y (freeny)       Freeny's Revenue Data\n",
       "infert                  Infertility after Spontaneous and Induced\n",
       "                        Abortion\n",
       "iris                    Edgar Anderson's Iris Data\n",
       "iris3                   Edgar Anderson's Iris Data\n",
       "islands                 Areas of the World's Major Landmasses\n",
       "ldeaths (UKLungDeaths)\n",
       "                        Monthly Deaths from Lung Diseases in the UK\n",
       "lh                      Luteinizing Hormone in Blood Samples\n",
       "longley                 Longley's Economic Regression Data\n",
       "lynx                    Annual Canadian Lynx trappings 1821-1934\n",
       "mdeaths (UKLungDeaths)\n",
       "                        Monthly Deaths from Lung Diseases in the UK\n",
       "morley                  Michelson Speed of Light Data\n",
       "mtcars                  Motor Trend Car Road Tests\n",
       "nhtemp                  Average Yearly Temperatures in New Haven\n",
       "nottem                  Average Monthly Temperatures at Nottingham,\n",
       "                        1920-1939\n",
       "npk                     Classical N, P, K Factorial Experiment\n",
       "occupationalStatus      Occupational Status of Fathers and their Sons\n",
       "precip                  Annual Precipitation in US Cities\n",
       "presidents              Quarterly Approval Ratings of US Presidents\n",
       "pressure                Vapor Pressure of Mercury as a Function of\n",
       "                        Temperature\n",
       "quakes                  Locations of Earthquakes off Fiji\n",
       "randu                   Random Numbers from Congruential Generator\n",
       "                        RANDU\n",
       "rivers                  Lengths of Major North American Rivers\n",
       "rock                    Measurements on Petroleum Rock Samples\n",
       "sleep                   Student's Sleep Data\n",
       "stack.loss (stackloss)\n",
       "                        Brownlee's Stack Loss Plant Data\n",
       "stack.x (stackloss)     Brownlee's Stack Loss Plant Data\n",
       "stackloss               Brownlee's Stack Loss Plant Data\n",
       "state.abb (state)       US State Facts and Figures\n",
       "state.area (state)      US State Facts and Figures\n",
       "state.center (state)    US State Facts and Figures\n",
       "state.division (state)\n",
       "                        US State Facts and Figures\n",
       "state.name (state)      US State Facts and Figures\n",
       "state.region (state)    US State Facts and Figures\n",
       "state.x77 (state)       US State Facts and Figures\n",
       "sunspot.month           Monthly Sunspot Data, from 1749 to \"Present\"\n",
       "sunspot.year            Yearly Sunspot Data, 1700-1988\n",
       "sunspots                Monthly Sunspot Numbers, 1749-1983\n",
       "swiss                   Swiss Fertility and Socioeconomic Indicators\n",
       "                        (1888) Data\n",
       "treering                Yearly Treering Data, -6000-1979\n",
       "trees                   Diameter, Height and Volume for Black Cherry\n",
       "                        Trees\n",
       "uspop                   Populations Recorded by the US Census\n",
       "volcano                 Topographic Information on Auckland's Maunga\n",
       "                        Whau Volcano\n",
       "warpbreaks              The Number of Breaks in Yarn during Weaving\n",
       "women                   Average Heights and Weights for American Women\n",
       "\n",
       "Use ‘data(package = .packages(all.available = TRUE))’\n",
       "to list the data sets in all *available* packages."
      ]
     },
     "metadata": {},
     "output_type": "display_data"
    }
   ],
   "source": [
    "r_datasets"
   ]
  },
  {
   "cell_type": "code",
   "execution_count": 3,
   "id": "94d27f98",
   "metadata": {},
   "outputs": [
    {
     "data": {
      "text/html": [
       "<table>\n",
       "<thead><tr><th scope=col>weight</th><th scope=col>group</th></tr></thead>\n",
       "<tbody>\n",
       "\t<tr><td>4.17</td><td>ctrl</td></tr>\n",
       "\t<tr><td>5.58</td><td>ctrl</td></tr>\n",
       "\t<tr><td>5.18</td><td>ctrl</td></tr>\n",
       "\t<tr><td>6.11</td><td>ctrl</td></tr>\n",
       "\t<tr><td>4.50</td><td>ctrl</td></tr>\n",
       "\t<tr><td>4.61</td><td>ctrl</td></tr>\n",
       "</tbody>\n",
       "</table>\n"
      ],
      "text/latex": [
       "\\begin{tabular}{r|ll}\n",
       " weight & group\\\\\n",
       "\\hline\n",
       "\t 4.17 & ctrl\\\\\n",
       "\t 5.58 & ctrl\\\\\n",
       "\t 5.18 & ctrl\\\\\n",
       "\t 6.11 & ctrl\\\\\n",
       "\t 4.50 & ctrl\\\\\n",
       "\t 4.61 & ctrl\\\\\n",
       "\\end{tabular}\n"
      ],
      "text/markdown": [
       "\n",
       "| weight | group |\n",
       "|---|---|\n",
       "| 4.17 | ctrl |\n",
       "| 5.58 | ctrl |\n",
       "| 5.18 | ctrl |\n",
       "| 6.11 | ctrl |\n",
       "| 4.50 | ctrl |\n",
       "| 4.61 | ctrl |\n",
       "\n"
      ],
      "text/plain": [
       "  weight group\n",
       "1 4.17   ctrl \n",
       "2 5.58   ctrl \n",
       "3 5.18   ctrl \n",
       "4 6.11   ctrl \n",
       "5 4.50   ctrl \n",
       "6 4.61   ctrl "
      ]
     },
     "metadata": {},
     "output_type": "display_data"
    }
   ],
   "source": [
    "head(PlantGrowth)"
   ]
  },
  {
   "cell_type": "code",
   "execution_count": 4,
   "id": "6177c2c8",
   "metadata": {},
   "outputs": [
    {
     "data": {
      "text/plain": [
       "     weight       group   \n",
       " Min.   :3.590   ctrl:10  \n",
       " 1st Qu.:4.550   trt1:10  \n",
       " Median :5.155   trt2:10  \n",
       " Mean   :5.073            \n",
       " 3rd Qu.:5.530            \n",
       " Max.   :6.310            "
      ]
     },
     "metadata": {},
     "output_type": "display_data"
    }
   ],
   "source": [
    "summary(PlantGrowth)"
   ]
  },
  {
   "cell_type": "code",
   "execution_count": 5,
   "id": "192da21f",
   "metadata": {},
   "outputs": [
    {
     "ename": "ERROR",
     "evalue": "Error in library(ggplot2): there is no package called ‘ggplot2’\n",
     "output_type": "error",
     "traceback": [
      "Error in library(ggplot2): there is no package called ‘ggplot2’\nTraceback:\n",
      "1. library(ggplot2)"
     ]
    }
   ],
   "source": [
    "library(ggplot2)\n",
    "ggplot(PlantGrowth, aes(y=weight)) + geom_boxplot(aes(color = group, size=5))"
   ]
  },
  {
   "cell_type": "code",
   "execution_count": 6,
   "id": "f950b4d0",
   "metadata": {},
   "outputs": [
    {
     "ename": "ERROR",
     "evalue": "Error in ggplot(PlantGrowth, aes(y = weight)): could not find function \"ggplot\"\n",
     "output_type": "error",
     "traceback": [
      "Error in ggplot(PlantGrowth, aes(y = weight)): could not find function \"ggplot\"\nTraceback:\n"
     ]
    }
   ],
   "source": [
    "ggplot(PlantGrowth, aes(y=weight)) + geom_boxplot(aes(color = 'balck', size=5))"
   ]
  },
  {
   "cell_type": "markdown",
   "id": "43504e96",
   "metadata": {},
   "source": [
    "The dataset I choose is PlantGrowth. It contains the weight of plants from three different groups. The Average weight of all plants is 5.073 while the median is 5.155. This means that 50% of the plants weight more than 5.155, and the weight for a plant is on average around 5.073. "
   ]
  },
  {
   "cell_type": "markdown",
   "id": "df0039b2",
   "metadata": {},
   "source": [
    "# Excercise 4"
   ]
  },
  {
   "cell_type": "code",
   "execution_count": 7,
   "id": "98fe19d7",
   "metadata": {},
   "outputs": [
    {
     "data": {
      "text/html": [
       "<table>\n",
       "<thead><tr><th scope=col>Girth</th><th scope=col>Height</th><th scope=col>Volume</th></tr></thead>\n",
       "<tbody>\n",
       "\t<tr><td> 8.3</td><td>70  </td><td>10.3</td></tr>\n",
       "\t<tr><td> 8.6</td><td>65  </td><td>10.3</td></tr>\n",
       "\t<tr><td> 8.8</td><td>63  </td><td>10.2</td></tr>\n",
       "\t<tr><td>10.5</td><td>72  </td><td>16.4</td></tr>\n",
       "\t<tr><td>10.7</td><td>81  </td><td>18.8</td></tr>\n",
       "\t<tr><td>10.8</td><td>83  </td><td>19.7</td></tr>\n",
       "</tbody>\n",
       "</table>\n"
      ],
      "text/latex": [
       "\\begin{tabular}{r|lll}\n",
       " Girth & Height & Volume\\\\\n",
       "\\hline\n",
       "\t  8.3 & 70   & 10.3\\\\\n",
       "\t  8.6 & 65   & 10.3\\\\\n",
       "\t  8.8 & 63   & 10.2\\\\\n",
       "\t 10.5 & 72   & 16.4\\\\\n",
       "\t 10.7 & 81   & 18.8\\\\\n",
       "\t 10.8 & 83   & 19.7\\\\\n",
       "\\end{tabular}\n"
      ],
      "text/markdown": [
       "\n",
       "| Girth | Height | Volume |\n",
       "|---|---|---|\n",
       "|  8.3 | 70   | 10.3 |\n",
       "|  8.6 | 65   | 10.3 |\n",
       "|  8.8 | 63   | 10.2 |\n",
       "| 10.5 | 72   | 16.4 |\n",
       "| 10.7 | 81   | 18.8 |\n",
       "| 10.8 | 83   | 19.7 |\n",
       "\n"
      ],
      "text/plain": [
       "  Girth Height Volume\n",
       "1  8.3  70     10.3  \n",
       "2  8.6  65     10.3  \n",
       "3  8.8  63     10.2  \n",
       "4 10.5  72     16.4  \n",
       "5 10.7  81     18.8  \n",
       "6 10.8  83     19.7  "
      ]
     },
     "metadata": {},
     "output_type": "display_data"
    }
   ],
   "source": [
    "head(trees)"
   ]
  },
  {
   "cell_type": "code",
   "execution_count": 29,
   "id": "3c6493d6",
   "metadata": {},
   "outputs": [
    {
     "data": {
      "image/png": "[encoded data removed]",
      "text/plain": [
       "Plot with title “Histogram of trees$Height”"
      ]
     },
     "metadata": {
      "image/png": {
       "height": 420,
       "width": 420
      }
     },
     "output_type": "display_data"
    }
   ],
   "source": [
    "hist(trees$Height)"
   ]
  },
  {
   "cell_type": "markdown",
   "id": "45bcc273",
   "metadata": {},
   "source": [
    "For this exercise I selected the trees dataset. I plotted the histogram of the Height column. Here we can see how the distribution looks normal as most trees fall in the 70-80 height while fewer fall on the tail ends creating a bell curve."
   ]
  }
 ],
 "metadata": {
  "jupytext": {
   "formats": "ipynb,Rmd"
  },
  "kernelspec": {
   "display_name": "R",
   "language": "R",
   "name": "ir"
  },
  "language_info": {
   "codemirror_mode": "r",
   "file_extension": ".r",
   "mimetype": "text/x-r-source",
   "name": "R",
   "pygments_lexer": "r",
   "version": "4.0.3"
  }
 },
 "nbformat": 4,
 "nbformat_minor": 5
}
