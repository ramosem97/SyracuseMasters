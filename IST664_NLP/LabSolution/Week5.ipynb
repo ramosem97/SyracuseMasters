{
 "cells": [
  {
   "cell_type": "markdown",
   "metadata": {},
   "source": [
    "# Imports"
   ]
  },
  {
   "cell_type": "code",
   "execution_count": 2,
   "metadata": {},
   "outputs": [],
   "source": [
    "import nltk\n",
    "import pandas"
   ]
  },
  {
   "cell_type": "markdown",
   "metadata": {},
   "source": [
    "# Path"
   ]
  },
  {
   "cell_type": "code",
   "execution_count": 3,
   "metadata": {},
   "outputs": [
    {
     "data": {
      "text/plain": [
       "'/Users/erm1000255241/Library/Mobile Documents/com~apple~CloudDocs/Documents/SyracuseUniversity/5th_Quarter/IST664 /LabSolution'"
      ]
     },
     "execution_count": 3,
     "metadata": {},
     "output_type": "execute_result"
    }
   ],
   "source": [
    "pwd"
   ]
  },
  {
   "cell_type": "code",
   "execution_count": 4,
   "metadata": {},
   "outputs": [],
   "source": [
    "path = '/Users/erm1000255241/Library/Mobile Documents/com~apple~CloudDocs/Documents/SyracuseUniversity/5th_Quarter/IST664 /LabWeek3/'"
   ]
  },
  {
   "cell_type": "markdown",
   "metadata": {},
   "source": [
    "# Start"
   ]
  },
  {
   "cell_type": "code",
   "execution_count": 21,
   "metadata": {},
   "outputs": [],
   "source": [
    "# Lab Week 5 \n",
    "# Text for Lab Question\n",
    "\n",
    "# Define sentences for the question\n",
    "sentex1 = \"I prefer a flight through Houston\".split()\n",
    "sentex2 = \"Jack walked with the dog\".split()\n",
    "sentex3 = \"John gave the dog a bone\".split()\n",
    "sentex4 = \"I want to book that flight\".split()"
   ]
  },
  {
   "cell_type": "markdown",
   "metadata": {},
   "source": [
    "### Sentence 1"
   ]
  },
  {
   "cell_type": "code",
   "execution_count": 30,
   "metadata": {},
   "outputs": [
    {
     "name": "stdout",
     "output_type": "stream",
     "text": [
      "(S\n",
      "  (NP (Prop I))\n",
      "  (VP\n",
      "    (V prefer)\n",
      "    (NP (Det a) (N flight) (PP (P through) (NP (Prop Houston))))))\n",
      "(S\n",
      "  (NP (Prop I))\n",
      "  (VP\n",
      "    (V prefer)\n",
      "    (NP (Det a) (N flight))\n",
      "    (PP (P through) (NP (Prop Houston)))))\n"
     ]
    }
   ],
   "source": [
    "# extend the flight grammar:\n",
    "flight_grammar = nltk.CFG.fromstring(\"\"\"\n",
    "  S -> NP VP | VP\n",
    "  VP -> V NP | V NP PP\n",
    "  PP -> P NP\n",
    "  V -> \"saw\" | \"ate\" | \"walked\" | \"shot\" | \"book\" | \"prefer\"\n",
    "  NP -> Prop | Det N | Det N PP\n",
    "  Prop -> \"John\" | \"Mary\" | \"Bob\" | \"I\" | \"Houston\"\n",
    "  Det -> \"a\" | \"an\" | \"the\" | \"my\" | \"that\"\n",
    "  N -> \"man\" | \"dog\" | \"cat\" | \"telescope\" | \"park\" | \"elephant\" | \"pajamas\" | \"flight\"\n",
    "  P -> \"in\" | \"on\" | \"by\" | \"with\" | \"through\"\n",
    "  \"\"\")\n",
    "\n",
    "# redefine rd_parser when you change the flight grammar\n",
    "rd_parser = nltk.RecursiveDescentParser(flight_grammar)\n",
    "for tree in rd_parser.parse(sentex1):\n",
    "    print(tree)"
   ]
  },
  {
   "cell_type": "markdown",
   "metadata": {},
   "source": [
    "### Sentence 2"
   ]
  },
  {
   "cell_type": "code",
   "execution_count": 32,
   "metadata": {},
   "outputs": [
    {
     "name": "stdout",
     "output_type": "stream",
     "text": [
      "(S\n",
      "  (NP (Prop Jack))\n",
      "  (VP (V walked) (PP (P with) (NP (Det the) (N dog)))))\n"
     ]
    }
   ],
   "source": [
    "# extend the flight grammar:\n",
    "flight_grammar = nltk.CFG.fromstring(\"\"\"\n",
    "  S -> NP VP | VP\n",
    "  VP -> V NP | V NP PP | V PP\n",
    "  V -> \"saw\" | \"ate\" | \"walked\" | \"shot\" | \"book\" | \"prefer\"\n",
    "  PP -> P NP\n",
    "  NP -> Prop | Det N | Det N PP\n",
    "  Prop -> \"John\" | \"Mary\" | \"Bob\" | \"I\" | \"Houston\" | \"Jack\"\n",
    "  Det -> \"a\" | \"an\" | \"the\" | \"my\" | \"that\"\n",
    "  N -> \"man\" | \"dog\" | \"cat\" | \"telescope\" | \"park\" | \"elephant\" | \"pajamas\" | \"flight\"\n",
    "  P -> \"in\" | \"on\" | \"by\" | \"with\" | \"through\"\n",
    "  \"\"\")\n",
    "\n",
    "# redefine rd_parser when you change the flight grammar\n",
    "rd_parser = nltk.RecursiveDescentParser(flight_grammar)\n",
    "for tree in rd_parser.parse(sentex2):\n",
    "    print(tree)"
   ]
  },
  {
   "cell_type": "markdown",
   "metadata": {},
   "source": [
    "### Sentence 3"
   ]
  },
  {
   "cell_type": "code",
   "execution_count": 34,
   "metadata": {},
   "outputs": [
    {
     "data": {
      "text/plain": [
       "['John', 'gave', 'the', 'dog', 'a', 'bone']"
      ]
     },
     "execution_count": 34,
     "metadata": {},
     "output_type": "execute_result"
    }
   ],
   "source": [
    "sentex3"
   ]
  },
  {
   "cell_type": "code",
   "execution_count": 37,
   "metadata": {},
   "outputs": [
    {
     "name": "stdout",
     "output_type": "stream",
     "text": [
      "(S\n",
      "  (NP (Prop John))\n",
      "  (VP (V gave) (NP (Det the) (N dog)) (NP (Det a) (N bone))))\n"
     ]
    }
   ],
   "source": [
    "# extend the flight grammar:\n",
    "flight_grammar = nltk.CFG.fromstring(\"\"\"\n",
    "  S -> NP VP | VP\n",
    "  VP -> V NP | V NP PP | V PP | V NP NP\n",
    "  V -> \"saw\" | \"ate\" | \"walked\" | \"shot\" | \"book\" | \"prefer\" | \"gave\"\n",
    "  PP -> P NP\n",
    "  NP -> Prop | Det N | Det N PP\n",
    "  Prop -> \"John\" | \"Mary\" | \"Bob\" | \"I\" | \"Houston\" | \"Jack\"\n",
    "  Det -> \"a\" | \"an\" | \"the\" | \"my\" | \"that\"\n",
    "  N -> \"man\" | \"dog\" | \"cat\" | \"telescope\" | \"park\" | \"elephant\" | \"pajamas\" | \"flight\" | \"bone\"\n",
    "  P -> \"in\" | \"on\" | \"by\" | \"with\" | \"through\"\n",
    "  \"\"\")\n",
    "\n",
    "# redefine rd_parser when you change the flight grammar\n",
    "rd_parser = nltk.RecursiveDescentParser(flight_grammar)\n",
    "for tree in rd_parser.parse(sentex3):\n",
    "    print(tree)"
   ]
  },
  {
   "cell_type": "markdown",
   "metadata": {},
   "source": [
    "### Sentence 4"
   ]
  },
  {
   "cell_type": "code",
   "execution_count": 39,
   "metadata": {},
   "outputs": [
    {
     "data": {
      "text/plain": [
       "['I', 'want', 'to', 'book', 'that', 'flight']"
      ]
     },
     "execution_count": 39,
     "metadata": {},
     "output_type": "execute_result"
    }
   ],
   "source": [
    "sentex4"
   ]
  },
  {
   "cell_type": "code",
   "execution_count": 42,
   "metadata": {},
   "outputs": [
    {
     "name": "stdout",
     "output_type": "stream",
     "text": [
      "(S\n",
      "  (NP (Prop I))\n",
      "  (VP (V want) (P to))\n",
      "  (VP (V book) (NP (Det that) (N flight))))\n"
     ]
    }
   ],
   "source": [
    "# extend the flight grammar:\n",
    "flight_grammar = nltk.CFG.fromstring(\"\"\"\n",
    "  S -> NP VP | VP | NP VP VP\n",
    "  VP -> V NP | V NP PP | V PP | V NP NP | V P\n",
    "  V -> \"saw\" | \"ate\" | \"walked\" | \"shot\" | \"book\" | \"prefer\" | \"gave\" | \"want\"\n",
    "  PP -> P NP\n",
    "  NP -> Prop | Det N | Det N PP\n",
    "  Prop -> \"John\" | \"Mary\" | \"Bob\" | \"I\" | \"Houston\" | \"Jack\"\n",
    "  Det -> \"a\" | \"an\" | \"the\" | \"my\" | \"that\"\n",
    "  N -> \"man\" | \"dog\" | \"cat\" | \"telescope\" | \"park\" | \"elephant\" | \"pajamas\" | \"flight\" | \"bone\"\n",
    "  P -> \"in\" | \"on\" | \"by\" | \"with\" | \"through\" | \"to\"\n",
    "  \"\"\")\n",
    "\n",
    "# redefine rd_parser when you change the flight grammar\n",
    "rd_parser = nltk.RecursiveDescentParser(flight_grammar)\n",
    "for tree in rd_parser.parse(sentex4):\n",
    "    print(tree)"
   ]
  },
  {
   "cell_type": "code",
   "execution_count": null,
   "metadata": {},
   "outputs": [],
   "source": []
  }
 ],
 "metadata": {
  "kernelspec": {
   "display_name": "Python 3",
   "language": "python",
   "name": "python3"
  },
  "language_info": {
   "codemirror_mode": {
    "name": "ipython",
    "version": 3
   },
   "file_extension": ".py",
   "mimetype": "text/x-python",
   "name": "python",
   "nbconvert_exporter": "python",
   "pygments_lexer": "ipython3",
   "version": "3.7.4"
  }
 },
 "nbformat": 4,
 "nbformat_minor": 4
}
