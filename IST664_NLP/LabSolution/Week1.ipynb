{
 "cells": [
  {
   "cell_type": "code",
   "execution_count": 1,
   "metadata": {},
   "outputs": [],
   "source": [
    "import nltk"
   ]
  },
  {
   "cell_type": "code",
   "execution_count": 13,
   "metadata": {},
   "outputs": [
    {
     "name": "stderr",
     "output_type": "stream",
     "text": [
      "[nltk_data] Downloading package punkt to\n",
      "[nltk_data]     /Users/erm1000255241/nltk_data...\n",
      "[nltk_data]   Unzipping tokenizers/punkt.zip.\n"
     ]
    },
    {
     "name": "stdout",
     "output_type": "stream",
     "text": [
      "austen-persuasion.txt\n",
      "466292\n",
      "[Persuasion by Jane Austen 1818]\n",
      "\n",
      "\n",
      "Chapter 1\n",
      "\n",
      "\n",
      "Sir Walter Elliot, of Kellynch Hall, in Somersetshire, was a man who,\n",
      "for\n"
     ]
    },
    {
     "name": "stderr",
     "output_type": "stream",
     "text": [
      "[nltk_data] Downloading package gutenberg to\n",
      "[nltk_data]     /Users/erm1000255241/nltk_data...\n",
      "[nltk_data]   Package gutenberg is already up-to-date!\n"
     ]
    }
   ],
   "source": [
    "nltk.download('punkt')\n",
    "nltk.download('gutenberg')\n",
    "\n",
    "# You can then view some books obtained from the Gutenberg on-line book project:\n",
    "nltk.corpus.gutenberg.fileids()\n",
    "\n",
    "# For purposes of this lab, we will work with the first book, Jane Austen’s “Emma”.  First, we save the first fileid (number 0 in the list) into a variable named file0 so that we can reuse it:\n",
    "\n",
    "file0 = nltk.corpus.gutenberg.fileids( ) [1]\n",
    "print(file0)\n",
    "\n",
    "# We can get the original text, using the raw function.  This returns the text as a string of characters, and the length function tells us how many characters.\n",
    "emmatext = nltk.corpus.gutenberg.raw(file0)\n",
    "print(len(emmatext))\n",
    "\n",
    "# Since this is quite long, we can view part of it, e.g. the first 120 characters\n",
    "print(emmatext[:120])\n",
    "\n",
    "# Processing Text\n",
    "\n",
    "# NLTK has several tokenizers available to break the raw text into tokens; we will use one trained on news articles that separates by white space and by special characters (punctuation), but also leaves together some of these such as Mr.:\n",
    "# emmatokens = nltk.word_tokenize(emmatext)\n"
   ]
  },
  {
   "cell_type": "code",
   "execution_count": 14,
   "metadata": {},
   "outputs": [],
   "source": [
    "# NLTK has several tokenizers available to break the raw text into tokens; we will use one trained on news articles that separates by white space and by special characters (punctuation), but also leaves together some of these such as Mr.:\n",
    "emmatokens = nltk.word_tokenize(emmatext)"
   ]
  },
  {
   "cell_type": "code",
   "execution_count": 16,
   "metadata": {},
   "outputs": [
    {
     "data": {
      "text/plain": [
       "['[', 'Persuasion', 'by', 'Jane', 'Austen', '1818', ']', 'Chapter', '1', 'Sir']"
      ]
     },
     "execution_count": 16,
     "metadata": {},
     "output_type": "execute_result"
    }
   ],
   "source": [
    "emmatokens[0:10]"
   ]
  },
  {
   "cell_type": "code",
   "execution_count": 17,
   "metadata": {},
   "outputs": [],
   "source": [
    "emmawords = [w.lower( ) for w in emmatokens]"
   ]
  },
  {
   "cell_type": "code",
   "execution_count": 22,
   "metadata": {},
   "outputs": [],
   "source": [
    "emmavocab = sorted(set(emmawords))"
   ]
  },
  {
   "cell_type": "code",
   "execution_count": 34,
   "metadata": {},
   "outputs": [
    {
     "data": {
      "text/plain": [
       "[(',', 7024),\n",
       " ('the', 3328),\n",
       " ('.', 3119),\n",
       " ('and', 2786),\n",
       " ('to', 2782),\n",
       " ('of', 2568),\n",
       " ('a', 1593),\n",
       " ('in', 1383),\n",
       " ('was', 1337),\n",
       " (';', 1319),\n",
       " ('her', 1203),\n",
       " ('had', 1186),\n",
       " ('she', 1146),\n",
       " ('i', 1123),\n",
       " ('it', 1038),\n",
       " ('not', 976),\n",
       " ('he', 961),\n",
       " ('be', 950),\n",
       " (\"''\", 912),\n",
       " ('that', 882),\n",
       " ('as', 809),\n",
       " ('for', 707),\n",
       " ('but', 664),\n",
       " ('his', 659),\n",
       " ('with', 654),\n",
       " ('``', 652),\n",
       " ('you', 628),\n",
       " ('have', 589),\n",
       " ('at', 533),\n",
       " ('all', 530)]"
      ]
     },
     "execution_count": 34,
     "metadata": {},
     "output_type": "execute_result"
    }
   ],
   "source": [
    "nltk.FreqDist(emmawords).most_common(30)"
   ]
  },
  {
   "cell_type": "code",
   "execution_count": null,
   "metadata": {},
   "outputs": [],
   "source": []
  }
 ],
 "metadata": {
  "kernelspec": {
   "display_name": "Python 3",
   "language": "python",
   "name": "python3"
  },
  "language_info": {
   "codemirror_mode": {
    "name": "ipython",
    "version": 3
   },
   "file_extension": ".py",
   "mimetype": "text/x-python",
   "name": "python",
   "nbconvert_exporter": "python",
   "pygments_lexer": "ipython3",
   "version": "3.7.4"
  }
 },
 "nbformat": 4,
 "nbformat_minor": 4
}
