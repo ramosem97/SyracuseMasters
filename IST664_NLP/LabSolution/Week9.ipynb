{
 "cells": [
  {
   "cell_type": "code",
   "execution_count": 1,
   "metadata": {},
   "outputs": [],
   "source": [
    "path_folder = '/Users/erm1000255241/Library/Mobile Documents/com~apple~CloudDocs/Documents/SyracuseUniversity/5th_Quarter/IST664 /LabWeek9/'"
   ]
  },
  {
   "cell_type": "code",
   "execution_count": null,
   "metadata": {},
   "outputs": [
    {
     "name": "stdout",
     "output_type": "stream",
     "text": [
      "21401\n",
      "['an', 'inept', ',', 'tedious', 'spoof', 'of', \"'70s\", 'kung', 'fu', 'pictures', ',', 'it', 'contains', 'almost', 'enough', 'chuckles', 'for', 'a', 'three-minute', 'sketch', ',', 'and', 'no', 'more', '.', 'not', 'sweet', 'enough', 'to', 'liven', 'up', 'its', 'predictable', 'story', 'and', 'will', 'leave', 'even', 'fans', 'of', 'hip-hop', 'sorely', 'disappointed', '.', 'lovingly', 'photographed', 'in', 'the', 'manner', 'of']\n",
      "[(\"''independent\", \"film''\"), (\"'60s-homage\", 'pokepie'), (\"'[the\", 'cockettes]'), (\"'ace\", \"ventura'\"), (\"'alternate\", \"reality'\"), (\"'aunque\", 'recurre'), (\"'black\", \"culture'\"), (\"'blue\", \"crush'\"), (\"'chan\", \"moment'\"), (\"'chick\", \"flicks'\"), (\"'date\", \"movie'\"), (\"'ethnic\", 'cleansing'), (\"'face\", \"value'\"), (\"'fully\", \"experienced'\"), (\"'jason\", \"x'\"), (\"'juvenile\", \"delinquent'\"), (\"'laugh\", \"therapy'\"), (\"'masterpiece\", \"theatre'\"), (\"'nicholas\", \"nickleby'\"), (\"'old\", \"neighborhood'\"), (\"'opening\", \"up'\"), (\"'rare\", \"birds'\"), (\"'sacre\", 'bleu'), (\"'science\", \"fiction'\"), (\"'shindler's\", \"list'\"), (\"'snow\", \"dogs'\"), (\"'some\", \"body'\"), (\"'special\", \"effects'\"), (\"'terrible\", \"filmmaking'\"), (\"'time\", \"waster'\"), (\"'true\", \"story'\"), (\"'unfaithful'\", 'cheats'), (\"'very\", \"sneaky'\"), (\"'we're\", '-doing-it-for'), (\"'who's\", \"who'\"), ('-after', 'spangle'), ('-as-it-', 'thinks-it-is'), ('-as-nasty', '-as-it-'), ('-doing-it-for', \"-the-cash'\"), ('10-course', 'banquet'), ('10-year', 'delay'), ('15-cent', 'stump'), ('18-year-old', 'mistress'), (\"1950's\", 'doris'), (\"1983's\", 'koyaanisqatsi'), ('1986', 'harlem'), (\"1988's\", 'powaqqatsi'), ('1992', 'malfitano-domingo'), (\"1992's\", 'unforgiven'), ('22-year-old', 'girlfriend')]\n",
      "[('Arthur', 'carefully'), ('carefully', 'rode'), ('rode', 'the'), ('the', 'brown'), ('brown', 'horse'), ('horse', 'around'), ('around', 'the'), ('the', 'castle')]\n",
      "True\n",
      "B_brown_horse\n",
      "2000\n",
      "{'V_.': True, 'V_the': False, 'V_,': True, 'V_a': True, 'V_and': True, 'V_of': True, 'V_to': False, 'V_is': False, 'V_in': False, 'V_that': False, 'V_it': True, 'V_as': False, 'V_but': False, 'V_with': False, 'V_film': False, 'V_this': False, 'V_for': True, 'V_its': False, 'V_an': True, 'V_movie': False, \"V_it's\": False, 'V_be': False, 'V_on': False, 'V_you': False, 'V_not': False, 'V_by': False, 'V_about': False, 'V_more': True, 'V_one': False, 'V_like': False, 'V_has': False, 'V_are': False, 'V_at': False, 'V_from': False, 'V_than': False, 'V_\"': False, 'V_all': False, 'V_--': False, 'V_his': False, 'V_have': False, 'V_so': False, 'V_if': False, 'V_or': False, 'V_story': False, 'V_i': False, 'V_too': False, 'V_just': False, 'V_who': False, 'V_into': False, 'V_what': False, 'V_most': False, 'V_out': False, 'V_no': True, 'V_much': False, 'V_even': False, 'V_good': False, 'V_up': False, 'V_will': False, 'V_comedy': False, 'V_time': False, 'V_can': False, 'V_some': False, 'V_characters': False, 'V_only': False, 'V_little': False, 'V_way': False, 'V_their': False, 'V_funny': False, 'V_make': False, 'V_enough': True, 'V_been': False, 'V_very': False, 'V_your': False, 'V_never': False, 'V_when': False, 'V_makes': False, 'V_there': False, 'V_may': False, 'V_us': False, 'V_which': False, 'V_work': False, 'V_best': False, 'V_he': False, 'V_bad': False, \"V_doesn't\": False, 'V_director': False, 'V_)': False, 'V_?': False, 'V_any': False, 'V_(': False, 'V_love': False, 'V_would': False, 'V_life': False, 'V_they': False, 'V_while': False, 'V_we': False, 'V_:': False, 'V_was': False, 'V_movies': False, \"V_there's\": False, 'V_her': False, 'V_well': False, 'V_new': False, 'V_through': False, 'V_could': False, 'V_something': False, 'V_really': False, 'V_how': False, 'V_made': False, 'V_them': False, 'V_own': False, 'V_does': False, 'V_performances': False, \"V_that's\": False, 'V_many': False, 'V_drama': False, 'V_should': False, 'V_those': False, 'V_films': False, 'V_look': False, 'V_plot': False, \"V_isn't\": False, 'V_still': False, 'V_see': False, 'V_every': False, 'V_two': False, 'V_nothing': False, 'V_people': False, 'V_better': False, 'V_without': False, 'V_long': False, 'V_other': False, 'V_get': False, 'V_fun': False, 'V_off': False, 'V_being': False, 'V_action': False, 'V_both': False, 'V_great': False, 'V_though': False, 'V_might': False, 'V_big': False, \"V_'\": False, 'V_also': False, 'V_cast': False, 'V_another': False, 'V_do': False, 'V_humor': False, 'V_audience': False, 'V_between': False, 'V_first': False, 'V_kind': False, 'V_sense': False, 'V_such': False, 'V_over': False, 'V_character': False, 'V_ever': False, \"V_don't\": False, 'V_performance': False, 'V_feels': False, 'V_;': False, 'V_few': False, 'V_because': False, 'V_script': False, \"V_film's\": False, 'V_here': False, 'V_far': False, 'V_often': False, 'V_thing': False, 'V_less': False, 'V_seems': False, 'V_real': False, 'V_minutes': False, 'V_feel': False, 'V_almost': True, 'V_thriller': False, 'V_tale': False, 'V_picture': False, 'V_world': False, \"V_can't\": False, 'V_documentary': False, 'V_quite': False, 'V_down': False, 'V_yet': False, 'V_interesting': False, 'V_!': False, 'V_these': False, 'V_entertaining': False, 'V_screen': False, 'V_my': False, 'V_rather': False, \"V_you're\": False, 'V_end': False, 'V_itself': False, 'V_hollywood': False, 'V_full': False, 'V_take': False, 'V_watching': False, 'V_seen': False, 'V_ultimately': False, 'V_hard': False, 'V_go': False, 'V_heart': False, 'V_moments': False, 'V_de': False, 'V_romantic': False, 'V_comes': False, 'V_lot': False, 'V_despite': False, 'V_american': False, 'V_were': False, 'V_after': False, 'V_me': False, 'V_where': False, 'V_acting': False, 'V_family': False, 'V_before': False, 'V_original': False, 'V_old': False, 'V_had': False, 'V_then': False, 'V_right': False, 'V_find': False, 'V_worth': False, 'V_human': False, 'V_gets': False, 'V_same': False, 'V_takes': False, 'V_come': False, 'V_times': False, 'V_things': False, 'V_dialogue': False, 'V_man': False, 'V_scenes': False, 'V_actors': False, 'V_back': False, 'V_watch': False, 'V_our': False, 'V_material': False, 'V_compelling': False, 'V_once': False, 'V_young': False, 'V_music': False, 'V_years': False, 'V_works': False, 'V_emotional': False, 'V_think': False, 'V_anyone': False, 'V_seem': False, 'V_want': False, 'V_gives': False, 'V_going': False, 'V_know': False, 'V_least': False, 'V_part': False, 'V_say': False, 'V_sometimes': False, 'V_again': False, 'V_piece': False, 'V_entertainment': False, 'V_cinematic': False, 'V_give': False, 'V_last': False, 'V_pretty': False, 'V_point': False, 'V_subject': False, 'V_kids': False, \"V_you'll\": False, 'V_special': False, 'V_keep': False, 'V_making': False, 'V_bit': False, 'V_together': False, 'V_fascinating': False, 'V_why': False, 'V_whole': False, 'V_dull': False, 'V_cinema': False, 'V_fans': False, 'V_anything': False, 'V_year': False, 'V_away': False, 'V_-': False, 'V_since': False, 'V_moving': False, 'V_manages': False, 'V_need': False, 'V_style': False, 'V_show': False, 'V_star': False, 'V_laughs': False, 'V_true': False, 'V_sweet': False, 'V_offers': False, 'V_experience': False, 'V_always': False, 'V_clever': False, 'V_history': False, 'V_high': False, 'V_simply': False, 'V_direction': False, 'V_mr': False, 'V_instead': False, 'V_dark': False, 'V_silly': False, 'V_predictable': False, 'V_actually': False, 'V_charm': False, 'V_care': False, 'V_whose': False, 'V_him': False, 'V_flick': False, 'V_everything': False, 'V_nearly': False, 'V_visual': False, 'V_art': False, 'V_title': False, 'V_around': False, 'V_matter': False, 'V_series': False, 'V_comic': False, 'V_place': False, 'V_video': False, \"V_he's\": False, 'V_idea': False, 'V_narrative': False, 'V_goes': False, 'V_done': False, 'V_war': False, 'V_short': False, 'V_trying': False, 'V_screenplay': False, 'V_genre': False, 'V_probably': False, 'V_now': False, 'V_women': False, 'V_plays': False, 'V_under': False, 'V_familiar': False, 'V_premise': False, \"V_movie's\": False, 'V_enjoyable': False, 'V_horror': False, 'V_turns': False, 'V_set': False, 'V_engaging': False, 'V_although': False, 'V_lacks': False, 'V_filmmakers': False, 'V_she': False, 'V_three': False, 'V_becomes': False, 'V_home': False, 'V_feeling': False, 'V_worst': False, 'V_smart': False, 'V_feature': False, 'V_power': False, 'V_effects': False, \"V_won't\": False, 'V_enjoy': False, 'V_ending': False, 'V_study': False, 'V_especially': False, 'V_half': False, 'V_intelligent': False, 'V_effort': False, 'V_day': False, 'V_charming': False, 'V_strong': False, 'V_amusing': False, 'V_debut': False, 'V_boring': False, 'V_lack': False, 'V_likely': False, 'V_theater': False, 'V_men': False, 'V_romance': False, 'V_john': False, 'V_portrait': False, 'V_each': False, \"V_what's\": False, 'V_beautiful': False, 'V_certainly': False, 'V_else': False, 'V_sort': False, 'V_put': False, 'V_version': False, 'V_mostly': False, 'V_beautifully': False, 'V_easy': False, 'V_become': False, 'V_level': False, 'V_problem': False, 'V_looking': False, 'V_message': False, 'V_surprisingly': False, \"V_you've\": False, 'V_next': False, 'V_exercise': False, 'V_hours': False, 'V_solid': False, 'V_play': False, 'V_along': False, 'V_fine': False, 'V_rare': False, 'V_quirky': False, 'V_wit': False, 'V_lives': False, 'V_mind': False, 'V_leave': False, 'V_fresh': False, 'V_obvious': False, 'V_mess': False, 'V_sure': False, 'V_face': False, 'V_whether': False, 'V_looks': False, 'V_directed': False, 'V_ideas': False, 'V_interest': False, 'V_powerful': False, 'V_modern': False, 'V_energy': False, 'V_either': False, 'V_french': False, 'V_past': False, 'V_completely': False, 'V_beyond': False, 'V_neither': False, 'V_dramatic': False, 'V_melodrama': False, 'V_shot': False, 'V_classic': False, 'V_reason': False, 'V_viewers': False, 'V_fact': False, 'V_stuff': False, 'V_suspense': False, 'V_delivers': False, 'V_filmmaking': False, 'V_shows': False, \"V_didn't\": False, 'V_tone': False, 'V_children': False, 'V_recent': False, 'V_fails': False, \"V_i'm\": False, 'V_deeply': False, 'V_culture': False, 'V_slow': False, 'V_left': False, 'V_believe': False, 'V_everyone': False, 'V_intriguing': False, 'V_truly': False, 'V_serious': False, 'V_ends': False, 'V_death': False, 'V_himself': False, 'V_jokes': False, 'V_actor': False, 'V_book': False, 'V_black': False, 'V_tries': False, 'V_ride': False, 'V_audiences': False, 'V_touching': False, 'V_occasionally': False, 'V_small': False, 'V_spirit': False, 'V_tv': False, 'V_light': False, 'V_production': False, 'V_sad': False, 'V_satisfying': False, 'V_proves': False, 'V_passion': False, 'V_hilarious': False, 'V_role': False, 'V_storytelling': False, 'V_reality': False, 'V_formula': False, 'V_exactly': False, 'V_terrific': False, 'V_opera': False, 'V_adventure': False, 'V_camera': False, 'V_remains': False, 'V_dumb': False, 'V_seeing': False, 'V_already': False, 'V_nor': False, 'V_line': False, 'V_stories': False, 'V_scene': False, 'V_talent': False, 'V_filmmaker': False, 'V_project': False, 'V_images': False, 'V_different': False, 'V_got': False, 'V_must': False, 'V_impossible': False, 'V_attempt': False, 'V_journey': False, 'V_easily': False, 'V_particularly': False, 'V_personal': False, 'V_perfect': False, 'V_gags': False, 'V_girl': False, 'V_above': False, 'V_simple': False, 'V_summer': False, 'V_pretentious': False, 'V_honest': False, 'V_sex': False, 'V_against': False, 'V_animation': False, 'V_close': False, 'V_complex': False, 'V_given': False, 'V_psychological': False, 'V_pleasure': False, 'V_turn': False, 'V_difficult': False, 'V_did': False, 'V_earnest': False, 'V_flat': False, 'V_found': False, 'V_case': False, 'V_intelligence': False, 'V_michael': False, 'V_hour': False, 'V_falls': False, 'V_ways': False, 'V_visually': False, 'V_social': False, 'V_sequel': False, 'V_getting': False, 'V_political': False, 'V_cliches': False, 'V_thought': False, 'V_mystery': False, 'V_coming-of-age': False, 'V_leaves': False, 'V_head': False, 'V_violence': False, 'V_tell': False, 'V_que': False, 'V_memorable': False, 'V_written': False, 'V_game': False, 'V_none': False, 'V_writing': False, 'V_crime': False, 'V_uses': False, 'V_overall': False, 'V_told': False, 'V_finally': False, 'V_job': False, 'V_live': False, 'V_wrong': False, 'V_keeps': False, 'V_satire': False, 'V_help': False, 'V_laugh': False, 'V_side': False, 'V_gone': False, 'V_rich': False, 'V_brilliant': False, 'V_cold': False, 'V_boy': False, 'V_cool': False, 'V_needs': False, 'V_otherwise': False, 'V_second': False, 'V_spy': False, 'V_lost': False, 'V_elements': False, 'V_rarely': False, 'V_contrived': False, 'V_days': False, 'V_barely': False, 'V_novel': False, 'V_appeal': False, 'V_o': False, 'V_imagine': False, 'V_guys': False, 'V_thoughtful': False, 'V_several': False, 'V_possible': False, 'V_during': False, 'V_final': False, 'V_nature': False, 'V_starts': False, 'V_approach': False, 'V_acted': False, 'V_entirely': False, 'V_taste': False, 'V_having': False, 'V_concept': False, 'V_creepy': False, 'V_lead': False, 'V_perhaps': False, 'V_act': False, 'V_surprising': False, 'V_tragedy': False, 'V_eyes': False, 'V_mood': False, 'V_warm': False, 'V_fairly': False, 'V_running': False, 'V_y': False, 'V_insight': False, 'V_excellent': False, 'V_moral': False, 'V_wonderful': False, 'V_truth': False, 'V_soap': False, 'V_wild': False, 'V_tedious': True, 'V_imagination': False, 'V_themselves': False, 'V_quality': False, \"V_they're\": False, 'V_others': False, 'V_emotionally': False, 'V_engrossing': False, 'V_call': False, 'V_behind': False, 'V_comedies': False, 'V_form': False, 'V_among': False, 'V_bring': False, 'V_adults': False, 'V_thoroughly': False, 'V_entire': False, 'V_attention': False, 'V_result': False, 'V_david': False, 'V_viewer': False, 'V_hero': False, 'V_expect': False, 'V_remarkable': False, 'V_latest': False, 'V_sharp': False, 'V_sci-fi': False, 'V_gorgeous': False, 'V_usual': False, 'V_bland': False, 'V_quiet': False, 'V_genuine': False, 'V_future': False, 'V_perfectly': False, 'V_rock': False, 'V_remake': False, 'V_add': False, 'V_\\x96': False, 'V_witty': False, 'V_disney': False, 'V_teen': False, 'V_moment': False, 'V_la': False, 'V_strange': False, 'V_epic': False, 'V_adaptation': False, 'V_vision': False, 'V_nice': False, 'V_change': False, \"V_i've\": False, 'V_start': False, 'V_knows': False, 'V_tired': False, 'V_animated': False, 'V_four': False, \"V_you'd\": False, 'V_wonder': False, 'V_hope': False, 'V_worthy': False, 'V_deep': False, 'V_dead': False, 'V_begins': False, 'V_thanks': False, 'V_plenty': False, 'V_somewhat': False, 'V_maybe': False, 'V_taking': False, 'V_offer': False, 'V_depth': False, 'V_impressive': False, 'V_merely': False, 'V_appealing': False, 'V_effective': False, 'V_beauty': False, 'V_until': False, 'V_points': False, 'V_worse': False, 'V_parents': False, 'V_period': False, 'V_gentle': False, 'V_events': False, 'V_age': False, 'V_emotions': False, 'V_unfortunately': False, 'V_sit': False, 'V_important': False, 'V_someone': False, 'V_writer-director': False, 'V_fantasy': False, 'V_woman': False, 'V_doing': False, 'V_however': False, 'V_captures': False, 'V_hit': False, \"V_year's\": False, 'V_air': False, 'V_provides': False, 'V_awful': False, 'V_try': False, 'V_definitely': False, 'V_stupid': False, 'V_ambitious': False, 'V_decent': False, 'V_career': False, 'V_lots': False, 'V_straight': False, 'V_clear': False, 'V_surprise': False, 'V_guy': False, 'V_pure': False, 'V_pictures': True, 'V_subtle': False, 'V_throughout': False, 'V_magic': False, 'V_welcome': False, 'V_ii': False, 'V_robert': False, 'V_school': False, 'V_ugly': False, 'V_utterly': False, 'V_inside': False, 'V_scary': False, 'V_exciting': False, 'V_historical': False, 'V_brings': False, 'V_able': False, 'V_thin': False, 'V_sequences': False, 'V_execution': False, 'V_pace': False, 'V_sound': False, 'V_highly': False, 'V_suffers': False, 'V_run': False, 'V_view': False, 'V_creative': False, 'V_sustain': False, 'V_relationship': False, 'V_ensemble': False, 'V_cheap': False, 'V_based': False, 'V_examination': False, 'V_sexual': False, 'V_lovely': False, 'V_coming': False, 'V_alone': False, 'V_female': False, 'V_read': False, 'V_deserves': False, 'V_certain': False, 'V_fire': False, 'V_provocative': False, 'V_process': False, 'V_playing': False, 'V_middle': False, 'V_words': False, 'V_except': False, 'V_impact': False, 'V_tension': False, 'V_potential': False, 'V_working': False, 'V_flaws': False, 'V_delightful': False, 'V_poignant': False, 'V_cartoon': False, 'V_cute': False, 'V_question': False, 'V_chemistry': False, 'V_city': False, 'V_single': False, 'V_across': False, 'V_memory': False, 'V_felt': False, 'V_use': False, 'V_wants': False, 'V_deal': False, 'V_low': False, 'V_quickly': False, 'V_upon': False, 'V_used': False, 'V_major': False, 'V_hand': False, 'V_2': False, 'V_winning': False, 'V_sensitive': False, 'V_generic': False, 'V_waste': False, 'V_situation': False, 'V_murder': False, 'V_flawed': False, 'V_odd': False, 'V_actress': False, 'V_master': False, 'V_lacking': False, 'V_yes': False, 'V_unfunny': False, 'V_unexpected': False, 'V_touch': False, 'V_rest': False, 'V_mediocre': False, 'V_puts': False, 'V_success': False, 'V_bond': False, 'V_sentimental': False, 'V_creates': False, 'V_talented': False, 'V_stand': False, 'V_force': False, 'V_taken': False, 'V_filled': False, 'V_loud': False, 'V_cultural': False, 'V_sincere': False, 'V_country': False, 'V_apart': False, 'V_remember': False, 'V_cut': False, 'V_ago': False, 'V_class': False, 'V_slight': False, 'V_watchable': False, 'V_hardly': False, 'V_formulaic': False, 'V_supposed': False, 'V_ultimate': False, 'V_hell': False, 'V_unsettling': False, 'V_heavy': False, 'V_eye': False, 'V_dog': False, 'V_reveals': False, 'V_melodramatic': False, 'V_college': False, 'V_convincing': False, 'V_surprises': False, 'V_routine': False, 'V_create': False, 'V_mark': False, 'V_*': False, 'V_cannot': False, 'V_issues': False, 'V_previous': False, 'V_relationships': False, 'V_hold': False, 'V_slightly': False, 'V_ability': False, 'V_house': False, 'V_era': False, 'V_giving': False, 'V_extremely': False, 'V_weird': False, 'V_saw': False, 'V_seriously': False, 'V_mildly': False, 'V_largely': False, 'V_ones': False, 'V_sets': False, 'V_joke': False, 'V_date': False, 'V_grace': False, 'V_road': False, 'V_pop': False, 'V_inventive': False, 'V_course': False, 'V_uneven': False, 'V_treat': False, 'V_finds': False, 'V_crazy': False, 'V_extreme': False, \"V_aren't\": False, 'V_mix': False, 'V_episode': False, 'V_twists': False, 'V_focus': False, 'V_involved': False, 'V_thrills': False, 'V_contemporary': False, 'V_grant': False, 'V_attempts': False, 'V_fully': False, 'V_stars': False, 'V_artist': False, 'V_george': False, 'V_plain': False, 'V_pleasant': False, 'V_forgettable': False, 'V_intimate': False, 'V_pacing': False, 'V_money': False, 'V_terms': False, 'V_thinking': False, 'V_casting': False, 'V_living': False, 'V_succeeds': False, 'V_e': False, 'V_five': False, 'V_tragic': False, 'V_trouble': False, 'V_amount': False, 'V_indeed': False, 'V_old-fashioned': False, 'V_crush': False, 'V_stylish': False, 'V_steven': False, 'V_gripping': False, 'V_leads': False, 'V_considerable': False, 'V_colorful': False, 'V_happens': False, 'V_problems': False, 'V_presents': False, 'V_themes': False, 'V_couple': False, 'V_disturbing': False, \"V_she's\": False, 'V_absolutely': False, 'V_soundtrack': False, 'V_york': False, 'V_unique': False, 'V_heaven': False, 'V_business': False, 'V_badly': False, 'V_missing': False, 'V_happy': False, 'V_drag': False, 'V_williams': False, 'V_successful': False, 'V_water': False, 'V_called': False, 'V_involving': False, \"V_we've\": False, 'V_recommend': False, 'V_painful': False, 'V_yourself': False, 'V_complete': False, 'V_masterpiece': False, 'V_goofy': False, 'V_es': False, 'V_friendship': False, 'V_poetry': False, 'V_runs': False, 'V_appears': False, 'V_substance': False, 'V_promise': False, 'V_manner': False, 'V_absorbing': False, \"V_couldn't\": False, 'V_parts': False, 'V_mean': False, 'V_forget': False, 'V_blend': False, 'V_hits': False, 'V_urban': False, 'V_pieces': False, 'V_tom': False, 'V_person': False, 'V_refreshing': False, 'V_evil': False, 'V_bright': False, 'V_viewing': False, 'V_forced': False, 'V_skin': False, 'V_politics': False, 'V_situations': False, 'V_played': False, 'V_british': False, 'V_somehow': False, 'V_target': False, 'V_wanted': False, 'V_gay': False, 'V_oscar': False, 'V_effect': False, \"V_man's\": False, 'V_triumph': False, 'V_strangely': False, 'V_share': False, 'V_interested': False, 'V_typical': False, 'V_bizarre': False, 'V_[a]': False, 'V_originality': False, 'V_terrible': False, 'V_sentimentality': False, 'V_equally': False, 'V_imax': False, 'V_meditation': False, 'V_soul': False, 'V_loses': False, 'V_flicks': False, 'V_name': False, 'V_depressing': False, 'V_report': False, 'V_grief': False, 'V_dream': False, 'V_crafted': False, 'V_alive': False, 'V_company': False, 'V_twist': False, 'V_poor': False, 'V_liked': False, 'V_frame': False, 'V_conflict': False, 'V_jackson': False, 'V_doubt': False, 'V_lame': False, 'V_tells': False, 'V_stunning': False, 'V_hate': False, 'V_energetic': False, \"V_director's\": False, 'V_whatever': False, 'V_battle': False, 'V_please': False, 'V_painfully': False, 'V_understand': False, 'V_franchise': False, 'V_standard': False, 'V_derivative': False, 'V_haunting': False, 'V_general': False, 'V_monster': False, 'V_said': False, 'V_el': False, 'V_fan': False, 'V_television': False, 'V_loss': False, 'V_sexy': False, 'V_eventually': False, 'V_fast': False, 'V_created': False, 'V_miss': False, 'V_well-acted': False, 'V_virtually': False, 'V_somewhere': False, 'V_setting': False, 'V_night': False, 'V_sophisticated': False, 'V_dry': False, 'V_average': False, 'V_fare': False, 'V_means': False, 'V_word': False, 'V_central': False, 'V_clichés': False, 'V_obviously': False, 'V_questions': False, 'V_90': False, 'V_genuinely': False, 'V_worthwhile': False, 'V_red': False, 'V_popcorn': False, 'V_sitting': False, 'V_insightful': False, 'V_unlike': False, 'V_girls': False, 'V_niro': False, 'V_deliver': False, 'V_fat': False, 'V_possibly': False, 'V_slapstick': False, 'V_wedding': False, 'V_let': False, 'V_warmth': False, 'V_essentially': False, 'V_atmosphere': False, 'V_generally': False, 'V_weak': False, 'V_refreshingly': False, 'V_superficial': False, 'V_edge': False, 'V_una': False, 'V_huge': False, 'V_imaginative': False, 'V_finish': False, 'V_white': False, 'V_japanese': False, 'V_heavy-handed': False, 'V_opportunity': False, 'V_allows': False, 'V_vivid': False, 'V_affecting': False, 'V_blue': False, 'V_inspired': False, 'V_treasure': False, 'V_brain': False, 'V_remarkably': False, 'V_ms': False, 'V_riveting': False, 'V_lines': False, 'V_room': False, 'V_amazing': False, 'V_conventional': False, 'V_lets': False, 'V_boys': False, 'V_excitement': False, 'V_faith': False, 'V_clearly': False, 'V_holds': False, 'V_tough': False, 'V_break': False, 'V_price': False, 'V_thought-provoking': False, 'V_footage': False, 'V_toward': False, 'V_match': False, 'V_places': False, 'V_usually': False, 'V_unusual': False, 'V_spielberg': False, 'V_simplistic': False, 'V_fiction': False, 'V_large': False, 'V_fit': False, 'V_equivalent': False, 'V_affair': False, \"V_we're\": False, 'V_murphy': False, \"V_hasn't\": False, 'V_2002': False, 'V_slice': False, 'V_efforts': False, 'V_minor': False, 'V_car': False, 'V_trip': False, 'V_powers': False, 'V_wish': False, 'V_peter': False, 'V_charisma': False, 'V_within': False, 'V_aside': False, 'V_believable': False, 'V_wait': False, 'V_s': False, 'V_damned': False, 'V_particular': False, 'V_writer': False, 'V_lazy': False, 'V_shallow': False, 'V_guilty': False, 'V_intended': False, 'V_needed': False, 'V_heartfelt': False, 'V_purpose': False, 'V_ice': False, 'V_humanity': False, 'V_treatment': False, 'V_spectacle': False, 'V_kid': False, 'V_green': False, 'V_x': False, 'V_america': False, 'V_crowd': False, 'V_pay': False, 'V_balance': False, 'V_core': False, 'V_filmed': False, 'V_wildly': False, 'V_delicate': False, 'V_dreams': False, 'V_fear': False, 'V_universal': False, 'V_greatest': False, 'V_detail': False, 'V_realistic': False, 'V_directorial': False, 'V_mesmerizing': False, 'V_exhilarating': False, 'V_funnier': False, 'V_talk': False, 'V_quietly': False, 'V_party': False, 'V_delight': False, 'V_open': False, 'V_deeper': False, 'V_festival': False, 'V_god': False, 'V_spiritual': False, 'V_ridiculous': False, 'V_sounds': False, \"V_wasn't\": False, 'V_directors': False, 'V_indie': False, \"V_who's\": False, 'V_sum': False, \"V_i'd\": False, 'V_combination': False, 'V_skill': False, 'V_wife': False, 'V_poorly': False, 'V_revenge': False, 'V_further': False, 'V_editing': False, 'V_sports': False, \"V_wouldn't\": False, 'V_offering': False, 'V_natural': False, 'V_longer': False, 'V_deftly': False, 'V_credits': False, 'V_score': False, 'V_fashion': False, 'V_stay': False, 'V_telling': False, 'V_bears': False, 'V_vehicle': False, 'V_figure': False, 'V_sequence': False, 'V_space': False, 'V_motion': False, 'V_gangster': False, 'V_empty': False, 'V_spectacular': False, 'V_theme': False, 'V_meaning': False, 'V_stale': False, 'V_promising': False, 'V_extraordinary': False, 'V_sea': False, 'V_devoid': False, 'V_decades': False, 'V_mindless': False, 'V_allen': False, 'V_chase': False, 'V_visuals': False, 'V_exploration': False, 'V_crimes': False, 'V_shame': False, 'V_complicated': False, 'V_poetic': False, 'V_kevin': False, 'V_public': False, 'V_disguise': False, 'V_desire': False, 'V_release': False, 'V_intense': False, 'V_affection': False, 'V_martin': False, 'V_roger': False, 'V_results': False, 'V_stage': False, 'V_provide': False, 'V_overly': False, 'V_consider': False, 'V_expected': False, 'V_endearing': False, 'V_pointless': False, 'V_james': False, 'V_king': False, 'V_turned': False, 'V_strength': False, 'V_irritating': False, 'V_justice': False, 'V_values': False, 'V_achieves': False, 'V_generation': False, 'V_dreary': False, 'V_farce': False, 'V_j': False, 'V_performers': False, 'V_constructed': False, 'V_\\x97': False, 'V_sight': False, 'V_members': False, 'V_frequently': False, 'V_stunts': False, 'V_perspective': False, 'V_reading': False, 'V_century': False, 'V_repetitive': False, 'V_manipulative': False, 'V_value': False, 'V_avoid': False, 'V_profound': False, 'V_society': False, 'V_paced': False, 'V_development': False, 'V_free': False, \"V_haven't\": False, 'V_10': False, 'V_daring': False, 'V_shots': False, 'V_talking': False, 'V_number': False, 'V_accessible': False, 'V_holes': False, 'V_gross-out': False, 'V_win': False, 'V_oddly': False, 'V_awkward': False, 'V_pleasures': False, 'V_represents': False, 'V_move': False, 'V_gem': False, 'V_identity': False, 'V_behavior': False, 'V_surface': False, 'V_credit': False, 'V_cinematography': False, 'V_blade': False, 'V_prove': False, 'V_count': False, 'V_striking': False, 'V_group': False, 'V_damn': False, 'V_delivered': False, 'V_offensive': False, 'V_nicely': False, 'V_walk': False, 'V_yarn': False, 'V_artistic': False, 'V_ghost': False, 'V_community': False, 'V_blood': False, 'V_glimpse': False, 'V_nowhere': False, 'V_tribute': False, 'V_thinks': False, 'V_predecessor': False, 'V_happen': False, 'V_concerned': False, 'V_machine': False, 'V_nonsense': False, \"V_story's\": False, 'V_enjoyed': False, 'V_top': False, 'V_weight': False, 'V_diverting': False, 'V_serves': False, 'V_marks': False, 'V_challenging': False, 'V_bits': False, 'V_ground': False, 'V_follow': False, 'V_main': False, 'V_friends': False, 'V_songs': False, 'V_incredibly': False, 'V_folks': False, 'V_del': False, 'V_presence': False, 'V_imagery': False, 'V_failure': False, 'V_overcome': False, 'V_screenwriter': False, 'V_voice': False, 'V_struggle': False, 'V_numbers': False, 'V_unless': False, 'V_adam': False, 'V_necessary': False, 'V_save': False, 'V_killer': False, 'V_subjects': False, 'V_giant': False, 'V_pulls': False, 'V_levels': False, 'V_waiting': False, 'V_structure': False, 'V_moviemaking': False, 'V_brown': False, 'V_games': False, 'V_beat': False, 'V_trifle': False, 'V_chance': False, 'V_using': False, 'V_frustrating': False, 'V_loved': False, 'V_ages': False, 'V_friday': False, 'V_designed': False, 'V_emerges': False, 'V_admirable': False, 'V_wise': False, 'V_hackneyed': False, 'V_raw': False, 'V_intrigue': False, 'V_attraction': False, 'V_determined': False, 'V_commercial': False, 'V_shake': False, 'V_stands': False, 'V_musical': False, 'V_intentions': False, 'V_buy': False, 'V_courage': False, 'V_clumsy': False, 'V_chilling': False, 'V_example': False, 'V_um': False, 'V_produced': False, 'V_beneath': False, 'V_return': False, 'V_ring': False, 'V_tiresome': False, 'V_fears': False, 'V_hot': False, 'V_hip-hop': False, 'V_fair': False, 'V_surely': False, 'V_studio': False, 'V_favor': False, 'V_tender': False, 'V_early': False, 'V_desperate': False, 'V_annoying': False, 'V_today': False, 'V_funniest': False, 'V_delivery': False, 'V_stock': False, 'V_flair': False, 'V_talents': False, 'V_team': False, 'V_adolescent': False, 'V_twice': False, 'V_comedic': False, 'V_vibrant': False, 'V_grows': False, 'V_maudlin': False, 'V_adult': False, 'V_father': False, 'V_search': False, \"V_characters'\": False, 'V_industry': False, \"V_i'll\": False, 'V_un': False, \"V_'the\": False, 'V_first-time': False, 'V_dazzling': False, 'V_unpleasant': False, 'V_damage': False, 'V_digital': False, 'V_budget': False, 'V_land': False, 'V_grand': False, 'V_superior': False, 'V_mike': False, 'V_bittersweet': False, 'V_well-made': False, 'V_creating': False, 'V_matters': False, 'V_parker': False, 'V_violent': False, 'V_jones': False, 'V_eight': False, 'V_deserve': False, 'V_excuse': False, 'V_realism': False, 'V_queen': False, 'V_spend': False, 'V_directing': False, 'V_chinese': False, 'V_apparently': False, 'V_overwrought': False, 'V_bore': False, 'V_vs': False, 'V_chris': False, 'V_present': False, 'V_outrageous': False, 'V_seat': False, 'V_meandering': False, 'V_broad': False, 'V_mainstream': False, 'V_body': False, 'V_wry': False, 'V_bunch': False, 'V_authentic': False, 'V_emotion': False, 'V_sappy': False, 'V_wonderfully': False, 'V_roles': False, 'V_cause': False, 'V_b-movie': False, 'V_fall': False, 'V_humorous': False, 'V_jason': False, 'V_winds': False, \"V_world's\": False, 'V_accomplished': False, \"B_''independent_film''\": False, \"B_'60s-homage_pokepie\": False, \"B_'[the_cockettes]\": False, \"B_'ace_ventura'\": False, \"B_'alternate_reality'\": False, \"B_'aunque_recurre\": False, \"B_'black_culture'\": False, \"B_'blue_crush'\": False, \"B_'chan_moment'\": False, \"B_'chick_flicks'\": False, \"B_'date_movie'\": False, \"B_'ethnic_cleansing\": False, \"B_'face_value'\": False, \"B_'fully_experienced'\": False, \"B_'jason_x'\": False, \"B_'juvenile_delinquent'\": False, \"B_'laugh_therapy'\": False, \"B_'masterpiece_theatre'\": False, \"B_'nicholas_nickleby'\": False, \"B_'old_neighborhood'\": False, \"B_'opening_up'\": False, \"B_'rare_birds'\": False, \"B_'sacre_bleu\": False, \"B_'science_fiction'\": False, \"B_'shindler's_list'\": False, \"B_'snow_dogs'\": False, \"B_'some_body'\": False, \"B_'special_effects'\": False, \"B_'terrible_filmmaking'\": False, \"B_'time_waster'\": False, \"B_'true_story'\": False, \"B_'unfaithful'_cheats\": False, \"B_'very_sneaky'\": False, \"B_'we're_-doing-it-for\": False, \"B_'who's_who'\": False, 'B_-after_spangle': False, 'B_-as-it-_thinks-it-is': False, 'B_-as-nasty_-as-it-': False, \"B_-doing-it-for_-the-cash'\": False, 'B_10-course_banquet': False, 'B_10-year_delay': False, 'B_15-cent_stump': False, 'B_18-year-old_mistress': False, \"B_1950's_doris\": False, \"B_1983's_koyaanisqatsi\": False, 'B_1986_harlem': False, \"B_1988's_powaqqatsi\": False, 'B_1992_malfitano-domingo': False, \"B_1992's_unforgiven\": False, 'B_22-year-old_girlfriend': False, 'B_50-something_lovebirds': False, 'B_75-minute_sample': False, 'B_93-minute_condensation': False, 'B_99-minute_stink': False, 'B_<em>ash_wednesday</em>': False, 'B_[at_least]': False, \"B_[breheny's]_lensing\": False, \"B_[but_it's]\": False, 'B_[cuarón_has]': False, 'B_[fiji_diver': False, 'B_[garbus]_discards': False, \"B_[gayton's_script]\": False, \"B_[hawn's_character]is\": False, \"B_[jack_nicholson's]\": False, 'B_[jaglom]_pursued': False, 'B_[jason_bourne]': False, 'B_[lawrence_bounces]': False, \"B_[lin_chung's]\": False, 'B_[macdowell]_ventures': False, 'B_[monsoon_wedding]': False, \"B_[raimi's]_matured\": False, 'B_[roman_coppola]': False, \"B_[sam's]_self-flagellation\": False, \"B_[seinfeld's]_revered\": False, 'B_[taymor]_utilizes': False, 'B_[teen_comedy]': False, 'B_[than_leon]': False, 'B_[woody_allen]': False, \"B_`matrix'-style_massacres\": False, \"B_abderrahmane_sissako's\": False, 'B_abdul_malik': False, 'B_absolutamente_predecible': False, 'B_accomodates_practical': False, 'B_ace_japanimator': False, 'B_aceitou_dirigir': False, \"B_achero_manas's\": False, \"B_achilles'_heel\": False, 'B_acting-workshop_exercises': False, 'B_action-and-popcorn_obsessed': False, 'B_activate_girlish': False, 'B_actores_ofrecen': False, 'B_actorish_notations': False, 'B_actory_concoctions': False, 'B_actuaciones_verdaderamente': False, 'B_adapted-_from-television': False, \"B_adjective_'gentle'\": False, 'B_adrien_brody': False, 'B_advanced_prozac': False, 'B_advises_denlopp': False, 'B_ageism_afflicting': False, 'B_ages--a_trend': False, 'B_agnostic_carnivore': False, 'B_agreeable_time-wasting': False, \"B_ain't-_she-cute\": False, 'B_aircraft_carrier': False, 'B_airport_security': False, \"B_aisle's_walker\": False, \"B_akira_kurosawa's\": False, \"B_alain_choquart's\": False, 'B_alchemical_transmogrification': False, 'B_alcoholic_beverage': False, \"B_ali's_graduation\": False, \"B_aliens'_laser\": False, 'B_all-night_tequila': False, 'B_all-too_-inevitable': False, 'B_ally_mcbeal-style': False, 'B_american-russian_armageddon': False, 'B_anarchist_maxim': False, 'B_ancillary_products': False, \"B_andersson's_rigorous\": False, \"B_andrew's_turnabout\": False, 'B_andré_turpin': False, 'B_angela_gheorghiu': False, \"B_ankle-deep_'epic\": False, 'B_annual_riviera': False, \"B_anton_chekhov's\": False, \"B_argentinean_'dramedy'\": False, 'B_armenian_genocide': False, 'B_arrancar_lágrimas': False, 'B_artless_sytle': False, 'B_ash_wednesday': False, \"B_asinine_'twist'\": False, \"B_attal's_hang-ups\": False, 'B_avant_garde': False, 'B_avuncular_chortles': False, 'B_axel_hellstenius': False, 'B_b-film_thuggery': False, \"B_babak_payami's\": False, \"B_bailly's_rom-com\": False, 'B_bar-scrapping_doggedness': False, 'B_barrett_browning': False, 'B_baseball-playing_monkey': False, 'B_basest_desires': False, 'B_baz_luhrmann': False, 'B_beachcombing_verismo': False, 'B_beached_grouper': False, 'B_beau_travil': False, 'B_bebe_neuwirth': False, 'B_beckett_applied': False, 'B_bedside_vigils': False, 'B_been-told-a-_thousand-times-': False, \"B_bela_lugosi's\": False, 'B_beloved-major-_character-who-shall-': False, \"B_belushi's_easy-going\": False, \"B_berkley's_flopping\": False, \"B_bettany/mcdowell's_hard-eyed\": False, 'B_binary_oppositions': False, 'B_bitchy_frolic': False, 'B_black-&-white_freeze': False, 'B_blending_entrepreneurial': False, 'B_blessedly_curse-free': False, 'B_blond_honeys': False, 'B_bluto_blutarsky': False, \"B_boat's_malediction\": False, 'B_bob_crane': False, 'B_bona_fide': False, 'B_bone-crushing_screwups': False, 'B_booming_bass-heavy': False, \"B_borchardt's_coven\": False, 'B_breezily_apolitical': False, 'B_brent_hanley': False, 'B_broaches_neo-augustinian': False, \"B_brooks'_borscht\": False, \"B_brothers'_oeuvre\": False, 'B_brussels_sprouts': False, 'B_buckaroo_banzai': False, 'B_buena_oportunidad': False, 'B_bump-in_-the-night': False, 'B_burkina_faso': False, 'B_busby_berkeley': False, \"B_buñuel's_casings\": False, \"B_bv's_re-voiced\": False, 'B_cafeteria_goulash': False, \"B_cagney's_'top\": False, 'B_camareras_italianas': False, \"B_canada's_arctic\": False, 'B_cannier_doppelganger': False, 'B_casey_kasem-furnished': False, 'B_casi_siempre': False, 'B_caso_você': False, \"B_cat's_meow\": False, 'B_cattle_prod': False, 'B_certamente_fica': False, 'B_channel-style_anthology': False, 'B_character-_and-': False, 'B_character-who-shall-_remain-nameless': False, 'B_cheese-laced_spectacles': False, 'B_chefs_fussing': False, 'B_cherry_orchard': False, 'B_chirpy_songbird': False, 'B_chloroform-soaked_handkerchief': False, 'B_chop_suey': False, 'B_christina_ricci': False, 'B_christmas-tree_flocking': False, 'B_christophe_honoré': False, 'B_cierta_realidad': False, \"B_city's_old-world\": False, 'B_civics_classes': False, 'B_clarissa_dalloway': False, 'B_cleopatra_2525': False, 'B_cleveland_sites': False, 'B_cliche-bound_epic-horror': False, 'B_clive_barker': False, 'B_closed-door_hanky-panky': False, 'B_closed-off_nationalist': False, \"B_clyde_barrow's\": False, 'B_coldly_self-interested': False, \"B_columbia_pictures'\": False, 'B_comatose_ballerinas': False, 'B_combustion_engine': False, 'B_comeback_curlers': False, 'B_comedias_románticas': False, 'B_comienza_intentando': False, 'B_communion_wafer': False, 'B_community-college_advertisement': False, 'B_competing_lawyers': False, 'B_computerized_yoda': False, 'B_confidently_orchestrated': False, 'B_constrictive_eisenhower': False, 'B_contemptible_imitator': False, 'B_contentious_configurations': False, 'B_continental_divides': False, 'B_contrária_à': False, \"B_cooper's_agency\": False, 'B_coos_beseechingly': False, 'B_cop-flick_subgenre': False, 'B_cor-blimey-luv-a-duck_cockney': False, 'B_cosa_nostra': False, \"B_costner's_warm-milk\": False, 'B_costumer_jived': False, 'B_coupling_disgracefully': False, \"B_court's_extradition\": False, 'B_cowardly_autocritique': False, 'B_creepy-crawly_bug': False, 'B_crematorium_chimney': False, 'B_crowded_cities': False, 'B_crème_brûlée': False, 'B_cuerpo_desnudo': False, 'B_culprit_early-on': False, 'B_cyndi_lauper': False, \"B_danilo_donati's\": False, \"B_danis_tanovic's\": False, \"B_dante_spinotti's\": False, 'B_das_boot': False, \"B_dawson's_creek\": False, 'B_debating_societies': False, 'B_decent-enough_nail-biter': False, 'B_deceptive_grimness': False, 'B_decidiram_assistir': False, \"B_def_leppard's\": False, 'B_defunct_cleopatra': False, 'B_delibrately_obtuse': False, \"B_delinquent'_paperbacks\": False, 'B_densest_distillation': False, 'B_dentist_drill': False, 'B_der_groen': False, 'B_deve_ter': False, 'B_developmentally_disabled': False, 'B_di_napoli': False, \"B_dignified_ceo's\": False, 'B_dilithium_crystals': False, 'B_dim_echo': False, 'B_dingy_backrooms': False, 'B_diop_gai': False, 'B_director-chef_gabriele': False, 'B_dirigir_esta': False, 'B_disciplined_grade-grubbers': False, 'B_disease-of-_the-week': False, 'B_disfrutable_trabajo': False, 'B_disloyal_satyr': False, 'B_diver_rusi': False, 'B_diverting--if_predictable--adventure': False, 'B_djeinaba_diop': False, 'B_doce_lar': False, 'B_docu-dogma_plainness': False, 'B_doggie_winks': False, 'B_dolly_parton': False, \"B_domineering_mother's\": False, 'B_doodled_steamboat': False, 'B_doofus-on-_the-loose': False, 'B_dos_musicais': False, 'B_doubling_subtexts': False, 'B_down-and-dirty_laugher': False, 'B_downy-cheeked_moppets': False, 'B_drabness_endemic': False, 'B_drinking_twelve': False, 'B_du_sarcasm': False, 'B_duas_torres': False, \"B_dubya's_axis\": False, 'B_duda_cabe': False, 'B_duplicate_bela': False, 'B_dust-caked_stagnation': False, \"B_duvall's_throbbing\": False, \"B_eagle's_carpets\": False, \"B_early-'80s_suburbia\": False, 'B_easy-going_likableness': False, 'B_eddy_crooned': False, 'B_edged_tome': False, \"B_edmund_mcwilliams's\": False, 'B_egregious_lip-non-synching': False, 'B_egyptian_demigod': False, \"B_elder_bueller's\": False, 'B_elegante_abandono': False, 'B_ellen_pompeo': False, 'B_elliptically_loops': False, \"B_elm_street'\": False, \"B_elmer_bernstein's\": False, 'B_elmo_touts': False, \"B_elvira's_hooters\": False, 'B_emocionalmente_frio': False, 'B_end-of-year_401': False, 'B_enforced_hiatus': False, 'B_enfrentará_cierta': False, 'B_entangled_interrelationships': False, 'B_entrance_exam': False, 'B_entretenimiento_puro': False, 'B_enviará_penas': False, \"B_era's_creme\": False, 'B_erects_garcía': False, 'B_erin_brockovich': False, 'B_esas_películas': False, 'B_esfera_adicional': False, 'B_esos_filmes': False, 'B_espectáculo_digno': False, 'B_esta_continuação': False, 'B_estadounidense_patriotero': False, 'B_estava_feliz': False, 'B_esteemed_writer-actor': False, \"B_estela_bravo's\": False, 'B_estranhos_acontecimentos': False, 'B_esté_realizando': False, 'B_eternally_devoted': False, 'B_eu_estava': False, 'B_eudora_welty': False, 'B_everlyn_sampi': False, 'B_every-joke-has-_been-told-a-': False, 'B_evolução_dos': False, 'B_existent_anti-virus': False, 'B_extemporaneously_shouted': False, 'B_extradition_chess': False, 'B_extremist_name-calling': False, 'B_fabuleux_destin': False, 'B_fai_are]': False, 'B_faltering_half-step': False, 'B_fanatically_fetishized': False, 'B_fang-baring_lullaby': False, 'B_fangoria_subscriber': False, 'B_fatalist_worldview': False, 'B_faux-contemporary_gravy': False, 'B_ferris_bueller': False, 'B_fictions_peddled': False, 'B_fide_groaners': False, 'B_field-sized_oriental': False, \"B_fifteen-year-old's_suicidal\": False, 'B_fifties_teen-gang': False, 'B_figurative_port-of-call': False, 'B_fill-in-_the-blanks': False, \"B_films'_loose-jointed\": False, 'B_financial_extortion': False, 'B_fingernails_instinctively': False, 'B_flails_limply': False, 'B_flakeball_spouting': False, 'B_fledgling_democracies': False, 'B_flick-knife_diction': False, 'B_flopping_dolphin-gasm': False, 'B_foo_yung': False, \"B_foreman's_barking-mad\": False, 'B_forrest_gump': False, 'B_four-legged_herbivore': False, \"B_fracasso_'artístico'\": False, 'B_francamente_aburrido': False, 'B_frazzled_wackiness': False, 'B_freewheeling_trash-cinema': False, \"B_friend's_playboy-mansion\": False, 'B_frothing_ex-girlfriend': False, 'B_fruit_pies': False, 'B_future-world_holographic': False, 'B_fílmica_imposible': False, 'B_gabbiest_giant-screen': False, \"B_gallic_'tradition\": False, 'B_gambol_fluidly': False, 'B_ganha_força': False, 'B_garcía_bernal': False, 'B_garry_shandling': False, 'B_gelo_diverte': False, 'B_genevieve_leplouff': False, 'B_genuinamente_sorprendido': False, 'B_geographical_displacement': False, \"B_george's_haplessness\": False, 'B_gerald_bounce': False, \"B_gibson's_braveheart\": False, 'B_giles_nuttgens': False, \"B_glass's_dirgelike\": False, 'B_gone-to-pot_asbury': False, 'B_good-deed/bad-deed_reversals': False, 'B_gosta_muito': False, 'B_government/_marine/legal': False, 'B_grandes_revelaciones': False, 'B_graças_às': False, 'B_grouchy_ayatollah': False, 'B_gryffindor_scarf': False, \"B_guarantees_karmen's\": False, 'B_gushing---imamura_squirts': False, \"B_gutter_romancer's\": False, \"B_guys'_superhuman\": False, 'B_halle_berry': False, 'B_happily-ever_-after': False, 'B_hard-_boiled': False, 'B_hard-sell_image-mongering': False, 'B_harmlessly_naïve': False, 'B_harold_ramis': False, \"B_harvey_weinstein's\": False, 'B_haute_couture': False, 'B_havia_satirizado': False, 'B_heartstring_untugged': False, 'B_heartwarmingly_motivate': False, 'B_heavy-duty_ropes': False, 'B_heedless_impetuousness': False, 'B_helene_weigel': False, \"B_helms'_anti-\": False, \"B_henry's_<b>the\": False, 'B_heretofore_unfathomable': False, 'B_hibiscus_grandly': False, 'B_high-wattage_brainpower': False, 'B_hilary_birmingham': False, 'B_hippopotamus_ballerina': False, 'B_hit-_and-miss': False, 'B_hollywood-ized_austen': False, \"B_hornby's_drop-dead\": False, 'B_hossein_amini': False, \"B_howie_long's\": False, 'B_huckster_lapel': False, 'B_humorously_tendentious': False, 'B_i-heard-a-joke-_at-a-frat-party': False, 'B_iben_hjelje': False, 'B_idealistically_selfless': False, 'B_iditarod_lasts': False, 'B_idoosyncratic_terrain': False, 'B_igualmente_fascinantes': False, 'B_ill-timed_antitrust': False, 'B_ill-wrought_hypothesis': False, 'B_imogen_kimmel': False, 'B_improbably_forbearing': False, 'B_impudent_snickers': False, 'B_in-the-ring_match-up': False, 'B_indecent_proposal': False, 'B_independent-community_guiding': False, 'B_inhalant_blackout': False, 'B_initiation_rite': False, 'B_inside-show-biz_yarns': False, \"B_insider's_lingo\": False, 'B_instinctively_crawled': False, 'B_institutionalized_slavery': False, 'B_intelectualmente_retadora': False, 'B_interacting_eyeball-to-eyeball': False, 'B_interações_entre': False, 'B_internal_combustion': False, \"B_irvine_welsh's\": False, \"B_ismail_merchant's\": False, \"B_it's-surreal_dubbing\": False, 'B_italy_beckons': False, 'B_ivans_xtc': False, 'B_ja_rule': False, \"B_jae-eun_jeong's\": False, 'B_jagjit_singh': False, 'B_janszen_bungle': False, 'B_japanimator_hayao': False, 'B_jazz-playing_exterminator': False, 'B_jeanette_macdonald': False, \"B_jeff_foxworthy's\": False, 'B_jeweled_beads': False, 'B_jez_butterworth': False, \"B_jiri_menzel's\": False, \"B_jirí_hubac's\": False, 'B_joaquin_baca-asay': False, 'B_joint_promotion': False, \"B_jon_purdy's\": False, 'B_josef_bierbichler': False, 'B_joão_pedro': False, \"B_juliet_stevenon's\": False, 'B_june_cleaver': False, 'B_jungle_needing': False, 'B_just-above-average_off-': False, 'B_ka_fai': False, \"B_kaige's_assistant\": False, 'B_kappa_rho': False, \"B_karmen's_enthronement\": False, 'B_kathleen_soliah': False, \"B_kerrigan's_platinum-blonde\": False, 'B_killer-thrillers_revolve': False}\n",
      "Accuracy Bigram: \n",
      "0.752\n",
      "['Arthur', 'carefully', 'rode', 'the', 'brown', 'horse', 'around', 'the', 'castle']\n",
      "[('Arthur', 'NNP'), ('carefully', 'RB'), ('rode', 'VBD'), ('the', 'DT'), ('brown', 'JJ'), ('horse', 'NN'), ('around', 'IN'), ('the', 'DT'), ('castle', 'NN')]\n",
      "1504\n",
      "(['an', 'inept', ',', 'tedious', 'spoof', 'of', \"'70s\", 'kung', 'fu', 'pictures', ',', 'it', 'contains', 'almost', 'enough', 'chuckles', 'for', 'a', 'three-minute', 'sketch', ',', 'and', 'no', 'more', '.'], 'neg')\n",
      "num nouns 6\n",
      "num verbs 1\n",
      "num adjectives 4\n",
      "num adverbs 2\n",
      "Accuracy POS: \n",
      "0.747\n",
      "Each fold size: 2132\n",
      "0 0.7532833020637899\n"
     ]
    }
   ],
   "source": [
    "## Lab Week 9 - Bigram and POS tag features, cross-validation and other evaluation measures\n",
    "# This file has small examples that are meant to be run individually\n",
    "#   in the Python shell\n",
    "\n",
    "import nltk\n",
    "\n",
    "# movie review sentences\n",
    "from nltk.corpus import sentence_polarity\n",
    "import random\n",
    "\n",
    "## repeat the setup of the movie review sentences for classification\n",
    "# for each sentence(document), get its words and category (positive/negative)\n",
    "documents = [(sent, cat) for cat in sentence_polarity.categories() \n",
    "    for sent in sentence_polarity.sents(categories=cat)]\n",
    "\n",
    "random.shuffle(documents)\n",
    "\n",
    "# get all words from all movie_reviews and put into a frequency distribution\n",
    "#   note lowercase, but no stemming or stopwords\n",
    "all_words_list = [word for (sent,cat) in documents for word in sent]\n",
    "all_words = nltk.FreqDist(all_words_list)\n",
    "print(len(all_words))\n",
    "\n",
    "# get the 1500 most frequently appearing keywords in the corpus\n",
    "word_items = all_words.most_common(1500)\n",
    "word_features = [word for (word,count) in word_items]\n",
    "\n",
    "# define features (keywords) of a document for a BOW/unigram baseline\n",
    "# each feature is 'contains(keyword)' and is true or false depending\n",
    "# on whether that keyword is in the document\n",
    "def document_features(document, word_features):\n",
    "    document_words = set(document)\n",
    "    features = {}\n",
    "    for word in word_features:\n",
    "        features['V_{}'.format(word)] = (word in document_words)\n",
    "    return features\n",
    "\n",
    "# get features sets for a document, including keyword features and category feature\n",
    "featuresets = [(document_features(d, word_features), c) for (d, c) in documents]\n",
    "\n",
    "# training using naive Baysian classifier, training set is 90% of data\n",
    "train_set, test_set = featuresets[1000:], featuresets[:1000]\n",
    "classifier = nltk.NaiveBayesClassifier.train(train_set)\n",
    "\n",
    "# evaluate the accuracy of the classifier\n",
    "nltk.classify.accuracy(classifier, test_set)\n",
    "\n",
    "# the accuracy result may vary since we randomized the documents\n",
    "\n",
    "####   adding Bigram features   ####\n",
    "# set up for using bigrams\n",
    "from nltk.collocations import *\n",
    "bigram_measures = nltk.collocations.BigramAssocMeasures()\n",
    "\n",
    "# create the bigram finder on all the words in sequence\n",
    "print(all_words_list[:50])\n",
    "finder = BigramCollocationFinder.from_words(all_words_list)\n",
    "\n",
    "# define the top 500 bigrams using the chi squared measure\n",
    "bigram_features = finder.nbest(bigram_measures.chi_sq, 500)\n",
    "print(bigram_features[:50])\n",
    "\n",
    "# examples to demonstrate the bigram feature function definition\n",
    "sent = ['Arthur','carefully','rode','the','brown','horse','around','the','castle']\n",
    "sentbigrams = list(nltk.bigrams(sent))\n",
    "print(sentbigrams)\n",
    "\n",
    "# for a single bigram, test if it's in the sentence bigrams and format the feature name\n",
    "bigram = ('brown','horse')\n",
    "print(bigram in sentbigrams)\n",
    "print('B_{}_{}'.format(bigram[0], bigram[1]))\n",
    "\n",
    "# define features that include words as before \n",
    "# add the most frequent significant bigrams\n",
    "# this function takes the list of words in a document as an argument and returns a feature dictionary\n",
    "# it depends on the variables word_features and bigram_features\n",
    "def bigram_document_features(document, word_features, bigram_features):\n",
    "    document_words = set(document)\n",
    "    document_bigrams = nltk.bigrams(document)\n",
    "    features = {}\n",
    "    for word in word_features:\n",
    "        features['V_{}'.format(word)] = (word in document_words)\n",
    "    for bigram in bigram_features:\n",
    "        features['B_{}_{}'.format(bigram[0], bigram[1])] = (bigram in document_bigrams)    \n",
    "    return features\n",
    "\n",
    "# use this function to create feature sets for all sentences\n",
    "bigram_featuresets = [(bigram_document_features(d, word_features, bigram_features), c) for (d, c) in documents]\n",
    "\n",
    "# number of features for document 0\n",
    "print(len(bigram_featuresets[0][0].keys()))\n",
    "\n",
    "# features in document 0\n",
    "print(bigram_featuresets[0][0])\n",
    "\n",
    "# train a classifier and report accuracy\n",
    "train_set, test_set = bigram_featuresets[1000:], bigram_featuresets[:1000]\n",
    "classifier = nltk.NaiveBayesClassifier.train(train_set)\n",
    "print('Accuracy Bigram: ')\n",
    "print(nltk.classify.accuracy(classifier, test_set))\n",
    "\n",
    "\n",
    "###  POS tag counts\n",
    "# using the default pos tagger in NLTK (the Stanford tagger)\n",
    "print(sent)\n",
    "print(nltk.pos_tag(sent))\n",
    "\n",
    "# this function takes a document list of words and returns a feature dictionary\n",
    "# it runs the default pos tagger (the Stanford tagger) on the document\n",
    "#   and counts 4 types of pos tags to use as features\n",
    "def POS_features(document, word_features):\n",
    "    document_words = set(document)\n",
    "    tagged_words = nltk.pos_tag(document)\n",
    "    features = {}\n",
    "    for word in word_features:\n",
    "        features['contains({})'.format(word)] = (word in document_words)\n",
    "    numNoun = 0\n",
    "    numVerb = 0\n",
    "    numAdj = 0\n",
    "    numAdverb = 0\n",
    "    for (word, tag) in tagged_words:\n",
    "        if tag.startswith('N'): numNoun += 1\n",
    "        if tag.startswith('V'): numVerb += 1\n",
    "        if tag.startswith('J'): numAdj += 1\n",
    "        if tag.startswith('R'): numAdverb += 1\n",
    "    features['nouns'] = numNoun\n",
    "    features['verbs'] = numVerb\n",
    "    features['adjectives'] = numAdj\n",
    "    features['adverbs'] = numAdverb\n",
    "    return features\n",
    "\n",
    "# define feature sets using this function\n",
    "POS_featuresets = [(POS_features(d, word_features), c) for (d, c) in documents]\n",
    "# number of features for document 0\n",
    "print(len(POS_featuresets[0][0].keys()))\n",
    "\n",
    "# the first sentence\n",
    "print(documents[0])\n",
    "# the pos tag features for this sentence\n",
    "print('num nouns', POS_featuresets[0][0]['nouns'])\n",
    "print('num verbs', POS_featuresets[0][0]['verbs'])\n",
    "print('num adjectives', POS_featuresets[0][0]['adjectives'])\n",
    "print('num adverbs', POS_featuresets[0][0]['adverbs'])\n",
    "\n",
    "# train and test the classifier\n",
    "train_set, test_set = POS_featuresets[1000:], POS_featuresets[:1000]\n",
    "classifier = nltk.NaiveBayesClassifier.train(train_set)\n",
    "print('Accuracy POS: ')\n",
    "print(nltk.classify.accuracy(classifier, test_set))\n",
    "\n",
    "\n",
    "## cross-validation ##\n",
    "# this function takes the number of folds, the feature sets\n",
    "# it iterates over the folds, using different sections for training and testing in turn\n",
    "#   it prints the accuracy for each fold and the average accuracy at the end\n",
    "def cross_validation_accuracy(num_folds, featuresets):\n",
    "    subset_size = int(len(featuresets)/num_folds)\n",
    "    print('Each fold size:', subset_size)\n",
    "    accuracy_list = []\n",
    "    # iterate over the folds\n",
    "    for i in range(num_folds):\n",
    "        test_this_round = featuresets[(i*subset_size):][:subset_size]\n",
    "        train_this_round = featuresets[:(i*subset_size)] + featuresets[((i+1)*subset_size):]\n",
    "        # train using train_this_round\n",
    "        classifier = nltk.NaiveBayesClassifier.train(train_this_round)\n",
    "        # evaluate against test_this_round and save accuracy\n",
    "        accuracy_this_round = nltk.classify.accuracy(classifier, test_this_round)\n",
    "        print (i, accuracy_this_round)\n",
    "        accuracy_list.append(accuracy_this_round)\n",
    "    # find mean accuracy over all rounds\n",
    "    print ('mean accuracy', sum(accuracy_list) / num_folds)\n",
    "\n",
    "# perform the cross-validation on the featuresets with word features and generate accuracy\n",
    "num_folds = 5\n",
    "cross_validation_accuracy(num_folds, featuresets)\n",
    "\n",
    "\n",
    "## other evaluation measures:  confusion matrix, precision, recall, F1 ##\n",
    "\n",
    "goldlist = []\n",
    "predictedlist = []\n",
    "for (features, label) in test_set:\n",
    "    \tgoldlist.append(label)\n",
    "    \tpredictedlist.append(classifier.classify(features))\n",
    "\n",
    "# look at the first 30 examples\n",
    "print(goldlist[:30])\n",
    "print(predictedlist[:30])\n",
    "\n",
    "cm = nltk.ConfusionMatrix(goldlist, predictedlist)\n",
    "print(cm.pretty_format(sort_by_count=True, truncate=9))\n",
    "\n",
    "# or show the results as percentages\n",
    "print(cm.pretty_format(sort_by_count=True, show_percents=True, truncate=9))\n",
    "\n",
    "# Function to compute precision, recall and F1 for each label\n",
    "#  and for any number of labels\n",
    "# Input: list of gold labels, list of predicted labels (in same order)\n",
    "# Output:  prints precision, recall and F1 for each label\n",
    "def eval_measures(gold, predicted):\n",
    "    # get a list of labels\n",
    "    labels = list(set(gold))\n",
    "    # these lists have values for each label \n",
    "    recall_list = []\n",
    "    precision_list = []\n",
    "    F1_list = []\n",
    "    for lab in labels:\n",
    "        # for each label, compare gold and predicted lists and compute values\n",
    "        TP = FP = FN = TN = 0\n",
    "        for i, val in enumerate(gold):\n",
    "            if val == lab and predicted[i] == lab:  TP += 1\n",
    "            if val == lab and predicted[i] != lab:  FN += 1\n",
    "            if val != lab and predicted[i] == lab:  FP += 1\n",
    "            if val != lab and predicted[i] != lab:  TN += 1\n",
    "        # use these to compute recall, precision, F1\n",
    "        recall = TP / (TP + FP)\n",
    "        precision = TP / (TP + FN)\n",
    "        recall_list.append(recall)\n",
    "        precision_list.append(precision)\n",
    "        F1_list.append( 2 * (recall * precision) / (recall + precision))\n",
    "\n",
    "    # the evaluation measures in a table with one row per label\n",
    "    print('\\tPrecision\\tRecall\\t\\tF1')\n",
    "    # print measures for each label\n",
    "    for i, lab in enumerate(labels):\n",
    "        print(lab, '\\t', \"{:10.3f}\".format(precision_list[i]), \\\n",
    "          \"{:10.3f}\".format(recall_list[i]), \"{:10.3f}\".format(F1_list[i]))\n",
    "\n",
    "# call the function with our data\n",
    "eval_measures(goldlist, predictedlist)\n",
    "\n"
   ]
  },
  {
   "cell_type": "markdown",
   "metadata": {},
   "source": [
    "# Solution"
   ]
  },
  {
   "cell_type": "markdown",
   "metadata": {},
   "source": [
    "# Bigrame Feat Set"
   ]
  },
  {
   "cell_type": "code",
   "execution_count": 10,
   "metadata": {},
   "outputs": [
    {
     "data": {
      "text/plain": [
       "10662"
      ]
     },
     "execution_count": 10,
     "metadata": {},
     "output_type": "execute_result"
    }
   ],
   "source": [
    "len(bigram_featuresets)"
   ]
  },
  {
   "cell_type": "code",
   "execution_count": 12,
   "metadata": {},
   "outputs": [
    {
     "name": "stdout",
     "output_type": "stream",
     "text": [
      "Each fold size: 2132\n",
      "0 0.7321763602251408\n",
      "1 0.7443714821763602\n",
      "2 0.7223264540337712\n",
      "3 0.7218574108818011\n",
      "4 0.7528142589118199\n",
      "mean accuracy 0.7347091932457787\n"
     ]
    }
   ],
   "source": [
    "cross_validation_accuracy(num_folds, bigram_featuresets)"
   ]
  },
  {
   "cell_type": "markdown",
   "metadata": {},
   "source": [
    "# POS Feat Set"
   ]
  },
  {
   "cell_type": "code",
   "execution_count": 13,
   "metadata": {},
   "outputs": [
    {
     "data": {
      "text/plain": [
       "10662"
      ]
     },
     "execution_count": 13,
     "metadata": {},
     "output_type": "execute_result"
    }
   ],
   "source": [
    "len(POS_featuresets)"
   ]
  },
  {
   "cell_type": "code",
   "execution_count": 14,
   "metadata": {},
   "outputs": [
    {
     "name": "stdout",
     "output_type": "stream",
     "text": [
      "Each fold size: 2132\n",
      "0 0.7303001876172608\n",
      "1 0.7415572232645403\n",
      "2 0.7218574108818011\n",
      "3 0.7265478424015009\n",
      "4 0.7542213883677298\n",
      "mean accuracy 0.7348968105065665\n"
     ]
    }
   ],
   "source": [
    "cross_validation_accuracy(num_folds, POS_featuresets)"
   ]
  },
  {
   "cell_type": "code",
   "execution_count": null,
   "metadata": {},
   "outputs": [],
   "source": []
  }
 ],
 "metadata": {
  "kernelspec": {
   "display_name": "Python 3",
   "language": "python",
   "name": "python3"
  },
  "language_info": {
   "codemirror_mode": {
    "name": "ipython",
    "version": 3
   },
   "file_extension": ".py",
   "mimetype": "text/x-python",
   "name": "python",
   "nbconvert_exporter": "python",
   "pygments_lexer": "ipython3",
   "version": "3.8.8"
  }
 },
 "nbformat": 4,
 "nbformat_minor": 4
}
