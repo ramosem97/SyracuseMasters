{
 "cells": [
  {
   "cell_type": "markdown",
   "metadata": {},
   "source": [
    "# Imports"
   ]
  },
  {
   "cell_type": "code",
   "execution_count": 1,
   "metadata": {},
   "outputs": [],
   "source": [
    "import pandas as pd\n",
    "import numpy as np\n",
    "import matplotlib.pyplot as plt\n",
    "import seaborn as sns"
   ]
  },
  {
   "cell_type": "markdown",
   "metadata": {},
   "source": [
    "# Path"
   ]
  },
  {
   "cell_type": "code",
   "execution_count": 2,
   "metadata": {},
   "outputs": [
    {
     "data": {
      "text/plain": [
       "'/Users/ramosem/Documents/SyracuseUniversity/4th_Quarter/IST718/Lab1'"
      ]
     },
     "execution_count": 2,
     "metadata": {},
     "output_type": "execute_result"
    }
   ],
   "source": [
    "pwd"
   ]
  },
  {
   "cell_type": "code",
   "execution_count": 3,
   "metadata": {},
   "outputs": [],
   "source": [
    "path = '/Users/ramosem/Documents/SyracuseUniversity/4th_Quarter/IST718/Lab1/'"
   ]
  },
  {
   "cell_type": "markdown",
   "metadata": {},
   "source": [
    "# Read Data"
   ]
  },
  {
   "cell_type": "code",
   "execution_count": 4,
   "metadata": {},
   "outputs": [],
   "source": [
    "df = pd.read_csv(path + 'Coaches9.csv')"
   ]
  },
  {
   "cell_type": "code",
   "execution_count": 5,
   "metadata": {},
   "outputs": [
    {
     "data": {
      "text/html": [
       "<div>\n",
       "<style scoped>\n",
       "    .dataframe tbody tr th:only-of-type {\n",
       "        vertical-align: middle;\n",
       "    }\n",
       "\n",
       "    .dataframe tbody tr th {\n",
       "        vertical-align: top;\n",
       "    }\n",
       "\n",
       "    .dataframe thead th {\n",
       "        text-align: right;\n",
       "    }\n",
       "</style>\n",
       "<table border=\"1\" class=\"dataframe\">\n",
       "  <thead>\n",
       "    <tr style=\"text-align: right;\">\n",
       "      <th></th>\n",
       "      <th>School</th>\n",
       "      <th>Conference</th>\n",
       "      <th>Coach</th>\n",
       "      <th>SchoolPay</th>\n",
       "      <th>TotalPay</th>\n",
       "      <th>Bonus</th>\n",
       "      <th>BonusPaid</th>\n",
       "      <th>AssistantPay</th>\n",
       "      <th>Buyout</th>\n",
       "    </tr>\n",
       "  </thead>\n",
       "  <tbody>\n",
       "    <tr>\n",
       "      <th>0</th>\n",
       "      <td>Air Force</td>\n",
       "      <td>Mt. West</td>\n",
       "      <td>Troy Calhoun</td>\n",
       "      <td>885000</td>\n",
       "      <td>885000</td>\n",
       "      <td>247000</td>\n",
       "      <td>--</td>\n",
       "      <td>$0</td>\n",
       "      <td>--</td>\n",
       "    </tr>\n",
       "    <tr>\n",
       "      <th>1</th>\n",
       "      <td>Akron</td>\n",
       "      <td>MAC</td>\n",
       "      <td>Terry Bowden</td>\n",
       "      <td>$411,000</td>\n",
       "      <td>$412,500</td>\n",
       "      <td>$225,000</td>\n",
       "      <td>$50,000</td>\n",
       "      <td>$0</td>\n",
       "      <td>$688,500</td>\n",
       "    </tr>\n",
       "    <tr>\n",
       "      <th>2</th>\n",
       "      <td>Alabama</td>\n",
       "      <td>SEC</td>\n",
       "      <td>Nick Saban</td>\n",
       "      <td>$8,307,000</td>\n",
       "      <td>$8,307,000</td>\n",
       "      <td>$1,100,000</td>\n",
       "      <td>$500,000</td>\n",
       "      <td>$0</td>\n",
       "      <td>$33,600,000</td>\n",
       "    </tr>\n",
       "    <tr>\n",
       "      <th>3</th>\n",
       "      <td>Alabama at Birmingham</td>\n",
       "      <td>C-USA</td>\n",
       "      <td>Bill Clark</td>\n",
       "      <td>$900,000</td>\n",
       "      <td>$900,000</td>\n",
       "      <td>$950,000</td>\n",
       "      <td>$165,471</td>\n",
       "      <td>$0</td>\n",
       "      <td>$3,847,500</td>\n",
       "    </tr>\n",
       "    <tr>\n",
       "      <th>4</th>\n",
       "      <td>Appalachian State</td>\n",
       "      <td>Sun Belt</td>\n",
       "      <td>Scott Satterfield</td>\n",
       "      <td>$712,500</td>\n",
       "      <td>$712,500</td>\n",
       "      <td>$295,000</td>\n",
       "      <td>$145,000</td>\n",
       "      <td>$0</td>\n",
       "      <td>$2,160,417</td>\n",
       "    </tr>\n",
       "  </tbody>\n",
       "</table>\n",
       "</div>"
      ],
      "text/plain": [
       "                  School Conference              Coach    SchoolPay  \\\n",
       "0              Air Force   Mt. West       Troy Calhoun       885000   \n",
       "1                  Akron        MAC       Terry Bowden    $411,000    \n",
       "2                Alabama        SEC         Nick Saban  $8,307,000    \n",
       "3  Alabama at Birmingham      C-USA         Bill Clark    $900,000    \n",
       "4      Appalachian State   Sun Belt  Scott Satterfield    $712,500    \n",
       "\n",
       "      TotalPay        Bonus  BonusPaid AssistantPay        Buyout  \n",
       "0       885000       247000         --          $0             --  \n",
       "1    $412,500     $225,000    $50,000           $0      $688,500   \n",
       "2  $8,307,000   $1,100,000   $500,000           $0   $33,600,000   \n",
       "3    $900,000     $950,000   $165,471           $0    $3,847,500   \n",
       "4    $712,500     $295,000   $145,000           $0    $2,160,417   "
      ]
     },
     "execution_count": 5,
     "metadata": {},
     "output_type": "execute_result"
    }
   ],
   "source": [
    "df.head()"
   ]
  },
  {
   "cell_type": "markdown",
   "metadata": {},
   "source": [
    "# Convert Money to Float"
   ]
  },
  {
   "cell_type": "code",
   "execution_count": 6,
   "metadata": {},
   "outputs": [
    {
     "data": {
      "text/html": [
       "<div>\n",
       "<style scoped>\n",
       "    .dataframe tbody tr th:only-of-type {\n",
       "        vertical-align: middle;\n",
       "    }\n",
       "\n",
       "    .dataframe tbody tr th {\n",
       "        vertical-align: top;\n",
       "    }\n",
       "\n",
       "    .dataframe thead th {\n",
       "        text-align: right;\n",
       "    }\n",
       "</style>\n",
       "<table border=\"1\" class=\"dataframe\">\n",
       "  <thead>\n",
       "    <tr style=\"text-align: right;\">\n",
       "      <th></th>\n",
       "      <th>School</th>\n",
       "      <th>Conference</th>\n",
       "      <th>Coach</th>\n",
       "      <th>SchoolPay</th>\n",
       "      <th>TotalPay</th>\n",
       "      <th>Bonus</th>\n",
       "      <th>BonusPaid</th>\n",
       "      <th>AssistantPay</th>\n",
       "      <th>Buyout</th>\n",
       "    </tr>\n",
       "  </thead>\n",
       "  <tbody>\n",
       "    <tr>\n",
       "      <th>count</th>\n",
       "      <td>129</td>\n",
       "      <td>129</td>\n",
       "      <td>129</td>\n",
       "      <td>129</td>\n",
       "      <td>129</td>\n",
       "      <td>129</td>\n",
       "      <td>129</td>\n",
       "      <td>129</td>\n",
       "      <td>129</td>\n",
       "    </tr>\n",
       "    <tr>\n",
       "      <th>unique</th>\n",
       "      <td>129</td>\n",
       "      <td>11</td>\n",
       "      <td>129</td>\n",
       "      <td>104</td>\n",
       "      <td>105</td>\n",
       "      <td>85</td>\n",
       "      <td>51</td>\n",
       "      <td>1</td>\n",
       "      <td>102</td>\n",
       "    </tr>\n",
       "    <tr>\n",
       "      <th>top</th>\n",
       "      <td>San Jose State</td>\n",
       "      <td>ACC</td>\n",
       "      <td>Pat Fitzgerald</td>\n",
       "      <td>$3,500,000</td>\n",
       "      <td>$3,500,000</td>\n",
       "      <td>--</td>\n",
       "      <td>--</td>\n",
       "      <td>$0</td>\n",
       "      <td>--</td>\n",
       "    </tr>\n",
       "    <tr>\n",
       "      <th>freq</th>\n",
       "      <td>1</td>\n",
       "      <td>14</td>\n",
       "      <td>1</td>\n",
       "      <td>5</td>\n",
       "      <td>5</td>\n",
       "      <td>22</td>\n",
       "      <td>41</td>\n",
       "      <td>129</td>\n",
       "      <td>22</td>\n",
       "    </tr>\n",
       "  </tbody>\n",
       "</table>\n",
       "</div>"
      ],
      "text/plain": [
       "                School Conference           Coach    SchoolPay     TotalPay  \\\n",
       "count              129        129             129          129          129   \n",
       "unique             129         11             129          104          105   \n",
       "top     San Jose State        ACC  Pat Fitzgerald  $3,500,000   $3,500,000    \n",
       "freq                 1         14               1            5            5   \n",
       "\n",
       "       Bonus BonusPaid AssistantPay Buyout  \n",
       "count    129       129          129    129  \n",
       "unique    85        51            1    102  \n",
       "top       --        --          $0      --  \n",
       "freq      22        41          129     22  "
      ]
     },
     "execution_count": 6,
     "metadata": {},
     "output_type": "execute_result"
    }
   ],
   "source": [
    "df.describe()"
   ]
  },
  {
   "cell_type": "code",
   "execution_count": 7,
   "metadata": {},
   "outputs": [],
   "source": [
    "from re import sub\n",
    "from decimal import Decimal\n",
    "moneyCols = ['SchoolPay', 'TotalPay', 'Bonus', 'BonusPaid', 'AssistantPay', 'Buyout']\n",
    "for col in moneyCols:\n",
    "    df[col] = [float(Decimal(sub(r'[^\\d.]', '', val))) if val != '--' else np.nan for val in df[col].values]"
   ]
  },
  {
   "cell_type": "code",
   "execution_count": 8,
   "metadata": {},
   "outputs": [
    {
     "data": {
      "text/html": [
       "<div>\n",
       "<style scoped>\n",
       "    .dataframe tbody tr th:only-of-type {\n",
       "        vertical-align: middle;\n",
       "    }\n",
       "\n",
       "    .dataframe tbody tr th {\n",
       "        vertical-align: top;\n",
       "    }\n",
       "\n",
       "    .dataframe thead th {\n",
       "        text-align: right;\n",
       "    }\n",
       "</style>\n",
       "<table border=\"1\" class=\"dataframe\">\n",
       "  <thead>\n",
       "    <tr style=\"text-align: right;\">\n",
       "      <th></th>\n",
       "      <th>SchoolPay</th>\n",
       "      <th>TotalPay</th>\n",
       "      <th>Bonus</th>\n",
       "      <th>BonusPaid</th>\n",
       "      <th>AssistantPay</th>\n",
       "      <th>Buyout</th>\n",
       "    </tr>\n",
       "  </thead>\n",
       "  <tbody>\n",
       "    <tr>\n",
       "      <th>0</th>\n",
       "      <td>885000.0</td>\n",
       "      <td>885000.0</td>\n",
       "      <td>247000.0</td>\n",
       "      <td>NaN</td>\n",
       "      <td>0.0</td>\n",
       "      <td>NaN</td>\n",
       "    </tr>\n",
       "    <tr>\n",
       "      <th>1</th>\n",
       "      <td>411000.0</td>\n",
       "      <td>412500.0</td>\n",
       "      <td>225000.0</td>\n",
       "      <td>50000.0</td>\n",
       "      <td>0.0</td>\n",
       "      <td>688500.0</td>\n",
       "    </tr>\n",
       "    <tr>\n",
       "      <th>2</th>\n",
       "      <td>8307000.0</td>\n",
       "      <td>8307000.0</td>\n",
       "      <td>1100000.0</td>\n",
       "      <td>500000.0</td>\n",
       "      <td>0.0</td>\n",
       "      <td>33600000.0</td>\n",
       "    </tr>\n",
       "    <tr>\n",
       "      <th>3</th>\n",
       "      <td>900000.0</td>\n",
       "      <td>900000.0</td>\n",
       "      <td>950000.0</td>\n",
       "      <td>165471.0</td>\n",
       "      <td>0.0</td>\n",
       "      <td>3847500.0</td>\n",
       "    </tr>\n",
       "    <tr>\n",
       "      <th>4</th>\n",
       "      <td>712500.0</td>\n",
       "      <td>712500.0</td>\n",
       "      <td>295000.0</td>\n",
       "      <td>145000.0</td>\n",
       "      <td>0.0</td>\n",
       "      <td>2160417.0</td>\n",
       "    </tr>\n",
       "  </tbody>\n",
       "</table>\n",
       "</div>"
      ],
      "text/plain": [
       "   SchoolPay   TotalPay      Bonus  BonusPaid  AssistantPay      Buyout\n",
       "0   885000.0   885000.0   247000.0        NaN           0.0         NaN\n",
       "1   411000.0   412500.0   225000.0    50000.0           0.0    688500.0\n",
       "2  8307000.0  8307000.0  1100000.0   500000.0           0.0  33600000.0\n",
       "3   900000.0   900000.0   950000.0   165471.0           0.0   3847500.0\n",
       "4   712500.0   712500.0   295000.0   145000.0           0.0   2160417.0"
      ]
     },
     "execution_count": 8,
     "metadata": {},
     "output_type": "execute_result"
    }
   ],
   "source": [
    "df[moneyCols].head()"
   ]
  },
  {
   "cell_type": "code",
   "execution_count": 9,
   "metadata": {},
   "outputs": [
    {
     "data": {
      "text/html": [
       "<div>\n",
       "<style scoped>\n",
       "    .dataframe tbody tr th:only-of-type {\n",
       "        vertical-align: middle;\n",
       "    }\n",
       "\n",
       "    .dataframe tbody tr th {\n",
       "        vertical-align: top;\n",
       "    }\n",
       "\n",
       "    .dataframe thead th {\n",
       "        text-align: right;\n",
       "    }\n",
       "</style>\n",
       "<table border=\"1\" class=\"dataframe\">\n",
       "  <thead>\n",
       "    <tr style=\"text-align: right;\">\n",
       "      <th></th>\n",
       "      <th>SchoolPay</th>\n",
       "      <th>TotalPay</th>\n",
       "      <th>Bonus</th>\n",
       "      <th>BonusPaid</th>\n",
       "      <th>AssistantPay</th>\n",
       "      <th>Buyout</th>\n",
       "    </tr>\n",
       "  </thead>\n",
       "  <tbody>\n",
       "    <tr>\n",
       "      <th>count</th>\n",
       "      <td>1.250000e+02</td>\n",
       "      <td>1.250000e+02</td>\n",
       "      <td>1.070000e+02</td>\n",
       "      <td>8.800000e+01</td>\n",
       "      <td>129.0</td>\n",
       "      <td>1.070000e+02</td>\n",
       "    </tr>\n",
       "    <tr>\n",
       "      <th>mean</th>\n",
       "      <td>2.410301e+06</td>\n",
       "      <td>2.417061e+06</td>\n",
       "      <td>8.741782e+05</td>\n",
       "      <td>1.495243e+05</td>\n",
       "      <td>0.0</td>\n",
       "      <td>8.119107e+06</td>\n",
       "    </tr>\n",
       "    <tr>\n",
       "      <th>std</th>\n",
       "      <td>1.881377e+06</td>\n",
       "      <td>1.885752e+06</td>\n",
       "      <td>6.346974e+05</td>\n",
       "      <td>2.387579e+05</td>\n",
       "      <td>0.0</td>\n",
       "      <td>1.046135e+07</td>\n",
       "    </tr>\n",
       "    <tr>\n",
       "      <th>min</th>\n",
       "      <td>3.900000e+05</td>\n",
       "      <td>3.900000e+05</td>\n",
       "      <td>5.000000e+04</td>\n",
       "      <td>0.000000e+00</td>\n",
       "      <td>0.0</td>\n",
       "      <td>0.000000e+00</td>\n",
       "    </tr>\n",
       "    <tr>\n",
       "      <th>25%</th>\n",
       "      <td>8.015040e+05</td>\n",
       "      <td>8.058500e+05</td>\n",
       "      <td>3.950000e+05</td>\n",
       "      <td>1.937500e+04</td>\n",
       "      <td>0.0</td>\n",
       "      <td>1.200000e+06</td>\n",
       "    </tr>\n",
       "    <tr>\n",
       "      <th>50%</th>\n",
       "      <td>1.831580e+06</td>\n",
       "      <td>1.900008e+06</td>\n",
       "      <td>7.750000e+05</td>\n",
       "      <td>6.375000e+04</td>\n",
       "      <td>0.0</td>\n",
       "      <td>4.000000e+06</td>\n",
       "    </tr>\n",
       "    <tr>\n",
       "      <th>75%</th>\n",
       "      <td>3.605000e+06</td>\n",
       "      <td>3.617500e+06</td>\n",
       "      <td>1.150000e+06</td>\n",
       "      <td>1.800000e+05</td>\n",
       "      <td>0.0</td>\n",
       "      <td>1.106500e+07</td>\n",
       "    </tr>\n",
       "    <tr>\n",
       "      <th>max</th>\n",
       "      <td>8.307000e+06</td>\n",
       "      <td>8.307000e+06</td>\n",
       "      <td>3.100000e+06</td>\n",
       "      <td>1.350000e+06</td>\n",
       "      <td>0.0</td>\n",
       "      <td>6.812500e+07</td>\n",
       "    </tr>\n",
       "  </tbody>\n",
       "</table>\n",
       "</div>"
      ],
      "text/plain": [
       "          SchoolPay      TotalPay         Bonus     BonusPaid  AssistantPay  \\\n",
       "count  1.250000e+02  1.250000e+02  1.070000e+02  8.800000e+01         129.0   \n",
       "mean   2.410301e+06  2.417061e+06  8.741782e+05  1.495243e+05           0.0   \n",
       "std    1.881377e+06  1.885752e+06  6.346974e+05  2.387579e+05           0.0   \n",
       "min    3.900000e+05  3.900000e+05  5.000000e+04  0.000000e+00           0.0   \n",
       "25%    8.015040e+05  8.058500e+05  3.950000e+05  1.937500e+04           0.0   \n",
       "50%    1.831580e+06  1.900008e+06  7.750000e+05  6.375000e+04           0.0   \n",
       "75%    3.605000e+06  3.617500e+06  1.150000e+06  1.800000e+05           0.0   \n",
       "max    8.307000e+06  8.307000e+06  3.100000e+06  1.350000e+06           0.0   \n",
       "\n",
       "             Buyout  \n",
       "count  1.070000e+02  \n",
       "mean   8.119107e+06  \n",
       "std    1.046135e+07  \n",
       "min    0.000000e+00  \n",
       "25%    1.200000e+06  \n",
       "50%    4.000000e+06  \n",
       "75%    1.106500e+07  \n",
       "max    6.812500e+07  "
      ]
     },
     "execution_count": 9,
     "metadata": {},
     "output_type": "execute_result"
    }
   ],
   "source": [
    "df[moneyCols].describe()"
   ]
  },
  {
   "cell_type": "markdown",
   "metadata": {},
   "source": [
    "## Drop Unimportant Columns and Rows"
   ]
  },
  {
   "cell_type": "code",
   "execution_count": 10,
   "metadata": {},
   "outputs": [],
   "source": [
    "df = df.drop(['AssistantPay'], axis=1) # Always empty"
   ]
  },
  {
   "cell_type": "code",
   "execution_count": 11,
   "metadata": {},
   "outputs": [
    {
     "data": {
      "text/html": [
       "<div>\n",
       "<style scoped>\n",
       "    .dataframe tbody tr th:only-of-type {\n",
       "        vertical-align: middle;\n",
       "    }\n",
       "\n",
       "    .dataframe tbody tr th {\n",
       "        vertical-align: top;\n",
       "    }\n",
       "\n",
       "    .dataframe thead th {\n",
       "        text-align: right;\n",
       "    }\n",
       "</style>\n",
       "<table border=\"1\" class=\"dataframe\">\n",
       "  <thead>\n",
       "    <tr style=\"text-align: right;\">\n",
       "      <th></th>\n",
       "      <th>School</th>\n",
       "      <th>Conference</th>\n",
       "      <th>Coach</th>\n",
       "      <th>SchoolPay</th>\n",
       "      <th>TotalPay</th>\n",
       "      <th>Bonus</th>\n",
       "      <th>BonusPaid</th>\n",
       "      <th>Buyout</th>\n",
       "    </tr>\n",
       "  </thead>\n",
       "  <tbody>\n",
       "    <tr>\n",
       "      <th>12</th>\n",
       "      <td>Baylor</td>\n",
       "      <td>Big 12</td>\n",
       "      <td>Matt Rhule</td>\n",
       "      <td>NaN</td>\n",
       "      <td>NaN</td>\n",
       "      <td>NaN</td>\n",
       "      <td>NaN</td>\n",
       "      <td>NaN</td>\n",
       "    </tr>\n",
       "    <tr>\n",
       "      <th>16</th>\n",
       "      <td>Brigham Young</td>\n",
       "      <td>Ind.</td>\n",
       "      <td>Kalani Sitake</td>\n",
       "      <td>NaN</td>\n",
       "      <td>NaN</td>\n",
       "      <td>NaN</td>\n",
       "      <td>NaN</td>\n",
       "      <td>NaN</td>\n",
       "    </tr>\n",
       "    <tr>\n",
       "      <th>91</th>\n",
       "      <td>Rice</td>\n",
       "      <td>C-USA</td>\n",
       "      <td>Mike Bloomgren</td>\n",
       "      <td>NaN</td>\n",
       "      <td>NaN</td>\n",
       "      <td>NaN</td>\n",
       "      <td>NaN</td>\n",
       "      <td>NaN</td>\n",
       "    </tr>\n",
       "    <tr>\n",
       "      <th>99</th>\n",
       "      <td>Southern Methodist</td>\n",
       "      <td>AAC</td>\n",
       "      <td>Sonny Dykes</td>\n",
       "      <td>NaN</td>\n",
       "      <td>NaN</td>\n",
       "      <td>NaN</td>\n",
       "      <td>NaN</td>\n",
       "      <td>NaN</td>\n",
       "    </tr>\n",
       "  </tbody>\n",
       "</table>\n",
       "</div>"
      ],
      "text/plain": [
       "                School Conference           Coach  SchoolPay  TotalPay  Bonus  \\\n",
       "12              Baylor     Big 12      Matt Rhule        NaN       NaN    NaN   \n",
       "16       Brigham Young       Ind.   Kalani Sitake        NaN       NaN    NaN   \n",
       "91                Rice      C-USA  Mike Bloomgren        NaN       NaN    NaN   \n",
       "99  Southern Methodist        AAC     Sonny Dykes        NaN       NaN    NaN   \n",
       "\n",
       "    BonusPaid  Buyout  \n",
       "12        NaN     NaN  \n",
       "16        NaN     NaN  \n",
       "91        NaN     NaN  \n",
       "99        NaN     NaN  "
      ]
     },
     "execution_count": 11,
     "metadata": {},
     "output_type": "execute_result"
    }
   ],
   "source": [
    "moneyCols = ['SchoolPay', 'TotalPay', 'Bonus', 'BonusPaid', 'Buyout']\n",
    "df.loc[(df[moneyCols].isnull()).all(axis=1)] # Find Rows with all empty values"
   ]
  },
  {
   "cell_type": "code",
   "execution_count": 12,
   "metadata": {},
   "outputs": [],
   "source": [
    "df = df.loc[~(df[moneyCols].isnull()).all(axis=1)].reset_index(drop=True)"
   ]
  },
  {
   "cell_type": "code",
   "execution_count": 13,
   "metadata": {},
   "outputs": [
    {
     "data": {
      "text/html": [
       "<div>\n",
       "<style scoped>\n",
       "    .dataframe tbody tr th:only-of-type {\n",
       "        vertical-align: middle;\n",
       "    }\n",
       "\n",
       "    .dataframe tbody tr th {\n",
       "        vertical-align: top;\n",
       "    }\n",
       "\n",
       "    .dataframe thead th {\n",
       "        text-align: right;\n",
       "    }\n",
       "</style>\n",
       "<table border=\"1\" class=\"dataframe\">\n",
       "  <thead>\n",
       "    <tr style=\"text-align: right;\">\n",
       "      <th></th>\n",
       "      <th>School</th>\n",
       "      <th>Conference</th>\n",
       "      <th>Coach</th>\n",
       "      <th>SchoolPay</th>\n",
       "      <th>TotalPay</th>\n",
       "      <th>Bonus</th>\n",
       "      <th>BonusPaid</th>\n",
       "      <th>Buyout</th>\n",
       "    </tr>\n",
       "  </thead>\n",
       "  <tbody>\n",
       "    <tr>\n",
       "      <th>0</th>\n",
       "      <td>Air Force</td>\n",
       "      <td>Mt. West</td>\n",
       "      <td>Troy Calhoun</td>\n",
       "      <td>885000.0</td>\n",
       "      <td>885000.0</td>\n",
       "      <td>247000.0</td>\n",
       "      <td>NaN</td>\n",
       "      <td>NaN</td>\n",
       "    </tr>\n",
       "    <tr>\n",
       "      <th>1</th>\n",
       "      <td>Akron</td>\n",
       "      <td>MAC</td>\n",
       "      <td>Terry Bowden</td>\n",
       "      <td>411000.0</td>\n",
       "      <td>412500.0</td>\n",
       "      <td>225000.0</td>\n",
       "      <td>50000.0</td>\n",
       "      <td>688500.0</td>\n",
       "    </tr>\n",
       "    <tr>\n",
       "      <th>2</th>\n",
       "      <td>Alabama</td>\n",
       "      <td>SEC</td>\n",
       "      <td>Nick Saban</td>\n",
       "      <td>8307000.0</td>\n",
       "      <td>8307000.0</td>\n",
       "      <td>1100000.0</td>\n",
       "      <td>500000.0</td>\n",
       "      <td>33600000.0</td>\n",
       "    </tr>\n",
       "    <tr>\n",
       "      <th>3</th>\n",
       "      <td>Alabama at Birmingham</td>\n",
       "      <td>C-USA</td>\n",
       "      <td>Bill Clark</td>\n",
       "      <td>900000.0</td>\n",
       "      <td>900000.0</td>\n",
       "      <td>950000.0</td>\n",
       "      <td>165471.0</td>\n",
       "      <td>3847500.0</td>\n",
       "    </tr>\n",
       "    <tr>\n",
       "      <th>4</th>\n",
       "      <td>Appalachian State</td>\n",
       "      <td>Sun Belt</td>\n",
       "      <td>Scott Satterfield</td>\n",
       "      <td>712500.0</td>\n",
       "      <td>712500.0</td>\n",
       "      <td>295000.0</td>\n",
       "      <td>145000.0</td>\n",
       "      <td>2160417.0</td>\n",
       "    </tr>\n",
       "  </tbody>\n",
       "</table>\n",
       "</div>"
      ],
      "text/plain": [
       "                  School Conference              Coach  SchoolPay   TotalPay  \\\n",
       "0              Air Force   Mt. West       Troy Calhoun   885000.0   885000.0   \n",
       "1                  Akron        MAC       Terry Bowden   411000.0   412500.0   \n",
       "2                Alabama        SEC         Nick Saban  8307000.0  8307000.0   \n",
       "3  Alabama at Birmingham      C-USA         Bill Clark   900000.0   900000.0   \n",
       "4      Appalachian State   Sun Belt  Scott Satterfield   712500.0   712500.0   \n",
       "\n",
       "       Bonus  BonusPaid      Buyout  \n",
       "0   247000.0        NaN         NaN  \n",
       "1   225000.0    50000.0    688500.0  \n",
       "2  1100000.0   500000.0  33600000.0  \n",
       "3   950000.0   165471.0   3847500.0  \n",
       "4   295000.0   145000.0   2160417.0  "
      ]
     },
     "execution_count": 13,
     "metadata": {},
     "output_type": "execute_result"
    }
   ],
   "source": [
    "df.head()"
   ]
  },
  {
   "cell_type": "markdown",
   "metadata": {},
   "source": [
    "# Merge Other Dataset"
   ]
  },
  {
   "cell_type": "markdown",
   "metadata": {},
   "source": [
    "### Mapping Other School Data to Coaches csv"
   ]
  },
  {
   "cell_type": "code",
   "execution_count": 14,
   "metadata": {},
   "outputs": [],
   "source": [
    "simnames = pd.read_csv(path + 'simName.csv')"
   ]
  },
  {
   "cell_type": "code",
   "execution_count": 15,
   "metadata": {},
   "outputs": [
    {
     "data": {
      "text/html": [
       "<div>\n",
       "<style scoped>\n",
       "    .dataframe tbody tr th:only-of-type {\n",
       "        vertical-align: middle;\n",
       "    }\n",
       "\n",
       "    .dataframe tbody tr th {\n",
       "        vertical-align: top;\n",
       "    }\n",
       "\n",
       "    .dataframe thead th {\n",
       "        text-align: right;\n",
       "    }\n",
       "</style>\n",
       "<table border=\"1\" class=\"dataframe\">\n",
       "  <thead>\n",
       "    <tr style=\"text-align: right;\">\n",
       "      <th></th>\n",
       "      <th>SchoolName</th>\n",
       "      <th>FullName</th>\n",
       "    </tr>\n",
       "  </thead>\n",
       "  <tbody>\n",
       "    <tr>\n",
       "      <th>0</th>\n",
       "      <td>Air Force</td>\n",
       "      <td>United States Air Force Academy</td>\n",
       "    </tr>\n",
       "    <tr>\n",
       "      <th>1</th>\n",
       "      <td>Akron</td>\n",
       "      <td>University of Akron Main Campus</td>\n",
       "    </tr>\n",
       "    <tr>\n",
       "      <th>2</th>\n",
       "      <td>Alabama</td>\n",
       "      <td>The University of Alabama</td>\n",
       "    </tr>\n",
       "    <tr>\n",
       "      <th>3</th>\n",
       "      <td>Alabama at Birmingham</td>\n",
       "      <td>University of Alabama at Birmingham</td>\n",
       "    </tr>\n",
       "    <tr>\n",
       "      <th>4</th>\n",
       "      <td>Appalachian State</td>\n",
       "      <td>Appalachian State University</td>\n",
       "    </tr>\n",
       "  </tbody>\n",
       "</table>\n",
       "</div>"
      ],
      "text/plain": [
       "              SchoolName                             FullName\n",
       "0              Air Force      United States Air Force Academy\n",
       "1                  Akron      University of Akron Main Campus\n",
       "2                Alabama            The University of Alabama\n",
       "3  Alabama at Birmingham  University of Alabama at Birmingham\n",
       "4      Appalachian State         Appalachian State University"
      ]
     },
     "execution_count": 15,
     "metadata": {},
     "output_type": "execute_result"
    }
   ],
   "source": [
    "simnames.head()"
   ]
  },
  {
   "cell_type": "code",
   "execution_count": 16,
   "metadata": {},
   "outputs": [],
   "source": [
    "df = df.merge(simnames, left_on='School', right_on='SchoolName', how='left')"
   ]
  },
  {
   "cell_type": "code",
   "execution_count": 17,
   "metadata": {},
   "outputs": [
    {
     "data": {
      "text/html": [
       "<div>\n",
       "<style scoped>\n",
       "    .dataframe tbody tr th:only-of-type {\n",
       "        vertical-align: middle;\n",
       "    }\n",
       "\n",
       "    .dataframe tbody tr th {\n",
       "        vertical-align: top;\n",
       "    }\n",
       "\n",
       "    .dataframe thead th {\n",
       "        text-align: right;\n",
       "    }\n",
       "</style>\n",
       "<table border=\"1\" class=\"dataframe\">\n",
       "  <thead>\n",
       "    <tr style=\"text-align: right;\">\n",
       "      <th></th>\n",
       "      <th>School</th>\n",
       "      <th>Conference</th>\n",
       "      <th>Coach</th>\n",
       "      <th>SchoolPay</th>\n",
       "      <th>TotalPay</th>\n",
       "      <th>Bonus</th>\n",
       "      <th>BonusPaid</th>\n",
       "      <th>Buyout</th>\n",
       "      <th>SchoolName</th>\n",
       "      <th>FullName</th>\n",
       "    </tr>\n",
       "  </thead>\n",
       "  <tbody>\n",
       "    <tr>\n",
       "      <th>0</th>\n",
       "      <td>Air Force</td>\n",
       "      <td>Mt. West</td>\n",
       "      <td>Troy Calhoun</td>\n",
       "      <td>885000.0</td>\n",
       "      <td>885000.0</td>\n",
       "      <td>247000.0</td>\n",
       "      <td>NaN</td>\n",
       "      <td>NaN</td>\n",
       "      <td>Air Force</td>\n",
       "      <td>United States Air Force Academy</td>\n",
       "    </tr>\n",
       "    <tr>\n",
       "      <th>1</th>\n",
       "      <td>Akron</td>\n",
       "      <td>MAC</td>\n",
       "      <td>Terry Bowden</td>\n",
       "      <td>411000.0</td>\n",
       "      <td>412500.0</td>\n",
       "      <td>225000.0</td>\n",
       "      <td>50000.0</td>\n",
       "      <td>688500.0</td>\n",
       "      <td>Akron</td>\n",
       "      <td>University of Akron Main Campus</td>\n",
       "    </tr>\n",
       "    <tr>\n",
       "      <th>2</th>\n",
       "      <td>Alabama</td>\n",
       "      <td>SEC</td>\n",
       "      <td>Nick Saban</td>\n",
       "      <td>8307000.0</td>\n",
       "      <td>8307000.0</td>\n",
       "      <td>1100000.0</td>\n",
       "      <td>500000.0</td>\n",
       "      <td>33600000.0</td>\n",
       "      <td>Alabama</td>\n",
       "      <td>The University of Alabama</td>\n",
       "    </tr>\n",
       "    <tr>\n",
       "      <th>3</th>\n",
       "      <td>Alabama at Birmingham</td>\n",
       "      <td>C-USA</td>\n",
       "      <td>Bill Clark</td>\n",
       "      <td>900000.0</td>\n",
       "      <td>900000.0</td>\n",
       "      <td>950000.0</td>\n",
       "      <td>165471.0</td>\n",
       "      <td>3847500.0</td>\n",
       "      <td>Alabama at Birmingham</td>\n",
       "      <td>University of Alabama at Birmingham</td>\n",
       "    </tr>\n",
       "    <tr>\n",
       "      <th>4</th>\n",
       "      <td>Appalachian State</td>\n",
       "      <td>Sun Belt</td>\n",
       "      <td>Scott Satterfield</td>\n",
       "      <td>712500.0</td>\n",
       "      <td>712500.0</td>\n",
       "      <td>295000.0</td>\n",
       "      <td>145000.0</td>\n",
       "      <td>2160417.0</td>\n",
       "      <td>Appalachian State</td>\n",
       "      <td>Appalachian State University</td>\n",
       "    </tr>\n",
       "  </tbody>\n",
       "</table>\n",
       "</div>"
      ],
      "text/plain": [
       "                  School Conference              Coach  SchoolPay   TotalPay  \\\n",
       "0              Air Force   Mt. West       Troy Calhoun   885000.0   885000.0   \n",
       "1                  Akron        MAC       Terry Bowden   411000.0   412500.0   \n",
       "2                Alabama        SEC         Nick Saban  8307000.0  8307000.0   \n",
       "3  Alabama at Birmingham      C-USA         Bill Clark   900000.0   900000.0   \n",
       "4      Appalachian State   Sun Belt  Scott Satterfield   712500.0   712500.0   \n",
       "\n",
       "       Bonus  BonusPaid      Buyout             SchoolName  \\\n",
       "0   247000.0        NaN         NaN              Air Force   \n",
       "1   225000.0    50000.0    688500.0                  Akron   \n",
       "2  1100000.0   500000.0  33600000.0                Alabama   \n",
       "3   950000.0   165471.0   3847500.0  Alabama at Birmingham   \n",
       "4   295000.0   145000.0   2160417.0      Appalachian State   \n",
       "\n",
       "                              FullName  \n",
       "0      United States Air Force Academy  \n",
       "1      University of Akron Main Campus  \n",
       "2            The University of Alabama  \n",
       "3  University of Alabama at Birmingham  \n",
       "4         Appalachian State University  "
      ]
     },
     "execution_count": 17,
     "metadata": {},
     "output_type": "execute_result"
    }
   ],
   "source": [
    "df.head()"
   ]
  },
  {
   "cell_type": "markdown",
   "metadata": {},
   "source": [
    "## Merge GSR and FEDRATE"
   ]
  },
  {
   "cell_type": "code",
   "execution_count": 18,
   "metadata": {},
   "outputs": [],
   "source": [
    "odf = pd.read_csv(path + 'OtherSchoolData.csv')"
   ]
  },
  {
   "cell_type": "markdown",
   "metadata": {},
   "source": [
    "### Get Relevant Columns Only"
   ]
  },
  {
   "cell_type": "code",
   "execution_count": 19,
   "metadata": {},
   "outputs": [],
   "source": [
    "# We need to find the most relevant columns. In order to do so, we take the latest years data and get rid of the rest.\n",
    "goodCols = ['DATATAB_SCHOOL_INFO', 'SCL_UNITID', 'SCL_NAME', 'SCL_DIVISION',\n",
    "       'SCL_SUBDIVISION', 'SCL_CONFERENCE', 'DIV1_FB_CONFERENCE',\n",
    "       'SCL_HBCU', 'SCL_PRIVATE', 'DATATAB_4YR_OVERALL_FED_SA',\n",
    "       'FED_N_SA', 'FED_RATE_SA', 'DATATAB_4YR_OVERALL_GSR_SA',\n",
    "       'GSR_N_SA', 'GSR_SA', 'DATATAB_4YR_GENDER_FED_SA', 'FED_N_MALE_SA',\n",
    "       'FED_RATE_MALE_SA', 'FED_N_FEMALE_SA', 'FED_RATE_FEMALE_SA',\n",
    "       'DATATAB_4YR_GENDER_GSR_SA', 'GSR_N_MALE_SA', 'GSR_MALE_SA',\n",
    "       'GSR_N_FEMALE_SA', 'GSR_FEMALE_SA', 'DATATAB_4YR_RACE_FED_SA',\n",
    "       'FED_RATE_AA_SA', 'FED_RATE_OTHER_SA', 'FED_RATE_WH_SA',\n",
    "       'DATATAB_4YR_RACE_GSR_SA', 'GSR_AA_SA', 'GSR_OTHER_SA',\n",
    "       'GSR_WH_SA', 'DATATAB_4YR_GENDERRACE_FED_SA',\n",
    "       'FED_RATE_MALE_AA_SA', 'FED_RATE_MALE_OTHER_SA',\n",
    "       'FED_RATE_MALE_WH_SA', 'FED_RATE_FEMALE_AA_SA',\n",
    "       'FED_RATE_FEMALE_OTHER_SA', 'FED_RATE_FEMALE_WH_SA',\n",
    "       'DATATAB_4YR_GENDERRACE_GSR_SA', 'GSR_MALE_AA_SA',\n",
    "       'GSR_MALE_OTHER_SA', 'GSR_MALE_WH_SA', 'GSR_FEMALE_AA_SA',\n",
    "       'GSR_FEMALE_OTHER_SA', 'GSR_FEMALE_WH_SA',\n",
    "       'DATATAB_SINGLEYR_OVERALL_FED_SA']\n",
    "\n",
    "for col in odf.columns.values:\n",
    "    if (col in goodCols):\n",
    "        continue\n",
    "    elif '2006' in col:\n",
    "        goodCols.append(col)\n",
    "odf = odf[goodCols]"
   ]
  },
  {
   "cell_type": "code",
   "execution_count": 20,
   "metadata": {},
   "outputs": [
    {
     "name": "stdout",
     "output_type": "stream",
     "text": [
      "59\n"
     ]
    }
   ],
   "source": [
    "print(len(odf.columns.values))"
   ]
  },
  {
   "cell_type": "markdown",
   "metadata": {},
   "source": [
    "### Merge Files Together"
   ]
  },
  {
   "cell_type": "code",
   "execution_count": 21,
   "metadata": {},
   "outputs": [],
   "source": [
    "df = df.merge(odf, how='left', left_on='FullName', right_on='SCL_NAME')"
   ]
  },
  {
   "cell_type": "code",
   "execution_count": 22,
   "metadata": {},
   "outputs": [
    {
     "data": {
      "text/html": [
       "<div>\n",
       "<style scoped>\n",
       "    .dataframe tbody tr th:only-of-type {\n",
       "        vertical-align: middle;\n",
       "    }\n",
       "\n",
       "    .dataframe tbody tr th {\n",
       "        vertical-align: top;\n",
       "    }\n",
       "\n",
       "    .dataframe thead th {\n",
       "        text-align: right;\n",
       "    }\n",
       "</style>\n",
       "<table border=\"1\" class=\"dataframe\">\n",
       "  <thead>\n",
       "    <tr style=\"text-align: right;\">\n",
       "      <th></th>\n",
       "      <th>School</th>\n",
       "      <th>Conference</th>\n",
       "      <th>Coach</th>\n",
       "      <th>SchoolPay</th>\n",
       "      <th>TotalPay</th>\n",
       "      <th>Bonus</th>\n",
       "      <th>BonusPaid</th>\n",
       "      <th>Buyout</th>\n",
       "      <th>SchoolName</th>\n",
       "      <th>FullName</th>\n",
       "      <th>...</th>\n",
       "      <th>FED_RATE_2006_SA</th>\n",
       "      <th>GSR_N_2006_SA</th>\n",
       "      <th>GSR_2006_SA</th>\n",
       "      <th>FED_RATE_MALE_2006_SA</th>\n",
       "      <th>FED_RATE_FEMALE_2006_SA</th>\n",
       "      <th>GSR_MALE_2006_SA</th>\n",
       "      <th>GSR_FEMALE_2006_SA</th>\n",
       "      <th>FED_RATE_2006_SB</th>\n",
       "      <th>FED_RATE_MALE_2006_SB</th>\n",
       "      <th>FED_RATE_FEMALE_2006_SB</th>\n",
       "    </tr>\n",
       "  </thead>\n",
       "  <tbody>\n",
       "  </tbody>\n",
       "</table>\n",
       "<p>0 rows × 69 columns</p>\n",
       "</div>"
      ],
      "text/plain": [
       "Empty DataFrame\n",
       "Columns: [School, Conference, Coach, SchoolPay, TotalPay, Bonus, BonusPaid, Buyout, SchoolName, FullName, DATATAB_SCHOOL_INFO, SCL_UNITID, SCL_NAME, SCL_DIVISION, SCL_SUBDIVISION, SCL_CONFERENCE, DIV1_FB_CONFERENCE, SCL_HBCU, SCL_PRIVATE, DATATAB_4YR_OVERALL_FED_SA, FED_N_SA, FED_RATE_SA, DATATAB_4YR_OVERALL_GSR_SA, GSR_N_SA, GSR_SA, DATATAB_4YR_GENDER_FED_SA, FED_N_MALE_SA, FED_RATE_MALE_SA, FED_N_FEMALE_SA, FED_RATE_FEMALE_SA, DATATAB_4YR_GENDER_GSR_SA, GSR_N_MALE_SA, GSR_MALE_SA, GSR_N_FEMALE_SA, GSR_FEMALE_SA, DATATAB_4YR_RACE_FED_SA, FED_RATE_AA_SA, FED_RATE_OTHER_SA, FED_RATE_WH_SA, DATATAB_4YR_RACE_GSR_SA, GSR_AA_SA, GSR_OTHER_SA, GSR_WH_SA, DATATAB_4YR_GENDERRACE_FED_SA, FED_RATE_MALE_AA_SA, FED_RATE_MALE_OTHER_SA, FED_RATE_MALE_WH_SA, FED_RATE_FEMALE_AA_SA, FED_RATE_FEMALE_OTHER_SA, FED_RATE_FEMALE_WH_SA, DATATAB_4YR_GENDERRACE_GSR_SA, GSR_MALE_AA_SA, GSR_MALE_OTHER_SA, GSR_MALE_WH_SA, GSR_FEMALE_AA_SA, GSR_FEMALE_OTHER_SA, GSR_FEMALE_WH_SA, DATATAB_SINGLEYR_OVERALL_FED_SA, FED_N_2006_SA, FED_RATE_2006_SA, GSR_N_2006_SA, GSR_2006_SA, FED_RATE_MALE_2006_SA, FED_RATE_FEMALE_2006_SA, GSR_MALE_2006_SA, GSR_FEMALE_2006_SA, FED_RATE_2006_SB, FED_RATE_MALE_2006_SB, FED_RATE_FEMALE_2006_SB]\n",
       "Index: []\n",
       "\n",
       "[0 rows x 69 columns]"
      ]
     },
     "execution_count": 22,
     "metadata": {},
     "output_type": "execute_result"
    }
   ],
   "source": [
    "# Make Sure all Rows were merged correctly\n",
    "df.loc[(df[goodCols].isnull()).all(axis=1)]"
   ]
  },
  {
   "cell_type": "code",
   "execution_count": 23,
   "metadata": {},
   "outputs": [
    {
     "data": {
      "text/plain": [
       "Index(['School', 'Conference', 'Coach', 'SchoolPay', 'TotalPay', 'Bonus',\n",
       "       'BonusPaid', 'Buyout', 'SchoolName', 'FullName', 'DATATAB_SCHOOL_INFO',\n",
       "       'SCL_UNITID', 'SCL_NAME', 'SCL_DIVISION', 'SCL_SUBDIVISION',\n",
       "       'SCL_CONFERENCE', 'DIV1_FB_CONFERENCE', 'SCL_HBCU', 'SCL_PRIVATE',\n",
       "       'DATATAB_4YR_OVERALL_FED_SA', 'FED_N_SA', 'FED_RATE_SA',\n",
       "       'DATATAB_4YR_OVERALL_GSR_SA', 'GSR_N_SA', 'GSR_SA',\n",
       "       'DATATAB_4YR_GENDER_FED_SA', 'FED_N_MALE_SA', 'FED_RATE_MALE_SA',\n",
       "       'FED_N_FEMALE_SA', 'FED_RATE_FEMALE_SA', 'DATATAB_4YR_GENDER_GSR_SA',\n",
       "       'GSR_N_MALE_SA', 'GSR_MALE_SA', 'GSR_N_FEMALE_SA', 'GSR_FEMALE_SA',\n",
       "       'DATATAB_4YR_RACE_FED_SA', 'FED_RATE_AA_SA', 'FED_RATE_OTHER_SA',\n",
       "       'FED_RATE_WH_SA', 'DATATAB_4YR_RACE_GSR_SA', 'GSR_AA_SA',\n",
       "       'GSR_OTHER_SA', 'GSR_WH_SA', 'DATATAB_4YR_GENDERRACE_FED_SA',\n",
       "       'FED_RATE_MALE_AA_SA', 'FED_RATE_MALE_OTHER_SA', 'FED_RATE_MALE_WH_SA',\n",
       "       'FED_RATE_FEMALE_AA_SA', 'FED_RATE_FEMALE_OTHER_SA',\n",
       "       'FED_RATE_FEMALE_WH_SA', 'DATATAB_4YR_GENDERRACE_GSR_SA',\n",
       "       'GSR_MALE_AA_SA', 'GSR_MALE_OTHER_SA', 'GSR_MALE_WH_SA',\n",
       "       'GSR_FEMALE_AA_SA', 'GSR_FEMALE_OTHER_SA', 'GSR_FEMALE_WH_SA',\n",
       "       'DATATAB_SINGLEYR_OVERALL_FED_SA', 'FED_N_2006_SA', 'FED_RATE_2006_SA',\n",
       "       'GSR_N_2006_SA', 'GSR_2006_SA', 'FED_RATE_MALE_2006_SA',\n",
       "       'FED_RATE_FEMALE_2006_SA', 'GSR_MALE_2006_SA', 'GSR_FEMALE_2006_SA',\n",
       "       'FED_RATE_2006_SB', 'FED_RATE_MALE_2006_SB', 'FED_RATE_FEMALE_2006_SB'],\n",
       "      dtype='object')"
      ]
     },
     "execution_count": 23,
     "metadata": {},
     "output_type": "execute_result"
    }
   ],
   "source": [
    "df.columns"
   ]
  },
  {
   "cell_type": "code",
   "execution_count": 24,
   "metadata": {},
   "outputs": [],
   "source": [
    "# Should Only Keep Columns from 2006 (According to Lab Description)\n",
    "goodCols = ['School', 'Conference', 'Coach', 'SchoolPay', 'TotalPay', 'Bonus',\n",
    "       'BonusPaid', 'Buyout', 'FullName', 'SCL_HBCU', 'SCL_PRIVATE',\n",
    "       'FED_N_2006_SA', 'FED_RATE_2006_SA',\n",
    "       'GSR_N_2006_SA', 'GSR_2006_SA', 'FED_RATE_MALE_2006_SA',\n",
    "       'FED_RATE_FEMALE_2006_SA', 'GSR_MALE_2006_SA', 'GSR_FEMALE_2006_SA',\n",
    "       'FED_RATE_2006_SB', 'FED_RATE_MALE_2006_SB', 'FED_RATE_FEMALE_2006_SB']\n",
    "df = df[goodCols]"
   ]
  },
  {
   "cell_type": "code",
   "execution_count": 25,
   "metadata": {},
   "outputs": [
    {
     "data": {
      "text/html": [
       "<div>\n",
       "<style scoped>\n",
       "    .dataframe tbody tr th:only-of-type {\n",
       "        vertical-align: middle;\n",
       "    }\n",
       "\n",
       "    .dataframe tbody tr th {\n",
       "        vertical-align: top;\n",
       "    }\n",
       "\n",
       "    .dataframe thead th {\n",
       "        text-align: right;\n",
       "    }\n",
       "</style>\n",
       "<table border=\"1\" class=\"dataframe\">\n",
       "  <thead>\n",
       "    <tr style=\"text-align: right;\">\n",
       "      <th></th>\n",
       "      <th>School</th>\n",
       "      <th>Conference</th>\n",
       "      <th>Coach</th>\n",
       "      <th>SchoolPay</th>\n",
       "      <th>TotalPay</th>\n",
       "      <th>Bonus</th>\n",
       "      <th>BonusPaid</th>\n",
       "      <th>Buyout</th>\n",
       "      <th>FullName</th>\n",
       "      <th>SCL_HBCU</th>\n",
       "      <th>...</th>\n",
       "      <th>FED_RATE_2006_SA</th>\n",
       "      <th>GSR_N_2006_SA</th>\n",
       "      <th>GSR_2006_SA</th>\n",
       "      <th>FED_RATE_MALE_2006_SA</th>\n",
       "      <th>FED_RATE_FEMALE_2006_SA</th>\n",
       "      <th>GSR_MALE_2006_SA</th>\n",
       "      <th>GSR_FEMALE_2006_SA</th>\n",
       "      <th>FED_RATE_2006_SB</th>\n",
       "      <th>FED_RATE_MALE_2006_SB</th>\n",
       "      <th>FED_RATE_FEMALE_2006_SB</th>\n",
       "    </tr>\n",
       "  </thead>\n",
       "  <tbody>\n",
       "    <tr>\n",
       "      <th>0</th>\n",
       "      <td>Air Force</td>\n",
       "      <td>Mt. West</td>\n",
       "      <td>Troy Calhoun</td>\n",
       "      <td>885000.0</td>\n",
       "      <td>885000.0</td>\n",
       "      <td>247000.0</td>\n",
       "      <td>NaN</td>\n",
       "      <td>NaN</td>\n",
       "      <td>United States Air Force Academy</td>\n",
       "      <td>2</td>\n",
       "      <td>...</td>\n",
       "      <td>-99</td>\n",
       "      <td>137</td>\n",
       "      <td>86</td>\n",
       "      <td>-99</td>\n",
       "      <td>-99</td>\n",
       "      <td>86</td>\n",
       "      <td>87</td>\n",
       "      <td>80</td>\n",
       "      <td>81</td>\n",
       "      <td>77</td>\n",
       "    </tr>\n",
       "    <tr>\n",
       "      <th>1</th>\n",
       "      <td>Akron</td>\n",
       "      <td>MAC</td>\n",
       "      <td>Terry Bowden</td>\n",
       "      <td>411000.0</td>\n",
       "      <td>412500.0</td>\n",
       "      <td>225000.0</td>\n",
       "      <td>50000.0</td>\n",
       "      <td>688500.0</td>\n",
       "      <td>University of Akron Main Campus</td>\n",
       "      <td>2</td>\n",
       "      <td>...</td>\n",
       "      <td>61</td>\n",
       "      <td>84</td>\n",
       "      <td>74</td>\n",
       "      <td>62</td>\n",
       "      <td>60</td>\n",
       "      <td>67</td>\n",
       "      <td>82</td>\n",
       "      <td>41</td>\n",
       "      <td>38</td>\n",
       "      <td>45</td>\n",
       "    </tr>\n",
       "    <tr>\n",
       "      <th>2</th>\n",
       "      <td>Alabama</td>\n",
       "      <td>SEC</td>\n",
       "      <td>Nick Saban</td>\n",
       "      <td>8307000.0</td>\n",
       "      <td>8307000.0</td>\n",
       "      <td>1100000.0</td>\n",
       "      <td>500000.0</td>\n",
       "      <td>33600000.0</td>\n",
       "      <td>The University of Alabama</td>\n",
       "      <td>2</td>\n",
       "      <td>...</td>\n",
       "      <td>70</td>\n",
       "      <td>75</td>\n",
       "      <td>92</td>\n",
       "      <td>56</td>\n",
       "      <td>84</td>\n",
       "      <td>84</td>\n",
       "      <td>100</td>\n",
       "      <td>67</td>\n",
       "      <td>64</td>\n",
       "      <td>69</td>\n",
       "    </tr>\n",
       "    <tr>\n",
       "      <th>3</th>\n",
       "      <td>Alabama at Birmingham</td>\n",
       "      <td>C-USA</td>\n",
       "      <td>Bill Clark</td>\n",
       "      <td>900000.0</td>\n",
       "      <td>900000.0</td>\n",
       "      <td>950000.0</td>\n",
       "      <td>165471.0</td>\n",
       "      <td>3847500.0</td>\n",
       "      <td>University of Alabama at Birmingham</td>\n",
       "      <td>2</td>\n",
       "      <td>...</td>\n",
       "      <td>57</td>\n",
       "      <td>77</td>\n",
       "      <td>66</td>\n",
       "      <td>48</td>\n",
       "      <td>68</td>\n",
       "      <td>59</td>\n",
       "      <td>81</td>\n",
       "      <td>48</td>\n",
       "      <td>47</td>\n",
       "      <td>49</td>\n",
       "    </tr>\n",
       "    <tr>\n",
       "      <th>4</th>\n",
       "      <td>Appalachian State</td>\n",
       "      <td>Sun Belt</td>\n",
       "      <td>Scott Satterfield</td>\n",
       "      <td>712500.0</td>\n",
       "      <td>712500.0</td>\n",
       "      <td>295000.0</td>\n",
       "      <td>145000.0</td>\n",
       "      <td>2160417.0</td>\n",
       "      <td>Appalachian State University</td>\n",
       "      <td>2</td>\n",
       "      <td>...</td>\n",
       "      <td>65</td>\n",
       "      <td>74</td>\n",
       "      <td>84</td>\n",
       "      <td>64</td>\n",
       "      <td>66</td>\n",
       "      <td>83</td>\n",
       "      <td>85</td>\n",
       "      <td>66</td>\n",
       "      <td>61</td>\n",
       "      <td>71</td>\n",
       "    </tr>\n",
       "  </tbody>\n",
       "</table>\n",
       "<p>5 rows × 22 columns</p>\n",
       "</div>"
      ],
      "text/plain": [
       "                  School Conference              Coach  SchoolPay   TotalPay  \\\n",
       "0              Air Force   Mt. West       Troy Calhoun   885000.0   885000.0   \n",
       "1                  Akron        MAC       Terry Bowden   411000.0   412500.0   \n",
       "2                Alabama        SEC         Nick Saban  8307000.0  8307000.0   \n",
       "3  Alabama at Birmingham      C-USA         Bill Clark   900000.0   900000.0   \n",
       "4      Appalachian State   Sun Belt  Scott Satterfield   712500.0   712500.0   \n",
       "\n",
       "       Bonus  BonusPaid      Buyout                             FullName  \\\n",
       "0   247000.0        NaN         NaN      United States Air Force Academy   \n",
       "1   225000.0    50000.0    688500.0      University of Akron Main Campus   \n",
       "2  1100000.0   500000.0  33600000.0            The University of Alabama   \n",
       "3   950000.0   165471.0   3847500.0  University of Alabama at Birmingham   \n",
       "4   295000.0   145000.0   2160417.0         Appalachian State University   \n",
       "\n",
       "   SCL_HBCU  ...  FED_RATE_2006_SA  GSR_N_2006_SA  GSR_2006_SA  \\\n",
       "0         2  ...               -99            137           86   \n",
       "1         2  ...                61             84           74   \n",
       "2         2  ...                70             75           92   \n",
       "3         2  ...                57             77           66   \n",
       "4         2  ...                65             74           84   \n",
       "\n",
       "   FED_RATE_MALE_2006_SA  FED_RATE_FEMALE_2006_SA  GSR_MALE_2006_SA  \\\n",
       "0                    -99                      -99                86   \n",
       "1                     62                       60                67   \n",
       "2                     56                       84                84   \n",
       "3                     48                       68                59   \n",
       "4                     64                       66                83   \n",
       "\n",
       "   GSR_FEMALE_2006_SA  FED_RATE_2006_SB  FED_RATE_MALE_2006_SB  \\\n",
       "0                  87                80                     81   \n",
       "1                  82                41                     38   \n",
       "2                 100                67                     64   \n",
       "3                  81                48                     47   \n",
       "4                  85                66                     61   \n",
       "\n",
       "   FED_RATE_FEMALE_2006_SB  \n",
       "0                       77  \n",
       "1                       45  \n",
       "2                       69  \n",
       "3                       49  \n",
       "4                       71  \n",
       "\n",
       "[5 rows x 22 columns]"
      ]
     },
     "execution_count": 25,
     "metadata": {},
     "output_type": "execute_result"
    }
   ],
   "source": [
    "df.head()"
   ]
  },
  {
   "cell_type": "markdown",
   "metadata": {},
   "source": [
    "## Get other Important Data Like Stadium Size"
   ]
  },
  {
   "cell_type": "code",
   "execution_count": 26,
   "metadata": {},
   "outputs": [],
   "source": [
    "dd = pd.read_csv(path + 'stadiums.csv')"
   ]
  },
  {
   "cell_type": "code",
   "execution_count": 27,
   "metadata": {},
   "outputs": [],
   "source": [
    "df = df.merge(dd, left_on=['School'],right_on=['team'], how='left')"
   ]
  },
  {
   "cell_type": "code",
   "execution_count": 28,
   "metadata": {},
   "outputs": [
    {
     "data": {
      "text/plain": [
       "3    Alabama at Birmingham\n",
       "Name: School, dtype: object"
      ]
     },
     "execution_count": 28,
     "metadata": {},
     "output_type": "execute_result"
    }
   ],
   "source": [
    "df.loc[df['capacity'].isnull()]['School']"
   ]
  },
  {
   "cell_type": "code",
   "execution_count": 29,
   "metadata": {},
   "outputs": [
    {
     "data": {
      "text/html": [
       "<div>\n",
       "<style scoped>\n",
       "    .dataframe tbody tr th:only-of-type {\n",
       "        vertical-align: middle;\n",
       "    }\n",
       "\n",
       "    .dataframe tbody tr th {\n",
       "        vertical-align: top;\n",
       "    }\n",
       "\n",
       "    .dataframe thead th {\n",
       "        text-align: right;\n",
       "    }\n",
       "</style>\n",
       "<table border=\"1\" class=\"dataframe\">\n",
       "  <thead>\n",
       "    <tr style=\"text-align: right;\">\n",
       "      <th></th>\n",
       "      <th>School</th>\n",
       "      <th>Conference</th>\n",
       "      <th>Coach</th>\n",
       "      <th>SchoolPay</th>\n",
       "      <th>TotalPay</th>\n",
       "      <th>Bonus</th>\n",
       "      <th>BonusPaid</th>\n",
       "      <th>Buyout</th>\n",
       "      <th>FullName</th>\n",
       "      <th>SCL_HBCU</th>\n",
       "      <th>...</th>\n",
       "      <th>city</th>\n",
       "      <th>state</th>\n",
       "      <th>team</th>\n",
       "      <th>conference</th>\n",
       "      <th>capacity</th>\n",
       "      <th>built</th>\n",
       "      <th>expanded</th>\n",
       "      <th>div</th>\n",
       "      <th>latitude</th>\n",
       "      <th>longitude</th>\n",
       "    </tr>\n",
       "  </thead>\n",
       "  <tbody>\n",
       "    <tr>\n",
       "      <th>0</th>\n",
       "      <td>Air Force</td>\n",
       "      <td>Mt. West</td>\n",
       "      <td>Troy Calhoun</td>\n",
       "      <td>885000.0</td>\n",
       "      <td>885000.0</td>\n",
       "      <td>247000.0</td>\n",
       "      <td>NaN</td>\n",
       "      <td>NaN</td>\n",
       "      <td>United States Air Force Academy</td>\n",
       "      <td>2</td>\n",
       "      <td>...</td>\n",
       "      <td>Colorado Springs</td>\n",
       "      <td>CO</td>\n",
       "      <td>Air Force</td>\n",
       "      <td>Mountain West</td>\n",
       "      <td>46692.0</td>\n",
       "      <td>1962.0</td>\n",
       "      <td>NaN</td>\n",
       "      <td>fbs</td>\n",
       "      <td>38.996907</td>\n",
       "      <td>-104.843688</td>\n",
       "    </tr>\n",
       "    <tr>\n",
       "      <th>1</th>\n",
       "      <td>Akron</td>\n",
       "      <td>MAC</td>\n",
       "      <td>Terry Bowden</td>\n",
       "      <td>411000.0</td>\n",
       "      <td>412500.0</td>\n",
       "      <td>225000.0</td>\n",
       "      <td>50000.0</td>\n",
       "      <td>688500.0</td>\n",
       "      <td>University of Akron Main Campus</td>\n",
       "      <td>2</td>\n",
       "      <td>...</td>\n",
       "      <td>Akron</td>\n",
       "      <td>OH</td>\n",
       "      <td>Akron</td>\n",
       "      <td>MAC</td>\n",
       "      <td>30000.0</td>\n",
       "      <td>2009.0</td>\n",
       "      <td>NaN</td>\n",
       "      <td>fbs</td>\n",
       "      <td>41.072570</td>\n",
       "      <td>-81.508384</td>\n",
       "    </tr>\n",
       "    <tr>\n",
       "      <th>2</th>\n",
       "      <td>Alabama</td>\n",
       "      <td>SEC</td>\n",
       "      <td>Nick Saban</td>\n",
       "      <td>8307000.0</td>\n",
       "      <td>8307000.0</td>\n",
       "      <td>1100000.0</td>\n",
       "      <td>500000.0</td>\n",
       "      <td>33600000.0</td>\n",
       "      <td>The University of Alabama</td>\n",
       "      <td>2</td>\n",
       "      <td>...</td>\n",
       "      <td>Tuscaloosa</td>\n",
       "      <td>AL</td>\n",
       "      <td>Alabama</td>\n",
       "      <td>SEC</td>\n",
       "      <td>101821.0</td>\n",
       "      <td>1929.0</td>\n",
       "      <td>2010</td>\n",
       "      <td>fbs</td>\n",
       "      <td>33.207490</td>\n",
       "      <td>-87.550392</td>\n",
       "    </tr>\n",
       "    <tr>\n",
       "      <th>3</th>\n",
       "      <td>Alabama at Birmingham</td>\n",
       "      <td>C-USA</td>\n",
       "      <td>Bill Clark</td>\n",
       "      <td>900000.0</td>\n",
       "      <td>900000.0</td>\n",
       "      <td>950000.0</td>\n",
       "      <td>165471.0</td>\n",
       "      <td>3847500.0</td>\n",
       "      <td>University of Alabama at Birmingham</td>\n",
       "      <td>2</td>\n",
       "      <td>...</td>\n",
       "      <td>NaN</td>\n",
       "      <td>NaN</td>\n",
       "      <td>NaN</td>\n",
       "      <td>NaN</td>\n",
       "      <td>NaN</td>\n",
       "      <td>NaN</td>\n",
       "      <td>NaN</td>\n",
       "      <td>NaN</td>\n",
       "      <td>NaN</td>\n",
       "      <td>NaN</td>\n",
       "    </tr>\n",
       "    <tr>\n",
       "      <th>4</th>\n",
       "      <td>Appalachian State</td>\n",
       "      <td>Sun Belt</td>\n",
       "      <td>Scott Satterfield</td>\n",
       "      <td>712500.0</td>\n",
       "      <td>712500.0</td>\n",
       "      <td>295000.0</td>\n",
       "      <td>145000.0</td>\n",
       "      <td>2160417.0</td>\n",
       "      <td>Appalachian State University</td>\n",
       "      <td>2</td>\n",
       "      <td>...</td>\n",
       "      <td>Boone</td>\n",
       "      <td>NC</td>\n",
       "      <td>Appalachian State</td>\n",
       "      <td>Sun Belt</td>\n",
       "      <td>24050.0</td>\n",
       "      <td>1962.0</td>\n",
       "      <td>2009</td>\n",
       "      <td>fbs</td>\n",
       "      <td>36.211515</td>\n",
       "      <td>-81.685506</td>\n",
       "    </tr>\n",
       "  </tbody>\n",
       "</table>\n",
       "<p>5 rows × 34 columns</p>\n",
       "</div>"
      ],
      "text/plain": [
       "                  School Conference              Coach  SchoolPay   TotalPay  \\\n",
       "0              Air Force   Mt. West       Troy Calhoun   885000.0   885000.0   \n",
       "1                  Akron        MAC       Terry Bowden   411000.0   412500.0   \n",
       "2                Alabama        SEC         Nick Saban  8307000.0  8307000.0   \n",
       "3  Alabama at Birmingham      C-USA         Bill Clark   900000.0   900000.0   \n",
       "4      Appalachian State   Sun Belt  Scott Satterfield   712500.0   712500.0   \n",
       "\n",
       "       Bonus  BonusPaid      Buyout                             FullName  \\\n",
       "0   247000.0        NaN         NaN      United States Air Force Academy   \n",
       "1   225000.0    50000.0    688500.0      University of Akron Main Campus   \n",
       "2  1100000.0   500000.0  33600000.0            The University of Alabama   \n",
       "3   950000.0   165471.0   3847500.0  University of Alabama at Birmingham   \n",
       "4   295000.0   145000.0   2160417.0         Appalachian State University   \n",
       "\n",
       "   SCL_HBCU  ...              city  state               team     conference  \\\n",
       "0         2  ...  Colorado Springs     CO          Air Force  Mountain West   \n",
       "1         2  ...             Akron     OH              Akron            MAC   \n",
       "2         2  ...        Tuscaloosa     AL            Alabama            SEC   \n",
       "3         2  ...               NaN    NaN                NaN            NaN   \n",
       "4         2  ...             Boone     NC  Appalachian State       Sun Belt   \n",
       "\n",
       "   capacity   built  expanded  div   latitude   longitude  \n",
       "0   46692.0  1962.0       NaN  fbs  38.996907 -104.843688  \n",
       "1   30000.0  2009.0       NaN  fbs  41.072570  -81.508384  \n",
       "2  101821.0  1929.0      2010  fbs  33.207490  -87.550392  \n",
       "3       NaN     NaN       NaN  NaN        NaN         NaN  \n",
       "4   24050.0  1962.0      2009  fbs  36.211515  -81.685506  \n",
       "\n",
       "[5 rows x 34 columns]"
      ]
     },
     "execution_count": 29,
     "metadata": {},
     "output_type": "execute_result"
    }
   ],
   "source": [
    "df.head()"
   ]
  },
  {
   "cell_type": "code",
   "execution_count": 30,
   "metadata": {},
   "outputs": [
    {
     "data": {
      "text/plain": [
       "Index(['Unnamed: 0', 'stadium', 'city', 'state', 'team', 'conference',\n",
       "       'capacity', 'built', 'expanded', 'div', 'latitude', 'longitude'],\n",
       "      dtype='object')"
      ]
     },
     "execution_count": 30,
     "metadata": {},
     "output_type": "execute_result"
    }
   ],
   "source": [
    "dd.columns"
   ]
  },
  {
   "cell_type": "markdown",
   "metadata": {},
   "source": [
    "## Get School Record"
   ]
  },
  {
   "cell_type": "code",
   "execution_count": 31,
   "metadata": {},
   "outputs": [],
   "source": [
    "de = pd.read_csv(path + 'sportsref_download.csv')"
   ]
  },
  {
   "cell_type": "code",
   "execution_count": 32,
   "metadata": {},
   "outputs": [],
   "source": [
    "df = df.merge(de, how='left', on='School')"
   ]
  },
  {
   "cell_type": "code",
   "execution_count": 33,
   "metadata": {
    "scrolled": true
   },
   "outputs": [
    {
     "data": {
      "text/plain": [
       "Index(['Rk', 'School', 'W', 'L', 'Pct', 'Off Pts', 'Def Pts'], dtype='object')"
      ]
     },
     "execution_count": 33,
     "metadata": {},
     "output_type": "execute_result"
    }
   ],
   "source": [
    "de.columns"
   ]
  },
  {
   "cell_type": "markdown",
   "metadata": {},
   "source": [
    "# Get Rid of Empty Rows"
   ]
  },
  {
   "cell_type": "code",
   "execution_count": 34,
   "metadata": {},
   "outputs": [
    {
     "data": {
      "text/plain": [
       "array(['School', 'Conference', 'Coach', 'SchoolPay', 'TotalPay', 'Bonus',\n",
       "       'BonusPaid', 'Buyout', 'FullName', 'SCL_HBCU', 'SCL_PRIVATE',\n",
       "       'FED_N_2006_SA', 'FED_RATE_2006_SA', 'GSR_N_2006_SA',\n",
       "       'GSR_2006_SA', 'FED_RATE_MALE_2006_SA', 'FED_RATE_FEMALE_2006_SA',\n",
       "       'GSR_MALE_2006_SA', 'GSR_FEMALE_2006_SA', 'FED_RATE_2006_SB',\n",
       "       'FED_RATE_MALE_2006_SB', 'FED_RATE_FEMALE_2006_SB', 'Unnamed: 0',\n",
       "       'stadium', 'city', 'state', 'team', 'conference', 'capacity',\n",
       "       'built', 'expanded', 'div', 'latitude', 'longitude', 'Rk', 'W',\n",
       "       'L', 'Pct', 'Off Pts', 'Def Pts'], dtype=object)"
      ]
     },
     "execution_count": 34,
     "metadata": {},
     "output_type": "execute_result"
    }
   ],
   "source": [
    "df.columns.values"
   ]
  },
  {
   "cell_type": "code",
   "execution_count": 35,
   "metadata": {},
   "outputs": [],
   "source": [
    "newCols = ['School', 'Conference', 'Coach', 'SchoolPay', 'TotalPay', 'Bonus',\n",
    "       'BonusPaid', 'Buyout', 'FullName', 'SCL_HBCU', 'SCL_PRIVATE',\n",
    "       'FED_N_2006_SA', 'FED_RATE_2006_SA', 'GSR_N_2006_SA', 'GSR_2006_SA',\n",
    "       'FED_RATE_MALE_2006_SA', 'FED_RATE_FEMALE_2006_SA', 'GSR_MALE_2006_SA',\n",
    "       'GSR_FEMALE_2006_SA', 'FED_RATE_2006_SB', 'FED_RATE_MALE_2006_SB',\n",
    "       'FED_RATE_FEMALE_2006_SB', 'Rk', 'W', 'L', 'Pct', 'Off Pts',\n",
    "       'Def Pts', 'stadium', 'city', 'state', 'capacity', 'latitude', 'longitude']"
   ]
  },
  {
   "cell_type": "code",
   "execution_count": 36,
   "metadata": {},
   "outputs": [],
   "source": [
    "df = df[newCols]"
   ]
  },
  {
   "cell_type": "code",
   "execution_count": 37,
   "metadata": {
    "scrolled": false
   },
   "outputs": [],
   "source": [
    "df = df.loc[~(df['W'].isnull())].reset_index(drop=True) # Find Rows with all empty values for W and Record"
   ]
  },
  {
   "cell_type": "code",
   "execution_count": 38,
   "metadata": {},
   "outputs": [],
   "source": [
    "df = df.loc[~(df['stadium'].isnull())].reset_index(drop=True)"
   ]
  },
  {
   "cell_type": "code",
   "execution_count": 39,
   "metadata": {},
   "outputs": [
    {
     "data": {
      "text/plain": [
       "122"
      ]
     },
     "execution_count": 39,
     "metadata": {},
     "output_type": "execute_result"
    }
   ],
   "source": [
    "len(df)"
   ]
  },
  {
   "cell_type": "markdown",
   "metadata": {},
   "source": [
    "We are left with 122 rows after getting rid of Teams that did not have corresponding information in the datafiles that we got from the internet. "
   ]
  },
  {
   "cell_type": "markdown",
   "metadata": {},
   "source": [
    "# Create Relevant Columns"
   ]
  },
  {
   "cell_type": "code",
   "execution_count": 40,
   "metadata": {},
   "outputs": [
    {
     "data": {
      "text/plain": [
       "Index(['School', 'Conference', 'Coach', 'SchoolPay', 'TotalPay', 'Bonus',\n",
       "       'BonusPaid', 'Buyout', 'FullName', 'SCL_HBCU', 'SCL_PRIVATE',\n",
       "       'FED_N_2006_SA', 'FED_RATE_2006_SA', 'GSR_N_2006_SA', 'GSR_2006_SA',\n",
       "       'FED_RATE_MALE_2006_SA', 'FED_RATE_FEMALE_2006_SA', 'GSR_MALE_2006_SA',\n",
       "       'GSR_FEMALE_2006_SA', 'FED_RATE_2006_SB', 'FED_RATE_MALE_2006_SB',\n",
       "       'FED_RATE_FEMALE_2006_SB', 'Rk', 'W', 'L', 'Pct', 'Off Pts', 'Def Pts',\n",
       "       'stadium', 'city', 'state', 'capacity', 'latitude', 'longitude'],\n",
       "      dtype='object')"
      ]
     },
     "execution_count": 40,
     "metadata": {},
     "output_type": "execute_result"
    }
   ],
   "source": [
    "df.columns"
   ]
  },
  {
   "cell_type": "code",
   "execution_count": 41,
   "metadata": {},
   "outputs": [
    {
     "data": {
      "text/plain": [
       "0      0.846\n",
       "1      0.000\n",
       "2      0.846\n",
       "3      0.929\n",
       "4      0.333\n",
       "       ...  \n",
       "117    0.417\n",
       "118    0.692\n",
       "119    0.538\n",
       "120    0.714\n",
       "121    0.615\n",
       "Name: Pct, Length: 122, dtype: float64"
      ]
     },
     "execution_count": 41,
     "metadata": {},
     "output_type": "execute_result"
    }
   ],
   "source": [
    "df['Pct']"
   ]
  },
  {
   "cell_type": "code",
   "execution_count": 42,
   "metadata": {},
   "outputs": [],
   "source": [
    "df['GSR_SA'] = df['GSR_2006_SA'] # We mostly case about student athletes. SB might not be a true representation of the teams performance\n",
    "df['FGR_SA'] = df['FED_RATE_2006_SA'] # We mostly case about student athletes. SB might not be a true representation of the teams performance\n",
    "df['WinPerc'] = df['Pct']*100 # Convert to percentage\n",
    "df['HistBlack'] = [0 if x == 2 else x for x in df['SCL_HBCU'].values]\n",
    "df['PublicOrPrivate'] = df['SCL_PRIVATE']"
   ]
  },
  {
   "cell_type": "markdown",
   "metadata": {},
   "source": [
    "## Drop Unecessary Columns"
   ]
  },
  {
   "cell_type": "code",
   "execution_count": 43,
   "metadata": {},
   "outputs": [],
   "source": [
    "df = df.drop(['SCL_HBCU', 'SCL_PRIVATE', 'FED_N_2006_SA', 'FED_RATE_2006_SA', 'GSR_N_2006_SA', 'GSR_2006_SA',\n",
    "       'FED_RATE_MALE_2006_SA', 'FED_RATE_FEMALE_2006_SA', 'GSR_MALE_2006_SA',\n",
    "       'GSR_FEMALE_2006_SA', 'FED_RATE_2006_SB', 'FED_RATE_MALE_2006_SB',\n",
    "       'FED_RATE_FEMALE_2006_SB', 'stadium', 'city', 'state', 'latitude', 'longitude', 'SchoolPay', 'Bonus',\n",
    "       'BonusPaid', 'Buyout', 'Pct'], axis=1)"
   ]
  },
  {
   "cell_type": "markdown",
   "metadata": {},
   "source": [
    "# Analyze"
   ]
  },
  {
   "cell_type": "markdown",
   "metadata": {},
   "source": [
    "#### Set Y Parameter"
   ]
  },
  {
   "cell_type": "code",
   "execution_count": 44,
   "metadata": {},
   "outputs": [],
   "source": [
    "# Define Y Parameter (The variable we are trying to predict)\n",
    "yParm = 'TotalPay'\n",
    "yPamrmL = ['TotalPay']"
   ]
  },
  {
   "cell_type": "markdown",
   "metadata": {},
   "source": [
    "#### Get Syracuse Row for 'Testing'"
   ]
  },
  {
   "cell_type": "code",
   "execution_count": 45,
   "metadata": {},
   "outputs": [],
   "source": [
    "y_pred = df.loc[df['School'] == 'Syracuse'].reset_index(drop=False)"
   ]
  },
  {
   "cell_type": "code",
   "execution_count": 46,
   "metadata": {},
   "outputs": [
    {
     "data": {
      "text/html": [
       "<div>\n",
       "<style scoped>\n",
       "    .dataframe tbody tr th:only-of-type {\n",
       "        vertical-align: middle;\n",
       "    }\n",
       "\n",
       "    .dataframe tbody tr th {\n",
       "        vertical-align: top;\n",
       "    }\n",
       "\n",
       "    .dataframe thead th {\n",
       "        text-align: right;\n",
       "    }\n",
       "</style>\n",
       "<table border=\"1\" class=\"dataframe\">\n",
       "  <thead>\n",
       "    <tr style=\"text-align: right;\">\n",
       "      <th></th>\n",
       "      <th>index</th>\n",
       "      <th>School</th>\n",
       "      <th>Conference</th>\n",
       "      <th>Coach</th>\n",
       "      <th>TotalPay</th>\n",
       "      <th>FullName</th>\n",
       "      <th>Rk</th>\n",
       "      <th>W</th>\n",
       "      <th>L</th>\n",
       "      <th>Off Pts</th>\n",
       "      <th>Def Pts</th>\n",
       "      <th>capacity</th>\n",
       "      <th>GSR_SA</th>\n",
       "      <th>FGR_SA</th>\n",
       "      <th>WinPerc</th>\n",
       "      <th>HistBlack</th>\n",
       "      <th>PublicOrPrivate</th>\n",
       "    </tr>\n",
       "  </thead>\n",
       "  <tbody>\n",
       "    <tr>\n",
       "      <th>0</th>\n",
       "      <td>95</td>\n",
       "      <td>Syracuse</td>\n",
       "      <td>ACC</td>\n",
       "      <td>Dino Babers</td>\n",
       "      <td>2401206.0</td>\n",
       "      <td>Syracuse University</td>\n",
       "      <td>6.0</td>\n",
       "      <td>5.0</td>\n",
       "      <td>7.0</td>\n",
       "      <td>28.3</td>\n",
       "      <td>30.7</td>\n",
       "      <td>49250.0</td>\n",
       "      <td>86</td>\n",
       "      <td>75</td>\n",
       "      <td>41.7</td>\n",
       "      <td>0</td>\n",
       "      <td>1</td>\n",
       "    </tr>\n",
       "  </tbody>\n",
       "</table>\n",
       "</div>"
      ],
      "text/plain": [
       "   index    School Conference        Coach   TotalPay             FullName  \\\n",
       "0     95  Syracuse        ACC  Dino Babers  2401206.0  Syracuse University   \n",
       "\n",
       "    Rk    W    L  Off Pts  Def Pts  capacity  GSR_SA  FGR_SA  WinPerc  \\\n",
       "0  6.0  5.0  7.0     28.3     30.7   49250.0      86      75     41.7   \n",
       "\n",
       "   HistBlack  PublicOrPrivate  \n",
       "0          0                1  "
      ]
     },
     "execution_count": 46,
     "metadata": {},
     "output_type": "execute_result"
    }
   ],
   "source": [
    "y_pred"
   ]
  },
  {
   "cell_type": "markdown",
   "metadata": {},
   "source": [
    "## Check Big Schools vs Small School Pay"
   ]
  },
  {
   "cell_type": "code",
   "execution_count": 47,
   "metadata": {},
   "outputs": [
    {
     "data": {
      "text/plain": [
       "Index(['School', 'Conference', 'Coach', 'TotalPay', 'FullName', 'Rk', 'W', 'L',\n",
       "       'Off Pts', 'Def Pts', 'capacity', 'GSR_SA', 'FGR_SA', 'WinPerc',\n",
       "       'HistBlack', 'PublicOrPrivate'],\n",
       "      dtype='object')"
      ]
     },
     "execution_count": 47,
     "metadata": {},
     "output_type": "execute_result"
    }
   ],
   "source": [
    "df.columns"
   ]
  },
  {
   "cell_type": "code",
   "execution_count": 48,
   "metadata": {},
   "outputs": [
    {
     "data": {
      "image/png": "[encoded data removed]",
      "text/plain": [
       "<Figure size 720x864 with 2 Axes>"
      ]
     },
     "metadata": {},
     "output_type": "display_data"
    }
   ],
   "source": [
    "plt.figure(figsize=(10,12))\n",
    "plt.subplot(2,1,1)\n",
    "sns.boxplot(x='Conference', y=yParm, data=df)\n",
    "plt.title('Coach Total Pay Distribution by Conference')\n",
    "\n",
    "plt.subplot(2,1,2)\n",
    "sns.boxplot(x='Conference', y='capacity', data=df)\n",
    "plt.title('Stadium Capacity Distribution by Conference')\n",
    "plt.show()"
   ]
  },
  {
   "cell_type": "markdown",
   "metadata": {},
   "source": [
    "Syracuse Belongs in the ACC, but if we look closely, there are only a few of conferences where their schools Total Paid to their coaches resembles the ACC's total distribution. Therefore, in order to have a precise prediction, we need to only look at the other relevant schools that most closely resemble the total pay for syracuse. I will only be including schools from SEC, PAC-12, ACC, AAC, Big 10 and Big 12. <br><br>\n",
    "Another observation is that the stadium capacity seems to closely resemble the total pay, so it will be a strong factor to use in our model."
   ]
  },
  {
   "cell_type": "markdown",
   "metadata": {},
   "source": [
    "#### Drop Irrelevant Conferences from Prediction"
   ]
  },
  {
   "cell_type": "code",
   "execution_count": 49,
   "metadata": {},
   "outputs": [],
   "source": [
    "goodConfs = ['SEC', 'Pac-12', 'ACC', 'AAC', 'Big Ten', 'Big 12']\n",
    "df = df.loc[df['Conference'].isin(goodConfs)].reset_index(drop=True)"
   ]
  },
  {
   "cell_type": "markdown",
   "metadata": {},
   "source": [
    "### Plot Capacity against Total Pay"
   ]
  },
  {
   "cell_type": "code",
   "execution_count": 50,
   "metadata": {},
   "outputs": [
    {
     "data": {
      "text/plain": [
       "Text(0.5, 1.0, 'Capacity vs Total Pay')"
      ]
     },
     "execution_count": 50,
     "metadata": {},
     "output_type": "execute_result"
    },
    {
     "data": {
      "image/png": "[encoded data removed]",
      "text/plain": [
       "<Figure size 864x432 with 1 Axes>"
      ]
     },
     "metadata": {},
     "output_type": "display_data"
    }
   ],
   "source": [
    "plt.figure(figsize=(12,6))\n",
    "sns.regplot(x='capacity', y=yParm, data=df)\n",
    "plt.title('Capacity vs Total Pay')"
   ]
  },
  {
   "cell_type": "code",
   "execution_count": 51,
   "metadata": {},
   "outputs": [
    {
     "data": {
      "text/plain": [
       "<Figure size 864x864 with 0 Axes>"
      ]
     },
     "metadata": {},
     "output_type": "display_data"
    },
    {
     "data": {
      "image/png": "[encoded data removed]",
      "text/plain": [
       "<Figure size 1260x1260 with 56 Axes>"
      ]
     },
     "metadata": {},
     "output_type": "display_data"
    }
   ],
   "source": [
    "plt.figure(figsize=(12,12))\n",
    "numCols = ['TotalPay', 'Off Pts', 'Def Pts', 'capacity', 'GSR_SA', 'FGR_SA', 'WinPerc']\n",
    "sns.pairplot(df[numCols])\n",
    "plt.show()"
   ]
  },
  {
   "cell_type": "code",
   "execution_count": 52,
   "metadata": {},
   "outputs": [
    {
     "data": {
      "image/png": "[encoded data removed]",
      "text/plain": [
       "<Figure size 432x432 with 2 Axes>"
      ]
     },
     "metadata": {},
     "output_type": "display_data"
    }
   ],
   "source": [
    "plt.figure(figsize=(6,6))\n",
    "numCols = ['TotalPay', 'Off Pts', 'Def Pts', 'capacity', 'GSR_SA', 'FGR_SA', 'WinPerc']\n",
    "\n",
    "corr = df[numCols].corr()\n",
    "\n",
    "# Generate a mask for the upper triangle\n",
    "mask = np.zeros_like(corr, dtype=np.bool)\n",
    "mask[np.triu_indices_from(mask)] = True\n",
    "\n",
    "# Set up the matplotlib figure\n",
    "#f, ax = plt.subplots(figsize=(11, 9))\n",
    "\n",
    "# Generate a custom diverging colormap\n",
    "cmap = sns.color_palette(\"RdBu_r\", 7)\n",
    "\n",
    "# Draw the heatmap with the mask and correct aspect ratio\n",
    "sns.heatmap(corr, mask=mask, cmap=cmap, vmax=1, center=0,\n",
    "            square=True, linewidths=.5, cbar_kws={\"shrink\": .5})\n",
    "plt.show()"
   ]
  },
  {
   "cell_type": "markdown",
   "metadata": {},
   "source": [
    "Offensive Points has a strong positive correlation with Winning Percentage. Also, the Winning Percentage has a semi-strong positive correlation with Total Pay. On the other hand, FGR_SA (Federal Graduation Rate) seems to have no interesting distribution which can mean that there is no value of using it in the model. I will be excluding it from now on."
   ]
  },
  {
   "cell_type": "code",
   "execution_count": 53,
   "metadata": {},
   "outputs": [],
   "source": [
    "df = df.drop(['FGR_SA'], axis=1) # Exclude Federal Graduation Rate for Student Athletes"
   ]
  },
  {
   "cell_type": "markdown",
   "metadata": {},
   "source": [
    "### Check for Differences in Total Pay with Private vs Public Schools"
   ]
  },
  {
   "cell_type": "code",
   "execution_count": 54,
   "metadata": {},
   "outputs": [
    {
     "name": "stderr",
     "output_type": "stream",
     "text": [
      "/Users/ramosem/anaconda3/lib/python3.6/site-packages/ipykernel_launcher.py:4: UserWarning: Matplotlib is currently using module://ipykernel.pylab.backend_inline, which is a non-GUI backend, so cannot show the figure.\n",
      "  after removing the cwd from sys.path.\n",
      "/Users/ramosem/anaconda3/lib/python3.6/site-packages/ipykernel_launcher.py:6: UserWarning: Matplotlib is currently using module://ipykernel.pylab.backend_inline, which is a non-GUI backend, so cannot show the figure.\n",
      "  \n",
      "/Users/ramosem/anaconda3/lib/python3.6/site-packages/ipykernel_launcher.py:10: UserWarning: Matplotlib is currently using module://ipykernel.pylab.backend_inline, which is a non-GUI backend, so cannot show the figure.\n",
      "  # Remove the CWD from sys.path while we load stuff.\n"
     ]
    },
    {
     "data": {
      "text/plain": [
       "<Figure size 864x432 with 0 Axes>"
      ]
     },
     "metadata": {},
     "output_type": "display_data"
    },
    {
     "data": {
      "image/png": "[encoded data removed]",
      "text/plain": [
       "<Figure size 444.5x360 with 1 Axes>"
      ]
     },
     "metadata": {},
     "output_type": "display_data"
    },
    {
     "data": {
      "image/png": "[encoded data removed]",
      "text/plain": [
       "<Figure size 414.625x360 with 1 Axes>"
      ]
     },
     "metadata": {},
     "output_type": "display_data"
    }
   ],
   "source": [
    "fig = plt.figure(figsize=(12,6))\n",
    "# plt.subplot(1,2,1)\n",
    "sns.lmplot(x='WinPerc', hue='PublicOrPrivate', y=yParm, data=df)\n",
    "fig.show()\n",
    "plt.title('Win Percentage vs Total Pay by Public and Private Schools')\n",
    "fig.show()\n",
    "# plt.subplot(1,2,2)\n",
    "sns.lmplot(x='WinPerc', hue='HistBlack', y=yParm, data=df)\n",
    "plt.title('Win Percentage vs Total Pay by Historically Black Schools')\n",
    "fig.show()"
   ]
  },
  {
   "cell_type": "markdown",
   "metadata": {},
   "source": [
    "No definitive pattern in the above graph except that the higher the win percentage at a Public School, the higher the pay is for the coach. <br><br>\n",
    "On the other hand, there is only Non-Historically black schools in the dataset, so we will drop the column from the analysis."
   ]
  },
  {
   "cell_type": "code",
   "execution_count": 55,
   "metadata": {},
   "outputs": [],
   "source": [
    "df = df.drop(['HistBlack'], axis=1)"
   ]
  },
  {
   "cell_type": "markdown",
   "metadata": {},
   "source": [
    "# Create Model"
   ]
  },
  {
   "cell_type": "code",
   "execution_count": 56,
   "metadata": {},
   "outputs": [
    {
     "data": {
      "text/html": [
       "<div>\n",
       "<style scoped>\n",
       "    .dataframe tbody tr th:only-of-type {\n",
       "        vertical-align: middle;\n",
       "    }\n",
       "\n",
       "    .dataframe tbody tr th {\n",
       "        vertical-align: top;\n",
       "    }\n",
       "\n",
       "    .dataframe thead th {\n",
       "        text-align: right;\n",
       "    }\n",
       "</style>\n",
       "<table border=\"1\" class=\"dataframe\">\n",
       "  <thead>\n",
       "    <tr style=\"text-align: right;\">\n",
       "      <th></th>\n",
       "      <th>School</th>\n",
       "      <th>Conference</th>\n",
       "      <th>Coach</th>\n",
       "      <th>TotalPay</th>\n",
       "      <th>FullName</th>\n",
       "      <th>Rk</th>\n",
       "      <th>W</th>\n",
       "      <th>L</th>\n",
       "      <th>Off Pts</th>\n",
       "      <th>Def Pts</th>\n",
       "      <th>capacity</th>\n",
       "      <th>GSR_SA</th>\n",
       "      <th>WinPerc</th>\n",
       "      <th>PublicOrPrivate</th>\n",
       "    </tr>\n",
       "  </thead>\n",
       "  <tbody>\n",
       "    <tr>\n",
       "      <th>0</th>\n",
       "      <td>Alabama</td>\n",
       "      <td>SEC</td>\n",
       "      <td>Nick Saban</td>\n",
       "      <td>8307000.0</td>\n",
       "      <td>The University of Alabama</td>\n",
       "      <td>115.0</td>\n",
       "      <td>11.0</td>\n",
       "      <td>2.0</td>\n",
       "      <td>47.2</td>\n",
       "      <td>18.6</td>\n",
       "      <td>101821.0</td>\n",
       "      <td>92</td>\n",
       "      <td>84.6</td>\n",
       "      <td>0</td>\n",
       "    </tr>\n",
       "    <tr>\n",
       "      <th>1</th>\n",
       "      <td>Arizona</td>\n",
       "      <td>Pac-12</td>\n",
       "      <td>Kevin Sumlin</td>\n",
       "      <td>2000000.0</td>\n",
       "      <td>University of Arizona</td>\n",
       "      <td>106.0</td>\n",
       "      <td>4.0</td>\n",
       "      <td>8.0</td>\n",
       "      <td>26.9</td>\n",
       "      <td>35.8</td>\n",
       "      <td>51811.0</td>\n",
       "      <td>78</td>\n",
       "      <td>33.3</td>\n",
       "      <td>0</td>\n",
       "    </tr>\n",
       "    <tr>\n",
       "      <th>2</th>\n",
       "      <td>Arizona State</td>\n",
       "      <td>Pac-12</td>\n",
       "      <td>Herm Edwards</td>\n",
       "      <td>2000000.0</td>\n",
       "      <td>Arizona State University-Tempe</td>\n",
       "      <td>103.0</td>\n",
       "      <td>8.0</td>\n",
       "      <td>5.0</td>\n",
       "      <td>24.8</td>\n",
       "      <td>22.4</td>\n",
       "      <td>71706.0</td>\n",
       "      <td>80</td>\n",
       "      <td>61.5</td>\n",
       "      <td>0</td>\n",
       "    </tr>\n",
       "    <tr>\n",
       "      <th>3</th>\n",
       "      <td>Arkansas</td>\n",
       "      <td>SEC</td>\n",
       "      <td>Chad Morris</td>\n",
       "      <td>3500000.0</td>\n",
       "      <td>University of Arkansas</td>\n",
       "      <td>120.0</td>\n",
       "      <td>2.0</td>\n",
       "      <td>10.0</td>\n",
       "      <td>21.4</td>\n",
       "      <td>36.8</td>\n",
       "      <td>72000.0</td>\n",
       "      <td>74</td>\n",
       "      <td>16.7</td>\n",
       "      <td>0</td>\n",
       "    </tr>\n",
       "    <tr>\n",
       "      <th>4</th>\n",
       "      <td>Auburn</td>\n",
       "      <td>SEC</td>\n",
       "      <td>Gus Malzahn</td>\n",
       "      <td>6705656.0</td>\n",
       "      <td>Auburn University</td>\n",
       "      <td>116.0</td>\n",
       "      <td>9.0</td>\n",
       "      <td>4.0</td>\n",
       "      <td>33.2</td>\n",
       "      <td>19.5</td>\n",
       "      <td>87451.0</td>\n",
       "      <td>80</td>\n",
       "      <td>69.2</td>\n",
       "      <td>0</td>\n",
       "    </tr>\n",
       "  </tbody>\n",
       "</table>\n",
       "</div>"
      ],
      "text/plain": [
       "          School Conference         Coach   TotalPay  \\\n",
       "0        Alabama        SEC    Nick Saban  8307000.0   \n",
       "1        Arizona     Pac-12  Kevin Sumlin  2000000.0   \n",
       "2  Arizona State     Pac-12  Herm Edwards  2000000.0   \n",
       "3       Arkansas        SEC   Chad Morris  3500000.0   \n",
       "4         Auburn        SEC   Gus Malzahn  6705656.0   \n",
       "\n",
       "                         FullName     Rk     W     L  Off Pts  Def Pts  \\\n",
       "0       The University of Alabama  115.0  11.0   2.0     47.2     18.6   \n",
       "1           University of Arizona  106.0   4.0   8.0     26.9     35.8   \n",
       "2  Arizona State University-Tempe  103.0   8.0   5.0     24.8     22.4   \n",
       "3          University of Arkansas  120.0   2.0  10.0     21.4     36.8   \n",
       "4               Auburn University  116.0   9.0   4.0     33.2     19.5   \n",
       "\n",
       "   capacity  GSR_SA  WinPerc  PublicOrPrivate  \n",
       "0  101821.0      92     84.6                0  \n",
       "1   51811.0      78     33.3                0  \n",
       "2   71706.0      80     61.5                0  \n",
       "3   72000.0      74     16.7                0  \n",
       "4   87451.0      80     69.2                0  "
      ]
     },
     "execution_count": 56,
     "metadata": {},
     "output_type": "execute_result"
    }
   ],
   "source": [
    "df.head()"
   ]
  },
  {
   "cell_type": "code",
   "execution_count": 57,
   "metadata": {},
   "outputs": [
    {
     "data": {
      "text/plain": [
       "Index(['School', 'Conference', 'Coach', 'TotalPay', 'FullName', 'Rk', 'W', 'L',\n",
       "       'Off Pts', 'Def Pts', 'capacity', 'GSR_SA', 'WinPerc',\n",
       "       'PublicOrPrivate'],\n",
       "      dtype='object')"
      ]
     },
     "execution_count": 57,
     "metadata": {},
     "output_type": "execute_result"
    }
   ],
   "source": [
    "df.columns"
   ]
  },
  {
   "cell_type": "markdown",
   "metadata": {},
   "source": [
    "## Picking X Parameters for Model"
   ]
  },
  {
   "cell_type": "markdown",
   "metadata": {},
   "source": [
    "### Need to Convert Categorical Columns to Binary Columns by Values"
   ]
  },
  {
   "cell_type": "code",
   "execution_count": 58,
   "metadata": {},
   "outputs": [
    {
     "name": "stdout",
     "output_type": "stream",
     "text": [
      "SEC\n",
      "Pac-12\n",
      "ACC\n",
      "AAC\n",
      "Big Ten\n",
      "Big 12\n"
     ]
    }
   ],
   "source": [
    "conferencesL = df['Conference'].unique()\n",
    "for conf in conferencesL:\n",
    "    print(conf)\n",
    "    df[conf] = [1 if conf == x else 0 for x in df['Conference'].values]"
   ]
  },
  {
   "cell_type": "code",
   "execution_count": 59,
   "metadata": {},
   "outputs": [
    {
     "data": {
      "text/plain": [
       "Index(['School', 'Conference', 'Coach', 'TotalPay', 'FullName', 'Rk', 'W', 'L',\n",
       "       'Off Pts', 'Def Pts', 'capacity', 'GSR_SA', 'WinPerc',\n",
       "       'PublicOrPrivate', 'SEC', 'Pac-12', 'ACC', 'AAC', 'Big Ten', 'Big 12'],\n",
       "      dtype='object')"
      ]
     },
     "execution_count": 59,
     "metadata": {},
     "output_type": "execute_result"
    }
   ],
   "source": [
    "df.columns"
   ]
  },
  {
   "cell_type": "markdown",
   "metadata": {},
   "source": [
    "### We can now select the X Parameters"
   ]
  },
  {
   "cell_type": "markdown",
   "metadata": {},
   "source": [
    "Ranking, W and L are not relevant since we have the Win Percentage which is a better computational parameter. <br><br>\n",
    "We can also drop the Conference column since we convereted it into binary columns for each conference used."
   ]
  },
  {
   "cell_type": "code",
   "execution_count": 60,
   "metadata": {},
   "outputs": [],
   "source": [
    "xParm = ['Off Pts', 'Def Pts', 'capacity', 'GSR_SA', 'WinPerc',\n",
    "       'PublicOrPrivate', 'SEC', 'Pac-12', 'ACC', 'AAC', 'Big Ten', 'Big 12']\n",
    "xParmStr = xParm[0]\n",
    "for x in xParm[1:]:\n",
    "    xParmStr += ' + ' + x\n"
   ]
  },
  {
   "cell_type": "code",
   "execution_count": 61,
   "metadata": {},
   "outputs": [
    {
     "data": {
      "text/plain": [
       "'Off Pts + Def Pts + capacity + GSR_SA + WinPerc + PublicOrPrivate + SEC + Pac-12 + ACC + AAC + Big Ten + Big 12'"
      ]
     },
     "execution_count": 61,
     "metadata": {},
     "output_type": "execute_result"
    }
   ],
   "source": [
    "xParmStr"
   ]
  },
  {
   "cell_type": "markdown",
   "metadata": {},
   "source": [
    "## Create Model"
   ]
  },
  {
   "cell_type": "code",
   "execution_count": 62,
   "metadata": {},
   "outputs": [
    {
     "ename": "NameError",
     "evalue": "name 'sm' is not defined",
     "output_type": "error",
     "traceback": [
      "\u001b[0;31m---------------------------------------------------------------------------\u001b[0m",
      "\u001b[0;31mNameError\u001b[0m                                 Traceback (most recent call last)",
      "\u001b[0;32m<ipython-input-62-4b0e5222043c>\u001b[0m in \u001b[0;36m<module>\u001b[0;34m()\u001b[0m\n\u001b[1;32m      3\u001b[0m \u001b[0;34m\u001b[0m\u001b[0m\n\u001b[1;32m      4\u001b[0m \u001b[0;31m# fit the model to the training set\u001b[0m\u001b[0;34m\u001b[0m\u001b[0;34m\u001b[0m\u001b[0m\n\u001b[0;32m----> 5\u001b[0;31m \u001b[0mtrain_model_fit\u001b[0m \u001b[0;34m=\u001b[0m \u001b[0msm\u001b[0m\u001b[0;34m.\u001b[0m\u001b[0mols\u001b[0m\u001b[0;34m(\u001b[0m\u001b[0mmy_model\u001b[0m\u001b[0;34m,\u001b[0m \u001b[0mdata\u001b[0m \u001b[0;34m=\u001b[0m \u001b[0mdf\u001b[0m\u001b[0;34m)\u001b[0m\u001b[0;34m.\u001b[0m\u001b[0mfit\u001b[0m\u001b[0;34m(\u001b[0m\u001b[0;34m)\u001b[0m\u001b[0;34m\u001b[0m\u001b[0m\n\u001b[0m\u001b[1;32m      6\u001b[0m \u001b[0;31m# summary of model fit to the training set\u001b[0m\u001b[0;34m\u001b[0m\u001b[0;34m\u001b[0m\u001b[0m\n\u001b[1;32m      7\u001b[0m \u001b[0mprint\u001b[0m\u001b[0;34m(\u001b[0m\u001b[0mtrain_model_fit\u001b[0m\u001b[0;34m.\u001b[0m\u001b[0msummary\u001b[0m\u001b[0;34m(\u001b[0m\u001b[0;34m)\u001b[0m\u001b[0;34m)\u001b[0m\u001b[0;34m\u001b[0m\u001b[0m\n",
      "\u001b[0;31mNameError\u001b[0m: name 'sm' is not defined"
     ]
    }
   ],
   "source": [
    "# specify a simple model with bobblehead entered last\n",
    "my_model = str(yParm +  ' ~ ' + xParmStr)\n",
    "\n",
    "# fit the model to the training set\n",
    "train_model_fit = sm.ols(my_model, data = df).fit()\n",
    "# summary of model fit to the training set\n",
    "print(train_model_fit.summary())\n",
    "# training set predictions from the model fit to the training set\n",
    "df['predict_attend'] = train_model_fit.fittedvalues\n",
    "\n",
    "# test set predictions from the model fit to the training set\n",
    "df['predict_attend'] = train_model_fit.predict(df)\n",
    "\n",
    "  "
   ]
  },
  {
   "cell_type": "code",
   "execution_count": null,
   "metadata": {},
   "outputs": [],
   "source": []
  }
 ],
 "metadata": {
  "kernelspec": {
   "display_name": "Python 3",
   "language": "python",
   "name": "python3"
  },
  "language_info": {
   "codemirror_mode": {
    "name": "ipython",
    "version": 3
   },
   "file_extension": ".py",
   "mimetype": "text/x-python",
   "name": "python",
   "nbconvert_exporter": "python",
   "pygments_lexer": "ipython3",
   "version": "3.6.4"
  }
 },
 "nbformat": 4,
 "nbformat_minor": 4
}
