{
 "cells": [
  {
   "cell_type": "markdown",
   "metadata": {
    "colab_type": "text",
    "id": "zgCIYsm4iAJN"
   },
   "source": [
    "# Intro"
   ]
  },
  {
   "cell_type": "markdown",
   "metadata": {
    "colab_type": "text",
    "id": "lmHtdc-kiABf"
   },
   "source": [
    "Scenario: We were tasked with coming up with the salary of the next Syracuse Football coach. To do so, we were given a list of Schools and their Coache's salary. While this could be enough information to do a simple analysis, we will find more online resources to add information to our prediction. This includes finding the stadium sizes, the school's record, and the graduation rate."
   ]
  },
  {
   "cell_type": "markdown",
   "metadata": {
    "colab_type": "text",
    "id": "ystMW_lbDtpA"
   },
   "source": [
    "# Imports"
   ]
  },
  {
   "cell_type": "code",
   "execution_count": null,
   "metadata": {
    "colab": {
     "base_uri": "https://localhost:8080/",
     "height": 51
    },
    "colab_type": "code",
    "id": "lGqihH5KDtpB",
    "outputId": "572eae07-d137-4d80-8e90-ba0e09fac185"
   },
   "outputs": [
    {
     "name": "stderr",
     "output_type": "stream",
     "text": [
      "/usr/local/lib/python3.6/dist-packages/statsmodels/tools/_testing.py:19: FutureWarning: pandas.util.testing is deprecated. Use the functions in the public API at pandas.testing instead.\n",
      "  import pandas.util.testing as tm\n"
     ]
    }
   ],
   "source": [
    "import pandas as pd\n",
    "import numpy as np\n",
    "import matplotlib.pyplot as plt\n",
    "import seaborn as sns\n",
    "import statsmodels.api as sm  # statistical models (including regression)\n",
    "import statsmodels.formula.api as smf  # R-like model specification"
   ]
  },
  {
   "cell_type": "markdown",
   "metadata": {
    "colab_type": "text",
    "id": "b3Bu_Fm0DtpF"
   },
   "source": [
    "# Path"
   ]
  },
  {
   "cell_type": "code",
   "execution_count": null,
   "metadata": {
    "colab": {
     "base_uri": "https://localhost:8080/",
     "height": 35
    },
    "colab_type": "code",
    "id": "-6ly6VUJDtpG",
    "outputId": "a69c01aa-a925-4a60-a104-031097f549bb"
   },
   "outputs": [
    {
     "data": {
      "application/vnd.google.colaboratory.intrinsic+json": {
       "type": "string"
      },
      "text/plain": [
       "'/content'"
      ]
     },
     "execution_count": 2,
     "metadata": {
      "tags": []
     },
     "output_type": "execute_result"
    }
   ],
   "source": [
    "pwd"
   ]
  },
  {
   "cell_type": "code",
   "execution_count": null,
   "metadata": {
    "colab": {},
    "colab_type": "code",
    "id": "wBJrsJ6eDtpJ"
   },
   "outputs": [],
   "source": [
    "path = '' # Do not need a path for Colab"
   ]
  },
  {
   "cell_type": "markdown",
   "metadata": {
    "colab_type": "text",
    "id": "ffaHzRGZDtpL"
   },
   "source": [
    "# Read Data"
   ]
  },
  {
   "cell_type": "markdown",
   "metadata": {
    "colab_type": "text",
    "id": "l-xerASQi_RU"
   },
   "source": [
    "The file Coaches9.csv was provided for us. There is a limited amount of information in this file. The prediction column is 'TotalPay' while the other columns are not very helpful since they cant be used to predict the salary since they are part of the salary. On the other hand, the Conference column will be helpful to classify and visualize the data."
   ]
  },
  {
   "cell_type": "code",
   "execution_count": null,
   "metadata": {
    "colab": {},
    "colab_type": "code",
    "id": "YmLwgPGMDtpM"
   },
   "outputs": [],
   "source": [
    "df = pd.read_csv(path + 'Coaches9.csv')"
   ]
  },
  {
   "cell_type": "code",
   "execution_count": null,
   "metadata": {
    "colab": {
     "base_uri": "https://localhost:8080/",
     "height": 204
    },
    "colab_type": "code",
    "id": "puso4gfhDtpO",
    "outputId": "9947e24e-6bbc-4f70-ecac-5dbb0683527b"
   },
   "outputs": [
    {
     "data": {
      "text/html": [
       "<div>\n",
       "<style scoped>\n",
       "    .dataframe tbody tr th:only-of-type {\n",
       "        vertical-align: middle;\n",
       "    }\n",
       "\n",
       "    .dataframe tbody tr th {\n",
       "        vertical-align: top;\n",
       "    }\n",
       "\n",
       "    .dataframe thead th {\n",
       "        text-align: right;\n",
       "    }\n",
       "</style>\n",
       "<table border=\"1\" class=\"dataframe\">\n",
       "  <thead>\n",
       "    <tr style=\"text-align: right;\">\n",
       "      <th></th>\n",
       "      <th>School</th>\n",
       "      <th>Conference</th>\n",
       "      <th>Coach</th>\n",
       "      <th>SchoolPay</th>\n",
       "      <th>TotalPay</th>\n",
       "      <th>Bonus</th>\n",
       "      <th>BonusPaid</th>\n",
       "      <th>AssistantPay</th>\n",
       "      <th>Buyout</th>\n",
       "    </tr>\n",
       "  </thead>\n",
       "  <tbody>\n",
       "    <tr>\n",
       "      <th>0</th>\n",
       "      <td>Air Force</td>\n",
       "      <td>Mt. West</td>\n",
       "      <td>Troy Calhoun</td>\n",
       "      <td>885000</td>\n",
       "      <td>885000</td>\n",
       "      <td>247000</td>\n",
       "      <td>--</td>\n",
       "      <td>$0</td>\n",
       "      <td>--</td>\n",
       "    </tr>\n",
       "    <tr>\n",
       "      <th>1</th>\n",
       "      <td>Akron</td>\n",
       "      <td>MAC</td>\n",
       "      <td>Terry Bowden</td>\n",
       "      <td>$411,000</td>\n",
       "      <td>$412,500</td>\n",
       "      <td>$225,000</td>\n",
       "      <td>$50,000</td>\n",
       "      <td>$0</td>\n",
       "      <td>$688,500</td>\n",
       "    </tr>\n",
       "    <tr>\n",
       "      <th>2</th>\n",
       "      <td>Alabama</td>\n",
       "      <td>SEC</td>\n",
       "      <td>Nick Saban</td>\n",
       "      <td>$8,307,000</td>\n",
       "      <td>$8,307,000</td>\n",
       "      <td>$1,100,000</td>\n",
       "      <td>$500,000</td>\n",
       "      <td>$0</td>\n",
       "      <td>$33,600,000</td>\n",
       "    </tr>\n",
       "    <tr>\n",
       "      <th>3</th>\n",
       "      <td>Alabama at Birmingham</td>\n",
       "      <td>C-USA</td>\n",
       "      <td>Bill Clark</td>\n",
       "      <td>$900,000</td>\n",
       "      <td>$900,000</td>\n",
       "      <td>$950,000</td>\n",
       "      <td>$165,471</td>\n",
       "      <td>$0</td>\n",
       "      <td>$3,847,500</td>\n",
       "    </tr>\n",
       "    <tr>\n",
       "      <th>4</th>\n",
       "      <td>Appalachian State</td>\n",
       "      <td>Sun Belt</td>\n",
       "      <td>Scott Satterfield</td>\n",
       "      <td>$712,500</td>\n",
       "      <td>$712,500</td>\n",
       "      <td>$295,000</td>\n",
       "      <td>$145,000</td>\n",
       "      <td>$0</td>\n",
       "      <td>$2,160,417</td>\n",
       "    </tr>\n",
       "  </tbody>\n",
       "</table>\n",
       "</div>"
      ],
      "text/plain": [
       "                  School Conference  ... AssistantPay        Buyout\n",
       "0              Air Force   Mt. West  ...          $0             --\n",
       "1                  Akron        MAC  ...          $0      $688,500 \n",
       "2                Alabama        SEC  ...          $0   $33,600,000 \n",
       "3  Alabama at Birmingham      C-USA  ...          $0    $3,847,500 \n",
       "4      Appalachian State   Sun Belt  ...          $0    $2,160,417 \n",
       "\n",
       "[5 rows x 9 columns]"
      ]
     },
     "execution_count": 5,
     "metadata": {
      "tags": []
     },
     "output_type": "execute_result"
    }
   ],
   "source": [
    "df.head()"
   ]
  },
  {
   "cell_type": "markdown",
   "metadata": {
    "colab_type": "text",
    "id": "6-9-M7o2DtpR"
   },
   "source": [
    "# Convert Money to Float"
   ]
  },
  {
   "cell_type": "code",
   "execution_count": null,
   "metadata": {
    "colab": {
     "base_uri": "https://localhost:8080/",
     "height": 173
    },
    "colab_type": "code",
    "id": "FiUxo3iuDtpR",
    "outputId": "75a15c7b-d0dc-4e9f-b1a2-00fc521421ec"
   },
   "outputs": [
    {
     "data": {
      "text/html": [
       "<div>\n",
       "<style scoped>\n",
       "    .dataframe tbody tr th:only-of-type {\n",
       "        vertical-align: middle;\n",
       "    }\n",
       "\n",
       "    .dataframe tbody tr th {\n",
       "        vertical-align: top;\n",
       "    }\n",
       "\n",
       "    .dataframe thead th {\n",
       "        text-align: right;\n",
       "    }\n",
       "</style>\n",
       "<table border=\"1\" class=\"dataframe\">\n",
       "  <thead>\n",
       "    <tr style=\"text-align: right;\">\n",
       "      <th></th>\n",
       "      <th>School</th>\n",
       "      <th>Conference</th>\n",
       "      <th>Coach</th>\n",
       "      <th>SchoolPay</th>\n",
       "      <th>TotalPay</th>\n",
       "      <th>Bonus</th>\n",
       "      <th>BonusPaid</th>\n",
       "      <th>AssistantPay</th>\n",
       "      <th>Buyout</th>\n",
       "    </tr>\n",
       "  </thead>\n",
       "  <tbody>\n",
       "    <tr>\n",
       "      <th>count</th>\n",
       "      <td>129</td>\n",
       "      <td>129</td>\n",
       "      <td>129</td>\n",
       "      <td>129</td>\n",
       "      <td>129</td>\n",
       "      <td>129</td>\n",
       "      <td>129</td>\n",
       "      <td>129</td>\n",
       "      <td>129</td>\n",
       "    </tr>\n",
       "    <tr>\n",
       "      <th>unique</th>\n",
       "      <td>129</td>\n",
       "      <td>11</td>\n",
       "      <td>129</td>\n",
       "      <td>104</td>\n",
       "      <td>105</td>\n",
       "      <td>85</td>\n",
       "      <td>51</td>\n",
       "      <td>1</td>\n",
       "      <td>102</td>\n",
       "    </tr>\n",
       "    <tr>\n",
       "      <th>top</th>\n",
       "      <td>Old Dominion</td>\n",
       "      <td>C-USA</td>\n",
       "      <td>Charlie Strong</td>\n",
       "      <td>$3,500,000</td>\n",
       "      <td>$3,500,000</td>\n",
       "      <td>--</td>\n",
       "      <td>--</td>\n",
       "      <td>$0</td>\n",
       "      <td>--</td>\n",
       "    </tr>\n",
       "    <tr>\n",
       "      <th>freq</th>\n",
       "      <td>1</td>\n",
       "      <td>14</td>\n",
       "      <td>1</td>\n",
       "      <td>5</td>\n",
       "      <td>5</td>\n",
       "      <td>22</td>\n",
       "      <td>41</td>\n",
       "      <td>129</td>\n",
       "      <td>22</td>\n",
       "    </tr>\n",
       "  </tbody>\n",
       "</table>\n",
       "</div>"
      ],
      "text/plain": [
       "              School Conference           Coach  ... BonusPaid AssistantPay Buyout\n",
       "count            129        129             129  ...       129          129    129\n",
       "unique           129         11             129  ...        51            1    102\n",
       "top     Old Dominion      C-USA  Charlie Strong  ...        --          $0      --\n",
       "freq               1         14               1  ...        41          129     22\n",
       "\n",
       "[4 rows x 9 columns]"
      ]
     },
     "execution_count": 6,
     "metadata": {
      "tags": []
     },
     "output_type": "execute_result"
    }
   ],
   "source": [
    "df.describe()"
   ]
  },
  {
   "cell_type": "code",
   "execution_count": null,
   "metadata": {
    "colab": {},
    "colab_type": "code",
    "id": "_SKmv5DHDtpV"
   },
   "outputs": [],
   "source": [
    "from re import sub\n",
    "from decimal import Decimal\n",
    "moneyCols = ['SchoolPay', 'TotalPay', 'Bonus', 'BonusPaid', 'AssistantPay', 'Buyout']\n",
    "for col in moneyCols:\n",
    "    df[col] = [float(Decimal(sub(r'[^\\d.]', '', val))) if val != '--' else np.nan for val in df[col].values]"
   ]
  },
  {
   "cell_type": "code",
   "execution_count": null,
   "metadata": {
    "colab": {
     "base_uri": "https://localhost:8080/",
     "height": 204
    },
    "colab_type": "code",
    "id": "JpPLge1dDtpX",
    "outputId": "f23bead5-a30c-40ab-b7c6-1abcaa74280b"
   },
   "outputs": [
    {
     "data": {
      "text/html": [
       "<div>\n",
       "<style scoped>\n",
       "    .dataframe tbody tr th:only-of-type {\n",
       "        vertical-align: middle;\n",
       "    }\n",
       "\n",
       "    .dataframe tbody tr th {\n",
       "        vertical-align: top;\n",
       "    }\n",
       "\n",
       "    .dataframe thead th {\n",
       "        text-align: right;\n",
       "    }\n",
       "</style>\n",
       "<table border=\"1\" class=\"dataframe\">\n",
       "  <thead>\n",
       "    <tr style=\"text-align: right;\">\n",
       "      <th></th>\n",
       "      <th>SchoolPay</th>\n",
       "      <th>TotalPay</th>\n",
       "      <th>Bonus</th>\n",
       "      <th>BonusPaid</th>\n",
       "      <th>AssistantPay</th>\n",
       "      <th>Buyout</th>\n",
       "    </tr>\n",
       "  </thead>\n",
       "  <tbody>\n",
       "    <tr>\n",
       "      <th>0</th>\n",
       "      <td>885000.0</td>\n",
       "      <td>885000.0</td>\n",
       "      <td>247000.0</td>\n",
       "      <td>NaN</td>\n",
       "      <td>0.0</td>\n",
       "      <td>NaN</td>\n",
       "    </tr>\n",
       "    <tr>\n",
       "      <th>1</th>\n",
       "      <td>411000.0</td>\n",
       "      <td>412500.0</td>\n",
       "      <td>225000.0</td>\n",
       "      <td>50000.0</td>\n",
       "      <td>0.0</td>\n",
       "      <td>688500.0</td>\n",
       "    </tr>\n",
       "    <tr>\n",
       "      <th>2</th>\n",
       "      <td>8307000.0</td>\n",
       "      <td>8307000.0</td>\n",
       "      <td>1100000.0</td>\n",
       "      <td>500000.0</td>\n",
       "      <td>0.0</td>\n",
       "      <td>33600000.0</td>\n",
       "    </tr>\n",
       "    <tr>\n",
       "      <th>3</th>\n",
       "      <td>900000.0</td>\n",
       "      <td>900000.0</td>\n",
       "      <td>950000.0</td>\n",
       "      <td>165471.0</td>\n",
       "      <td>0.0</td>\n",
       "      <td>3847500.0</td>\n",
       "    </tr>\n",
       "    <tr>\n",
       "      <th>4</th>\n",
       "      <td>712500.0</td>\n",
       "      <td>712500.0</td>\n",
       "      <td>295000.0</td>\n",
       "      <td>145000.0</td>\n",
       "      <td>0.0</td>\n",
       "      <td>2160417.0</td>\n",
       "    </tr>\n",
       "  </tbody>\n",
       "</table>\n",
       "</div>"
      ],
      "text/plain": [
       "   SchoolPay   TotalPay      Bonus  BonusPaid  AssistantPay      Buyout\n",
       "0   885000.0   885000.0   247000.0        NaN           0.0         NaN\n",
       "1   411000.0   412500.0   225000.0    50000.0           0.0    688500.0\n",
       "2  8307000.0  8307000.0  1100000.0   500000.0           0.0  33600000.0\n",
       "3   900000.0   900000.0   950000.0   165471.0           0.0   3847500.0\n",
       "4   712500.0   712500.0   295000.0   145000.0           0.0   2160417.0"
      ]
     },
     "execution_count": 8,
     "metadata": {
      "tags": []
     },
     "output_type": "execute_result"
    }
   ],
   "source": [
    "df[moneyCols].head()"
   ]
  },
  {
   "cell_type": "code",
   "execution_count": null,
   "metadata": {
    "colab": {
     "base_uri": "https://localhost:8080/",
     "height": 297
    },
    "colab_type": "code",
    "id": "gCkx19JnDtpZ",
    "outputId": "c505790b-c6a4-4aed-fc81-3e25dac2c8ed"
   },
   "outputs": [
    {
     "data": {
      "text/html": [
       "<div>\n",
       "<style scoped>\n",
       "    .dataframe tbody tr th:only-of-type {\n",
       "        vertical-align: middle;\n",
       "    }\n",
       "\n",
       "    .dataframe tbody tr th {\n",
       "        vertical-align: top;\n",
       "    }\n",
       "\n",
       "    .dataframe thead th {\n",
       "        text-align: right;\n",
       "    }\n",
       "</style>\n",
       "<table border=\"1\" class=\"dataframe\">\n",
       "  <thead>\n",
       "    <tr style=\"text-align: right;\">\n",
       "      <th></th>\n",
       "      <th>SchoolPay</th>\n",
       "      <th>TotalPay</th>\n",
       "      <th>Bonus</th>\n",
       "      <th>BonusPaid</th>\n",
       "      <th>AssistantPay</th>\n",
       "      <th>Buyout</th>\n",
       "    </tr>\n",
       "  </thead>\n",
       "  <tbody>\n",
       "    <tr>\n",
       "      <th>count</th>\n",
       "      <td>1.250000e+02</td>\n",
       "      <td>1.250000e+02</td>\n",
       "      <td>1.070000e+02</td>\n",
       "      <td>8.800000e+01</td>\n",
       "      <td>129.0</td>\n",
       "      <td>1.070000e+02</td>\n",
       "    </tr>\n",
       "    <tr>\n",
       "      <th>mean</th>\n",
       "      <td>2.410301e+06</td>\n",
       "      <td>2.417061e+06</td>\n",
       "      <td>8.741782e+05</td>\n",
       "      <td>1.495243e+05</td>\n",
       "      <td>0.0</td>\n",
       "      <td>8.119107e+06</td>\n",
       "    </tr>\n",
       "    <tr>\n",
       "      <th>std</th>\n",
       "      <td>1.881377e+06</td>\n",
       "      <td>1.885752e+06</td>\n",
       "      <td>6.346974e+05</td>\n",
       "      <td>2.387579e+05</td>\n",
       "      <td>0.0</td>\n",
       "      <td>1.046135e+07</td>\n",
       "    </tr>\n",
       "    <tr>\n",
       "      <th>min</th>\n",
       "      <td>3.900000e+05</td>\n",
       "      <td>3.900000e+05</td>\n",
       "      <td>5.000000e+04</td>\n",
       "      <td>0.000000e+00</td>\n",
       "      <td>0.0</td>\n",
       "      <td>0.000000e+00</td>\n",
       "    </tr>\n",
       "    <tr>\n",
       "      <th>25%</th>\n",
       "      <td>8.015040e+05</td>\n",
       "      <td>8.058500e+05</td>\n",
       "      <td>3.950000e+05</td>\n",
       "      <td>1.937500e+04</td>\n",
       "      <td>0.0</td>\n",
       "      <td>1.200000e+06</td>\n",
       "    </tr>\n",
       "    <tr>\n",
       "      <th>50%</th>\n",
       "      <td>1.831580e+06</td>\n",
       "      <td>1.900008e+06</td>\n",
       "      <td>7.750000e+05</td>\n",
       "      <td>6.375000e+04</td>\n",
       "      <td>0.0</td>\n",
       "      <td>4.000000e+06</td>\n",
       "    </tr>\n",
       "    <tr>\n",
       "      <th>75%</th>\n",
       "      <td>3.605000e+06</td>\n",
       "      <td>3.617500e+06</td>\n",
       "      <td>1.150000e+06</td>\n",
       "      <td>1.800000e+05</td>\n",
       "      <td>0.0</td>\n",
       "      <td>1.106500e+07</td>\n",
       "    </tr>\n",
       "    <tr>\n",
       "      <th>max</th>\n",
       "      <td>8.307000e+06</td>\n",
       "      <td>8.307000e+06</td>\n",
       "      <td>3.100000e+06</td>\n",
       "      <td>1.350000e+06</td>\n",
       "      <td>0.0</td>\n",
       "      <td>6.812500e+07</td>\n",
       "    </tr>\n",
       "  </tbody>\n",
       "</table>\n",
       "</div>"
      ],
      "text/plain": [
       "          SchoolPay      TotalPay  ...  AssistantPay        Buyout\n",
       "count  1.250000e+02  1.250000e+02  ...         129.0  1.070000e+02\n",
       "mean   2.410301e+06  2.417061e+06  ...           0.0  8.119107e+06\n",
       "std    1.881377e+06  1.885752e+06  ...           0.0  1.046135e+07\n",
       "min    3.900000e+05  3.900000e+05  ...           0.0  0.000000e+00\n",
       "25%    8.015040e+05  8.058500e+05  ...           0.0  1.200000e+06\n",
       "50%    1.831580e+06  1.900008e+06  ...           0.0  4.000000e+06\n",
       "75%    3.605000e+06  3.617500e+06  ...           0.0  1.106500e+07\n",
       "max    8.307000e+06  8.307000e+06  ...           0.0  6.812500e+07\n",
       "\n",
       "[8 rows x 6 columns]"
      ]
     },
     "execution_count": 9,
     "metadata": {
      "tags": []
     },
     "output_type": "execute_result"
    }
   ],
   "source": [
    "df[moneyCols].describe()"
   ]
  },
  {
   "cell_type": "markdown",
   "metadata": {
    "colab_type": "text",
    "id": "dt2r38YIDtpc"
   },
   "source": [
    "## Drop Unimportant Columns and Rows"
   ]
  },
  {
   "cell_type": "code",
   "execution_count": null,
   "metadata": {
    "colab": {},
    "colab_type": "code",
    "id": "NMMQqUsPDtpd"
   },
   "outputs": [],
   "source": [
    "df = df.drop(['AssistantPay'], axis=1) # Always empty"
   ]
  },
  {
   "cell_type": "code",
   "execution_count": null,
   "metadata": {
    "colab": {
     "base_uri": "https://localhost:8080/",
     "height": 173
    },
    "colab_type": "code",
    "id": "WdPDUWCSDtpf",
    "outputId": "cb55a8ae-de9e-4e2c-81cc-730302688c16"
   },
   "outputs": [
    {
     "data": {
      "text/html": [
       "<div>\n",
       "<style scoped>\n",
       "    .dataframe tbody tr th:only-of-type {\n",
       "        vertical-align: middle;\n",
       "    }\n",
       "\n",
       "    .dataframe tbody tr th {\n",
       "        vertical-align: top;\n",
       "    }\n",
       "\n",
       "    .dataframe thead th {\n",
       "        text-align: right;\n",
       "    }\n",
       "</style>\n",
       "<table border=\"1\" class=\"dataframe\">\n",
       "  <thead>\n",
       "    <tr style=\"text-align: right;\">\n",
       "      <th></th>\n",
       "      <th>School</th>\n",
       "      <th>Conference</th>\n",
       "      <th>Coach</th>\n",
       "      <th>SchoolPay</th>\n",
       "      <th>TotalPay</th>\n",
       "      <th>Bonus</th>\n",
       "      <th>BonusPaid</th>\n",
       "      <th>Buyout</th>\n",
       "    </tr>\n",
       "  </thead>\n",
       "  <tbody>\n",
       "    <tr>\n",
       "      <th>12</th>\n",
       "      <td>Baylor</td>\n",
       "      <td>Big 12</td>\n",
       "      <td>Matt Rhule</td>\n",
       "      <td>NaN</td>\n",
       "      <td>NaN</td>\n",
       "      <td>NaN</td>\n",
       "      <td>NaN</td>\n",
       "      <td>NaN</td>\n",
       "    </tr>\n",
       "    <tr>\n",
       "      <th>16</th>\n",
       "      <td>Brigham Young</td>\n",
       "      <td>Ind.</td>\n",
       "      <td>Kalani Sitake</td>\n",
       "      <td>NaN</td>\n",
       "      <td>NaN</td>\n",
       "      <td>NaN</td>\n",
       "      <td>NaN</td>\n",
       "      <td>NaN</td>\n",
       "    </tr>\n",
       "    <tr>\n",
       "      <th>91</th>\n",
       "      <td>Rice</td>\n",
       "      <td>C-USA</td>\n",
       "      <td>Mike Bloomgren</td>\n",
       "      <td>NaN</td>\n",
       "      <td>NaN</td>\n",
       "      <td>NaN</td>\n",
       "      <td>NaN</td>\n",
       "      <td>NaN</td>\n",
       "    </tr>\n",
       "    <tr>\n",
       "      <th>99</th>\n",
       "      <td>Southern Methodist</td>\n",
       "      <td>AAC</td>\n",
       "      <td>Sonny Dykes</td>\n",
       "      <td>NaN</td>\n",
       "      <td>NaN</td>\n",
       "      <td>NaN</td>\n",
       "      <td>NaN</td>\n",
       "      <td>NaN</td>\n",
       "    </tr>\n",
       "  </tbody>\n",
       "</table>\n",
       "</div>"
      ],
      "text/plain": [
       "                School Conference           Coach  ...  Bonus  BonusPaid  Buyout\n",
       "12              Baylor     Big 12      Matt Rhule  ...    NaN        NaN     NaN\n",
       "16       Brigham Young       Ind.   Kalani Sitake  ...    NaN        NaN     NaN\n",
       "91                Rice      C-USA  Mike Bloomgren  ...    NaN        NaN     NaN\n",
       "99  Southern Methodist        AAC     Sonny Dykes  ...    NaN        NaN     NaN\n",
       "\n",
       "[4 rows x 8 columns]"
      ]
     },
     "execution_count": 11,
     "metadata": {
      "tags": []
     },
     "output_type": "execute_result"
    }
   ],
   "source": [
    "moneyCols = ['SchoolPay', 'TotalPay', 'Bonus', 'BonusPaid', 'Buyout']\n",
    "df.loc[(df[moneyCols].isnull()).all(axis=1)] # Find Rows with all empty values"
   ]
  },
  {
   "cell_type": "code",
   "execution_count": null,
   "metadata": {
    "colab": {},
    "colab_type": "code",
    "id": "cvgynqnaDtpi"
   },
   "outputs": [],
   "source": [
    "df = df.loc[~(df[moneyCols].isnull()).all(axis=1)].reset_index(drop=True) # Drop empty rows"
   ]
  },
  {
   "cell_type": "code",
   "execution_count": null,
   "metadata": {
    "colab": {
     "base_uri": "https://localhost:8080/",
     "height": 204
    },
    "colab_type": "code",
    "id": "gp4FKuLODtpl",
    "outputId": "74394930-13cb-43f3-940e-d4020f969c90"
   },
   "outputs": [
    {
     "data": {
      "text/html": [
       "<div>\n",
       "<style scoped>\n",
       "    .dataframe tbody tr th:only-of-type {\n",
       "        vertical-align: middle;\n",
       "    }\n",
       "\n",
       "    .dataframe tbody tr th {\n",
       "        vertical-align: top;\n",
       "    }\n",
       "\n",
       "    .dataframe thead th {\n",
       "        text-align: right;\n",
       "    }\n",
       "</style>\n",
       "<table border=\"1\" class=\"dataframe\">\n",
       "  <thead>\n",
       "    <tr style=\"text-align: right;\">\n",
       "      <th></th>\n",
       "      <th>School</th>\n",
       "      <th>Conference</th>\n",
       "      <th>Coach</th>\n",
       "      <th>SchoolPay</th>\n",
       "      <th>TotalPay</th>\n",
       "      <th>Bonus</th>\n",
       "      <th>BonusPaid</th>\n",
       "      <th>Buyout</th>\n",
       "    </tr>\n",
       "  </thead>\n",
       "  <tbody>\n",
       "    <tr>\n",
       "      <th>0</th>\n",
       "      <td>Air Force</td>\n",
       "      <td>Mt. West</td>\n",
       "      <td>Troy Calhoun</td>\n",
       "      <td>885000.0</td>\n",
       "      <td>885000.0</td>\n",
       "      <td>247000.0</td>\n",
       "      <td>NaN</td>\n",
       "      <td>NaN</td>\n",
       "    </tr>\n",
       "    <tr>\n",
       "      <th>1</th>\n",
       "      <td>Akron</td>\n",
       "      <td>MAC</td>\n",
       "      <td>Terry Bowden</td>\n",
       "      <td>411000.0</td>\n",
       "      <td>412500.0</td>\n",
       "      <td>225000.0</td>\n",
       "      <td>50000.0</td>\n",
       "      <td>688500.0</td>\n",
       "    </tr>\n",
       "    <tr>\n",
       "      <th>2</th>\n",
       "      <td>Alabama</td>\n",
       "      <td>SEC</td>\n",
       "      <td>Nick Saban</td>\n",
       "      <td>8307000.0</td>\n",
       "      <td>8307000.0</td>\n",
       "      <td>1100000.0</td>\n",
       "      <td>500000.0</td>\n",
       "      <td>33600000.0</td>\n",
       "    </tr>\n",
       "    <tr>\n",
       "      <th>3</th>\n",
       "      <td>Alabama at Birmingham</td>\n",
       "      <td>C-USA</td>\n",
       "      <td>Bill Clark</td>\n",
       "      <td>900000.0</td>\n",
       "      <td>900000.0</td>\n",
       "      <td>950000.0</td>\n",
       "      <td>165471.0</td>\n",
       "      <td>3847500.0</td>\n",
       "    </tr>\n",
       "    <tr>\n",
       "      <th>4</th>\n",
       "      <td>Appalachian State</td>\n",
       "      <td>Sun Belt</td>\n",
       "      <td>Scott Satterfield</td>\n",
       "      <td>712500.0</td>\n",
       "      <td>712500.0</td>\n",
       "      <td>295000.0</td>\n",
       "      <td>145000.0</td>\n",
       "      <td>2160417.0</td>\n",
       "    </tr>\n",
       "  </tbody>\n",
       "</table>\n",
       "</div>"
      ],
      "text/plain": [
       "                  School Conference  ... BonusPaid      Buyout\n",
       "0              Air Force   Mt. West  ...       NaN         NaN\n",
       "1                  Akron        MAC  ...   50000.0    688500.0\n",
       "2                Alabama        SEC  ...  500000.0  33600000.0\n",
       "3  Alabama at Birmingham      C-USA  ...  165471.0   3847500.0\n",
       "4      Appalachian State   Sun Belt  ...  145000.0   2160417.0\n",
       "\n",
       "[5 rows x 8 columns]"
      ]
     },
     "execution_count": 13,
     "metadata": {
      "tags": []
     },
     "output_type": "execute_result"
    }
   ],
   "source": [
    "df.head()"
   ]
  },
  {
   "cell_type": "markdown",
   "metadata": {
    "colab_type": "text",
    "id": "QqgIe0rdDtpo"
   },
   "source": [
    "# Merge Other Datasets"
   ]
  },
  {
   "cell_type": "markdown",
   "metadata": {
    "colab_type": "text",
    "id": "k_3ncKKWDtpo"
   },
   "source": [
    "### Mapping Other School Data to Coaches csv\n",
    "The simName.csv file contains a mapping file for the school names to match the graduation rate to the school name. "
   ]
  },
  {
   "cell_type": "code",
   "execution_count": null,
   "metadata": {
    "colab": {},
    "colab_type": "code",
    "id": "3vPwnxocDtpp"
   },
   "outputs": [],
   "source": [
    "simnames = pd.read_csv(path + 'simName.csv')"
   ]
  },
  {
   "cell_type": "code",
   "execution_count": null,
   "metadata": {
    "colab": {
     "base_uri": "https://localhost:8080/",
     "height": 204
    },
    "colab_type": "code",
    "id": "o2aFk5hdDtpt",
    "outputId": "8dc112c3-e984-4440-8b22-4343ddec7891"
   },
   "outputs": [
    {
     "data": {
      "text/html": [
       "<div>\n",
       "<style scoped>\n",
       "    .dataframe tbody tr th:only-of-type {\n",
       "        vertical-align: middle;\n",
       "    }\n",
       "\n",
       "    .dataframe tbody tr th {\n",
       "        vertical-align: top;\n",
       "    }\n",
       "\n",
       "    .dataframe thead th {\n",
       "        text-align: right;\n",
       "    }\n",
       "</style>\n",
       "<table border=\"1\" class=\"dataframe\">\n",
       "  <thead>\n",
       "    <tr style=\"text-align: right;\">\n",
       "      <th></th>\n",
       "      <th>SchoolName</th>\n",
       "      <th>FullName</th>\n",
       "    </tr>\n",
       "  </thead>\n",
       "  <tbody>\n",
       "    <tr>\n",
       "      <th>0</th>\n",
       "      <td>Air Force</td>\n",
       "      <td>United States Air Force Academy</td>\n",
       "    </tr>\n",
       "    <tr>\n",
       "      <th>1</th>\n",
       "      <td>Akron</td>\n",
       "      <td>University of Akron Main Campus</td>\n",
       "    </tr>\n",
       "    <tr>\n",
       "      <th>2</th>\n",
       "      <td>Alabama</td>\n",
       "      <td>The University of Alabama</td>\n",
       "    </tr>\n",
       "    <tr>\n",
       "      <th>3</th>\n",
       "      <td>Alabama at Birmingham</td>\n",
       "      <td>University of Alabama at Birmingham</td>\n",
       "    </tr>\n",
       "    <tr>\n",
       "      <th>4</th>\n",
       "      <td>Appalachian State</td>\n",
       "      <td>Appalachian State University</td>\n",
       "    </tr>\n",
       "  </tbody>\n",
       "</table>\n",
       "</div>"
      ],
      "text/plain": [
       "              SchoolName                             FullName\n",
       "0              Air Force      United States Air Force Academy\n",
       "1                  Akron      University of Akron Main Campus\n",
       "2                Alabama            The University of Alabama\n",
       "3  Alabama at Birmingham  University of Alabama at Birmingham\n",
       "4      Appalachian State         Appalachian State University"
      ]
     },
     "execution_count": 15,
     "metadata": {
      "tags": []
     },
     "output_type": "execute_result"
    }
   ],
   "source": [
    "simnames.head()"
   ]
  },
  {
   "cell_type": "code",
   "execution_count": null,
   "metadata": {
    "colab": {},
    "colab_type": "code",
    "id": "k3i5PTkFDtpv"
   },
   "outputs": [],
   "source": [
    "df = df.merge(simnames, left_on='School', right_on='SchoolName', how='left')"
   ]
  },
  {
   "cell_type": "code",
   "execution_count": null,
   "metadata": {
    "colab": {
     "base_uri": "https://localhost:8080/",
     "height": 204
    },
    "colab_type": "code",
    "id": "jmRPgixPDtpx",
    "outputId": "006615c5-8e2a-40c1-a133-0eb04e27de58"
   },
   "outputs": [
    {
     "data": {
      "text/html": [
       "<div>\n",
       "<style scoped>\n",
       "    .dataframe tbody tr th:only-of-type {\n",
       "        vertical-align: middle;\n",
       "    }\n",
       "\n",
       "    .dataframe tbody tr th {\n",
       "        vertical-align: top;\n",
       "    }\n",
       "\n",
       "    .dataframe thead th {\n",
       "        text-align: right;\n",
       "    }\n",
       "</style>\n",
       "<table border=\"1\" class=\"dataframe\">\n",
       "  <thead>\n",
       "    <tr style=\"text-align: right;\">\n",
       "      <th></th>\n",
       "      <th>School</th>\n",
       "      <th>Conference</th>\n",
       "      <th>Coach</th>\n",
       "      <th>SchoolPay</th>\n",
       "      <th>TotalPay</th>\n",
       "      <th>Bonus</th>\n",
       "      <th>BonusPaid</th>\n",
       "      <th>Buyout</th>\n",
       "      <th>SchoolName</th>\n",
       "      <th>FullName</th>\n",
       "    </tr>\n",
       "  </thead>\n",
       "  <tbody>\n",
       "    <tr>\n",
       "      <th>0</th>\n",
       "      <td>Air Force</td>\n",
       "      <td>Mt. West</td>\n",
       "      <td>Troy Calhoun</td>\n",
       "      <td>885000.0</td>\n",
       "      <td>885000.0</td>\n",
       "      <td>247000.0</td>\n",
       "      <td>NaN</td>\n",
       "      <td>NaN</td>\n",
       "      <td>Air Force</td>\n",
       "      <td>United States Air Force Academy</td>\n",
       "    </tr>\n",
       "    <tr>\n",
       "      <th>1</th>\n",
       "      <td>Akron</td>\n",
       "      <td>MAC</td>\n",
       "      <td>Terry Bowden</td>\n",
       "      <td>411000.0</td>\n",
       "      <td>412500.0</td>\n",
       "      <td>225000.0</td>\n",
       "      <td>50000.0</td>\n",
       "      <td>688500.0</td>\n",
       "      <td>Akron</td>\n",
       "      <td>University of Akron Main Campus</td>\n",
       "    </tr>\n",
       "    <tr>\n",
       "      <th>2</th>\n",
       "      <td>Alabama</td>\n",
       "      <td>SEC</td>\n",
       "      <td>Nick Saban</td>\n",
       "      <td>8307000.0</td>\n",
       "      <td>8307000.0</td>\n",
       "      <td>1100000.0</td>\n",
       "      <td>500000.0</td>\n",
       "      <td>33600000.0</td>\n",
       "      <td>Alabama</td>\n",
       "      <td>The University of Alabama</td>\n",
       "    </tr>\n",
       "    <tr>\n",
       "      <th>3</th>\n",
       "      <td>Alabama at Birmingham</td>\n",
       "      <td>C-USA</td>\n",
       "      <td>Bill Clark</td>\n",
       "      <td>900000.0</td>\n",
       "      <td>900000.0</td>\n",
       "      <td>950000.0</td>\n",
       "      <td>165471.0</td>\n",
       "      <td>3847500.0</td>\n",
       "      <td>Alabama at Birmingham</td>\n",
       "      <td>University of Alabama at Birmingham</td>\n",
       "    </tr>\n",
       "    <tr>\n",
       "      <th>4</th>\n",
       "      <td>Appalachian State</td>\n",
       "      <td>Sun Belt</td>\n",
       "      <td>Scott Satterfield</td>\n",
       "      <td>712500.0</td>\n",
       "      <td>712500.0</td>\n",
       "      <td>295000.0</td>\n",
       "      <td>145000.0</td>\n",
       "      <td>2160417.0</td>\n",
       "      <td>Appalachian State</td>\n",
       "      <td>Appalachian State University</td>\n",
       "    </tr>\n",
       "  </tbody>\n",
       "</table>\n",
       "</div>"
      ],
      "text/plain": [
       "                  School  ...                             FullName\n",
       "0              Air Force  ...      United States Air Force Academy\n",
       "1                  Akron  ...      University of Akron Main Campus\n",
       "2                Alabama  ...            The University of Alabama\n",
       "3  Alabama at Birmingham  ...  University of Alabama at Birmingham\n",
       "4      Appalachian State  ...         Appalachian State University\n",
       "\n",
       "[5 rows x 10 columns]"
      ]
     },
     "execution_count": 17,
     "metadata": {
      "tags": []
     },
     "output_type": "execute_result"
    }
   ],
   "source": [
    "df.head()"
   ]
  },
  {
   "cell_type": "markdown",
   "metadata": {
    "colab_type": "text",
    "id": "LKwBC-INDtp3"
   },
   "source": [
    "## Merge GSR and FEDRATE"
   ]
  },
  {
   "cell_type": "markdown",
   "metadata": {
    "colab_type": "text",
    "id": "6yF7Tx1rjuhx"
   },
   "source": [
    "The file was gotten from 'https://www.icpsr.umich.edu/icpsrweb/NCAA/studies/30022/datadocumentation'. It contains the GSR and FED information for a couple of years, but we will only be using the 2006 data for simplicity."
   ]
  },
  {
   "cell_type": "code",
   "execution_count": null,
   "metadata": {
    "colab": {},
    "colab_type": "code",
    "id": "6MBHHdotDtp3"
   },
   "outputs": [],
   "source": [
    "odf = pd.read_csv(path + 'OtherSchoolData.csv')"
   ]
  },
  {
   "cell_type": "markdown",
   "metadata": {
    "colab_type": "text",
    "id": "dlUbeJyNDtp5"
   },
   "source": [
    "### Get Relevant Columns Only"
   ]
  },
  {
   "cell_type": "code",
   "execution_count": null,
   "metadata": {
    "colab": {},
    "colab_type": "code",
    "id": "jeNcysr7Dtp6"
   },
   "outputs": [],
   "source": [
    "# We need to find the most relevant columns. In order to do so, we take the latest years data and get rid of the rest.\n",
    "goodCols = ['DATATAB_SCHOOL_INFO', 'SCL_UNITID', 'SCL_NAME', 'SCL_DIVISION',\n",
    "       'SCL_SUBDIVISION', 'SCL_CONFERENCE', 'DIV1_FB_CONFERENCE',\n",
    "       'SCL_HBCU', 'SCL_PRIVATE', 'DATATAB_4YR_OVERALL_FED_SA',\n",
    "       'FED_N_SA', 'FED_RATE_SA', 'DATATAB_4YR_OVERALL_GSR_SA',\n",
    "       'GSR_N_SA', 'GSR_SA', 'DATATAB_4YR_GENDER_FED_SA', 'FED_N_MALE_SA',\n",
    "       'FED_RATE_MALE_SA', 'FED_N_FEMALE_SA', 'FED_RATE_FEMALE_SA',\n",
    "       'DATATAB_4YR_GENDER_GSR_SA', 'GSR_N_MALE_SA', 'GSR_MALE_SA',\n",
    "       'GSR_N_FEMALE_SA', 'GSR_FEMALE_SA', 'DATATAB_4YR_RACE_FED_SA',\n",
    "       'FED_RATE_AA_SA', 'FED_RATE_OTHER_SA', 'FED_RATE_WH_SA',\n",
    "       'DATATAB_4YR_RACE_GSR_SA', 'GSR_AA_SA', 'GSR_OTHER_SA',\n",
    "       'GSR_WH_SA', 'DATATAB_4YR_GENDERRACE_FED_SA',\n",
    "       'FED_RATE_MALE_AA_SA', 'FED_RATE_MALE_OTHER_SA',\n",
    "       'FED_RATE_MALE_WH_SA', 'FED_RATE_FEMALE_AA_SA',\n",
    "       'FED_RATE_FEMALE_OTHER_SA', 'FED_RATE_FEMALE_WH_SA',\n",
    "       'DATATAB_4YR_GENDERRACE_GSR_SA', 'GSR_MALE_AA_SA',\n",
    "       'GSR_MALE_OTHER_SA', 'GSR_MALE_WH_SA', 'GSR_FEMALE_AA_SA',\n",
    "       'GSR_FEMALE_OTHER_SA', 'GSR_FEMALE_WH_SA',\n",
    "       'DATATAB_SINGLEYR_OVERALL_FED_SA']\n",
    "\n",
    "for col in odf.columns.values:\n",
    "    if (col in goodCols):\n",
    "        continue\n",
    "    elif '2006' in col:\n",
    "        goodCols.append(col)\n",
    "odf = odf[goodCols]"
   ]
  },
  {
   "cell_type": "code",
   "execution_count": null,
   "metadata": {
    "colab": {
     "base_uri": "https://localhost:8080/",
     "height": 34
    },
    "colab_type": "code",
    "id": "0EY-up1EDtp8",
    "outputId": "41e69546-fd2d-4605-98fd-ddb3a56596f5"
   },
   "outputs": [
    {
     "name": "stdout",
     "output_type": "stream",
     "text": [
      "59\n"
     ]
    }
   ],
   "source": [
    "print(len(odf.columns.values))"
   ]
  },
  {
   "cell_type": "markdown",
   "metadata": {
    "colab_type": "text",
    "id": "4hBgMPPyDtp-"
   },
   "source": [
    "### Merge Files Together"
   ]
  },
  {
   "cell_type": "code",
   "execution_count": null,
   "metadata": {
    "colab": {},
    "colab_type": "code",
    "id": "D2LJZdQCDtp-"
   },
   "outputs": [],
   "source": [
    "df = df.merge(odf, how='left', left_on='FullName', right_on='SCL_NAME')"
   ]
  },
  {
   "cell_type": "code",
   "execution_count": null,
   "metadata": {
    "colab": {
     "base_uri": "https://localhost:8080/",
     "height": 69
    },
    "colab_type": "code",
    "id": "5ZQydokeDtqB",
    "outputId": "c8c5eba1-a51d-414c-86ad-0f8e7ab45df1"
   },
   "outputs": [
    {
     "data": {
      "text/html": [
       "<div>\n",
       "<style scoped>\n",
       "    .dataframe tbody tr th:only-of-type {\n",
       "        vertical-align: middle;\n",
       "    }\n",
       "\n",
       "    .dataframe tbody tr th {\n",
       "        vertical-align: top;\n",
       "    }\n",
       "\n",
       "    .dataframe thead th {\n",
       "        text-align: right;\n",
       "    }\n",
       "</style>\n",
       "<table border=\"1\" class=\"dataframe\">\n",
       "  <thead>\n",
       "    <tr style=\"text-align: right;\">\n",
       "      <th></th>\n",
       "      <th>School</th>\n",
       "      <th>Conference</th>\n",
       "      <th>Coach</th>\n",
       "      <th>SchoolPay</th>\n",
       "      <th>TotalPay</th>\n",
       "      <th>Bonus</th>\n",
       "      <th>BonusPaid</th>\n",
       "      <th>Buyout</th>\n",
       "      <th>SchoolName</th>\n",
       "      <th>FullName</th>\n",
       "      <th>DATATAB_SCHOOL_INFO</th>\n",
       "      <th>SCL_UNITID</th>\n",
       "      <th>SCL_NAME</th>\n",
       "      <th>SCL_DIVISION</th>\n",
       "      <th>SCL_SUBDIVISION</th>\n",
       "      <th>SCL_CONFERENCE</th>\n",
       "      <th>DIV1_FB_CONFERENCE</th>\n",
       "      <th>SCL_HBCU</th>\n",
       "      <th>SCL_PRIVATE</th>\n",
       "      <th>DATATAB_4YR_OVERALL_FED_SA</th>\n",
       "      <th>FED_N_SA</th>\n",
       "      <th>FED_RATE_SA</th>\n",
       "      <th>DATATAB_4YR_OVERALL_GSR_SA</th>\n",
       "      <th>GSR_N_SA</th>\n",
       "      <th>GSR_SA</th>\n",
       "      <th>DATATAB_4YR_GENDER_FED_SA</th>\n",
       "      <th>FED_N_MALE_SA</th>\n",
       "      <th>FED_RATE_MALE_SA</th>\n",
       "      <th>FED_N_FEMALE_SA</th>\n",
       "      <th>FED_RATE_FEMALE_SA</th>\n",
       "      <th>DATATAB_4YR_GENDER_GSR_SA</th>\n",
       "      <th>GSR_N_MALE_SA</th>\n",
       "      <th>GSR_MALE_SA</th>\n",
       "      <th>GSR_N_FEMALE_SA</th>\n",
       "      <th>GSR_FEMALE_SA</th>\n",
       "      <th>DATATAB_4YR_RACE_FED_SA</th>\n",
       "      <th>FED_RATE_AA_SA</th>\n",
       "      <th>FED_RATE_OTHER_SA</th>\n",
       "      <th>FED_RATE_WH_SA</th>\n",
       "      <th>DATATAB_4YR_RACE_GSR_SA</th>\n",
       "      <th>GSR_AA_SA</th>\n",
       "      <th>GSR_OTHER_SA</th>\n",
       "      <th>GSR_WH_SA</th>\n",
       "      <th>DATATAB_4YR_GENDERRACE_FED_SA</th>\n",
       "      <th>FED_RATE_MALE_AA_SA</th>\n",
       "      <th>FED_RATE_MALE_OTHER_SA</th>\n",
       "      <th>FED_RATE_MALE_WH_SA</th>\n",
       "      <th>FED_RATE_FEMALE_AA_SA</th>\n",
       "      <th>FED_RATE_FEMALE_OTHER_SA</th>\n",
       "      <th>FED_RATE_FEMALE_WH_SA</th>\n",
       "      <th>DATATAB_4YR_GENDERRACE_GSR_SA</th>\n",
       "      <th>GSR_MALE_AA_SA</th>\n",
       "      <th>GSR_MALE_OTHER_SA</th>\n",
       "      <th>GSR_MALE_WH_SA</th>\n",
       "      <th>GSR_FEMALE_AA_SA</th>\n",
       "      <th>GSR_FEMALE_OTHER_SA</th>\n",
       "      <th>GSR_FEMALE_WH_SA</th>\n",
       "      <th>DATATAB_SINGLEYR_OVERALL_FED_SA</th>\n",
       "      <th>FED_N_2006_SA</th>\n",
       "      <th>FED_RATE_2006_SA</th>\n",
       "      <th>GSR_N_2006_SA</th>\n",
       "      <th>GSR_2006_SA</th>\n",
       "      <th>FED_RATE_MALE_2006_SA</th>\n",
       "      <th>FED_RATE_FEMALE_2006_SA</th>\n",
       "      <th>GSR_MALE_2006_SA</th>\n",
       "      <th>GSR_FEMALE_2006_SA</th>\n",
       "      <th>FED_RATE_2006_SB</th>\n",
       "      <th>FED_RATE_MALE_2006_SB</th>\n",
       "      <th>FED_RATE_FEMALE_2006_SB</th>\n",
       "    </tr>\n",
       "  </thead>\n",
       "  <tbody>\n",
       "  </tbody>\n",
       "</table>\n",
       "</div>"
      ],
      "text/plain": [
       "Empty DataFrame\n",
       "Columns: [School, Conference, Coach, SchoolPay, TotalPay, Bonus, BonusPaid, Buyout, SchoolName, FullName, DATATAB_SCHOOL_INFO, SCL_UNITID, SCL_NAME, SCL_DIVISION, SCL_SUBDIVISION, SCL_CONFERENCE, DIV1_FB_CONFERENCE, SCL_HBCU, SCL_PRIVATE, DATATAB_4YR_OVERALL_FED_SA, FED_N_SA, FED_RATE_SA, DATATAB_4YR_OVERALL_GSR_SA, GSR_N_SA, GSR_SA, DATATAB_4YR_GENDER_FED_SA, FED_N_MALE_SA, FED_RATE_MALE_SA, FED_N_FEMALE_SA, FED_RATE_FEMALE_SA, DATATAB_4YR_GENDER_GSR_SA, GSR_N_MALE_SA, GSR_MALE_SA, GSR_N_FEMALE_SA, GSR_FEMALE_SA, DATATAB_4YR_RACE_FED_SA, FED_RATE_AA_SA, FED_RATE_OTHER_SA, FED_RATE_WH_SA, DATATAB_4YR_RACE_GSR_SA, GSR_AA_SA, GSR_OTHER_SA, GSR_WH_SA, DATATAB_4YR_GENDERRACE_FED_SA, FED_RATE_MALE_AA_SA, FED_RATE_MALE_OTHER_SA, FED_RATE_MALE_WH_SA, FED_RATE_FEMALE_AA_SA, FED_RATE_FEMALE_OTHER_SA, FED_RATE_FEMALE_WH_SA, DATATAB_4YR_GENDERRACE_GSR_SA, GSR_MALE_AA_SA, GSR_MALE_OTHER_SA, GSR_MALE_WH_SA, GSR_FEMALE_AA_SA, GSR_FEMALE_OTHER_SA, GSR_FEMALE_WH_SA, DATATAB_SINGLEYR_OVERALL_FED_SA, FED_N_2006_SA, FED_RATE_2006_SA, GSR_N_2006_SA, GSR_2006_SA, FED_RATE_MALE_2006_SA, FED_RATE_FEMALE_2006_SA, GSR_MALE_2006_SA, GSR_FEMALE_2006_SA, FED_RATE_2006_SB, FED_RATE_MALE_2006_SB, FED_RATE_FEMALE_2006_SB]\n",
       "Index: []"
      ]
     },
     "execution_count": 22,
     "metadata": {
      "tags": []
     },
     "output_type": "execute_result"
    }
   ],
   "source": [
    "# Make Sure all Rows were merged correctly\n",
    "df.loc[(df[goodCols].isnull()).all(axis=1)]"
   ]
  },
  {
   "cell_type": "code",
   "execution_count": null,
   "metadata": {
    "colab": {
     "base_uri": "https://localhost:8080/",
     "height": 391
    },
    "colab_type": "code",
    "id": "i7UkinLyDtqF",
    "outputId": "76fad848-079a-45d8-9c7c-965fd5ac354d"
   },
   "outputs": [
    {
     "data": {
      "text/plain": [
       "Index(['School', 'Conference', 'Coach', 'SchoolPay', 'TotalPay', 'Bonus',\n",
       "       'BonusPaid', 'Buyout', 'SchoolName', 'FullName', 'DATATAB_SCHOOL_INFO',\n",
       "       'SCL_UNITID', 'SCL_NAME', 'SCL_DIVISION', 'SCL_SUBDIVISION',\n",
       "       'SCL_CONFERENCE', 'DIV1_FB_CONFERENCE', 'SCL_HBCU', 'SCL_PRIVATE',\n",
       "       'DATATAB_4YR_OVERALL_FED_SA', 'FED_N_SA', 'FED_RATE_SA',\n",
       "       'DATATAB_4YR_OVERALL_GSR_SA', 'GSR_N_SA', 'GSR_SA',\n",
       "       'DATATAB_4YR_GENDER_FED_SA', 'FED_N_MALE_SA', 'FED_RATE_MALE_SA',\n",
       "       'FED_N_FEMALE_SA', 'FED_RATE_FEMALE_SA', 'DATATAB_4YR_GENDER_GSR_SA',\n",
       "       'GSR_N_MALE_SA', 'GSR_MALE_SA', 'GSR_N_FEMALE_SA', 'GSR_FEMALE_SA',\n",
       "       'DATATAB_4YR_RACE_FED_SA', 'FED_RATE_AA_SA', 'FED_RATE_OTHER_SA',\n",
       "       'FED_RATE_WH_SA', 'DATATAB_4YR_RACE_GSR_SA', 'GSR_AA_SA',\n",
       "       'GSR_OTHER_SA', 'GSR_WH_SA', 'DATATAB_4YR_GENDERRACE_FED_SA',\n",
       "       'FED_RATE_MALE_AA_SA', 'FED_RATE_MALE_OTHER_SA', 'FED_RATE_MALE_WH_SA',\n",
       "       'FED_RATE_FEMALE_AA_SA', 'FED_RATE_FEMALE_OTHER_SA',\n",
       "       'FED_RATE_FEMALE_WH_SA', 'DATATAB_4YR_GENDERRACE_GSR_SA',\n",
       "       'GSR_MALE_AA_SA', 'GSR_MALE_OTHER_SA', 'GSR_MALE_WH_SA',\n",
       "       'GSR_FEMALE_AA_SA', 'GSR_FEMALE_OTHER_SA', 'GSR_FEMALE_WH_SA',\n",
       "       'DATATAB_SINGLEYR_OVERALL_FED_SA', 'FED_N_2006_SA', 'FED_RATE_2006_SA',\n",
       "       'GSR_N_2006_SA', 'GSR_2006_SA', 'FED_RATE_MALE_2006_SA',\n",
       "       'FED_RATE_FEMALE_2006_SA', 'GSR_MALE_2006_SA', 'GSR_FEMALE_2006_SA',\n",
       "       'FED_RATE_2006_SB', 'FED_RATE_MALE_2006_SB', 'FED_RATE_FEMALE_2006_SB'],\n",
       "      dtype='object')"
      ]
     },
     "execution_count": 23,
     "metadata": {
      "tags": []
     },
     "output_type": "execute_result"
    }
   ],
   "source": [
    "df.columns"
   ]
  },
  {
   "cell_type": "code",
   "execution_count": null,
   "metadata": {
    "colab": {},
    "colab_type": "code",
    "id": "og9ILWN-DtqI"
   },
   "outputs": [],
   "source": [
    "# Should Only Keep Columns from 2006 (According to Lab Description)\n",
    "goodCols = ['School', 'Conference', 'Coach', 'SchoolPay', 'TotalPay', 'Bonus',\n",
    "       'BonusPaid', 'Buyout', 'FullName', 'SCL_HBCU', 'SCL_PRIVATE',\n",
    "       'FED_N_2006_SA', 'FED_RATE_2006_SA',\n",
    "       'GSR_N_2006_SA', 'GSR_2006_SA', 'FED_RATE_MALE_2006_SA',\n",
    "       'FED_RATE_FEMALE_2006_SA', 'GSR_MALE_2006_SA', 'GSR_FEMALE_2006_SA',\n",
    "       'FED_RATE_2006_SB', 'FED_RATE_MALE_2006_SB', 'FED_RATE_FEMALE_2006_SB']\n",
    "df = df[goodCols]"
   ]
  },
  {
   "cell_type": "code",
   "execution_count": null,
   "metadata": {
    "colab": {
     "base_uri": "https://localhost:8080/",
     "height": 411
    },
    "colab_type": "code",
    "id": "TO7_WmpKDtqM",
    "outputId": "5bb79423-679f-4563-f9ba-0b08bbdf0cbc"
   },
   "outputs": [
    {
     "data": {
      "text/html": [
       "<div>\n",
       "<style scoped>\n",
       "    .dataframe tbody tr th:only-of-type {\n",
       "        vertical-align: middle;\n",
       "    }\n",
       "\n",
       "    .dataframe tbody tr th {\n",
       "        vertical-align: top;\n",
       "    }\n",
       "\n",
       "    .dataframe thead th {\n",
       "        text-align: right;\n",
       "    }\n",
       "</style>\n",
       "<table border=\"1\" class=\"dataframe\">\n",
       "  <thead>\n",
       "    <tr style=\"text-align: right;\">\n",
       "      <th></th>\n",
       "      <th>School</th>\n",
       "      <th>Conference</th>\n",
       "      <th>Coach</th>\n",
       "      <th>SchoolPay</th>\n",
       "      <th>TotalPay</th>\n",
       "      <th>Bonus</th>\n",
       "      <th>BonusPaid</th>\n",
       "      <th>Buyout</th>\n",
       "      <th>FullName</th>\n",
       "      <th>SCL_HBCU</th>\n",
       "      <th>SCL_PRIVATE</th>\n",
       "      <th>FED_N_2006_SA</th>\n",
       "      <th>FED_RATE_2006_SA</th>\n",
       "      <th>GSR_N_2006_SA</th>\n",
       "      <th>GSR_2006_SA</th>\n",
       "      <th>FED_RATE_MALE_2006_SA</th>\n",
       "      <th>FED_RATE_FEMALE_2006_SA</th>\n",
       "      <th>GSR_MALE_2006_SA</th>\n",
       "      <th>GSR_FEMALE_2006_SA</th>\n",
       "      <th>FED_RATE_2006_SB</th>\n",
       "      <th>FED_RATE_MALE_2006_SB</th>\n",
       "      <th>FED_RATE_FEMALE_2006_SB</th>\n",
       "    </tr>\n",
       "  </thead>\n",
       "  <tbody>\n",
       "    <tr>\n",
       "      <th>0</th>\n",
       "      <td>Air Force</td>\n",
       "      <td>Mt. West</td>\n",
       "      <td>Troy Calhoun</td>\n",
       "      <td>885000.0</td>\n",
       "      <td>885000.0</td>\n",
       "      <td>247000.0</td>\n",
       "      <td>NaN</td>\n",
       "      <td>NaN</td>\n",
       "      <td>United States Air Force Academy</td>\n",
       "      <td>2</td>\n",
       "      <td>0</td>\n",
       "      <td>-99</td>\n",
       "      <td>-99</td>\n",
       "      <td>137</td>\n",
       "      <td>86</td>\n",
       "      <td>-99</td>\n",
       "      <td>-99</td>\n",
       "      <td>86</td>\n",
       "      <td>87</td>\n",
       "      <td>80</td>\n",
       "      <td>81</td>\n",
       "      <td>77</td>\n",
       "    </tr>\n",
       "    <tr>\n",
       "      <th>1</th>\n",
       "      <td>Akron</td>\n",
       "      <td>MAC</td>\n",
       "      <td>Terry Bowden</td>\n",
       "      <td>411000.0</td>\n",
       "      <td>412500.0</td>\n",
       "      <td>225000.0</td>\n",
       "      <td>50000.0</td>\n",
       "      <td>688500.0</td>\n",
       "      <td>University of Akron Main Campus</td>\n",
       "      <td>2</td>\n",
       "      <td>0</td>\n",
       "      <td>84</td>\n",
       "      <td>61</td>\n",
       "      <td>84</td>\n",
       "      <td>74</td>\n",
       "      <td>62</td>\n",
       "      <td>60</td>\n",
       "      <td>67</td>\n",
       "      <td>82</td>\n",
       "      <td>41</td>\n",
       "      <td>38</td>\n",
       "      <td>45</td>\n",
       "    </tr>\n",
       "    <tr>\n",
       "      <th>2</th>\n",
       "      <td>Alabama</td>\n",
       "      <td>SEC</td>\n",
       "      <td>Nick Saban</td>\n",
       "      <td>8307000.0</td>\n",
       "      <td>8307000.0</td>\n",
       "      <td>1100000.0</td>\n",
       "      <td>500000.0</td>\n",
       "      <td>33600000.0</td>\n",
       "      <td>The University of Alabama</td>\n",
       "      <td>2</td>\n",
       "      <td>0</td>\n",
       "      <td>88</td>\n",
       "      <td>70</td>\n",
       "      <td>75</td>\n",
       "      <td>92</td>\n",
       "      <td>56</td>\n",
       "      <td>84</td>\n",
       "      <td>84</td>\n",
       "      <td>100</td>\n",
       "      <td>67</td>\n",
       "      <td>64</td>\n",
       "      <td>69</td>\n",
       "    </tr>\n",
       "    <tr>\n",
       "      <th>3</th>\n",
       "      <td>Alabama at Birmingham</td>\n",
       "      <td>C-USA</td>\n",
       "      <td>Bill Clark</td>\n",
       "      <td>900000.0</td>\n",
       "      <td>900000.0</td>\n",
       "      <td>950000.0</td>\n",
       "      <td>165471.0</td>\n",
       "      <td>3847500.0</td>\n",
       "      <td>University of Alabama at Birmingham</td>\n",
       "      <td>2</td>\n",
       "      <td>0</td>\n",
       "      <td>54</td>\n",
       "      <td>57</td>\n",
       "      <td>77</td>\n",
       "      <td>66</td>\n",
       "      <td>48</td>\n",
       "      <td>68</td>\n",
       "      <td>59</td>\n",
       "      <td>81</td>\n",
       "      <td>48</td>\n",
       "      <td>47</td>\n",
       "      <td>49</td>\n",
       "    </tr>\n",
       "    <tr>\n",
       "      <th>4</th>\n",
       "      <td>Appalachian State</td>\n",
       "      <td>Sun Belt</td>\n",
       "      <td>Scott Satterfield</td>\n",
       "      <td>712500.0</td>\n",
       "      <td>712500.0</td>\n",
       "      <td>295000.0</td>\n",
       "      <td>145000.0</td>\n",
       "      <td>2160417.0</td>\n",
       "      <td>Appalachian State University</td>\n",
       "      <td>2</td>\n",
       "      <td>0</td>\n",
       "      <td>80</td>\n",
       "      <td>65</td>\n",
       "      <td>74</td>\n",
       "      <td>84</td>\n",
       "      <td>64</td>\n",
       "      <td>66</td>\n",
       "      <td>83</td>\n",
       "      <td>85</td>\n",
       "      <td>66</td>\n",
       "      <td>61</td>\n",
       "      <td>71</td>\n",
       "    </tr>\n",
       "  </tbody>\n",
       "</table>\n",
       "</div>"
      ],
      "text/plain": [
       "                  School  ... FED_RATE_FEMALE_2006_SB\n",
       "0              Air Force  ...                      77\n",
       "1                  Akron  ...                      45\n",
       "2                Alabama  ...                      69\n",
       "3  Alabama at Birmingham  ...                      49\n",
       "4      Appalachian State  ...                      71\n",
       "\n",
       "[5 rows x 22 columns]"
      ]
     },
     "execution_count": 25,
     "metadata": {
      "tags": []
     },
     "output_type": "execute_result"
    }
   ],
   "source": [
    "df.head()"
   ]
  },
  {
   "cell_type": "markdown",
   "metadata": {
    "colab_type": "text",
    "id": "akPgwnd7DtqP"
   },
   "source": [
    "## Merge Stadium Size Dataset\n",
    "The stadium size dataset was gotten from a github repository:  'https://github.com/gboeing/data-visualization/blob/master/ncaa-football-stadiums/data/stadiums-geocoded.csv'. It contains the geolocation as well as the date of remodeling for each stadium."
   ]
  },
  {
   "cell_type": "code",
   "execution_count": null,
   "metadata": {
    "colab": {},
    "colab_type": "code",
    "id": "NunaTCi3DtqP"
   },
   "outputs": [],
   "source": [
    "dd = pd.read_csv(path + 'stadiums.csv')"
   ]
  },
  {
   "cell_type": "code",
   "execution_count": null,
   "metadata": {
    "colab": {},
    "colab_type": "code",
    "id": "B6A0sFYZDtqR"
   },
   "outputs": [],
   "source": [
    "df = df.merge(dd, left_on=['School'],right_on=['team'], how='left')"
   ]
  },
  {
   "cell_type": "code",
   "execution_count": null,
   "metadata": {
    "colab": {
     "base_uri": "https://localhost:8080/",
     "height": 51
    },
    "colab_type": "code",
    "id": "Homet0rcDtqT",
    "outputId": "41ed3e58-1429-4da5-b5c0-b8f6298734e2"
   },
   "outputs": [
    {
     "data": {
      "text/plain": [
       "3    Alabama at Birmingham\n",
       "Name: School, dtype: object"
      ]
     },
     "execution_count": 28,
     "metadata": {
      "tags": []
     },
     "output_type": "execute_result"
    }
   ],
   "source": [
    "df.loc[df['capacity'].isnull()]['School']"
   ]
  },
  {
   "cell_type": "code",
   "execution_count": null,
   "metadata": {
    "colab": {
     "base_uri": "https://localhost:8080/",
     "height": 445
    },
    "colab_type": "code",
    "id": "IzlCoeHxDtqV",
    "outputId": "20612b57-37ae-46e8-e69b-a0234af4935a"
   },
   "outputs": [
    {
     "data": {
      "text/html": [
       "<div>\n",
       "<style scoped>\n",
       "    .dataframe tbody tr th:only-of-type {\n",
       "        vertical-align: middle;\n",
       "    }\n",
       "\n",
       "    .dataframe tbody tr th {\n",
       "        vertical-align: top;\n",
       "    }\n",
       "\n",
       "    .dataframe thead th {\n",
       "        text-align: right;\n",
       "    }\n",
       "</style>\n",
       "<table border=\"1\" class=\"dataframe\">\n",
       "  <thead>\n",
       "    <tr style=\"text-align: right;\">\n",
       "      <th></th>\n",
       "      <th>School</th>\n",
       "      <th>Conference</th>\n",
       "      <th>Coach</th>\n",
       "      <th>SchoolPay</th>\n",
       "      <th>TotalPay</th>\n",
       "      <th>Bonus</th>\n",
       "      <th>BonusPaid</th>\n",
       "      <th>Buyout</th>\n",
       "      <th>FullName</th>\n",
       "      <th>SCL_HBCU</th>\n",
       "      <th>SCL_PRIVATE</th>\n",
       "      <th>FED_N_2006_SA</th>\n",
       "      <th>FED_RATE_2006_SA</th>\n",
       "      <th>GSR_N_2006_SA</th>\n",
       "      <th>GSR_2006_SA</th>\n",
       "      <th>FED_RATE_MALE_2006_SA</th>\n",
       "      <th>FED_RATE_FEMALE_2006_SA</th>\n",
       "      <th>GSR_MALE_2006_SA</th>\n",
       "      <th>GSR_FEMALE_2006_SA</th>\n",
       "      <th>FED_RATE_2006_SB</th>\n",
       "      <th>FED_RATE_MALE_2006_SB</th>\n",
       "      <th>FED_RATE_FEMALE_2006_SB</th>\n",
       "      <th>Unnamed: 0</th>\n",
       "      <th>stadium</th>\n",
       "      <th>city</th>\n",
       "      <th>state</th>\n",
       "      <th>team</th>\n",
       "      <th>conference</th>\n",
       "      <th>capacity</th>\n",
       "      <th>built</th>\n",
       "      <th>expanded</th>\n",
       "      <th>div</th>\n",
       "      <th>latitude</th>\n",
       "      <th>longitude</th>\n",
       "    </tr>\n",
       "  </thead>\n",
       "  <tbody>\n",
       "    <tr>\n",
       "      <th>0</th>\n",
       "      <td>Air Force</td>\n",
       "      <td>Mt. West</td>\n",
       "      <td>Troy Calhoun</td>\n",
       "      <td>885000.0</td>\n",
       "      <td>885000.0</td>\n",
       "      <td>247000.0</td>\n",
       "      <td>NaN</td>\n",
       "      <td>NaN</td>\n",
       "      <td>United States Air Force Academy</td>\n",
       "      <td>2</td>\n",
       "      <td>0</td>\n",
       "      <td>-99</td>\n",
       "      <td>-99</td>\n",
       "      <td>137</td>\n",
       "      <td>86</td>\n",
       "      <td>-99</td>\n",
       "      <td>-99</td>\n",
       "      <td>86</td>\n",
       "      <td>87</td>\n",
       "      <td>80</td>\n",
       "      <td>81</td>\n",
       "      <td>77</td>\n",
       "      <td>66.0</td>\n",
       "      <td>Falcon Stadium</td>\n",
       "      <td>Colorado Springs</td>\n",
       "      <td>CO</td>\n",
       "      <td>Air Force</td>\n",
       "      <td>Mountain West</td>\n",
       "      <td>46692.0</td>\n",
       "      <td>1962.0</td>\n",
       "      <td>NaN</td>\n",
       "      <td>fbs</td>\n",
       "      <td>38.996907</td>\n",
       "      <td>-104.843688</td>\n",
       "    </tr>\n",
       "    <tr>\n",
       "      <th>1</th>\n",
       "      <td>Akron</td>\n",
       "      <td>MAC</td>\n",
       "      <td>Terry Bowden</td>\n",
       "      <td>411000.0</td>\n",
       "      <td>412500.0</td>\n",
       "      <td>225000.0</td>\n",
       "      <td>50000.0</td>\n",
       "      <td>688500.0</td>\n",
       "      <td>University of Akron Main Campus</td>\n",
       "      <td>2</td>\n",
       "      <td>0</td>\n",
       "      <td>84</td>\n",
       "      <td>61</td>\n",
       "      <td>84</td>\n",
       "      <td>74</td>\n",
       "      <td>62</td>\n",
       "      <td>60</td>\n",
       "      <td>67</td>\n",
       "      <td>82</td>\n",
       "      <td>41</td>\n",
       "      <td>38</td>\n",
       "      <td>45</td>\n",
       "      <td>105.0</td>\n",
       "      <td>Summa Field at InfoCision Stadium</td>\n",
       "      <td>Akron</td>\n",
       "      <td>OH</td>\n",
       "      <td>Akron</td>\n",
       "      <td>MAC</td>\n",
       "      <td>30000.0</td>\n",
       "      <td>2009.0</td>\n",
       "      <td>NaN</td>\n",
       "      <td>fbs</td>\n",
       "      <td>41.072570</td>\n",
       "      <td>-81.508384</td>\n",
       "    </tr>\n",
       "    <tr>\n",
       "      <th>2</th>\n",
       "      <td>Alabama</td>\n",
       "      <td>SEC</td>\n",
       "      <td>Nick Saban</td>\n",
       "      <td>8307000.0</td>\n",
       "      <td>8307000.0</td>\n",
       "      <td>1100000.0</td>\n",
       "      <td>500000.0</td>\n",
       "      <td>33600000.0</td>\n",
       "      <td>The University of Alabama</td>\n",
       "      <td>2</td>\n",
       "      <td>0</td>\n",
       "      <td>88</td>\n",
       "      <td>70</td>\n",
       "      <td>75</td>\n",
       "      <td>92</td>\n",
       "      <td>56</td>\n",
       "      <td>84</td>\n",
       "      <td>84</td>\n",
       "      <td>100</td>\n",
       "      <td>67</td>\n",
       "      <td>64</td>\n",
       "      <td>69</td>\n",
       "      <td>6.0</td>\n",
       "      <td>Bryant–Denny Stadium</td>\n",
       "      <td>Tuscaloosa</td>\n",
       "      <td>AL</td>\n",
       "      <td>Alabama</td>\n",
       "      <td>SEC</td>\n",
       "      <td>101821.0</td>\n",
       "      <td>1929.0</td>\n",
       "      <td>2010</td>\n",
       "      <td>fbs</td>\n",
       "      <td>33.207490</td>\n",
       "      <td>-87.550392</td>\n",
       "    </tr>\n",
       "    <tr>\n",
       "      <th>3</th>\n",
       "      <td>Alabama at Birmingham</td>\n",
       "      <td>C-USA</td>\n",
       "      <td>Bill Clark</td>\n",
       "      <td>900000.0</td>\n",
       "      <td>900000.0</td>\n",
       "      <td>950000.0</td>\n",
       "      <td>165471.0</td>\n",
       "      <td>3847500.0</td>\n",
       "      <td>University of Alabama at Birmingham</td>\n",
       "      <td>2</td>\n",
       "      <td>0</td>\n",
       "      <td>54</td>\n",
       "      <td>57</td>\n",
       "      <td>77</td>\n",
       "      <td>66</td>\n",
       "      <td>48</td>\n",
       "      <td>68</td>\n",
       "      <td>59</td>\n",
       "      <td>81</td>\n",
       "      <td>48</td>\n",
       "      <td>47</td>\n",
       "      <td>49</td>\n",
       "      <td>NaN</td>\n",
       "      <td>NaN</td>\n",
       "      <td>NaN</td>\n",
       "      <td>NaN</td>\n",
       "      <td>NaN</td>\n",
       "      <td>NaN</td>\n",
       "      <td>NaN</td>\n",
       "      <td>NaN</td>\n",
       "      <td>NaN</td>\n",
       "      <td>NaN</td>\n",
       "      <td>NaN</td>\n",
       "      <td>NaN</td>\n",
       "    </tr>\n",
       "    <tr>\n",
       "      <th>4</th>\n",
       "      <td>Appalachian State</td>\n",
       "      <td>Sun Belt</td>\n",
       "      <td>Scott Satterfield</td>\n",
       "      <td>712500.0</td>\n",
       "      <td>712500.0</td>\n",
       "      <td>295000.0</td>\n",
       "      <td>145000.0</td>\n",
       "      <td>2160417.0</td>\n",
       "      <td>Appalachian State University</td>\n",
       "      <td>2</td>\n",
       "      <td>0</td>\n",
       "      <td>80</td>\n",
       "      <td>65</td>\n",
       "      <td>74</td>\n",
       "      <td>84</td>\n",
       "      <td>64</td>\n",
       "      <td>66</td>\n",
       "      <td>83</td>\n",
       "      <td>85</td>\n",
       "      <td>66</td>\n",
       "      <td>61</td>\n",
       "      <td>71</td>\n",
       "      <td>118.0</td>\n",
       "      <td>Kidd Brewer Stadium</td>\n",
       "      <td>Boone</td>\n",
       "      <td>NC</td>\n",
       "      <td>Appalachian State</td>\n",
       "      <td>Sun Belt</td>\n",
       "      <td>24050.0</td>\n",
       "      <td>1962.0</td>\n",
       "      <td>2009</td>\n",
       "      <td>fbs</td>\n",
       "      <td>36.211515</td>\n",
       "      <td>-81.685506</td>\n",
       "    </tr>\n",
       "  </tbody>\n",
       "</table>\n",
       "</div>"
      ],
      "text/plain": [
       "                  School Conference  ...   latitude   longitude\n",
       "0              Air Force   Mt. West  ...  38.996907 -104.843688\n",
       "1                  Akron        MAC  ...  41.072570  -81.508384\n",
       "2                Alabama        SEC  ...  33.207490  -87.550392\n",
       "3  Alabama at Birmingham      C-USA  ...        NaN         NaN\n",
       "4      Appalachian State   Sun Belt  ...  36.211515  -81.685506\n",
       "\n",
       "[5 rows x 34 columns]"
      ]
     },
     "execution_count": 29,
     "metadata": {
      "tags": []
     },
     "output_type": "execute_result"
    }
   ],
   "source": [
    "df.head()"
   ]
  },
  {
   "cell_type": "code",
   "execution_count": null,
   "metadata": {
    "colab": {
     "base_uri": "https://localhost:8080/",
     "height": 68
    },
    "colab_type": "code",
    "id": "hSR9CKcUDtqY",
    "outputId": "7b116f7f-68ec-498a-90d8-1a870f2fdb74"
   },
   "outputs": [
    {
     "data": {
      "text/plain": [
       "Index(['Unnamed: 0', 'stadium', 'city', 'state', 'team', 'conference',\n",
       "       'capacity', 'built', 'expanded', 'div', 'latitude', 'longitude'],\n",
       "      dtype='object')"
      ]
     },
     "execution_count": 30,
     "metadata": {
      "tags": []
     },
     "output_type": "execute_result"
    }
   ],
   "source": [
    "dd.columns"
   ]
  },
  {
   "cell_type": "markdown",
   "metadata": {
    "colab_type": "text",
    "id": "OwkPpc3JDtqa"
   },
   "source": [
    "## Merge School Record\n",
    "The final sets of columns we are going to use includes the Schools' football record. This information was gotten from the sportref website. The file also contains the number of Offensive Points, Defensive Points, Games won, Games lost, and Ranking. "
   ]
  },
  {
   "cell_type": "code",
   "execution_count": null,
   "metadata": {
    "colab": {},
    "colab_type": "code",
    "id": "hrqQ3IanDtqa"
   },
   "outputs": [],
   "source": [
    "de = pd.read_csv(path + 'sportsref_download.csv')"
   ]
  },
  {
   "cell_type": "code",
   "execution_count": null,
   "metadata": {
    "colab": {},
    "colab_type": "code",
    "id": "TDmUEaxqDtqc"
   },
   "outputs": [],
   "source": [
    "df = df.merge(de, how='left', on='School')"
   ]
  },
  {
   "cell_type": "code",
   "execution_count": null,
   "metadata": {
    "colab": {
     "base_uri": "https://localhost:8080/",
     "height": 34
    },
    "colab_type": "code",
    "id": "N_xO5RNaDtqf",
    "outputId": "8992f775-4580-4b55-85b8-5e8de8c9afa0",
    "scrolled": true
   },
   "outputs": [
    {
     "data": {
      "text/plain": [
       "Index(['Rk', 'School', 'W', 'L', 'Pct', 'Off Pts', 'Def Pts'], dtype='object')"
      ]
     },
     "execution_count": 33,
     "metadata": {
      "tags": []
     },
     "output_type": "execute_result"
    }
   ],
   "source": [
    "de.columns"
   ]
  },
  {
   "cell_type": "markdown",
   "metadata": {
    "colab_type": "text",
    "id": "1A_ezxBpDtqh"
   },
   "source": [
    "## Get Rid of Empty Rows"
   ]
  },
  {
   "cell_type": "code",
   "execution_count": null,
   "metadata": {
    "colab": {
     "base_uri": "https://localhost:8080/",
     "height": 170
    },
    "colab_type": "code",
    "id": "RF1RwZRTDtqh",
    "outputId": "9f7d00fb-2fc2-4ab7-faf0-77c607146d26"
   },
   "outputs": [
    {
     "data": {
      "text/plain": [
       "array(['School', 'Conference', 'Coach', 'SchoolPay', 'TotalPay', 'Bonus',\n",
       "       'BonusPaid', 'Buyout', 'FullName', 'SCL_HBCU', 'SCL_PRIVATE',\n",
       "       'FED_N_2006_SA', 'FED_RATE_2006_SA', 'GSR_N_2006_SA',\n",
       "       'GSR_2006_SA', 'FED_RATE_MALE_2006_SA', 'FED_RATE_FEMALE_2006_SA',\n",
       "       'GSR_MALE_2006_SA', 'GSR_FEMALE_2006_SA', 'FED_RATE_2006_SB',\n",
       "       'FED_RATE_MALE_2006_SB', 'FED_RATE_FEMALE_2006_SB', 'Unnamed: 0',\n",
       "       'stadium', 'city', 'state', 'team', 'conference', 'capacity',\n",
       "       'built', 'expanded', 'div', 'latitude', 'longitude', 'Rk', 'W',\n",
       "       'L', 'Pct', 'Off Pts', 'Def Pts'], dtype=object)"
      ]
     },
     "execution_count": 34,
     "metadata": {
      "tags": []
     },
     "output_type": "execute_result"
    }
   ],
   "source": [
    "df.columns.values"
   ]
  },
  {
   "cell_type": "code",
   "execution_count": null,
   "metadata": {
    "colab": {},
    "colab_type": "code",
    "id": "1VAtymbBDtqj"
   },
   "outputs": [],
   "source": [
    "newCols = ['School', 'Conference', 'Coach', 'SchoolPay', 'TotalPay', 'Bonus',\n",
    "       'BonusPaid', 'Buyout', 'FullName', 'SCL_HBCU', 'SCL_PRIVATE',\n",
    "       'FED_N_2006_SA', 'FED_RATE_2006_SA', 'GSR_N_2006_SA', 'GSR_2006_SA',\n",
    "       'FED_RATE_MALE_2006_SA', 'FED_RATE_FEMALE_2006_SA', 'GSR_MALE_2006_SA',\n",
    "       'GSR_FEMALE_2006_SA', 'FED_RATE_2006_SB', 'FED_RATE_MALE_2006_SB',\n",
    "       'FED_RATE_FEMALE_2006_SB', 'Rk', 'W', 'L', 'Pct', 'Off Pts',\n",
    "       'Def Pts', 'stadium', 'city', 'state', 'capacity', 'latitude', 'longitude']"
   ]
  },
  {
   "cell_type": "code",
   "execution_count": null,
   "metadata": {
    "colab": {},
    "colab_type": "code",
    "id": "zzrNQSGyDtqm"
   },
   "outputs": [],
   "source": [
    "df = df[newCols]"
   ]
  },
  {
   "cell_type": "code",
   "execution_count": null,
   "metadata": {
    "colab": {},
    "colab_type": "code",
    "id": "9BfPnPwpDtqo"
   },
   "outputs": [],
   "source": [
    "df = df.loc[~(df['W'].isnull())].reset_index(drop=True) # Find Rows with all empty values for W and Record"
   ]
  },
  {
   "cell_type": "code",
   "execution_count": null,
   "metadata": {
    "colab": {},
    "colab_type": "code",
    "id": "g6WmZLtjDtqq"
   },
   "outputs": [],
   "source": [
    "df = df.loc[~(df['stadium'].isnull())].reset_index(drop=True)"
   ]
  },
  {
   "cell_type": "code",
   "execution_count": null,
   "metadata": {
    "colab": {
     "base_uri": "https://localhost:8080/",
     "height": 34
    },
    "colab_type": "code",
    "id": "C60EDof9Dtqs",
    "outputId": "b6ba9147-6cdc-4da2-99cd-67f9f321525d"
   },
   "outputs": [
    {
     "data": {
      "text/plain": [
       "122"
      ]
     },
     "execution_count": 39,
     "metadata": {
      "tags": []
     },
     "output_type": "execute_result"
    }
   ],
   "source": [
    "len(df)"
   ]
  },
  {
   "cell_type": "markdown",
   "metadata": {
    "colab_type": "text",
    "id": "4qAhNDEwDtqw"
   },
   "source": [
    "We are left with 122 rows after getting rid of Teams that did not have corresponding information in the datafiles that we got from the internet. "
   ]
  },
  {
   "cell_type": "markdown",
   "metadata": {
    "colab_type": "text",
    "id": "CSplfFcxDtqw"
   },
   "source": [
    "# Create Relevant Columns"
   ]
  },
  {
   "cell_type": "code",
   "execution_count": null,
   "metadata": {
    "colab": {
     "base_uri": "https://localhost:8080/",
     "height": 153
    },
    "colab_type": "code",
    "id": "JirWj8mGDtqw",
    "outputId": "5b442737-60f7-46dd-d74d-772f45357476"
   },
   "outputs": [
    {
     "data": {
      "text/plain": [
       "Index(['School', 'Conference', 'Coach', 'SchoolPay', 'TotalPay', 'Bonus',\n",
       "       'BonusPaid', 'Buyout', 'FullName', 'SCL_HBCU', 'SCL_PRIVATE',\n",
       "       'FED_N_2006_SA', 'FED_RATE_2006_SA', 'GSR_N_2006_SA', 'GSR_2006_SA',\n",
       "       'FED_RATE_MALE_2006_SA', 'FED_RATE_FEMALE_2006_SA', 'GSR_MALE_2006_SA',\n",
       "       'GSR_FEMALE_2006_SA', 'FED_RATE_2006_SB', 'FED_RATE_MALE_2006_SB',\n",
       "       'FED_RATE_FEMALE_2006_SB', 'Rk', 'W', 'L', 'Pct', 'Off Pts', 'Def Pts',\n",
       "       'stadium', 'city', 'state', 'capacity', 'latitude', 'longitude'],\n",
       "      dtype='object')"
      ]
     },
     "execution_count": 40,
     "metadata": {
      "tags": []
     },
     "output_type": "execute_result"
    }
   ],
   "source": [
    "df.columns"
   ]
  },
  {
   "cell_type": "code",
   "execution_count": null,
   "metadata": {
    "colab": {
     "base_uri": "https://localhost:8080/",
     "height": 221
    },
    "colab_type": "code",
    "id": "2NI7VKe5mKGx",
    "outputId": "3604d88c-dcab-4b6d-c6e1-1761a11442d6"
   },
   "outputs": [
    {
     "data": {
      "text/plain": [
       "array([ 84.,  76., 115., 121., 106., 103., 120., 127.,  69., 116.,  79.,\n",
       "        83.,   4.,  75.,  72.,  96.,  16.,  77.,  54.,  15.,   1., 125.,\n",
       "       105.,  87.,  20.,  13.,  19.,  82., 107.,  51.,  55.,   5.,  93.,\n",
       "       108., 122., 123.,  14.,  90.,  25.,  47.,  40.,  46.,  32.,  36.,\n",
       "        29.,  73., 110.,  65.,  58., 128.,   2., 114.,  52.,  42.,  67.,\n",
       "        21.,   8.,  71.,  39.,  41.,  56.,  44., 118., 111.,  22.,  48.,\n",
       "        91.,  94.,  88.,  66.,  12.,   7.,  61.,  80.,  50.,  70.,  74.,\n",
       "        37.,  27.,  30.,  57.,  95.,  98.,  38.,  11.,  49.,  43.,  89.,\n",
       "        92., 130., 112.,  18., 102.,  60., 100.,   6., 109.,  31., 117.,\n",
       "        33., 129.,  35.,  64.,  62.,  81., 124.,  24.,  26., 104., 101.,\n",
       "        85., 113.,   9.,  10.,   3.,  97.,  99.,  34.,  53.,  78.,  45.,\n",
       "        86.])"
      ]
     },
     "execution_count": 41,
     "metadata": {
      "tags": []
     },
     "output_type": "execute_result"
    }
   ],
   "source": [
    "df['Rk'].values"
   ]
  },
  {
   "cell_type": "code",
   "execution_count": null,
   "metadata": {
    "colab": {},
    "colab_type": "code",
    "id": "O8687abwDtq1"
   },
   "outputs": [],
   "source": [
    "df['GSR_SA'] = df['GSR_2006_SA'] # We mostly case about student athletes. SB might not be a true representation of the teams performance\n",
    "df['FGR_SA'] = df['FED_RATE_2006_SA'] # We mostly case about student athletes. SB might not be a true representation of the teams performance\n",
    "df['WinPerc'] = df['Pct']*100 # Convert to percentage\n",
    "df['HistBlack'] = [0 if x == 2 else x for x in df['SCL_HBCU'].values]\n",
    "df['PublicOrPrivate'] = df['SCL_PRIVATE']\n",
    "df['TotalPoints'] = df['Off Pts'] + df['Def Pts'] # Total Number of Points\n",
    "df['Top25'] = [1 if x <= 25 else 0 for x in df['Rk'].astype(int).values] # This column is to check if the team was ranked during the season. Ranked teams seem to get more attention than the rest."
   ]
  },
  {
   "cell_type": "markdown",
   "metadata": {
    "colab_type": "text",
    "id": "fDUunBvbDtq6"
   },
   "source": [
    "## Drop Unecessary Columns"
   ]
  },
  {
   "cell_type": "code",
   "execution_count": null,
   "metadata": {
    "colab": {},
    "colab_type": "code",
    "id": "CEj77cpsDtq7"
   },
   "outputs": [],
   "source": [
    "df = df.drop(['SCL_HBCU', 'SCL_PRIVATE', 'FED_N_2006_SA', 'FED_RATE_2006_SA', 'GSR_N_2006_SA', 'GSR_2006_SA',\n",
    "       'FED_RATE_MALE_2006_SA', 'FED_RATE_FEMALE_2006_SA', 'GSR_MALE_2006_SA',\n",
    "       'GSR_FEMALE_2006_SA', 'FED_RATE_2006_SB', 'FED_RATE_MALE_2006_SB',\n",
    "       'FED_RATE_FEMALE_2006_SB', 'stadium', 'city', 'state', 'latitude', 'longitude', 'SchoolPay', 'Bonus',\n",
    "       'BonusPaid', 'Buyout', 'Pct'], axis=1)"
   ]
  },
  {
   "cell_type": "markdown",
   "metadata": {
    "colab_type": "text",
    "id": "4p8169Y9Dtq9"
   },
   "source": [
    "# Analyze"
   ]
  },
  {
   "cell_type": "markdown",
   "metadata": {
    "colab_type": "text",
    "id": "pyTghHapDtq9"
   },
   "source": [
    "#### Set Y Parameter"
   ]
  },
  {
   "cell_type": "code",
   "execution_count": null,
   "metadata": {
    "colab": {},
    "colab_type": "code",
    "id": "ARASTB_DDtq-"
   },
   "outputs": [],
   "source": [
    "# Define Y Parameter (The variable we are trying to predict)\n",
    "yParm = 'TotalPay'\n",
    "yPamrmL = ['TotalPay']"
   ]
  },
  {
   "cell_type": "markdown",
   "metadata": {
    "colab_type": "text",
    "id": "RIU_z3-PDtrE"
   },
   "source": [
    "## Check Big Schools vs Small School Pay"
   ]
  },
  {
   "cell_type": "code",
   "execution_count": null,
   "metadata": {
    "colab": {
     "base_uri": "https://localhost:8080/",
     "height": 85
    },
    "colab_type": "code",
    "id": "IMRXgQRmDtrF",
    "outputId": "ab9f2a02-d980-4bfa-8df2-787bd30463c1"
   },
   "outputs": [
    {
     "data": {
      "text/plain": [
       "Index(['School', 'Conference', 'Coach', 'TotalPay', 'FullName', 'Rk', 'W', 'L',\n",
       "       'Off Pts', 'Def Pts', 'capacity', 'GSR_SA', 'FGR_SA', 'WinPerc',\n",
       "       'HistBlack', 'PublicOrPrivate', 'TotalPoints', 'Top25'],\n",
       "      dtype='object')"
      ]
     },
     "execution_count": 45,
     "metadata": {
      "tags": []
     },
     "output_type": "execute_result"
    }
   ],
   "source": [
    "df.columns"
   ]
  },
  {
   "cell_type": "code",
   "execution_count": null,
   "metadata": {
    "colab": {
     "base_uri": "https://localhost:8080/",
     "height": 730
    },
    "colab_type": "code",
    "id": "8oTSbKoHDtrG",
    "outputId": "a2e7cc68-6b66-4ece-cc24-61e18559e26f"
   },
   "outputs": [
    {
     "data": {
      "image/png": "[encoded data removed]",
      "text/plain": [
       "<Figure size 720x864 with 2 Axes>"
      ]
     },
     "metadata": {
      "needs_background": "light",
      "tags": []
     },
     "output_type": "display_data"
    }
   ],
   "source": [
    "plt.figure(figsize=(10,12))\n",
    "plt.subplot(2,1,1)\n",
    "sns.boxplot(x='Conference', y=yParm, data=df)\n",
    "plt.title('Coach Total Pay Distribution by Conference')\n",
    "\n",
    "plt.subplot(2,1,2)\n",
    "sns.boxplot(x='Conference', y='capacity', data=df)\n",
    "plt.title('Stadium Capacity Distribution by Conference')\n",
    "plt.show()"
   ]
  },
  {
   "cell_type": "markdown",
   "metadata": {
    "colab_type": "text",
    "id": "GXFQok5vDtrJ"
   },
   "source": [
    "Syracuse Belongs in the ACC, but if we look closely, there are only a few of conferences where their schools Total Paid to their coaches resembles the ACC's total distribution. Now, even if the Small Pay Conferences are not comparable to the AAC, we will still include them since they might have other information that might benefit the prediction. <br><br>\n",
    "Another observation is that the stadium capacity seems to closely resemble the total pay, so it will be a strong factor to use in our model."
   ]
  },
  {
   "cell_type": "markdown",
   "metadata": {
    "colab_type": "text",
    "id": "Cj-Gn-NvDtrO"
   },
   "source": [
    "### Plot Capacity against Total Pay"
   ]
  },
  {
   "cell_type": "code",
   "execution_count": null,
   "metadata": {
    "colab": {
     "base_uri": "https://localhost:8080/",
     "height": 421
    },
    "colab_type": "code",
    "id": "s_cALnKeDtrP",
    "outputId": "8e11e362-228d-4445-c902-4f7c35d5d5e8"
   },
   "outputs": [
    {
     "data": {
      "text/plain": [
       "Text(0.5, 1.0, 'Capacity vs Total Pay')"
      ]
     },
     "execution_count": 47,
     "metadata": {
      "tags": []
     },
     "output_type": "execute_result"
    },
    {
     "data": {
      "image/png": "[encoded data removed]",
      "text/plain": [
       "<Figure size 864x432 with 1 Axes>"
      ]
     },
     "metadata": {
      "needs_background": "light",
      "tags": []
     },
     "output_type": "display_data"
    }
   ],
   "source": [
    "plt.figure(figsize=(12,6))\n",
    "sns.regplot(x='capacity', y=yParm, data=df)\n",
    "plt.title('Capacity vs Total Pay')"
   ]
  },
  {
   "cell_type": "markdown",
   "metadata": {
    "colab_type": "text",
    "id": "-lKrKanXm3oO"
   },
   "source": [
    "## Check for Correlations"
   ]
  },
  {
   "cell_type": "code",
   "execution_count": null,
   "metadata": {
    "colab": {
     "base_uri": "https://localhost:8080/",
     "height": 1000
    },
    "colab_type": "code",
    "id": "ay73l2ZFDtrU",
    "outputId": "0999f90e-155b-4229-f1df-6a39f52b6aee"
   },
   "outputs": [
    {
     "data": {
      "text/plain": [
       "<Figure size 864x864 with 0 Axes>"
      ]
     },
     "metadata": {
      "tags": []
     },
     "output_type": "display_data"
    },
    {
     "data": {
      "image/png": "[encoded data removed]",
      "text/plain": [
       "<Figure size 1260x1260 with 56 Axes>"
      ]
     },
     "metadata": {
      "needs_background": "light",
      "tags": []
     },
     "output_type": "display_data"
    }
   ],
   "source": [
    "plt.figure(figsize=(12,12))\n",
    "numCols = ['TotalPay', 'Off Pts', 'Def Pts', 'capacity', 'GSR_SA', 'FGR_SA', 'WinPerc']\n",
    "sns.pairplot(df[numCols])\n",
    "plt.show()"
   ]
  },
  {
   "cell_type": "code",
   "execution_count": null,
   "metadata": {
    "colab": {
     "base_uri": "https://localhost:8080/",
     "height": 348
    },
    "colab_type": "code",
    "id": "WnkfwbGODtrX",
    "outputId": "6eff0fc4-3098-4d78-9e35-8648745ce99b"
   },
   "outputs": [
    {
     "data": {
      "image/png": "[encoded data removed]",
      "text/plain": [
       "<Figure size 432x432 with 2 Axes>"
      ]
     },
     "metadata": {
      "needs_background": "light",
      "tags": []
     },
     "output_type": "display_data"
    }
   ],
   "source": [
    "plt.figure(figsize=(6,6))\n",
    "numCols = ['TotalPay', 'Off Pts', 'Def Pts', 'capacity', 'GSR_SA', 'FGR_SA', 'WinPerc']\n",
    "\n",
    "corr = df[numCols].corr()\n",
    "\n",
    "# Generate a mask for the upper triangle\n",
    "mask = np.zeros_like(corr, dtype=np.bool)\n",
    "mask[np.triu_indices_from(mask)] = True\n",
    "\n",
    "# Set up the matplotlib figure\n",
    "#f, ax = plt.subplots(figsize=(11, 9))\n",
    "\n",
    "# Generate a custom diverging colormap\n",
    "cmap = sns.color_palette(\"RdBu_r\", 7)\n",
    "\n",
    "# Draw the heatmap with the mask and correct aspect ratio\n",
    "sns.heatmap(corr, mask=mask, cmap=cmap, vmax=1, center=0,\n",
    "            square=True, linewidths=.5, cbar_kws={\"shrink\": .5})\n",
    "plt.show()"
   ]
  },
  {
   "cell_type": "markdown",
   "metadata": {
    "colab_type": "text",
    "id": "xZHPfOWDDtra"
   },
   "source": [
    "Offensive Points has a strong positive correlation with Winning Percentage. Also, the Winning Percentage has a semi-strong positive correlation with Total Pay. On the other hand, FGR_SA (Federal Graduation Rate) seems to have no interesting distribution which can mean that there is no value of using it in the model. I will be excluding it from now on."
   ]
  },
  {
   "cell_type": "code",
   "execution_count": null,
   "metadata": {
    "colab": {},
    "colab_type": "code",
    "id": "DuZP7vnJDtra"
   },
   "outputs": [],
   "source": [
    "df = df.drop(['FGR_SA'], axis=1) # Exclude Federal Graduation Rate for Student Athletes"
   ]
  },
  {
   "cell_type": "markdown",
   "metadata": {
    "colab_type": "text",
    "id": "AShOo5bZDtrc"
   },
   "source": [
    "### Check for Differences in Total Pay with Private vs Public Schools, Black vs Non-Black, and Top25 vs Not Top25"
   ]
  },
  {
   "cell_type": "code",
   "execution_count": null,
   "metadata": {
    "colab": {
     "base_uri": "https://localhost:8080/",
     "height": 1000
    },
    "colab_type": "code",
    "id": "NTj6UTNEDtrc",
    "outputId": "dc81b5e8-54f3-4912-e446-e7d84b5e4682"
   },
   "outputs": [
    {
     "data": {
      "text/plain": [
       "<Figure size 1296x432 with 0 Axes>"
      ]
     },
     "metadata": {
      "tags": []
     },
     "output_type": "display_data"
    },
    {
     "data": {
      "image/png": "[encoded data removed]",
      "text/plain": [
       "<Figure size 444.5x360 with 1 Axes>"
      ]
     },
     "metadata": {
      "needs_background": "light",
      "tags": []
     },
     "output_type": "display_data"
    },
    {
     "data": {
      "image/png": "[encoded data removed]",
      "text/plain": [
       "<Figure size 414.625x360 with 1 Axes>"
      ]
     },
     "metadata": {
      "needs_background": "light",
      "tags": []
     },
     "output_type": "display_data"
    },
    {
     "data": {
      "image/png": "[encoded data removed]",
      "text/plain": [
       "<Figure size 402.375x360 with 1 Axes>"
      ]
     },
     "metadata": {
      "needs_background": "light",
      "tags": []
     },
     "output_type": "display_data"
    }
   ],
   "source": [
    "fig = plt.figure(figsize=(18,6))\n",
    "# plt.subplot(3,1,1)\n",
    "sns.lmplot(x='WinPerc', hue='PublicOrPrivate', y=yParm, data=df)\n",
    "fig.show()\n",
    "plt.title('Win Percentage vs Total Pay by Public and Private Schools')\n",
    "fig.show()\n",
    "# plt.subplot(3,1,2)\n",
    "sns.lmplot(x='WinPerc', hue='HistBlack', y=yParm, data=df)\n",
    "plt.title('Win Percentage vs Total Pay by Historically Black Schools')\n",
    "fig.show()\n",
    "# plt.subplot(3,1,3)\n",
    "sns.lmplot(x='WinPerc', hue='Top25', y=yParm, data=df)\n",
    "plt.title('Win Percentage vs Total Pay by Top 25')\n",
    "fig.show()"
   ]
  },
  {
   "cell_type": "markdown",
   "metadata": {
    "colab_type": "text",
    "id": "oydtD2UBDtre"
   },
   "source": [
    "No definitive pattern in the above graph except that the higher the win percentage at a Public School, the higher the pay is for the coach. <br><br>\n",
    "On the other hand, there is only Non-Historically black schools in the dataset, so we will drop the column from the analysis.<br><br>\n",
    "No clear patter in Top25 schools either. We will keep the information for now, but will monitor the importance of the column in the model."
   ]
  },
  {
   "cell_type": "code",
   "execution_count": null,
   "metadata": {
    "colab": {},
    "colab_type": "code",
    "id": "nFuc0l90Dtre"
   },
   "outputs": [],
   "source": [
    "df = df.drop(['HistBlack'], axis=1)"
   ]
  },
  {
   "cell_type": "markdown",
   "metadata": {
    "colab_type": "text",
    "id": "1Q2rOHdoDtri"
   },
   "source": [
    "# Create Models"
   ]
  },
  {
   "cell_type": "code",
   "execution_count": null,
   "metadata": {
    "colab": {
     "base_uri": "https://localhost:8080/",
     "height": 204
    },
    "colab_type": "code",
    "id": "eiLsJvcYDtri",
    "outputId": "4d2a03cb-59ff-43e7-8c75-78d4da0a10c8"
   },
   "outputs": [
    {
     "data": {
      "text/html": [
       "<div>\n",
       "<style scoped>\n",
       "    .dataframe tbody tr th:only-of-type {\n",
       "        vertical-align: middle;\n",
       "    }\n",
       "\n",
       "    .dataframe tbody tr th {\n",
       "        vertical-align: top;\n",
       "    }\n",
       "\n",
       "    .dataframe thead th {\n",
       "        text-align: right;\n",
       "    }\n",
       "</style>\n",
       "<table border=\"1\" class=\"dataframe\">\n",
       "  <thead>\n",
       "    <tr style=\"text-align: right;\">\n",
       "      <th></th>\n",
       "      <th>School</th>\n",
       "      <th>Conference</th>\n",
       "      <th>Coach</th>\n",
       "      <th>TotalPay</th>\n",
       "      <th>FullName</th>\n",
       "      <th>Rk</th>\n",
       "      <th>W</th>\n",
       "      <th>L</th>\n",
       "      <th>Off Pts</th>\n",
       "      <th>Def Pts</th>\n",
       "      <th>capacity</th>\n",
       "      <th>GSR_SA</th>\n",
       "      <th>WinPerc</th>\n",
       "      <th>PublicOrPrivate</th>\n",
       "      <th>TotalPoints</th>\n",
       "      <th>Top25</th>\n",
       "    </tr>\n",
       "  </thead>\n",
       "  <tbody>\n",
       "    <tr>\n",
       "      <th>0</th>\n",
       "      <td>Air Force</td>\n",
       "      <td>Mt. West</td>\n",
       "      <td>Troy Calhoun</td>\n",
       "      <td>885000.0</td>\n",
       "      <td>United States Air Force Academy</td>\n",
       "      <td>84.0</td>\n",
       "      <td>11.0</td>\n",
       "      <td>2.0</td>\n",
       "      <td>34.1</td>\n",
       "      <td>19.8</td>\n",
       "      <td>46692.0</td>\n",
       "      <td>86</td>\n",
       "      <td>84.6</td>\n",
       "      <td>0</td>\n",
       "      <td>53.9</td>\n",
       "      <td>0</td>\n",
       "    </tr>\n",
       "    <tr>\n",
       "      <th>1</th>\n",
       "      <td>Akron</td>\n",
       "      <td>MAC</td>\n",
       "      <td>Terry Bowden</td>\n",
       "      <td>412500.0</td>\n",
       "      <td>University of Akron Main Campus</td>\n",
       "      <td>76.0</td>\n",
       "      <td>0.0</td>\n",
       "      <td>12.0</td>\n",
       "      <td>10.5</td>\n",
       "      <td>36.3</td>\n",
       "      <td>30000.0</td>\n",
       "      <td>74</td>\n",
       "      <td>0.0</td>\n",
       "      <td>0</td>\n",
       "      <td>46.8</td>\n",
       "      <td>0</td>\n",
       "    </tr>\n",
       "    <tr>\n",
       "      <th>2</th>\n",
       "      <td>Alabama</td>\n",
       "      <td>SEC</td>\n",
       "      <td>Nick Saban</td>\n",
       "      <td>8307000.0</td>\n",
       "      <td>The University of Alabama</td>\n",
       "      <td>115.0</td>\n",
       "      <td>11.0</td>\n",
       "      <td>2.0</td>\n",
       "      <td>47.2</td>\n",
       "      <td>18.6</td>\n",
       "      <td>101821.0</td>\n",
       "      <td>92</td>\n",
       "      <td>84.6</td>\n",
       "      <td>0</td>\n",
       "      <td>65.8</td>\n",
       "      <td>0</td>\n",
       "    </tr>\n",
       "    <tr>\n",
       "      <th>3</th>\n",
       "      <td>Appalachian State</td>\n",
       "      <td>Sun Belt</td>\n",
       "      <td>Scott Satterfield</td>\n",
       "      <td>712500.0</td>\n",
       "      <td>Appalachian State University</td>\n",
       "      <td>121.0</td>\n",
       "      <td>13.0</td>\n",
       "      <td>1.0</td>\n",
       "      <td>38.8</td>\n",
       "      <td>20.0</td>\n",
       "      <td>24050.0</td>\n",
       "      <td>84</td>\n",
       "      <td>92.9</td>\n",
       "      <td>0</td>\n",
       "      <td>58.8</td>\n",
       "      <td>0</td>\n",
       "    </tr>\n",
       "    <tr>\n",
       "      <th>4</th>\n",
       "      <td>Arizona</td>\n",
       "      <td>Pac-12</td>\n",
       "      <td>Kevin Sumlin</td>\n",
       "      <td>2000000.0</td>\n",
       "      <td>University of Arizona</td>\n",
       "      <td>106.0</td>\n",
       "      <td>4.0</td>\n",
       "      <td>8.0</td>\n",
       "      <td>26.9</td>\n",
       "      <td>35.8</td>\n",
       "      <td>51811.0</td>\n",
       "      <td>78</td>\n",
       "      <td>33.3</td>\n",
       "      <td>0</td>\n",
       "      <td>62.7</td>\n",
       "      <td>0</td>\n",
       "    </tr>\n",
       "  </tbody>\n",
       "</table>\n",
       "</div>"
      ],
      "text/plain": [
       "              School Conference  ... TotalPoints  Top25\n",
       "0          Air Force   Mt. West  ...        53.9      0\n",
       "1              Akron        MAC  ...        46.8      0\n",
       "2            Alabama        SEC  ...        65.8      0\n",
       "3  Appalachian State   Sun Belt  ...        58.8      0\n",
       "4            Arizona     Pac-12  ...        62.7      0\n",
       "\n",
       "[5 rows x 16 columns]"
      ]
     },
     "execution_count": 53,
     "metadata": {
      "tags": []
     },
     "output_type": "execute_result"
    }
   ],
   "source": [
    "df.head()"
   ]
  },
  {
   "cell_type": "markdown",
   "metadata": {
    "colab_type": "text",
    "id": "xlfyvV0aDtrn"
   },
   "source": [
    "# Need to Convert Categorical Columns to Binary Columns by Values"
   ]
  },
  {
   "cell_type": "code",
   "execution_count": null,
   "metadata": {
    "colab": {
     "base_uri": "https://localhost:8080/",
     "height": 204
    },
    "colab_type": "code",
    "id": "4riUdjfvDtro",
    "outputId": "780828b1-9ade-4eb6-aa07-65916af16e74"
   },
   "outputs": [
    {
     "name": "stdout",
     "output_type": "stream",
     "text": [
      "Mt. West\n",
      "MAC\n",
      "SEC\n",
      "Sun Belt\n",
      "Pac-12\n",
      "Ind.\n",
      "ACC\n",
      "AAC\n",
      "C-USA\n",
      "Big Ten\n",
      "Big 12\n"
     ]
    }
   ],
   "source": [
    "conferencesL = df['Conference'].unique()\n",
    "for conf in conferencesL:\n",
    "    print(conf)\n",
    "    df[conf] = [1 if conf == x else 0 for x in df['Conference'].values]"
   ]
  },
  {
   "cell_type": "markdown",
   "metadata": {
    "colab_type": "text",
    "id": "T2gdoDsKntzK"
   },
   "source": [
    "## Separate Into Train and Test Set\n",
    "The Train and Test set need to be representative of the dataset, so I will be picking one team from each conference for the testing set in order to keep it constant. I will also exclude Syrcause from the training set to make sure I dont train on the value we are trying to predict."
   ]
  },
  {
   "cell_type": "code",
   "execution_count": null,
   "metadata": {
    "colab": {},
    "colab_type": "code",
    "id": "jBtTEML1nuiQ"
   },
   "outputs": [],
   "source": [
    "# Take out Syracuse from dataset. Leave out for testing\n",
    "syr = df.loc[df['School'] == 'Syracuse'].reset_index(drop=True)\n",
    "df = df.loc[df['School'] != 'Syracuse'].reset_index(drop=True)"
   ]
  },
  {
   "cell_type": "code",
   "execution_count": null,
   "metadata": {
    "colab": {},
    "colab_type": "code",
    "id": "_HBknVJYogki"
   },
   "outputs": [],
   "source": [
    "# Pick a Random Value from each Conference\n",
    "size = 1        # sample size\n",
    "replace = True  # with replacement\n",
    "fn = lambda obj: obj.loc[np.random.choice(obj.index, size, replace),:]\n",
    "test = df.groupby('Conference', as_index=False).apply(fn).reset_index(drop=True)\n",
    "train = df.loc[~(df['School'].isin(test['School'].values))].reset_index(drop=True)"
   ]
  },
  {
   "cell_type": "code",
   "execution_count": null,
   "metadata": {
    "colab": {
     "base_uri": "https://localhost:8080/",
     "height": 68
    },
    "colab_type": "code",
    "id": "StNbN3NNpdGm",
    "outputId": "c539a332-36be-420b-cd08-7e3133d629f7"
   },
   "outputs": [
    {
     "name": "stdout",
     "output_type": "stream",
     "text": [
      "df len:  121\n",
      "df train:  110\n",
      "df test:  11\n"
     ]
    }
   ],
   "source": [
    "print('df len: ', len(df))\n",
    "print('df train: ', len(train))\n",
    "print('df test: ', len(test))"
   ]
  },
  {
   "cell_type": "markdown",
   "metadata": {
    "colab_type": "text",
    "id": "btcC3vufDtrn"
   },
   "source": [
    "## Picking X Parameters for Model"
   ]
  },
  {
   "cell_type": "markdown",
   "metadata": {
    "colab_type": "text",
    "id": "TAcA9dxuDtrr"
   },
   "source": [
    "### We can now select the X Parameters"
   ]
  },
  {
   "cell_type": "markdown",
   "metadata": {
    "colab_type": "text",
    "id": "q1VRHL6IDtrr"
   },
   "source": [
    "Ranking, W and L are not relevant since we have the Win Percentage which is a better computational parameter. <br><br>\n",
    "We can also drop the Conference column since we convereted it into binary columns for each conference used."
   ]
  },
  {
   "cell_type": "code",
   "execution_count": null,
   "metadata": {
    "colab": {
     "base_uri": "https://localhost:8080/",
     "height": 119
    },
    "colab_type": "code",
    "id": "dRG9pVh_qDBD",
    "outputId": "0121d907-9d9a-4adf-8e24-92b08244cd7d"
   },
   "outputs": [
    {
     "data": {
      "text/plain": [
       "Index(['School', 'Conference', 'Coach', 'TotalPay', 'FullName', 'Rk', 'W', 'L',\n",
       "       'Off Pts', 'Def Pts', 'capacity', 'GSR_SA', 'WinPerc',\n",
       "       'PublicOrPrivate', 'TotalPoints', 'Top25', 'Mt. West', 'MAC', 'SEC',\n",
       "       'Sun Belt', 'Pac-12', 'Ind.', 'ACC', 'AAC', 'C-USA', 'Big Ten',\n",
       "       'Big 12'],\n",
       "      dtype='object')"
      ]
     },
     "execution_count": 58,
     "metadata": {
      "tags": []
     },
     "output_type": "execute_result"
    }
   ],
   "source": [
    "df.columns"
   ]
  },
  {
   "cell_type": "code",
   "execution_count": null,
   "metadata": {
    "colab": {},
    "colab_type": "code",
    "id": "MfjlWBATDtrs"
   },
   "outputs": [],
   "source": [
    "xParm = ['TotalPoints', 'Top25', 'capacity', 'GSR_SA', 'WinPerc', 'W', 'L', \n",
    "       'PublicOrPrivate', 'SEC', 'Pac-12', 'ACC', 'AAC', 'Mt. West', 'MAC', 'SEC',\n",
    "       'Sun Belt', 'Pac-12', 'Ind.', 'ACC', 'AAC', 'C-USA', 'Big Ten',\n",
    "       'Big 12']\n",
    "\n",
    "# We also create the list of parameters used in the OLS Model\n",
    "xParmStr = 'Q(\"'+xParm[0]+'\")'\n",
    "for x in xParm[1:]:\n",
    "    xParmStr += ' + ' + 'Q(\"'+x+'\")'\n"
   ]
  },
  {
   "cell_type": "code",
   "execution_count": null,
   "metadata": {
    "colab": {
     "base_uri": "https://localhost:8080/",
     "height": 52
    },
    "colab_type": "code",
    "id": "Qq_fE2_tDtrt",
    "outputId": "bdc2d17f-9af1-41bb-9396-51fe5825da1a"
   },
   "outputs": [
    {
     "data": {
      "application/vnd.google.colaboratory.intrinsic+json": {
       "type": "string"
      },
      "text/plain": [
       "'Q(\"TotalPoints\") + Q(\"Top25\") + Q(\"capacity\") + Q(\"GSR_SA\") + Q(\"WinPerc\") + Q(\"W\") + Q(\"L\") + Q(\"PublicOrPrivate\") + Q(\"SEC\") + Q(\"Pac-12\") + Q(\"ACC\") + Q(\"AAC\") + Q(\"Mt. West\") + Q(\"MAC\") + Q(\"SEC\") + Q(\"Sun Belt\") + Q(\"Pac-12\") + Q(\"Ind.\") + Q(\"ACC\") + Q(\"AAC\") + Q(\"C-USA\") + Q(\"Big Ten\") + Q(\"Big 12\")'"
      ]
     },
     "execution_count": 60,
     "metadata": {
      "tags": []
     },
     "output_type": "execute_result"
    }
   ],
   "source": [
    "xParmStr"
   ]
  },
  {
   "cell_type": "markdown",
   "metadata": {
    "colab_type": "text",
    "id": "y4EkR8rjDtrv"
   },
   "source": [
    "## Create Models"
   ]
  },
  {
   "cell_type": "markdown",
   "metadata": {
    "colab_type": "text",
    "id": "2n05kxWZqqM8"
   },
   "source": [
    "### OLS Model"
   ]
  },
  {
   "cell_type": "code",
   "execution_count": null,
   "metadata": {
    "colab": {
     "base_uri": "https://localhost:8080/",
     "height": 782
    },
    "colab_type": "code",
    "id": "VbsWgr1ODtrv",
    "outputId": "9fc21bcd-70f7-47ce-d133-6c5a8ee18d0d"
   },
   "outputs": [
    {
     "name": "stdout",
     "output_type": "stream",
     "text": [
      "                            OLS Regression Results                            \n",
      "==============================================================================\n",
      "Dep. Variable:               TotalPay   R-squared:                       0.837\n",
      "Model:                            OLS   Adj. R-squared:                  0.805\n",
      "Method:                 Least Squares   F-statistic:                     26.00\n",
      "Date:                Thu, 23 Jul 2020   Prob (F-statistic):           3.25e-28\n",
      "Time:                        18:02:26   Log-Likelihood:                -1647.5\n",
      "No. Observations:                 110   AIC:                             3333.\n",
      "Df Residuals:                      91   BIC:                             3384.\n",
      "Df Model:                          18                                         \n",
      "Covariance Type:            nonrobust                                         \n",
      "========================================================================================\n",
      "                           coef    std err          t      P>|t|      [0.025      0.975]\n",
      "----------------------------------------------------------------------------------------\n",
      "Intercept             1.111e+07   5.46e+06      2.035      0.045    2.67e+05    2.19e+07\n",
      "Q(\"TotalPoints\")      1.678e+04   1.26e+04      1.329      0.187   -8306.114    4.19e+04\n",
      "Q(\"Top25\")           -8.693e+04   9.38e+05     -0.093      0.926   -1.95e+06    1.78e+06\n",
      "Q(\"capacity\")           36.1871      5.950      6.082      0.000      24.369      48.005\n",
      "Q(\"GSR_SA\")           1.842e+04   1.07e+04      1.726      0.088   -2779.135    3.96e+04\n",
      "Q(\"WinPerc\")         -1.757e+05   7.77e+04     -2.261      0.026    -3.3e+05   -2.13e+04\n",
      "Q(\"W\")                3.573e+05   2.86e+05      1.249      0.215   -2.11e+05    9.25e+05\n",
      "Q(\"L\")               -1.219e+06   4.69e+05     -2.598      0.011   -2.15e+06   -2.87e+05\n",
      "Q(\"PublicOrPrivate\")  2.993e+05   2.99e+05      1.002      0.319   -2.94e+05    8.93e+05\n",
      "Q(\"SEC\")              2.425e+06   6.04e+05      4.013      0.000    1.22e+06    3.62e+06\n",
      "Q(\"Pac-12\")           9.148e+05   5.75e+05      1.592      0.115   -2.27e+05    2.06e+06\n",
      "Q(\"ACC\")              1.752e+06    9.9e+05      1.771      0.080   -2.13e+05    3.72e+06\n",
      "Q(\"AAC\")              3.527e+05   8.73e+05      0.404      0.687   -1.38e+06    2.09e+06\n",
      "Q(\"Mt. West\")         1.263e+05    5.6e+05      0.226      0.822   -9.85e+05    1.24e+06\n",
      "Q(\"MAC\")              4.198e+05   6.24e+05      0.672      0.503   -8.21e+05    1.66e+06\n",
      "Q(\"Sun Belt\")         2.585e+05   5.78e+05      0.447      0.656   -8.89e+05    1.41e+06\n",
      "Q(\"Ind.\")             5.174e+05   7.01e+05      0.738      0.462   -8.75e+05    1.91e+06\n",
      "Q(\"C-USA\")            3.347e+05   5.91e+05      0.566      0.573   -8.39e+05    1.51e+06\n",
      "Q(\"Big Ten\")          1.885e+06   5.88e+05      3.205      0.002    7.17e+05    3.05e+06\n",
      "Q(\"Big 12\")            2.12e+06   6.22e+05      3.409      0.001    8.85e+05    3.36e+06\n",
      "==============================================================================\n",
      "Omnibus:                        0.763   Durbin-Watson:                   1.963\n",
      "Prob(Omnibus):                  0.683   Jarque-Bera (JB):                0.367\n",
      "Skew:                           0.087   Prob(JB):                        0.832\n",
      "Kurtosis:                       3.223   Cond. No.                     9.66e+20\n",
      "==============================================================================\n",
      "\n",
      "Warnings:\n",
      "[1] Standard Errors assume that the covariance matrix of the errors is correctly specified.\n",
      "[2] The smallest eigenvalue is 3.72e-31. This might indicate that there are\n",
      "strong multicollinearity problems or that the design matrix is singular.\n"
     ]
    }
   ],
   "source": [
    "# specify a simple model with bobblehead entered last\n",
    "my_model = str(yParm +  ' ~ ' + xParmStr)\n",
    "\n",
    "# fit the model to the training set\n",
    "train_model_fit = smf.ols(my_model, data = train).fit()\n",
    "# summary of model fit to the training set\n",
    "print(train_model_fit.summary())\n",
    "# training set predictions from the model fit to the training set\n",
    "train['TotalPayPred_OLS'] = train_model_fit.fittedvalues\n",
    "# Get test values\n",
    "test['TotalPayPred_OLS'] = train_model_fit.predict(test)"
   ]
  },
  {
   "cell_type": "markdown",
   "metadata": {
    "colab_type": "text",
    "id": "0btAUg2xslcR"
   },
   "source": [
    "## Decision Tree"
   ]
  },
  {
   "cell_type": "code",
   "execution_count": null,
   "metadata": {
    "colab": {},
    "colab_type": "code",
    "id": "3v_AvOoSsqRY"
   },
   "outputs": [],
   "source": [
    "# Define the classifier\n",
    "from sklearn.tree import DecisionTreeRegressor\n",
    "from sklearn.model_selection import GridSearchCV\n"
   ]
  },
  {
   "cell_type": "markdown",
   "metadata": {
    "colab_type": "text",
    "id": "R4ECW8suv-tP"
   },
   "source": [
    "### Train Model"
   ]
  },
  {
   "cell_type": "code",
   "execution_count": null,
   "metadata": {
    "colab": {},
    "colab_type": "code",
    "id": "iLMIE455spvd"
   },
   "outputs": [],
   "source": [
    "parameters = {'max_depth':[5,10,15,20], 'max_features':[5,10,15,20, 30], 'max_leaf_nodes':[5,10,15]}"
   ]
  },
  {
   "cell_type": "code",
   "execution_count": null,
   "metadata": {
    "colab": {},
    "colab_type": "code",
    "id": "8yBUMd4BspGL"
   },
   "outputs": [],
   "source": [
    "dt = GridSearchCV(DecisionTreeRegressor(), parameters, n_jobs=5, cv=5, verbose=10)"
   ]
  },
  {
   "cell_type": "code",
   "execution_count": null,
   "metadata": {
    "colab": {
     "base_uri": "https://localhost:8080/",
     "height": 340
    },
    "colab_type": "code",
    "id": "Nr15IVyWvfy5",
    "outputId": "ff3a66f5-16b6-4093-d40f-7bfc4dc7b1ca"
   },
   "outputs": [
    {
     "name": "stdout",
     "output_type": "stream",
     "text": [
      "Fitting 5 folds for each of 60 candidates, totalling 300 fits\n"
     ]
    },
    {
     "name": "stderr",
     "output_type": "stream",
     "text": [
      "[Parallel(n_jobs=5)]: Using backend LokyBackend with 5 concurrent workers.\n",
      "[Parallel(n_jobs=5)]: Done   3 tasks      | elapsed:    2.3s\n",
      "[Parallel(n_jobs=5)]: Done   8 tasks      | elapsed:    2.4s\n",
      "[Parallel(n_jobs=5)]: Done  15 tasks      | elapsed:    2.5s\n",
      "[Parallel(n_jobs=5)]: Done  22 tasks      | elapsed:    2.5s\n",
      "[Parallel(n_jobs=5)]: Batch computation too fast (0.1962s.) Setting batch_size=2.\n",
      "[Parallel(n_jobs=5)]: Done  31 tasks      | elapsed:    2.6s\n",
      "[Parallel(n_jobs=5)]: Batch computation too fast (0.0412s.) Setting batch_size=4.\n",
      "[Parallel(n_jobs=5)]: Done  45 tasks      | elapsed:    2.6s\n",
      "[Parallel(n_jobs=5)]: Batch computation too fast (0.0388s.) Setting batch_size=8.\n",
      "[Parallel(n_jobs=5)]: Done  79 tasks      | elapsed:    2.7s\n",
      "[Parallel(n_jobs=5)]: Batch computation too fast (0.0735s.) Setting batch_size=16.\n",
      "[Parallel(n_jobs=5)]: Done 151 tasks      | elapsed:    2.8s\n",
      "[Parallel(n_jobs=5)]: Batch computation too fast (0.1453s.) Setting batch_size=32.\n",
      "[Parallel(n_jobs=5)]: Done 215 tasks      | elapsed:    3.0s\n",
      "[Parallel(n_jobs=5)]: Done 273 tasks      | elapsed:    3.0s\n",
      "[Parallel(n_jobs=5)]: Done 288 tasks      | elapsed:    3.1s\n",
      "[Parallel(n_jobs=5)]: Done 300 out of 300 | elapsed:    3.1s finished\n"
     ]
    }
   ],
   "source": [
    "dt = dt.fit(train[xParm].values, train[yParm].values)"
   ]
  },
  {
   "cell_type": "markdown",
   "metadata": {
    "colab_type": "text",
    "id": "69zOJZJywBtB"
   },
   "source": [
    "### Get the best DT Model out of the Grid Search"
   ]
  },
  {
   "cell_type": "code",
   "execution_count": null,
   "metadata": {
    "colab": {
     "base_uri": "https://localhost:8080/",
     "height": 34
    },
    "colab_type": "code",
    "id": "x9rFTO_jvjyN",
    "outputId": "de5564c6-e4d5-4106-fcdc-407e1e78a989"
   },
   "outputs": [
    {
     "name": "stdout",
     "output_type": "stream",
     "text": [
      "0.550612230764821 {'max_depth': 5, 'max_features': 15, 'max_leaf_nodes': 5}\n"
     ]
    }
   ],
   "source": [
    "dt_model = dt.best_estimator_\n",
    "print (dt.best_score_, dt.best_params_) "
   ]
  },
  {
   "cell_type": "code",
   "execution_count": null,
   "metadata": {
    "colab": {},
    "colab_type": "code",
    "id": "-xW_DoM6vsyg"
   },
   "outputs": [],
   "source": [
    "train['TotalPayPred_DT'] = dt_model.predict(train[xParm].values)\n",
    "test['TotalPayPred_DT'] = dt_model.predict(test[xParm].values)"
   ]
  },
  {
   "cell_type": "markdown",
   "metadata": {
    "colab_type": "text",
    "id": "D5WsE_2bwIed"
   },
   "source": [
    "## Compare Models"
   ]
  },
  {
   "cell_type": "code",
   "execution_count": null,
   "metadata": {
    "colab": {
     "base_uri": "https://localhost:8080/",
     "height": 345
    },
    "colab_type": "code",
    "id": "VIY-2XDZwF-d",
    "outputId": "50bbb361-f9f9-441b-f888-21bd7b52bb1c"
   },
   "outputs": [
    {
     "data": {
      "image/png": "[encoded data removed]",
      "text/plain": [
       "<Figure size 720x360 with 1 Axes>"
      ]
     },
     "metadata": {
      "needs_background": "light",
      "tags": []
     },
     "output_type": "display_data"
    }
   ],
   "source": [
    "## Training Set\n",
    "fig,ax = plt.subplots(figsize=(10,5))\n",
    "sns.regplot(x=yParm, y='TotalPayPred_OLS', data=train, ax=ax, label='OLS')\n",
    "sns.regplot(x=yParm, y='TotalPayPred_DT', data=train, ax=ax, label='DT')\n",
    "ax.legend()\n",
    "fig.show()"
   ]
  },
  {
   "cell_type": "code",
   "execution_count": null,
   "metadata": {
    "colab": {
     "base_uri": "https://localhost:8080/",
     "height": 345
    },
    "colab_type": "code",
    "id": "e5EDLUrszGbn",
    "outputId": "6ce80ca4-63cd-41df-f6cb-8a5cf8155335"
   },
   "outputs": [
    {
     "data": {
      "image/png": "[encoded data removed]",
      "text/plain": [
       "<Figure size 720x360 with 1 Axes>"
      ]
     },
     "metadata": {
      "needs_background": "light",
      "tags": []
     },
     "output_type": "display_data"
    }
   ],
   "source": [
    "## Test Set\n",
    "fig,ax = plt.subplots(figsize=(10,5))\n",
    "sns.regplot(x=yParm, y='TotalPayPred_OLS', data=test, ax=ax, label='OLS')\n",
    "sns.regplot(x=yParm, y='TotalPayPred_DT', data=test, ax=ax, label='DT')\n",
    "ax.legend()\n",
    "fig.show()"
   ]
  },
  {
   "cell_type": "markdown",
   "metadata": {
    "colab_type": "text",
    "id": "rregKZNtzOhG"
   },
   "source": [
    "Visually speaking, the OLS model is showing better results in the Test set. Now we will quantify the accuracy of the models using the Mean Square Difference."
   ]
  },
  {
   "cell_type": "code",
   "execution_count": null,
   "metadata": {
    "colab": {
     "base_uri": "https://localhost:8080/",
     "height": 344
    },
    "colab_type": "code",
    "id": "v0G0hanY0DTq",
    "outputId": "1fee4af6-9e89-405e-f48c-3f9afdc890cf"
   },
   "outputs": [
    {
     "data": {
      "image/png": "[encoded data removed]",
      "text/plain": [
       "<Figure size 720x360 with 1 Axes>"
      ]
     },
     "metadata": {
      "needs_background": "light",
      "tags": []
     },
     "output_type": "display_data"
    }
   ],
   "source": [
    "## Train Set\n",
    "train['DiffPred_OLS'] = train['TotalPay'] - train['TotalPayPred_OLS']\n",
    "train['DiffPred_DT'] = train['TotalPay'] - train['TotalPayPred_DT']\n",
    "\n",
    "fig,ax = plt.subplots(figsize=(10,5))\n",
    "sns.kdeplot(train['DiffPred_OLS'].values,ax=ax, label='OLS')\n",
    "sns.kdeplot(train['DiffPred_DT'].values, ax=ax, label='DT')\n",
    "ax.legend()\n",
    "fig.show()"
   ]
  },
  {
   "cell_type": "code",
   "execution_count": null,
   "metadata": {
    "colab": {
     "base_uri": "https://localhost:8080/",
     "height": 344
    },
    "colab_type": "code",
    "id": "FlFQKxJjzNjk",
    "outputId": "f44de592-d72b-4158-f769-72d44e61e01c"
   },
   "outputs": [
    {
     "data": {
      "image/png": "[encoded data removed]",
      "text/plain": [
       "<Figure size 720x360 with 1 Axes>"
      ]
     },
     "metadata": {
      "needs_background": "light",
      "tags": []
     },
     "output_type": "display_data"
    }
   ],
   "source": [
    "## Test Set\n",
    "test['DiffPred_OLS'] = test['TotalPay'] - test['TotalPayPred_OLS']\n",
    "test['DiffPred_DT'] = test['TotalPay'] - test['TotalPayPred_DT']\n",
    "\n",
    "fig,ax = plt.subplots(figsize=(10,5))\n",
    "sns.kdeplot(test['DiffPred_OLS'].values,ax=ax, label='OLS')\n",
    "sns.kdeplot(test['DiffPred_DT'].values, ax=ax, label='DT')\n",
    "ax.legend()\n",
    "fig.show()"
   ]
  },
  {
   "cell_type": "code",
   "execution_count": null,
   "metadata": {
    "colab": {
     "base_uri": "https://localhost:8080/",
     "height": 85
    },
    "colab_type": "code",
    "id": "PJVwQBZB0Kg5",
    "outputId": "d65499ca-e1f9-466a-f36b-39b546a91b0e"
   },
   "outputs": [
    {
     "name": "stdout",
     "output_type": "stream",
     "text": [
      "Absolute Mean Difference Train OLS: 598523.4658410905\n",
      "Absolute Mean Difference Train DT: 719152.2417134499\n",
      "Absolute Mean Difference Test OLS: 1249012.5184749502\n",
      "Absolute Mean Difference Test DT: 1375446.1882902058\n"
     ]
    }
   ],
   "source": [
    "print('Absolute Mean Difference Train OLS:', abs(train['DiffPred_OLS']).mean())\n",
    "print('Absolute Mean Difference Train DT:', abs(train['DiffPred_DT']).mean())\n",
    "print('Absolute Mean Difference Test OLS:', abs(test['DiffPred_OLS']).mean())\n",
    "print('Absolute Mean Difference Test DT:', abs(test['DiffPred_DT']).mean())"
   ]
  },
  {
   "cell_type": "markdown",
   "metadata": {
    "colab_type": "text",
    "id": "yEmwQfPn0j8L"
   },
   "source": [
    "## Conclusion on Model Decision"
   ]
  },
  {
   "cell_type": "markdown",
   "metadata": {
    "colab_type": "text",
    "id": "-NG7wg1K0jmB"
   },
   "source": [
    "While the Decision Tree model has better results in the training dataset, the OLS model has much better results in the Test set. The OLS test absolute mean difference is 425638 while the DT test absolute mean difference is 885423 which is much larger. This could be an overfitting problem with the Decision Tree model. Therefore, we will move on with the OLS model as the Champion Model."
   ]
  },
  {
   "cell_type": "markdown",
   "metadata": {
    "colab_type": "text",
    "id": "GsaOJm7fHAtZ"
   },
   "source": [
    "# Answer the Questions"
   ]
  },
  {
   "cell_type": "markdown",
   "metadata": {
    "colab_type": "text",
    "id": "cGAyAGazHEJZ"
   },
   "source": [
    "## What is the predicted Pay for Syracuse Coach?"
   ]
  },
  {
   "cell_type": "code",
   "execution_count": null,
   "metadata": {
    "colab": {},
    "colab_type": "code",
    "id": "IZ-0sPjjDtrw"
   },
   "outputs": [],
   "source": [
    "syr['TotalPayPred'] = train_model_fit.predict(syr)"
   ]
  },
  {
   "cell_type": "code",
   "execution_count": null,
   "metadata": {
    "colab": {
     "base_uri": "https://localhost:8080/",
     "height": 80
    },
    "colab_type": "code",
    "id": "scDOnq-l1iv-",
    "outputId": "082f7e37-8e2f-4281-f388-2c075954079e"
   },
   "outputs": [
    {
     "data": {
      "text/html": [
       "<div>\n",
       "<style scoped>\n",
       "    .dataframe tbody tr th:only-of-type {\n",
       "        vertical-align: middle;\n",
       "    }\n",
       "\n",
       "    .dataframe tbody tr th {\n",
       "        vertical-align: top;\n",
       "    }\n",
       "\n",
       "    .dataframe thead th {\n",
       "        text-align: right;\n",
       "    }\n",
       "</style>\n",
       "<table border=\"1\" class=\"dataframe\">\n",
       "  <thead>\n",
       "    <tr style=\"text-align: right;\">\n",
       "      <th></th>\n",
       "      <th>School</th>\n",
       "      <th>Conference</th>\n",
       "      <th>Coach</th>\n",
       "      <th>TotalPay</th>\n",
       "      <th>FullName</th>\n",
       "      <th>Rk</th>\n",
       "      <th>W</th>\n",
       "      <th>L</th>\n",
       "      <th>Off Pts</th>\n",
       "      <th>Def Pts</th>\n",
       "      <th>capacity</th>\n",
       "      <th>GSR_SA</th>\n",
       "      <th>WinPerc</th>\n",
       "      <th>PublicOrPrivate</th>\n",
       "      <th>TotalPoints</th>\n",
       "      <th>Top25</th>\n",
       "      <th>Mt. West</th>\n",
       "      <th>MAC</th>\n",
       "      <th>SEC</th>\n",
       "      <th>Sun Belt</th>\n",
       "      <th>Pac-12</th>\n",
       "      <th>Ind.</th>\n",
       "      <th>ACC</th>\n",
       "      <th>AAC</th>\n",
       "      <th>C-USA</th>\n",
       "      <th>Big Ten</th>\n",
       "      <th>Big 12</th>\n",
       "      <th>TotalPayPred</th>\n",
       "    </tr>\n",
       "  </thead>\n",
       "  <tbody>\n",
       "    <tr>\n",
       "      <th>0</th>\n",
       "      <td>Syracuse</td>\n",
       "      <td>ACC</td>\n",
       "      <td>Dino Babers</td>\n",
       "      <td>2401206.0</td>\n",
       "      <td>Syracuse University</td>\n",
       "      <td>6.0</td>\n",
       "      <td>5.0</td>\n",
       "      <td>7.0</td>\n",
       "      <td>28.3</td>\n",
       "      <td>30.7</td>\n",
       "      <td>49250.0</td>\n",
       "      <td>86</td>\n",
       "      <td>41.7</td>\n",
       "      <td>1</td>\n",
       "      <td>59.0</td>\n",
       "      <td>1</td>\n",
       "      <td>0</td>\n",
       "      <td>0</td>\n",
       "      <td>0</td>\n",
       "      <td>0</td>\n",
       "      <td>0</td>\n",
       "      <td>0</td>\n",
       "      <td>1</td>\n",
       "      <td>0</td>\n",
       "      <td>0</td>\n",
       "      <td>0</td>\n",
       "      <td>0</td>\n",
       "      <td>3.356648e+06</td>\n",
       "    </tr>\n",
       "  </tbody>\n",
       "</table>\n",
       "</div>"
      ],
      "text/plain": [
       "     School Conference        Coach  ...  Big Ten Big 12  TotalPayPred\n",
       "0  Syracuse        ACC  Dino Babers  ...        0      0  3.356648e+06\n",
       "\n",
       "[1 rows x 28 columns]"
      ]
     },
     "execution_count": 75,
     "metadata": {
      "tags": []
     },
     "output_type": "execute_result"
    }
   ],
   "source": [
    "syr"
   ]
  },
  {
   "cell_type": "code",
   "execution_count": null,
   "metadata": {
    "colab": {
     "base_uri": "https://localhost:8080/",
     "height": 34
    },
    "colab_type": "code",
    "id": "u77s2W_a1-mD",
    "outputId": "cd3c29c4-df1c-4278-a6c0-8fc0e05224b8"
   },
   "outputs": [
    {
     "data": {
      "text/plain": [
       "955442.0"
      ]
     },
     "execution_count": 76,
     "metadata": {
      "tags": []
     },
     "output_type": "execute_result"
    }
   ],
   "source": [
    "3.356648e+06 - 2401206.0"
   ]
  },
  {
   "cell_type": "markdown",
   "metadata": {
    "colab_type": "text",
    "id": "7h_1MVpjIuBL"
   },
   "source": [
    "The prediction says that the Syracuse coach shoudl be making $ 3,356,648 which is almost a million more than he is. It is understandable since ACC coaches make a lot of money, but last year's record was terrible for this coach."
   ]
  },
  {
   "cell_type": "markdown",
   "metadata": {
    "colab_type": "text",
    "id": "pEJvSjMZHNNw"
   },
   "source": [
    "## What is the predicted pay for Syracuse Coach if we were in the Big East?\n",
    "Trick question, since Big East schools went to AAC"
   ]
  },
  {
   "cell_type": "code",
   "execution_count": null,
   "metadata": {
    "colab": {
     "base_uri": "https://localhost:8080/",
     "height": 80
    },
    "colab_type": "code",
    "id": "k2_FPIWSSTfx",
    "outputId": "5a6018ea-ad03-426c-b19d-8074747fe1e7"
   },
   "outputs": [
    {
     "data": {
      "text/html": [
       "<div>\n",
       "<style scoped>\n",
       "    .dataframe tbody tr th:only-of-type {\n",
       "        vertical-align: middle;\n",
       "    }\n",
       "\n",
       "    .dataframe tbody tr th {\n",
       "        vertical-align: top;\n",
       "    }\n",
       "\n",
       "    .dataframe thead th {\n",
       "        text-align: right;\n",
       "    }\n",
       "</style>\n",
       "<table border=\"1\" class=\"dataframe\">\n",
       "  <thead>\n",
       "    <tr style=\"text-align: right;\">\n",
       "      <th></th>\n",
       "      <th>School</th>\n",
       "      <th>Conference</th>\n",
       "      <th>Coach</th>\n",
       "      <th>TotalPay</th>\n",
       "      <th>FullName</th>\n",
       "      <th>Rk</th>\n",
       "      <th>W</th>\n",
       "      <th>L</th>\n",
       "      <th>Off Pts</th>\n",
       "      <th>Def Pts</th>\n",
       "      <th>capacity</th>\n",
       "      <th>GSR_SA</th>\n",
       "      <th>WinPerc</th>\n",
       "      <th>PublicOrPrivate</th>\n",
       "      <th>TotalPoints</th>\n",
       "      <th>Top25</th>\n",
       "      <th>Mt. West</th>\n",
       "      <th>MAC</th>\n",
       "      <th>SEC</th>\n",
       "      <th>Sun Belt</th>\n",
       "      <th>Pac-12</th>\n",
       "      <th>Ind.</th>\n",
       "      <th>ACC</th>\n",
       "      <th>AAC</th>\n",
       "      <th>C-USA</th>\n",
       "      <th>Big Ten</th>\n",
       "      <th>Big 12</th>\n",
       "      <th>TotalPayPred</th>\n",
       "    </tr>\n",
       "  </thead>\n",
       "  <tbody>\n",
       "    <tr>\n",
       "      <th>0</th>\n",
       "      <td>Syracuse</td>\n",
       "      <td>ACC</td>\n",
       "      <td>Dino Babers</td>\n",
       "      <td>2401206.0</td>\n",
       "      <td>Syracuse University</td>\n",
       "      <td>6.0</td>\n",
       "      <td>5.0</td>\n",
       "      <td>7.0</td>\n",
       "      <td>28.3</td>\n",
       "      <td>30.7</td>\n",
       "      <td>49250.0</td>\n",
       "      <td>86</td>\n",
       "      <td>41.7</td>\n",
       "      <td>1</td>\n",
       "      <td>59.0</td>\n",
       "      <td>1</td>\n",
       "      <td>0</td>\n",
       "      <td>0</td>\n",
       "      <td>0</td>\n",
       "      <td>0</td>\n",
       "      <td>0</td>\n",
       "      <td>0</td>\n",
       "      <td>0</td>\n",
       "      <td>1</td>\n",
       "      <td>0</td>\n",
       "      <td>0</td>\n",
       "      <td>0</td>\n",
       "      <td>3.356648e+06</td>\n",
       "    </tr>\n",
       "  </tbody>\n",
       "</table>\n",
       "</div>"
      ],
      "text/plain": [
       "     School Conference        Coach  ...  Big Ten Big 12  TotalPayPred\n",
       "0  Syracuse        ACC  Dino Babers  ...        0      0  3.356648e+06\n",
       "\n",
       "[1 rows x 28 columns]"
      ]
     },
     "execution_count": 77,
     "metadata": {
      "tags": []
     },
     "output_type": "execute_result"
    }
   ],
   "source": [
    "# Change ACC to Big East or AAC\n",
    "syr['ACC'] = [0]\n",
    "syr['AAC'] = [1]\n",
    "syr.head()"
   ]
  },
  {
   "cell_type": "code",
   "execution_count": null,
   "metadata": {
    "colab": {},
    "colab_type": "code",
    "id": "4JZWPJF6STf0"
   },
   "outputs": [],
   "source": [
    "# test set predictions from the model fit to the training set\n",
    "syr['TotalPayPred'] = train_model_fit.predict(syr)"
   ]
  },
  {
   "cell_type": "code",
   "execution_count": null,
   "metadata": {
    "colab": {
     "base_uri": "https://localhost:8080/",
     "height": 80
    },
    "colab_type": "code",
    "id": "e1tIGLcbSTf2",
    "outputId": "aa6b8f07-7026-4d15-f5cb-951327b1f473"
   },
   "outputs": [
    {
     "data": {
      "text/html": [
       "<div>\n",
       "<style scoped>\n",
       "    .dataframe tbody tr th:only-of-type {\n",
       "        vertical-align: middle;\n",
       "    }\n",
       "\n",
       "    .dataframe tbody tr th {\n",
       "        vertical-align: top;\n",
       "    }\n",
       "\n",
       "    .dataframe thead th {\n",
       "        text-align: right;\n",
       "    }\n",
       "</style>\n",
       "<table border=\"1\" class=\"dataframe\">\n",
       "  <thead>\n",
       "    <tr style=\"text-align: right;\">\n",
       "      <th></th>\n",
       "      <th>School</th>\n",
       "      <th>TotalPay</th>\n",
       "      <th>TotalPayPred</th>\n",
       "    </tr>\n",
       "  </thead>\n",
       "  <tbody>\n",
       "    <tr>\n",
       "      <th>0</th>\n",
       "      <td>Syracuse</td>\n",
       "      <td>2401206.0</td>\n",
       "      <td>1.957271e+06</td>\n",
       "    </tr>\n",
       "  </tbody>\n",
       "</table>\n",
       "</div>"
      ],
      "text/plain": [
       "     School   TotalPay  TotalPayPred\n",
       "0  Syracuse  2401206.0  1.957271e+06"
      ]
     },
     "execution_count": 79,
     "metadata": {
      "tags": []
     },
     "output_type": "execute_result"
    }
   ],
   "source": [
    "syr[['School', 'TotalPay', 'TotalPayPred']]"
   ]
  },
  {
   "cell_type": "code",
   "execution_count": null,
   "metadata": {
    "colab": {
     "base_uri": "https://localhost:8080/",
     "height": 34
    },
    "colab_type": "code",
    "id": "VfQaNDS0STf5",
    "outputId": "b0b0ffa0-f1e7-4421-d07d-0419c2c95071"
   },
   "outputs": [
    {
     "data": {
      "text/plain": [
       "1399377.0"
      ]
     },
     "execution_count": 85,
     "metadata": {
      "tags": []
     },
     "output_type": "execute_result"
    }
   ],
   "source": [
    "3.356648e+06 - 1.957271e+06"
   ]
  },
  {
   "cell_type": "markdown",
   "metadata": {
    "colab_type": "text",
    "id": "D3oc5d9KTRTz"
   },
   "source": [
    "The pay for the coach would go down by $1,399,377.0"
   ]
  },
  {
   "cell_type": "markdown",
   "metadata": {
    "colab_type": "text",
    "id": "SPnrdVLoSYb-"
   },
   "source": [
    "## What is the predicted pay for Syracuse Coach if we were in the Big Ten?"
   ]
  },
  {
   "cell_type": "code",
   "execution_count": null,
   "metadata": {
    "colab": {
     "base_uri": "https://localhost:8080/",
     "height": 80
    },
    "colab_type": "code",
    "id": "QxnYzzyhSYcB",
    "outputId": "099f78f1-3602-4db7-e382-c133183c5bf9"
   },
   "outputs": [
    {
     "data": {
      "text/html": [
       "<div>\n",
       "<style scoped>\n",
       "    .dataframe tbody tr th:only-of-type {\n",
       "        vertical-align: middle;\n",
       "    }\n",
       "\n",
       "    .dataframe tbody tr th {\n",
       "        vertical-align: top;\n",
       "    }\n",
       "\n",
       "    .dataframe thead th {\n",
       "        text-align: right;\n",
       "    }\n",
       "</style>\n",
       "<table border=\"1\" class=\"dataframe\">\n",
       "  <thead>\n",
       "    <tr style=\"text-align: right;\">\n",
       "      <th></th>\n",
       "      <th>School</th>\n",
       "      <th>Conference</th>\n",
       "      <th>Coach</th>\n",
       "      <th>TotalPay</th>\n",
       "      <th>FullName</th>\n",
       "      <th>Rk</th>\n",
       "      <th>W</th>\n",
       "      <th>L</th>\n",
       "      <th>Off Pts</th>\n",
       "      <th>Def Pts</th>\n",
       "      <th>capacity</th>\n",
       "      <th>GSR_SA</th>\n",
       "      <th>WinPerc</th>\n",
       "      <th>PublicOrPrivate</th>\n",
       "      <th>TotalPoints</th>\n",
       "      <th>Top25</th>\n",
       "      <th>Mt. West</th>\n",
       "      <th>MAC</th>\n",
       "      <th>SEC</th>\n",
       "      <th>Sun Belt</th>\n",
       "      <th>Pac-12</th>\n",
       "      <th>Ind.</th>\n",
       "      <th>ACC</th>\n",
       "      <th>AAC</th>\n",
       "      <th>C-USA</th>\n",
       "      <th>Big Ten</th>\n",
       "      <th>Big 12</th>\n",
       "      <th>TotalPayPred</th>\n",
       "    </tr>\n",
       "  </thead>\n",
       "  <tbody>\n",
       "    <tr>\n",
       "      <th>0</th>\n",
       "      <td>Syracuse</td>\n",
       "      <td>ACC</td>\n",
       "      <td>Dino Babers</td>\n",
       "      <td>2401206.0</td>\n",
       "      <td>Syracuse University</td>\n",
       "      <td>6.0</td>\n",
       "      <td>5.0</td>\n",
       "      <td>7.0</td>\n",
       "      <td>28.3</td>\n",
       "      <td>30.7</td>\n",
       "      <td>49250.0</td>\n",
       "      <td>86</td>\n",
       "      <td>41.7</td>\n",
       "      <td>1</td>\n",
       "      <td>59.0</td>\n",
       "      <td>1</td>\n",
       "      <td>0</td>\n",
       "      <td>0</td>\n",
       "      <td>0</td>\n",
       "      <td>0</td>\n",
       "      <td>0</td>\n",
       "      <td>0</td>\n",
       "      <td>0</td>\n",
       "      <td>0</td>\n",
       "      <td>0</td>\n",
       "      <td>1</td>\n",
       "      <td>0</td>\n",
       "      <td>1.957271e+06</td>\n",
       "    </tr>\n",
       "  </tbody>\n",
       "</table>\n",
       "</div>"
      ],
      "text/plain": [
       "     School Conference        Coach  ...  Big Ten Big 12  TotalPayPred\n",
       "0  Syracuse        ACC  Dino Babers  ...        1      0  1.957271e+06\n",
       "\n",
       "[1 rows x 28 columns]"
      ]
     },
     "execution_count": 81,
     "metadata": {
      "tags": []
     },
     "output_type": "execute_result"
    }
   ],
   "source": [
    "# Change ACC to Big Ten\n",
    "syr['AAC'] = [0]\n",
    "syr['Big Ten'] = [1]\n",
    "syr.head()"
   ]
  },
  {
   "cell_type": "code",
   "execution_count": null,
   "metadata": {
    "colab": {},
    "colab_type": "code",
    "id": "aikDL3hgSYcF"
   },
   "outputs": [],
   "source": [
    "# test set predictions from the model fit to the training set\n",
    "syr['TotalPayPred'] = train_model_fit.predict(syr)"
   ]
  },
  {
   "cell_type": "code",
   "execution_count": null,
   "metadata": {
    "colab": {
     "base_uri": "https://localhost:8080/",
     "height": 80
    },
    "colab_type": "code",
    "id": "_eFpRrMiSYcH",
    "outputId": "c153786b-4acd-4e90-b7d0-197a28453621"
   },
   "outputs": [
    {
     "data": {
      "text/html": [
       "<div>\n",
       "<style scoped>\n",
       "    .dataframe tbody tr th:only-of-type {\n",
       "        vertical-align: middle;\n",
       "    }\n",
       "\n",
       "    .dataframe tbody tr th {\n",
       "        vertical-align: top;\n",
       "    }\n",
       "\n",
       "    .dataframe thead th {\n",
       "        text-align: right;\n",
       "    }\n",
       "</style>\n",
       "<table border=\"1\" class=\"dataframe\">\n",
       "  <thead>\n",
       "    <tr style=\"text-align: right;\">\n",
       "      <th></th>\n",
       "      <th>School</th>\n",
       "      <th>TotalPay</th>\n",
       "      <th>TotalPayPred</th>\n",
       "    </tr>\n",
       "  </thead>\n",
       "  <tbody>\n",
       "    <tr>\n",
       "      <th>0</th>\n",
       "      <td>Syracuse</td>\n",
       "      <td>2401206.0</td>\n",
       "      <td>3.489457e+06</td>\n",
       "    </tr>\n",
       "  </tbody>\n",
       "</table>\n",
       "</div>"
      ],
      "text/plain": [
       "     School   TotalPay  TotalPayPred\n",
       "0  Syracuse  2401206.0  3.489457e+06"
      ]
     },
     "execution_count": 83,
     "metadata": {
      "tags": []
     },
     "output_type": "execute_result"
    }
   ],
   "source": [
    "syr[['School', 'TotalPay', 'TotalPayPred']]"
   ]
  },
  {
   "cell_type": "code",
   "execution_count": null,
   "metadata": {
    "colab": {
     "base_uri": "https://localhost:8080/",
     "height": 34
    },
    "colab_type": "code",
    "id": "UatRoYB0SYcJ",
    "outputId": "07a53b52-d73a-4809-e752-a1840d0a51c1"
   },
   "outputs": [
    {
     "data": {
      "text/plain": [
       "-132809.0"
      ]
     },
     "execution_count": 86,
     "metadata": {
      "tags": []
     },
     "output_type": "execute_result"
    }
   ],
   "source": [
    "3.356648e+06 - 3.489457e+06"
   ]
  },
  {
   "cell_type": "markdown",
   "metadata": {
    "colab_type": "text",
    "id": "lP_fW2tDIe64"
   },
   "source": [
    "If Syracuse went from the ACC to the Big Ten, the coach would get paid $123,809.0 more."
   ]
  },
  {
   "cell_type": "markdown",
   "metadata": {
    "colab_type": "text",
    "id": "OS5GI6M5HT-n"
   },
   "source": [
    "## What effect does Graduation Rate have on Coaches Pay?"
   ]
  },
  {
   "cell_type": "code",
   "execution_count": null,
   "metadata": {
    "colab": {
     "base_uri": "https://localhost:8080/",
     "height": 221
    },
    "colab_type": "code",
    "id": "oxQUjI7CG_16",
    "outputId": "364b66b9-466b-40e5-ab35-e7e13168bebd"
   },
   "outputs": [
    {
     "name": "stdout",
     "output_type": "stream",
     "text": [
      "0      0\n",
      "0     10\n",
      "0     20\n",
      "0     30\n",
      "0     40\n",
      "0     50\n",
      "0     60\n",
      "0     70\n",
      "0     80\n",
      "0     90\n",
      "0    100\n",
      "Name: GSR_SA, dtype: int64\n"
     ]
    }
   ],
   "source": [
    "# To Check for this, we set all other variables to the a constant amount and test out different values\n",
    "testdf = pd.DataFrame()\n",
    "for gsr in [0,10,20, 30, 40,50,60, 70,80, 90, 100]:\n",
    "  syr['GSR_SA'] = gsr\n",
    "  testdf = pd.concat([testdf, syr])\n",
    "\n",
    "print(testdf['GSR_SA'])"
   ]
  },
  {
   "cell_type": "code",
   "execution_count": null,
   "metadata": {
    "colab": {},
    "colab_type": "code",
    "id": "IpqhTkPJG_Ph"
   },
   "outputs": [],
   "source": [
    "# Plug into model to see how the values change\n",
    "testdf['TotalPayPred'] = train_model_fit.predict(testdf)"
   ]
  },
  {
   "cell_type": "code",
   "execution_count": null,
   "metadata": {
    "colab": {
     "base_uri": "https://localhost:8080/",
     "height": 221
    },
    "colab_type": "code",
    "id": "UMAEkZ8cjeRM",
    "outputId": "a2869313-26eb-43c4-fc4c-a9b6c928fd0e"
   },
   "outputs": [
    {
     "name": "stdout",
     "output_type": "stream",
     "text": [
      "   GSR_SA  TotalPayPred\n",
      "0       0  1.905155e+06\n",
      "0      10  2.089376e+06\n",
      "0      20  2.273598e+06\n",
      "0      30  2.457819e+06\n",
      "0      40  2.642040e+06\n",
      "0      50  2.826261e+06\n",
      "0      60  3.010482e+06\n",
      "0      70  3.194703e+06\n",
      "0      80  3.378924e+06\n",
      "0      90  3.563145e+06\n",
      "0     100  3.747366e+06\n"
     ]
    }
   ],
   "source": [
    "# Look at how the GSR increases the predicted pay. \n",
    "print(testdf[['GSR_SA', 'TotalPayPred']])"
   ]
  },
  {
   "cell_type": "code",
   "execution_count": null,
   "metadata": {
    "colab": {
     "base_uri": "https://localhost:8080/",
     "height": 221
    },
    "colab_type": "code",
    "id": "CTZ52Ge-j4gh",
    "outputId": "87d83f36-4087-4e5e-ef91-a42b179a6a60"
   },
   "outputs": [
    {
     "name": "stdout",
     "output_type": "stream",
     "text": [
      "0              NaN\n",
      "0    184221.108892\n",
      "0    184221.108892\n",
      "0    184221.108892\n",
      "0    184221.108892\n",
      "0    184221.108892\n",
      "0    184221.108892\n",
      "0    184221.108892\n",
      "0    184221.108892\n",
      "0    184221.108892\n",
      "0    184221.108892\n",
      "Name: TotalPayPred, dtype: float64\n"
     ]
    }
   ],
   "source": [
    "print(testdf['TotalPayPred'].diff())"
   ]
  },
  {
   "cell_type": "markdown",
   "metadata": {
    "colab_type": "text",
    "id": "R85jwFivjo2o"
   },
   "source": [
    "According to the model output, the model goes up by $184,221 for every 10 percente increase in Graduation Rate."
   ]
  },
  {
   "cell_type": "markdown",
   "metadata": {
    "colab_type": "text",
    "id": "LJfpIzx7Hck5"
   },
   "source": [
    "## How good is our model?"
   ]
  },
  {
   "cell_type": "code",
   "execution_count": null,
   "metadata": {
    "colab": {
     "base_uri": "https://localhost:8080/",
     "height": 782
    },
    "colab_type": "code",
    "id": "UY9XQ6Xw3Di_",
    "outputId": "217dcd12-deb6-48d9-a1cd-8b8bbabdd91b"
   },
   "outputs": [
    {
     "name": "stdout",
     "output_type": "stream",
     "text": [
      "                            OLS Regression Results                            \n",
      "==============================================================================\n",
      "Dep. Variable:               TotalPay   R-squared:                       0.837\n",
      "Model:                            OLS   Adj. R-squared:                  0.805\n",
      "Method:                 Least Squares   F-statistic:                     26.00\n",
      "Date:                Thu, 23 Jul 2020   Prob (F-statistic):           3.25e-28\n",
      "Time:                        18:07:56   Log-Likelihood:                -1647.5\n",
      "No. Observations:                 110   AIC:                             3333.\n",
      "Df Residuals:                      91   BIC:                             3384.\n",
      "Df Model:                          18                                         \n",
      "Covariance Type:            nonrobust                                         \n",
      "========================================================================================\n",
      "                           coef    std err          t      P>|t|      [0.025      0.975]\n",
      "----------------------------------------------------------------------------------------\n",
      "Intercept             1.111e+07   5.46e+06      2.035      0.045    2.67e+05    2.19e+07\n",
      "Q(\"TotalPoints\")      1.678e+04   1.26e+04      1.329      0.187   -8306.114    4.19e+04\n",
      "Q(\"Top25\")           -8.693e+04   9.38e+05     -0.093      0.926   -1.95e+06    1.78e+06\n",
      "Q(\"capacity\")           36.1871      5.950      6.082      0.000      24.369      48.005\n",
      "Q(\"GSR_SA\")           1.842e+04   1.07e+04      1.726      0.088   -2779.135    3.96e+04\n",
      "Q(\"WinPerc\")         -1.757e+05   7.77e+04     -2.261      0.026    -3.3e+05   -2.13e+04\n",
      "Q(\"W\")                3.573e+05   2.86e+05      1.249      0.215   -2.11e+05    9.25e+05\n",
      "Q(\"L\")               -1.219e+06   4.69e+05     -2.598      0.011   -2.15e+06   -2.87e+05\n",
      "Q(\"PublicOrPrivate\")  2.993e+05   2.99e+05      1.002      0.319   -2.94e+05    8.93e+05\n",
      "Q(\"SEC\")              2.425e+06   6.04e+05      4.013      0.000    1.22e+06    3.62e+06\n",
      "Q(\"Pac-12\")           9.148e+05   5.75e+05      1.592      0.115   -2.27e+05    2.06e+06\n",
      "Q(\"ACC\")              1.752e+06    9.9e+05      1.771      0.080   -2.13e+05    3.72e+06\n",
      "Q(\"AAC\")              3.527e+05   8.73e+05      0.404      0.687   -1.38e+06    2.09e+06\n",
      "Q(\"Mt. West\")         1.263e+05    5.6e+05      0.226      0.822   -9.85e+05    1.24e+06\n",
      "Q(\"MAC\")              4.198e+05   6.24e+05      0.672      0.503   -8.21e+05    1.66e+06\n",
      "Q(\"Sun Belt\")         2.585e+05   5.78e+05      0.447      0.656   -8.89e+05    1.41e+06\n",
      "Q(\"Ind.\")             5.174e+05   7.01e+05      0.738      0.462   -8.75e+05    1.91e+06\n",
      "Q(\"C-USA\")            3.347e+05   5.91e+05      0.566      0.573   -8.39e+05    1.51e+06\n",
      "Q(\"Big Ten\")          1.885e+06   5.88e+05      3.205      0.002    7.17e+05    3.05e+06\n",
      "Q(\"Big 12\")            2.12e+06   6.22e+05      3.409      0.001    8.85e+05    3.36e+06\n",
      "==============================================================================\n",
      "Omnibus:                        0.763   Durbin-Watson:                   1.963\n",
      "Prob(Omnibus):                  0.683   Jarque-Bera (JB):                0.367\n",
      "Skew:                           0.087   Prob(JB):                        0.832\n",
      "Kurtosis:                       3.223   Cond. No.                     9.66e+20\n",
      "==============================================================================\n",
      "\n",
      "Warnings:\n",
      "[1] Standard Errors assume that the covariance matrix of the errors is correctly specified.\n",
      "[2] The smallest eigenvalue is 3.72e-31. This might indicate that there are\n",
      "strong multicollinearity problems or that the design matrix is singular.\n"
     ]
    }
   ],
   "source": [
    "print(train_model_fit.summary())"
   ]
  },
  {
   "cell_type": "markdown",
   "metadata": {
    "colab_type": "text",
    "id": "3KNWgBZrmw96"
   },
   "source": [
    "The Adjusted R^2 value is equal to .805 which is a pretty strong correlation, and we are getting some interpretable results. The actual R^2 is about .837 which means that .837 of the Total Pay variation is explaning by the x paramters in the model. <br> <br>\n",
    "Only three variables have P-values that don't go from positive to negative. This includes the variables: Big Ten, Big 12 and the Stadium Capacity. The P-value for the stadium capacity seems to be the most important out of the whole set of parameters since it has the smallest p-value. <br><br>\n",
    "As show below, we can see that there is a big correlation between the predicted and actual total pay."
   ]
  },
  {
   "cell_type": "code",
   "execution_count": null,
   "metadata": {
    "colab": {
     "base_uri": "https://localhost:8080/",
     "height": 422
    },
    "colab_type": "code",
    "id": "LSlDDcjwoIhq",
    "outputId": "6c70b91a-1630-4988-d85f-64dd57b050fb"
   },
   "outputs": [
    {
     "data": {
      "text/plain": [
       "Text(0.5, 1.0, 'Predicted Total Pay vs Total Pay')"
      ]
     },
     "execution_count": 94,
     "metadata": {
      "tags": []
     },
     "output_type": "execute_result"
    },
    {
     "data": {
      "image/png": "[encoded data removed]",
      "text/plain": [
       "<Figure size 432x432 with 1 Axes>"
      ]
     },
     "metadata": {
      "needs_background": "light",
      "tags": []
     },
     "output_type": "display_data"
    }
   ],
   "source": [
    "plt.figure(figsize=(6,6))\n",
    "sns.regplot(x='TotalPayPred_OLS', y=yParm, data=train)\n",
    "plt.title('Predicted Total Pay vs Total Pay')"
   ]
  },
  {
   "cell_type": "markdown",
   "metadata": {
    "colab_type": "text",
    "id": "5qNXXCuNHe4n"
   },
   "source": [
    "## What is the single biggest impact on salary size?"
   ]
  },
  {
   "cell_type": "code",
   "execution_count": null,
   "metadata": {
    "colab": {
     "base_uri": "https://localhost:8080/",
     "height": 394
    },
    "colab_type": "code",
    "id": "2u2kYlTcHmwy",
    "outputId": "bd8ef8bb-51d9-4baf-b77b-6a1eb6892b25"
   },
   "outputs": [
    {
     "data": {
      "text/plain": [
       "Text(0.5, 1.0, 'Stadium Capacity Distribution')"
      ]
     },
     "execution_count": 95,
     "metadata": {
      "tags": []
     },
     "output_type": "execute_result"
    },
    {
     "data": {
      "image/png": "[encoded data removed]",
      "text/plain": [
       "<Figure size 432x432 with 1 Axes>"
      ]
     },
     "metadata": {
      "needs_background": "light",
      "tags": []
     },
     "output_type": "display_data"
    }
   ],
   "source": [
    "plt.figure(figsize=(6,6))\n",
    "sns.boxplot(y='capacity', data=train)\n",
    "plt.title('Stadium Capacity Distribution')"
   ]
  },
  {
   "cell_type": "markdown",
   "metadata": {
    "colab_type": "text",
    "id": "rbc8IM2SHnn3"
   },
   "source": [
    "The most important variable for the total pay of a coach is the stadium size. For every 1 extra fan, the coach gets an increase of 36.1871 dollars. To put this into perspective, the stadium capacity distribution ranges from about 30,000 fans to 110,000 fans. Therefore, if we increase the capacity by 10,000, the total pay increase by $360,000."
   ]
  },
  {
   "cell_type": "markdown",
   "metadata": {
    "colab_type": "text",
    "id": "SFIcyNHV9Q_X"
   },
   "source": [
    "# Conclusion"
   ]
  },
  {
   "cell_type": "markdown",
   "metadata": {
    "colab_type": "text",
    "id": "y5Rga6by9gXB"
   },
   "source": [
    "The OLS model seems to be the best model so far. With a .83 R-squared value, the model is a strong prediction of the actual Total Pay. All in all, the Syracuse Coach is currently underpaid even if he had a terrible season."
   ]
  },
  {
   "cell_type": "code",
   "execution_count": null,
   "metadata": {
    "colab": {},
    "colab_type": "code",
    "id": "dWsIDkaN9fK0"
   },
   "outputs": [],
   "source": []
  }
 ],
 "metadata": {
  "colab": {
   "collapsed_sections": [],
   "name": "Coaches.ipynb",
   "provenance": []
  },
  "kernelspec": {
   "display_name": "Python 3",
   "language": "python",
   "name": "python3"
  },
  "language_info": {
   "codemirror_mode": {
    "name": "ipython",
    "version": 3
   },
   "file_extension": ".py",
   "mimetype": "text/x-python",
   "name": "python",
   "nbconvert_exporter": "python",
   "pygments_lexer": "ipython3",
   "version": "3.6.4"
  }
 },
 "nbformat": 4,
 "nbformat_minor": 4
}
